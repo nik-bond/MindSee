{
 "cells": [
  {
   "cell_type": "markdown",
   "id": "c330d742",
   "metadata": {},
   "source": [
    "# Modelling"
   ]
  },
  {
   "cell_type": "markdown",
   "id": "e21bfe21",
   "metadata": {},
   "source": [
    "## Imports"
   ]
  },
  {
   "cell_type": "code",
   "execution_count": 1,
   "id": "d55e1921",
   "metadata": {},
   "outputs": [
    {
     "name": "stderr",
     "output_type": "stream",
     "text": [
      "2023-06-12 10:01:07.755653: I tensorflow/core/platform/cpu_feature_guard.cc:193] This TensorFlow binary is optimized with oneAPI Deep Neural Network Library (oneDNN) to use the following CPU instructions in performance-critical operations:  AVX2 FMA\n",
      "To enable them in other operations, rebuild TensorFlow with the appropriate compiler flags.\n",
      "2023-06-12 10:01:08.054296: E tensorflow/stream_executor/cuda/cuda_blas.cc:2981] Unable to register cuBLAS factory: Attempting to register factory for plugin cuBLAS when one has already been registered\n",
      "2023-06-12 10:01:08.958231: W tensorflow/stream_executor/platform/default/dso_loader.cc:64] Could not load dynamic library 'libnvinfer.so.7'; dlerror: libnvinfer.so.7: cannot open shared object file: No such file or directory\n",
      "2023-06-12 10:01:08.958304: W tensorflow/stream_executor/platform/default/dso_loader.cc:64] Could not load dynamic library 'libnvinfer_plugin.so.7'; dlerror: libnvinfer_plugin.so.7: cannot open shared object file: No such file or directory\n",
      "2023-06-12 10:01:08.958309: W tensorflow/compiler/tf2tensorrt/utils/py_utils.cc:38] TF-TRT Warning: Cannot dlopen some TensorRT libraries. If you would like to use Nvidia GPU with TensorRT, please make sure the missing libraries mentioned above are installed properly.\n"
     ]
    }
   ],
   "source": [
    "import pandas as pd\n",
    "import numpy as np\n",
    "from tensorflow.keras import Sequential, layers, models\n",
    "from sklearn.preprocessing import MinMaxScaler, RobustScaler"
   ]
  },
  {
   "cell_type": "markdown",
   "id": "6d0fd492",
   "metadata": {},
   "source": [
    "## y_train and y_test"
   ]
  },
  {
   "cell_type": "code",
   "execution_count": 3,
   "id": "69401705",
   "metadata": {},
   "outputs": [
    {
     "name": "stderr",
     "output_type": "stream",
     "text": [
      "/tmp/ipykernel_21571/3703226929.py:1: DtypeWarning: Columns (0) have mixed types. Specify dtype option on import or set low_memory=False.\n",
      "  y_dataframe = pd.read_csv('../data/y_dataframe.csv', index_col=0)\n"
     ]
    }
   ],
   "source": [
    "y_dataframe = pd.read_csv('../data/y_dataframe.csv', index_col=0)"
   ]
  },
  {
   "cell_type": "code",
   "execution_count": 4,
   "id": "7d55b7aa",
   "metadata": {},
   "outputs": [
    {
     "data": {
      "text/html": [
       "<div>\n",
       "<style scoped>\n",
       "    .dataframe tbody tr th:only-of-type {\n",
       "        vertical-align: middle;\n",
       "    }\n",
       "\n",
       "    .dataframe tbody tr th {\n",
       "        vertical-align: top;\n",
       "    }\n",
       "\n",
       "    .dataframe thead th {\n",
       "        text-align: right;\n",
       "    }\n",
       "</style>\n",
       "<table border=\"1\" class=\"dataframe\">\n",
       "  <thead>\n",
       "    <tr style=\"text-align: right;\">\n",
       "      <th></th>\n",
       "      <th>1950s</th>\n",
       "      <th>1970</th>\n",
       "      <th>1971</th>\n",
       "      <th>2009</th>\n",
       "      <th>4-way</th>\n",
       "      <th>abandon</th>\n",
       "      <th>about</th>\n",
       "      <th>above</th>\n",
       "      <th>abraham</th>\n",
       "      <th>abstract</th>\n",
       "      <th>...</th>\n",
       "      <th>yogurt</th>\n",
       "      <th>york</th>\n",
       "      <th>you</th>\n",
       "      <th>young</th>\n",
       "      <th>younger</th>\n",
       "      <th>youth</th>\n",
       "      <th>zebra</th>\n",
       "      <th>zip</th>\n",
       "      <th>zombie</th>\n",
       "      <th>zoo</th>\n",
       "    </tr>\n",
       "  </thead>\n",
       "  <tbody>\n",
       "    <tr>\n",
       "      <th>0</th>\n",
       "      <td>0</td>\n",
       "      <td>0</td>\n",
       "      <td>0</td>\n",
       "      <td>0</td>\n",
       "      <td>0</td>\n",
       "      <td>0</td>\n",
       "      <td>0</td>\n",
       "      <td>0</td>\n",
       "      <td>0</td>\n",
       "      <td>0</td>\n",
       "      <td>...</td>\n",
       "      <td>0</td>\n",
       "      <td>0</td>\n",
       "      <td>0</td>\n",
       "      <td>0</td>\n",
       "      <td>0</td>\n",
       "      <td>0</td>\n",
       "      <td>0</td>\n",
       "      <td>0</td>\n",
       "      <td>0</td>\n",
       "      <td>0</td>\n",
       "    </tr>\n",
       "    <tr>\n",
       "      <th>1</th>\n",
       "      <td>0</td>\n",
       "      <td>0</td>\n",
       "      <td>0</td>\n",
       "      <td>0</td>\n",
       "      <td>0</td>\n",
       "      <td>0</td>\n",
       "      <td>0</td>\n",
       "      <td>0</td>\n",
       "      <td>0</td>\n",
       "      <td>0</td>\n",
       "      <td>...</td>\n",
       "      <td>0</td>\n",
       "      <td>0</td>\n",
       "      <td>0</td>\n",
       "      <td>0</td>\n",
       "      <td>0</td>\n",
       "      <td>0</td>\n",
       "      <td>0</td>\n",
       "      <td>0</td>\n",
       "      <td>0</td>\n",
       "      <td>0</td>\n",
       "    </tr>\n",
       "    <tr>\n",
       "      <th>2</th>\n",
       "      <td>0</td>\n",
       "      <td>0</td>\n",
       "      <td>0</td>\n",
       "      <td>0</td>\n",
       "      <td>0</td>\n",
       "      <td>0</td>\n",
       "      <td>0</td>\n",
       "      <td>0</td>\n",
       "      <td>0</td>\n",
       "      <td>0</td>\n",
       "      <td>...</td>\n",
       "      <td>0</td>\n",
       "      <td>0</td>\n",
       "      <td>0</td>\n",
       "      <td>0</td>\n",
       "      <td>0</td>\n",
       "      <td>0</td>\n",
       "      <td>0</td>\n",
       "      <td>0</td>\n",
       "      <td>0</td>\n",
       "      <td>0</td>\n",
       "    </tr>\n",
       "    <tr>\n",
       "      <th>3</th>\n",
       "      <td>0</td>\n",
       "      <td>0</td>\n",
       "      <td>0</td>\n",
       "      <td>0</td>\n",
       "      <td>0</td>\n",
       "      <td>0</td>\n",
       "      <td>0</td>\n",
       "      <td>0</td>\n",
       "      <td>0</td>\n",
       "      <td>0</td>\n",
       "      <td>...</td>\n",
       "      <td>0</td>\n",
       "      <td>0</td>\n",
       "      <td>0</td>\n",
       "      <td>0</td>\n",
       "      <td>0</td>\n",
       "      <td>0</td>\n",
       "      <td>0</td>\n",
       "      <td>0</td>\n",
       "      <td>0</td>\n",
       "      <td>0</td>\n",
       "    </tr>\n",
       "    <tr>\n",
       "      <th>4</th>\n",
       "      <td>0</td>\n",
       "      <td>0</td>\n",
       "      <td>0</td>\n",
       "      <td>0</td>\n",
       "      <td>0</td>\n",
       "      <td>0</td>\n",
       "      <td>0</td>\n",
       "      <td>0</td>\n",
       "      <td>0</td>\n",
       "      <td>0</td>\n",
       "      <td>...</td>\n",
       "      <td>0</td>\n",
       "      <td>0</td>\n",
       "      <td>0</td>\n",
       "      <td>0</td>\n",
       "      <td>0</td>\n",
       "      <td>0</td>\n",
       "      <td>1</td>\n",
       "      <td>0</td>\n",
       "      <td>0</td>\n",
       "      <td>0</td>\n",
       "    </tr>\n",
       "    <tr>\n",
       "      <th>...</th>\n",
       "      <td>...</td>\n",
       "      <td>...</td>\n",
       "      <td>...</td>\n",
       "      <td>...</td>\n",
       "      <td>...</td>\n",
       "      <td>...</td>\n",
       "      <td>...</td>\n",
       "      <td>...</td>\n",
       "      <td>...</td>\n",
       "      <td>...</td>\n",
       "      <td>...</td>\n",
       "      <td>...</td>\n",
       "      <td>...</td>\n",
       "      <td>...</td>\n",
       "      <td>...</td>\n",
       "      <td>...</td>\n",
       "      <td>...</td>\n",
       "      <td>...</td>\n",
       "      <td>...</td>\n",
       "      <td>...</td>\n",
       "      <td>...</td>\n",
       "    </tr>\n",
       "    <tr>\n",
       "      <th>X_test_id_977</th>\n",
       "      <td>0</td>\n",
       "      <td>0</td>\n",
       "      <td>0</td>\n",
       "      <td>0</td>\n",
       "      <td>0</td>\n",
       "      <td>0</td>\n",
       "      <td>0</td>\n",
       "      <td>0</td>\n",
       "      <td>0</td>\n",
       "      <td>0</td>\n",
       "      <td>...</td>\n",
       "      <td>0</td>\n",
       "      <td>0</td>\n",
       "      <td>0</td>\n",
       "      <td>0</td>\n",
       "      <td>0</td>\n",
       "      <td>0</td>\n",
       "      <td>0</td>\n",
       "      <td>0</td>\n",
       "      <td>0</td>\n",
       "      <td>0</td>\n",
       "    </tr>\n",
       "    <tr>\n",
       "      <th>X_test_id_978</th>\n",
       "      <td>0</td>\n",
       "      <td>0</td>\n",
       "      <td>0</td>\n",
       "      <td>0</td>\n",
       "      <td>0</td>\n",
       "      <td>0</td>\n",
       "      <td>0</td>\n",
       "      <td>0</td>\n",
       "      <td>0</td>\n",
       "      <td>0</td>\n",
       "      <td>...</td>\n",
       "      <td>0</td>\n",
       "      <td>0</td>\n",
       "      <td>0</td>\n",
       "      <td>0</td>\n",
       "      <td>0</td>\n",
       "      <td>0</td>\n",
       "      <td>0</td>\n",
       "      <td>0</td>\n",
       "      <td>0</td>\n",
       "      <td>0</td>\n",
       "    </tr>\n",
       "    <tr>\n",
       "      <th>X_test_id_979</th>\n",
       "      <td>0</td>\n",
       "      <td>0</td>\n",
       "      <td>0</td>\n",
       "      <td>0</td>\n",
       "      <td>0</td>\n",
       "      <td>0</td>\n",
       "      <td>0</td>\n",
       "      <td>0</td>\n",
       "      <td>0</td>\n",
       "      <td>0</td>\n",
       "      <td>...</td>\n",
       "      <td>0</td>\n",
       "      <td>0</td>\n",
       "      <td>0</td>\n",
       "      <td>0</td>\n",
       "      <td>0</td>\n",
       "      <td>0</td>\n",
       "      <td>0</td>\n",
       "      <td>0</td>\n",
       "      <td>0</td>\n",
       "      <td>0</td>\n",
       "    </tr>\n",
       "    <tr>\n",
       "      <th>X_test_id_980</th>\n",
       "      <td>0</td>\n",
       "      <td>0</td>\n",
       "      <td>0</td>\n",
       "      <td>0</td>\n",
       "      <td>0</td>\n",
       "      <td>0</td>\n",
       "      <td>0</td>\n",
       "      <td>0</td>\n",
       "      <td>0</td>\n",
       "      <td>0</td>\n",
       "      <td>...</td>\n",
       "      <td>0</td>\n",
       "      <td>0</td>\n",
       "      <td>0</td>\n",
       "      <td>0</td>\n",
       "      <td>0</td>\n",
       "      <td>0</td>\n",
       "      <td>0</td>\n",
       "      <td>0</td>\n",
       "      <td>0</td>\n",
       "      <td>0</td>\n",
       "    </tr>\n",
       "    <tr>\n",
       "      <th>X_test_id_981</th>\n",
       "      <td>0</td>\n",
       "      <td>0</td>\n",
       "      <td>0</td>\n",
       "      <td>0</td>\n",
       "      <td>0</td>\n",
       "      <td>0</td>\n",
       "      <td>0</td>\n",
       "      <td>0</td>\n",
       "      <td>0</td>\n",
       "      <td>0</td>\n",
       "      <td>...</td>\n",
       "      <td>0</td>\n",
       "      <td>0</td>\n",
       "      <td>0</td>\n",
       "      <td>0</td>\n",
       "      <td>0</td>\n",
       "      <td>0</td>\n",
       "      <td>0</td>\n",
       "      <td>0</td>\n",
       "      <td>0</td>\n",
       "      <td>0</td>\n",
       "    </tr>\n",
       "  </tbody>\n",
       "</table>\n",
       "<p>9841 rows × 2637 columns</p>\n",
       "</div>"
      ],
      "text/plain": [
       "               1950s  1970  1971  2009  4-way  abandon  about  above  abraham  \\\n",
       "0                  0     0     0     0      0        0      0      0        0   \n",
       "1                  0     0     0     0      0        0      0      0        0   \n",
       "2                  0     0     0     0      0        0      0      0        0   \n",
       "3                  0     0     0     0      0        0      0      0        0   \n",
       "4                  0     0     0     0      0        0      0      0        0   \n",
       "...              ...   ...   ...   ...    ...      ...    ...    ...      ...   \n",
       "X_test_id_977      0     0     0     0      0        0      0      0        0   \n",
       "X_test_id_978      0     0     0     0      0        0      0      0        0   \n",
       "X_test_id_979      0     0     0     0      0        0      0      0        0   \n",
       "X_test_id_980      0     0     0     0      0        0      0      0        0   \n",
       "X_test_id_981      0     0     0     0      0        0      0      0        0   \n",
       "\n",
       "               abstract  ...  yogurt  york  you  young  younger  youth  zebra  \\\n",
       "0                     0  ...       0     0    0      0        0      0      0   \n",
       "1                     0  ...       0     0    0      0        0      0      0   \n",
       "2                     0  ...       0     0    0      0        0      0      0   \n",
       "3                     0  ...       0     0    0      0        0      0      0   \n",
       "4                     0  ...       0     0    0      0        0      0      1   \n",
       "...                 ...  ...     ...   ...  ...    ...      ...    ...    ...   \n",
       "X_test_id_977         0  ...       0     0    0      0        0      0      0   \n",
       "X_test_id_978         0  ...       0     0    0      0        0      0      0   \n",
       "X_test_id_979         0  ...       0     0    0      0        0      0      0   \n",
       "X_test_id_980         0  ...       0     0    0      0        0      0      0   \n",
       "X_test_id_981         0  ...       0     0    0      0        0      0      0   \n",
       "\n",
       "               zip  zombie  zoo  \n",
       "0                0       0    0  \n",
       "1                0       0    0  \n",
       "2                0       0    0  \n",
       "3                0       0    0  \n",
       "4                0       0    0  \n",
       "...            ...     ...  ...  \n",
       "X_test_id_977    0       0    0  \n",
       "X_test_id_978    0       0    0  \n",
       "X_test_id_979    0       0    0  \n",
       "X_test_id_980    0       0    0  \n",
       "X_test_id_981    0       0    0  \n",
       "\n",
       "[9841 rows x 2637 columns]"
      ]
     },
     "execution_count": 4,
     "metadata": {},
     "output_type": "execute_result"
    }
   ],
   "source": [
    "y_dataframe"
   ]
  },
  {
   "cell_type": "code",
   "execution_count": 5,
   "id": "243792fd",
   "metadata": {},
   "outputs": [],
   "source": [
    "y_train = y_dataframe.iloc[0:8859].to_numpy()"
   ]
  },
  {
   "cell_type": "code",
   "execution_count": 6,
   "id": "3d5bf4ac",
   "metadata": {},
   "outputs": [],
   "source": [
    "y_test = y_dataframe.iloc[8859:9842].to_numpy()"
   ]
  },
  {
   "cell_type": "code",
   "execution_count": 7,
   "id": "41ddc833",
   "metadata": {},
   "outputs": [
    {
     "data": {
      "text/plain": [
       "(8859, 2637)"
      ]
     },
     "execution_count": 7,
     "metadata": {},
     "output_type": "execute_result"
    }
   ],
   "source": [
    "y_train.shape"
   ]
  },
  {
   "cell_type": "code",
   "execution_count": 8,
   "id": "175db505",
   "metadata": {},
   "outputs": [
    {
     "data": {
      "text/plain": [
       "(982, 2637)"
      ]
     },
     "execution_count": 8,
     "metadata": {},
     "output_type": "execute_result"
    }
   ],
   "source": [
    "y_test.shape"
   ]
  },
  {
   "cell_type": "markdown",
   "id": "6ec89e22",
   "metadata": {},
   "source": [
    "## X_train and X_test"
   ]
  },
  {
   "cell_type": "code",
   "execution_count": 8,
   "id": "174d738e",
   "metadata": {},
   "outputs": [],
   "source": [
    "X_train = np.load('../raw_data/nsd_train_fmriavg_nsdgeneral_sub1.npy')"
   ]
  },
  {
   "cell_type": "code",
   "execution_count": 9,
   "id": "97fd3fa4",
   "metadata": {},
   "outputs": [],
   "source": [
    "X_test = np.load('../raw_data/nsd_test_fmriavg_nsdgeneral_sub1.npy')"
   ]
  },
  {
   "cell_type": "code",
   "execution_count": 10,
   "id": "a8bb34ea",
   "metadata": {},
   "outputs": [
    {
     "data": {
      "text/plain": [
       "(8859, 15724)"
      ]
     },
     "execution_count": 10,
     "metadata": {},
     "output_type": "execute_result"
    }
   ],
   "source": [
    "X_train.shape"
   ]
  },
  {
   "cell_type": "code",
   "execution_count": 11,
   "id": "8bfe7b8e",
   "metadata": {},
   "outputs": [
    {
     "data": {
      "text/plain": [
       "(982, 15724)"
      ]
     },
     "execution_count": 11,
     "metadata": {},
     "output_type": "execute_result"
    }
   ],
   "source": [
    "X_test.shape"
   ]
  },
  {
   "cell_type": "code",
   "execution_count": 12,
   "id": "15cbc251",
   "metadata": {},
   "outputs": [],
   "source": [
    "scaler = RobustScaler()\n",
    "\n",
    "X_train_scaled = scaler.fit_transform(X_train)\n",
    "X_test_scaled = scaler.transform(X_test)"
   ]
  },
  {
   "cell_type": "markdown",
   "id": "b185a6dc",
   "metadata": {},
   "source": [
    "## Modelling"
   ]
  },
  {
   "cell_type": "code",
   "execution_count": 16,
   "id": "cde18511",
   "metadata": {},
   "outputs": [],
   "source": [
    "\n",
    "model = models.Sequential()\n",
    "\n",
    "model = Sequential([layers.Dense(100, input_shape = (15724,), activation = \"relu\"),\n",
    "                  layers.Dense(100, activation = \"relu\"),\n",
    "                    layers.Dropout(0.4),\n",
    "                  layers.Dense(200, activation = \"relu\"),\n",
    "                    layers.Dropout(0.4),\n",
    "                  layers.Dense(500, activation = \"relu\"),\n",
    "                    layers.Dropout(0.4),\n",
    "                    layers.Dense(500, activation = \"relu\"),\n",
    "                    layers.Dropout(0.4),\n",
    "                    layers.Dense(1000, activation = \"relu\"),\n",
    "                    layers.Dropout(0.4),\n",
    "                    layers.Dense(2000, activation = \"relu\"),\n",
    "                  layers.Dense(2637, activation = \"sigmoid\")])\n",
    "\n",
    "\n",
    "# model.add(layers.Dense(2637, activation='sigmoid'))"
   ]
  },
  {
   "cell_type": "code",
   "execution_count": 17,
   "id": "570ae6d5",
   "metadata": {},
   "outputs": [],
   "source": [
    "model.compile(optimizer='adam',\n",
    "    loss='binary_crossentropy',\n",
    "             metrics = ['accuracy'])"
   ]
  },
  {
   "cell_type": "code",
   "execution_count": 18,
   "id": "79b487c0",
   "metadata": {},
   "outputs": [
    {
     "name": "stdout",
     "output_type": "stream",
     "text": [
      "Epoch 1/30\n",
      "250/250 [==============================] - 5s 19ms/step - loss: 0.0203 - accuracy: 0.0206 - val_loss: 0.0368 - val_accuracy: 0.0056\n",
      "Epoch 2/30\n",
      "250/250 [==============================] - 4s 17ms/step - loss: 0.0095 - accuracy: 0.0251 - val_loss: 0.0142 - val_accuracy: 0.0248\n",
      "Epoch 3/30\n",
      "250/250 [==============================] - 4s 17ms/step - loss: 0.0088 - accuracy: 0.0236 - val_loss: 0.0086 - val_accuracy: 0.0271\n",
      "Epoch 4/30\n",
      "250/250 [==============================] - 4s 17ms/step - loss: 0.0085 - accuracy: 0.0235 - val_loss: 0.0085 - val_accuracy: 0.0293\n",
      "Epoch 5/30\n",
      "250/250 [==============================] - 4s 17ms/step - loss: 0.0084 - accuracy: 0.0252 - val_loss: 0.0084 - val_accuracy: 0.0327\n",
      "Epoch 6/30\n",
      "250/250 [==============================] - 4s 18ms/step - loss: 0.0083 - accuracy: 0.0263 - val_loss: 0.0083 - val_accuracy: 0.0327\n",
      "Epoch 7/30\n",
      "250/250 [==============================] - 4s 18ms/step - loss: 0.0081 - accuracy: 0.0275 - val_loss: 0.0082 - val_accuracy: 0.0350\n",
      "Epoch 8/30\n",
      "250/250 [==============================] - 4s 18ms/step - loss: 0.0080 - accuracy: 0.0314 - val_loss: 0.0082 - val_accuracy: 0.0327\n",
      "Epoch 9/30\n",
      "250/250 [==============================] - 5s 20ms/step - loss: 0.0078 - accuracy: 0.0362 - val_loss: 0.0080 - val_accuracy: 0.0339\n",
      "Epoch 10/30\n",
      "250/250 [==============================] - 5s 19ms/step - loss: 0.0077 - accuracy: 0.0376 - val_loss: 0.0079 - val_accuracy: 0.0395\n",
      "Epoch 11/30\n",
      "250/250 [==============================] - 4s 18ms/step - loss: 0.0076 - accuracy: 0.0406 - val_loss: 0.0078 - val_accuracy: 0.0643\n",
      "Epoch 12/30\n",
      "250/250 [==============================] - 5s 20ms/step - loss: 0.0075 - accuracy: 0.0433 - val_loss: 0.0078 - val_accuracy: 0.0587\n",
      "Epoch 13/30\n",
      "250/250 [==============================] - 5s 19ms/step - loss: 0.0074 - accuracy: 0.0504 - val_loss: 0.0078 - val_accuracy: 0.0587\n",
      "Epoch 14/30\n",
      "250/250 [==============================] - 5s 19ms/step - loss: 0.0073 - accuracy: 0.0495 - val_loss: 0.0078 - val_accuracy: 0.0609\n",
      "Epoch 15/30\n",
      "250/250 [==============================] - 5s 18ms/step - loss: 0.0072 - accuracy: 0.0562 - val_loss: 0.0077 - val_accuracy: 0.0485\n",
      "Epoch 16/30\n",
      "250/250 [==============================] - 5s 20ms/step - loss: 0.0072 - accuracy: 0.0601 - val_loss: 0.0078 - val_accuracy: 0.0722\n",
      "Epoch 17/30\n",
      "250/250 [==============================] - 5s 19ms/step - loss: 0.0071 - accuracy: 0.0591 - val_loss: 0.0078 - val_accuracy: 0.0485\n",
      "Epoch 18/30\n",
      "250/250 [==============================] - 4s 18ms/step - loss: 0.0071 - accuracy: 0.0589 - val_loss: 0.0077 - val_accuracy: 0.0711\n",
      "Epoch 19/30\n",
      "250/250 [==============================] - 5s 18ms/step - loss: 0.0070 - accuracy: 0.0610 - val_loss: 0.0078 - val_accuracy: 0.0643\n",
      "Epoch 20/30\n",
      "250/250 [==============================] - 4s 18ms/step - loss: 0.0070 - accuracy: 0.0671 - val_loss: 0.0077 - val_accuracy: 0.0418\n",
      "Epoch 21/30\n",
      "250/250 [==============================] - 5s 18ms/step - loss: 0.0070 - accuracy: 0.0666 - val_loss: 0.0078 - val_accuracy: 0.0587\n",
      "Epoch 22/30\n",
      "250/250 [==============================] - 4s 18ms/step - loss: 0.0070 - accuracy: 0.0704 - val_loss: 0.0077 - val_accuracy: 0.0497\n",
      "Epoch 23/30\n",
      "250/250 [==============================] - 4s 18ms/step - loss: 0.0069 - accuracy: 0.0690 - val_loss: 0.0078 - val_accuracy: 0.0700\n",
      "Epoch 24/30\n",
      "250/250 [==============================] - 4s 18ms/step - loss: 0.0069 - accuracy: 0.0658 - val_loss: 0.0078 - val_accuracy: 0.0598\n",
      "Epoch 25/30\n",
      "250/250 [==============================] - 5s 18ms/step - loss: 0.0069 - accuracy: 0.0719 - val_loss: 0.0078 - val_accuracy: 0.0688\n",
      "Epoch 26/30\n",
      "250/250 [==============================] - 5s 18ms/step - loss: 0.0069 - accuracy: 0.0726 - val_loss: 0.0077 - val_accuracy: 0.0722\n",
      "Epoch 27/30\n",
      "250/250 [==============================] - 4s 18ms/step - loss: 0.0068 - accuracy: 0.0740 - val_loss: 0.0077 - val_accuracy: 0.0677\n",
      "Epoch 28/30\n",
      "250/250 [==============================] - 4s 18ms/step - loss: 0.0068 - accuracy: 0.0745 - val_loss: 0.0078 - val_accuracy: 0.0609\n",
      "Epoch 29/30\n",
      "250/250 [==============================] - 4s 18ms/step - loss: 0.0068 - accuracy: 0.0722 - val_loss: 0.0078 - val_accuracy: 0.0609\n",
      "Epoch 30/30\n",
      "250/250 [==============================] - 4s 18ms/step - loss: 0.0067 - accuracy: 0.0796 - val_loss: 0.0078 - val_accuracy: 0.0587\n"
     ]
    }
   ],
   "source": [
    "history = model.fit(X_train_scaled,\n",
    "                    y_train, \n",
    "                    validation_split = 0.1,\n",
    "                    batch_size = 32,\n",
    "                    epochs=30)"
   ]
  },
  {
   "cell_type": "code",
   "execution_count": 19,
   "id": "496b8582",
   "metadata": {},
   "outputs": [
    {
     "name": "stdout",
     "output_type": "stream",
     "text": [
      "1/1 [==============================] - 0s 75ms/step\n"
     ]
    }
   ],
   "source": [
    "answer = model.predict(X_train_scaled[10].reshape(1,-1))"
   ]
  },
  {
   "cell_type": "code",
   "execution_count": 20,
   "id": "2c7c2d5a",
   "metadata": {},
   "outputs": [
    {
     "data": {
      "text/plain": [
       "array([0.14293751, 0.60508615, 0.20769837, 0.13430378, 0.12713829],\n",
       "      dtype=float32)"
      ]
     },
     "execution_count": 20,
     "metadata": {},
     "output_type": "execute_result"
    }
   ],
   "source": [
    "answer[answer>0.1]"
   ]
  },
  {
   "cell_type": "code",
   "execution_count": 21,
   "id": "561c5c76",
   "metadata": {},
   "outputs": [],
   "source": [
    "answer_idxs = np.argpartition(answer[0],-4)[-4:]"
   ]
  },
  {
   "cell_type": "code",
   "execution_count": 22,
   "id": "c72ac287",
   "metadata": {},
   "outputs": [
    {
     "data": {
      "text/plain": [
       "array([2064,  383,  703,  187])"
      ]
     },
     "execution_count": 22,
     "metadata": {},
     "output_type": "execute_result"
    }
   ],
   "source": [
    "answer_idxs"
   ]
  },
  {
   "cell_type": "code",
   "execution_count": 40,
   "id": "98722868",
   "metadata": {},
   "outputs": [
    {
     "data": {
      "text/html": [
       "<div>\n",
       "<style scoped>\n",
       "    .dataframe tbody tr th:only-of-type {\n",
       "        vertical-align: middle;\n",
       "    }\n",
       "\n",
       "    .dataframe tbody tr th {\n",
       "        vertical-align: top;\n",
       "    }\n",
       "\n",
       "    .dataframe thead th {\n",
       "        text-align: right;\n",
       "    }\n",
       "</style>\n",
       "<table border=\"1\" class=\"dataframe\">\n",
       "  <thead>\n",
       "    <tr style=\"text-align: right;\">\n",
       "      <th></th>\n",
       "      <th>1950s</th>\n",
       "      <th>1970</th>\n",
       "      <th>1971</th>\n",
       "      <th>2009</th>\n",
       "      <th>4-way</th>\n",
       "      <th>abandon</th>\n",
       "      <th>about</th>\n",
       "      <th>above</th>\n",
       "      <th>abraham</th>\n",
       "      <th>abstract</th>\n",
       "      <th>...</th>\n",
       "      <th>yogurt</th>\n",
       "      <th>york</th>\n",
       "      <th>you</th>\n",
       "      <th>young</th>\n",
       "      <th>younger</th>\n",
       "      <th>youth</th>\n",
       "      <th>zebra</th>\n",
       "      <th>zip</th>\n",
       "      <th>zombie</th>\n",
       "      <th>zoo</th>\n",
       "    </tr>\n",
       "  </thead>\n",
       "  <tbody>\n",
       "    <tr>\n",
       "      <th>0</th>\n",
       "      <td>0</td>\n",
       "      <td>0</td>\n",
       "      <td>0</td>\n",
       "      <td>0</td>\n",
       "      <td>0</td>\n",
       "      <td>0</td>\n",
       "      <td>0</td>\n",
       "      <td>0</td>\n",
       "      <td>0</td>\n",
       "      <td>0</td>\n",
       "      <td>...</td>\n",
       "      <td>0</td>\n",
       "      <td>0</td>\n",
       "      <td>0</td>\n",
       "      <td>0</td>\n",
       "      <td>0</td>\n",
       "      <td>0</td>\n",
       "      <td>0</td>\n",
       "      <td>0</td>\n",
       "      <td>0</td>\n",
       "      <td>0</td>\n",
       "    </tr>\n",
       "    <tr>\n",
       "      <th>1</th>\n",
       "      <td>0</td>\n",
       "      <td>0</td>\n",
       "      <td>0</td>\n",
       "      <td>0</td>\n",
       "      <td>0</td>\n",
       "      <td>0</td>\n",
       "      <td>0</td>\n",
       "      <td>0</td>\n",
       "      <td>0</td>\n",
       "      <td>0</td>\n",
       "      <td>...</td>\n",
       "      <td>0</td>\n",
       "      <td>0</td>\n",
       "      <td>0</td>\n",
       "      <td>0</td>\n",
       "      <td>0</td>\n",
       "      <td>0</td>\n",
       "      <td>0</td>\n",
       "      <td>0</td>\n",
       "      <td>0</td>\n",
       "      <td>0</td>\n",
       "    </tr>\n",
       "    <tr>\n",
       "      <th>2</th>\n",
       "      <td>0</td>\n",
       "      <td>0</td>\n",
       "      <td>0</td>\n",
       "      <td>0</td>\n",
       "      <td>0</td>\n",
       "      <td>0</td>\n",
       "      <td>0</td>\n",
       "      <td>0</td>\n",
       "      <td>0</td>\n",
       "      <td>0</td>\n",
       "      <td>...</td>\n",
       "      <td>0</td>\n",
       "      <td>0</td>\n",
       "      <td>0</td>\n",
       "      <td>0</td>\n",
       "      <td>0</td>\n",
       "      <td>0</td>\n",
       "      <td>0</td>\n",
       "      <td>0</td>\n",
       "      <td>0</td>\n",
       "      <td>0</td>\n",
       "    </tr>\n",
       "    <tr>\n",
       "      <th>3</th>\n",
       "      <td>0</td>\n",
       "      <td>0</td>\n",
       "      <td>0</td>\n",
       "      <td>0</td>\n",
       "      <td>0</td>\n",
       "      <td>0</td>\n",
       "      <td>0</td>\n",
       "      <td>0</td>\n",
       "      <td>0</td>\n",
       "      <td>0</td>\n",
       "      <td>...</td>\n",
       "      <td>0</td>\n",
       "      <td>0</td>\n",
       "      <td>0</td>\n",
       "      <td>0</td>\n",
       "      <td>0</td>\n",
       "      <td>0</td>\n",
       "      <td>0</td>\n",
       "      <td>0</td>\n",
       "      <td>0</td>\n",
       "      <td>0</td>\n",
       "    </tr>\n",
       "    <tr>\n",
       "      <th>4</th>\n",
       "      <td>0</td>\n",
       "      <td>0</td>\n",
       "      <td>0</td>\n",
       "      <td>0</td>\n",
       "      <td>0</td>\n",
       "      <td>0</td>\n",
       "      <td>0</td>\n",
       "      <td>0</td>\n",
       "      <td>0</td>\n",
       "      <td>0</td>\n",
       "      <td>...</td>\n",
       "      <td>0</td>\n",
       "      <td>0</td>\n",
       "      <td>0</td>\n",
       "      <td>0</td>\n",
       "      <td>0</td>\n",
       "      <td>0</td>\n",
       "      <td>1</td>\n",
       "      <td>0</td>\n",
       "      <td>0</td>\n",
       "      <td>0</td>\n",
       "    </tr>\n",
       "    <tr>\n",
       "      <th>...</th>\n",
       "      <td>...</td>\n",
       "      <td>...</td>\n",
       "      <td>...</td>\n",
       "      <td>...</td>\n",
       "      <td>...</td>\n",
       "      <td>...</td>\n",
       "      <td>...</td>\n",
       "      <td>...</td>\n",
       "      <td>...</td>\n",
       "      <td>...</td>\n",
       "      <td>...</td>\n",
       "      <td>...</td>\n",
       "      <td>...</td>\n",
       "      <td>...</td>\n",
       "      <td>...</td>\n",
       "      <td>...</td>\n",
       "      <td>...</td>\n",
       "      <td>...</td>\n",
       "      <td>...</td>\n",
       "      <td>...</td>\n",
       "      <td>...</td>\n",
       "    </tr>\n",
       "    <tr>\n",
       "      <th>X_test_id_977</th>\n",
       "      <td>0</td>\n",
       "      <td>0</td>\n",
       "      <td>0</td>\n",
       "      <td>0</td>\n",
       "      <td>0</td>\n",
       "      <td>0</td>\n",
       "      <td>0</td>\n",
       "      <td>0</td>\n",
       "      <td>0</td>\n",
       "      <td>0</td>\n",
       "      <td>...</td>\n",
       "      <td>0</td>\n",
       "      <td>0</td>\n",
       "      <td>0</td>\n",
       "      <td>0</td>\n",
       "      <td>0</td>\n",
       "      <td>0</td>\n",
       "      <td>0</td>\n",
       "      <td>0</td>\n",
       "      <td>0</td>\n",
       "      <td>0</td>\n",
       "    </tr>\n",
       "    <tr>\n",
       "      <th>X_test_id_978</th>\n",
       "      <td>0</td>\n",
       "      <td>0</td>\n",
       "      <td>0</td>\n",
       "      <td>0</td>\n",
       "      <td>0</td>\n",
       "      <td>0</td>\n",
       "      <td>0</td>\n",
       "      <td>0</td>\n",
       "      <td>0</td>\n",
       "      <td>0</td>\n",
       "      <td>...</td>\n",
       "      <td>0</td>\n",
       "      <td>0</td>\n",
       "      <td>0</td>\n",
       "      <td>0</td>\n",
       "      <td>0</td>\n",
       "      <td>0</td>\n",
       "      <td>0</td>\n",
       "      <td>0</td>\n",
       "      <td>0</td>\n",
       "      <td>0</td>\n",
       "    </tr>\n",
       "    <tr>\n",
       "      <th>X_test_id_979</th>\n",
       "      <td>0</td>\n",
       "      <td>0</td>\n",
       "      <td>0</td>\n",
       "      <td>0</td>\n",
       "      <td>0</td>\n",
       "      <td>0</td>\n",
       "      <td>0</td>\n",
       "      <td>0</td>\n",
       "      <td>0</td>\n",
       "      <td>0</td>\n",
       "      <td>...</td>\n",
       "      <td>0</td>\n",
       "      <td>0</td>\n",
       "      <td>0</td>\n",
       "      <td>0</td>\n",
       "      <td>0</td>\n",
       "      <td>0</td>\n",
       "      <td>0</td>\n",
       "      <td>0</td>\n",
       "      <td>0</td>\n",
       "      <td>0</td>\n",
       "    </tr>\n",
       "    <tr>\n",
       "      <th>X_test_id_980</th>\n",
       "      <td>0</td>\n",
       "      <td>0</td>\n",
       "      <td>0</td>\n",
       "      <td>0</td>\n",
       "      <td>0</td>\n",
       "      <td>0</td>\n",
       "      <td>0</td>\n",
       "      <td>0</td>\n",
       "      <td>0</td>\n",
       "      <td>0</td>\n",
       "      <td>...</td>\n",
       "      <td>0</td>\n",
       "      <td>0</td>\n",
       "      <td>0</td>\n",
       "      <td>0</td>\n",
       "      <td>0</td>\n",
       "      <td>0</td>\n",
       "      <td>0</td>\n",
       "      <td>0</td>\n",
       "      <td>0</td>\n",
       "      <td>0</td>\n",
       "    </tr>\n",
       "    <tr>\n",
       "      <th>X_test_id_981</th>\n",
       "      <td>0</td>\n",
       "      <td>0</td>\n",
       "      <td>0</td>\n",
       "      <td>0</td>\n",
       "      <td>0</td>\n",
       "      <td>0</td>\n",
       "      <td>0</td>\n",
       "      <td>0</td>\n",
       "      <td>0</td>\n",
       "      <td>0</td>\n",
       "      <td>...</td>\n",
       "      <td>0</td>\n",
       "      <td>0</td>\n",
       "      <td>0</td>\n",
       "      <td>0</td>\n",
       "      <td>0</td>\n",
       "      <td>0</td>\n",
       "      <td>0</td>\n",
       "      <td>0</td>\n",
       "      <td>0</td>\n",
       "      <td>0</td>\n",
       "    </tr>\n",
       "  </tbody>\n",
       "</table>\n",
       "<p>9841 rows × 2637 columns</p>\n",
       "</div>"
      ],
      "text/plain": [
       "               1950s  1970  1971  2009  4-way  abandon  about  above  abraham  \\\n",
       "0                  0     0     0     0      0        0      0      0        0   \n",
       "1                  0     0     0     0      0        0      0      0        0   \n",
       "2                  0     0     0     0      0        0      0      0        0   \n",
       "3                  0     0     0     0      0        0      0      0        0   \n",
       "4                  0     0     0     0      0        0      0      0        0   \n",
       "...              ...   ...   ...   ...    ...      ...    ...    ...      ...   \n",
       "X_test_id_977      0     0     0     0      0        0      0      0        0   \n",
       "X_test_id_978      0     0     0     0      0        0      0      0        0   \n",
       "X_test_id_979      0     0     0     0      0        0      0      0        0   \n",
       "X_test_id_980      0     0     0     0      0        0      0      0        0   \n",
       "X_test_id_981      0     0     0     0      0        0      0      0        0   \n",
       "\n",
       "               abstract  ...  yogurt  york  you  young  younger  youth  zebra  \\\n",
       "0                     0  ...       0     0    0      0        0      0      0   \n",
       "1                     0  ...       0     0    0      0        0      0      0   \n",
       "2                     0  ...       0     0    0      0        0      0      0   \n",
       "3                     0  ...       0     0    0      0        0      0      0   \n",
       "4                     0  ...       0     0    0      0        0      0      1   \n",
       "...                 ...  ...     ...   ...  ...    ...      ...    ...    ...   \n",
       "X_test_id_977         0  ...       0     0    0      0        0      0      0   \n",
       "X_test_id_978         0  ...       0     0    0      0        0      0      0   \n",
       "X_test_id_979         0  ...       0     0    0      0        0      0      0   \n",
       "X_test_id_980         0  ...       0     0    0      0        0      0      0   \n",
       "X_test_id_981         0  ...       0     0    0      0        0      0      0   \n",
       "\n",
       "               zip  zombie  zoo  \n",
       "0                0       0    0  \n",
       "1                0       0    0  \n",
       "2                0       0    0  \n",
       "3                0       0    0  \n",
       "4                0       0    0  \n",
       "...            ...     ...  ...  \n",
       "X_test_id_977    0       0    0  \n",
       "X_test_id_978    0       0    0  \n",
       "X_test_id_979    0       0    0  \n",
       "X_test_id_980    0       0    0  \n",
       "X_test_id_981    0       0    0  \n",
       "\n",
       "[9841 rows x 2637 columns]"
      ]
     },
     "execution_count": 40,
     "metadata": {},
     "output_type": "execute_result"
    }
   ],
   "source": [
    "y_dataframe"
   ]
  },
  {
   "cell_type": "code",
   "execution_count": 23,
   "id": "96ea5d3c",
   "metadata": {},
   "outputs": [],
   "source": [
    "labels = y_dataframe.columns[1:]"
   ]
  },
  {
   "cell_type": "code",
   "execution_count": 24,
   "id": "eb854ba7",
   "metadata": {},
   "outputs": [
    {
     "data": {
      "text/plain": [
       "Index(['site', 'catch', 'doll', 'bedlamps'], dtype='object')"
      ]
     },
     "execution_count": 24,
     "metadata": {},
     "output_type": "execute_result"
    }
   ],
   "source": [
    "labels[answer_idxs]"
   ]
  },
  {
   "cell_type": "code",
   "execution_count": 35,
   "id": "03d1b0bf",
   "metadata": {},
   "outputs": [
    {
     "name": "stdout",
     "output_type": "stream",
     "text": [
      "1/1 [==============================] - 0s 13ms/step\n"
     ]
    }
   ],
   "source": [
    "test_answer = model.predict(X_test_scaled[45].reshape(1,-1))"
   ]
  },
  {
   "cell_type": "code",
   "execution_count": 36,
   "id": "74c69375",
   "metadata": {},
   "outputs": [
    {
     "data": {
      "text/plain": [
       "array([[8.0414657e-06, 1.6014625e-05, 2.3940924e-05, ..., 2.3906901e-03,\n",
       "        4.0527619e-05, 9.6112315e-05]], dtype=float32)"
      ]
     },
     "execution_count": 36,
     "metadata": {},
     "output_type": "execute_result"
    }
   ],
   "source": [
    "test_answer"
   ]
  },
  {
   "cell_type": "code",
   "execution_count": 37,
   "id": "8a2e2fe1",
   "metadata": {},
   "outputs": [],
   "source": [
    "test_answer_idxs = np.argpartition(test_answer[0],-4)[-4:]"
   ]
  },
  {
   "cell_type": "code",
   "execution_count": 38,
   "id": "57c42ed2",
   "metadata": {},
   "outputs": [
    {
     "data": {
      "text/plain": [
       "array([ 149, 2297, 2497,  885])"
      ]
     },
     "execution_count": 38,
     "metadata": {},
     "output_type": "execute_result"
    }
   ],
   "source": [
    "test_answer_idxs"
   ]
  },
  {
   "cell_type": "code",
   "execution_count": 39,
   "id": "322fe0fb",
   "metadata": {},
   "outputs": [
    {
     "data": {
      "text/plain": [
       "Index(['bank', 'tablecloth', 'vast', 'flowery'], dtype='object')"
      ]
     },
     "execution_count": 39,
     "metadata": {},
     "output_type": "execute_result"
    }
   ],
   "source": [
    "labels[test_answer_idxs]"
   ]
  },
  {
   "cell_type": "code",
   "execution_count": null,
   "id": "54a0e398",
   "metadata": {},
   "outputs": [],
   "source": []
  }
 ],
 "metadata": {
  "kernelspec": {
   "display_name": "Python 3 (ipykernel)",
   "language": "python",
   "name": "python3"
  },
  "language_info": {
   "codemirror_mode": {
    "name": "ipython",
    "version": 3
   },
   "file_extension": ".py",
   "mimetype": "text/x-python",
   "name": "python",
   "nbconvert_exporter": "python",
   "pygments_lexer": "ipython3",
   "version": "3.10.6"
  },
  "toc": {
   "base_numbering": 1,
   "nav_menu": {},
   "number_sections": true,
   "sideBar": true,
   "skip_h1_title": false,
   "title_cell": "Table of Contents",
   "title_sidebar": "Contents",
   "toc_cell": false,
   "toc_position": {},
   "toc_section_display": true,
   "toc_window_display": false
  }
 },
 "nbformat": 4,
 "nbformat_minor": 5
}
