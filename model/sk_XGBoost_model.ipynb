{
 "cells": [
  {
   "cell_type": "code",
   "execution_count": null,
   "id": "2389cfd3",
   "metadata": {},
   "outputs": [],
   "source": [
    "import pandas as pd\n",
    "import numpy as np\n",
    "from sklearn.preprocessing import MinMaxScaler, RobustScaler"
   ]
  },
  {
   "cell_type": "code",
   "execution_count": null,
   "id": "8654ba1b",
   "metadata": {},
   "outputs": [],
   "source": [
    "from sklearn.model_selection import train_test_split\n",
    "from xgboost import XGBClassifier"
   ]
  },
  {
   "cell_type": "markdown",
   "id": "c350dbaf",
   "metadata": {},
   "source": [
    "##  To get the data for X_train, y_train, X_test, y_test"
   ]
  },
  {
   "cell_type": "code",
   "execution_count": null,
   "id": "bda4b91d",
   "metadata": {},
   "outputs": [],
   "source": [
    "#using the y_dataframe_2 which has vocabulary length of 3760\n",
    "y_dataframe = pd.read_csv('../data/dataframes/y_dataframe_2.csv',index_col = 0)"
   ]
  },
  {
   "cell_type": "code",
   "execution_count": null,
   "id": "5da175db",
   "metadata": {},
   "outputs": [],
   "source": [
    "y_dataframe"
   ]
  },
  {
   "cell_type": "code",
   "execution_count": null,
   "id": "bc98d061",
   "metadata": {},
   "outputs": [],
   "source": [
    "y_dataframe.drop(columns='Unnamed: 1', inplace=True)"
   ]
  },
  {
   "cell_type": "code",
   "execution_count": null,
   "id": "90420ec2",
   "metadata": {},
   "outputs": [],
   "source": [
    "y_dataframe"
   ]
  },
  {
   "cell_type": "code",
   "execution_count": null,
   "id": "4037f198",
   "metadata": {},
   "outputs": [],
   "source": [
    "y_train = y_dataframe.iloc[0:8859].to_numpy()"
   ]
  },
  {
   "cell_type": "code",
   "execution_count": null,
   "id": "5b451545",
   "metadata": {},
   "outputs": [],
   "source": [
    "y_train.shape"
   ]
  },
  {
   "cell_type": "code",
   "execution_count": null,
   "id": "fbffead4",
   "metadata": {},
   "outputs": [],
   "source": [
    "y_test = y_dataframe.iloc[8859:].to_numpy()"
   ]
  },
  {
   "cell_type": "code",
   "execution_count": null,
   "id": "f76df262",
   "metadata": {},
   "outputs": [],
   "source": [
    "y_test.shape"
   ]
  },
  {
   "cell_type": "code",
   "execution_count": null,
   "id": "8147f976",
   "metadata": {},
   "outputs": [],
   "source": [
    "X_train = np.load('../data/nsd_train_fmriavg_nsdgeneral_sub1.npy')"
   ]
  },
  {
   "cell_type": "code",
   "execution_count": null,
   "id": "d858421b",
   "metadata": {},
   "outputs": [],
   "source": [
    "X_train.shape"
   ]
  },
  {
   "cell_type": "code",
   "execution_count": null,
   "id": "655cdca0",
   "metadata": {},
   "outputs": [],
   "source": [
    "X_test = np.load('../data/nsd_test_fmriavg_nsdgeneral_sub1.npy')"
   ]
  },
  {
   "cell_type": "code",
   "execution_count": null,
   "id": "5b3da225",
   "metadata": {},
   "outputs": [],
   "source": [
    "X_test.shape"
   ]
  },
  {
   "cell_type": "code",
   "execution_count": null,
   "id": "c38ce9be",
   "metadata": {},
   "outputs": [],
   "source": [
    "scaler = RobustScaler()\n",
    "\n",
    "X_train_scaled = scaler.fit_transform(X_train)\n",
    "X_test_scaled = scaler.transform(X_test)"
   ]
  },
  {
   "cell_type": "code",
   "execution_count": null,
   "id": "2b12a9cf",
   "metadata": {},
   "outputs": [],
   "source": []
  },
  {
   "cell_type": "code",
   "execution_count": null,
   "id": "81a34e1c",
   "metadata": {},
   "outputs": [],
   "source": []
  },
  {
   "cell_type": "markdown",
   "id": "cc078d6a",
   "metadata": {},
   "source": [
    "## To split the test data into test and val data"
   ]
  },
  {
   "cell_type": "code",
   "execution_count": null,
   "id": "fcf249f7",
   "metadata": {},
   "outputs": [],
   "source": [
    "X_train, X_val, y_train, y_val = train_test_split(\n",
    "    X_train_scaled, y_train, test_size = 0.15  # TEST = 15%\n",
    ")"
   ]
  },
  {
   "cell_type": "code",
   "execution_count": null,
   "id": "169d9820",
   "metadata": {},
   "outputs": [],
   "source": [
    "# # Use the same function above for the validation set\n",
    "# X_test, X_val, y_test, y_val = train_test_split(\n",
    "#     X_test, y_test, test_size = 0.5, random_state = 42  # TEST = 15%\n",
    "# )\n",
    "# Then, we plug the data into the XGBRegressor!"
   ]
  },
  {
   "cell_type": "code",
   "execution_count": null,
   "id": "5c42a850",
   "metadata": {},
   "outputs": [],
   "source": [
    "xgb_class = XGBClassifier()"
   ]
  },
  {
   "cell_type": "code",
   "execution_count": null,
   "id": "d5a9dc51",
   "metadata": {
    "scrolled": true
   },
   "outputs": [],
   "source": [
    "xgb_class.fit(X_train, y_train\n",
    "    # evaluate loss at each iteration\n",
    ")"
   ]
  },
  {
   "cell_type": "code",
   "execution_count": null,
   "id": "37e72968",
   "metadata": {},
   "outputs": [],
   "source": [
    "y_pred = xgb_class.predict(X_train_scaled)"
   ]
  },
  {
   "cell_type": "code",
   "execution_count": null,
   "id": "ff1b5e02",
   "metadata": {},
   "outputs": [],
   "source": []
  }
 ],
 "metadata": {
  "kernelspec": {
   "display_name": "Python 3 (ipykernel)",
   "language": "python",
   "name": "python3"
  },
  "language_info": {
   "codemirror_mode": {
    "name": "ipython",
    "version": 3
   },
   "file_extension": ".py",
   "mimetype": "text/x-python",
   "name": "python",
   "nbconvert_exporter": "python",
   "pygments_lexer": "ipython3",
   "version": "3.10.6"
  },
  "toc": {
   "base_numbering": 1,
   "nav_menu": {},
   "number_sections": true,
   "sideBar": true,
   "skip_h1_title": false,
   "title_cell": "Table of Contents",
   "title_sidebar": "Contents",
   "toc_cell": false,
   "toc_position": {},
   "toc_section_display": true,
   "toc_window_display": false
  }
 },
 "nbformat": 4,
 "nbformat_minor": 5
}
