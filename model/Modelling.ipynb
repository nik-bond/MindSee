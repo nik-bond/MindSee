{
 "cells": [
  {
   "cell_type": "markdown",
   "id": "c330d742",
   "metadata": {},
   "source": [
    "# Modelling"
   ]
  },
  {
   "cell_type": "markdown",
   "id": "e21bfe21",
   "metadata": {},
   "source": [
    "## Imports"
   ]
  },
  {
   "cell_type": "code",
   "execution_count": 1,
   "id": "d55e1921",
   "metadata": {},
   "outputs": [],
   "source": [
    "import pandas as pd\n",
    "import numpy as np\n",
    "from tensorflow.keras import Sequential, layers, models\n",
    "from sklearn.preprocessing import MinMaxScaler, RobustScaler"
   ]
  },
  {
   "cell_type": "markdown",
   "id": "6d0fd492",
   "metadata": {},
   "source": [
    "## y_train and y_test"
   ]
  },
  {
   "cell_type": "code",
   "execution_count": 2,
   "id": "69401705",
   "metadata": {},
   "outputs": [
    {
     "name": "stderr",
     "output_type": "stream",
     "text": [
      "/var/folders/fy/tmxs8hm12_57zw_rkkvx7c7w0000gn/T/ipykernel_59232/2686232150.py:1: DtypeWarning: Columns (0) have mixed types. Specify dtype option on import or set low_memory=False.\n",
      "  y_dataframe = pd.read_csv('../raw_data/y_dataframe_2.csv', index_col=0)\n"
     ]
    }
   ],
   "source": [
    "y_dataframe = pd.read_csv('../raw_data/y_dataframe_2.csv', index_col=0)"
   ]
  },
  {
   "cell_type": "code",
   "execution_count": 3,
   "id": "7d55b7aa",
   "metadata": {},
   "outputs": [
    {
     "data": {
      "text/html": [
       "<div>\n",
       "<style scoped>\n",
       "    .dataframe tbody tr th:only-of-type {\n",
       "        vertical-align: middle;\n",
       "    }\n",
       "\n",
       "    .dataframe tbody tr th {\n",
       "        vertical-align: top;\n",
       "    }\n",
       "\n",
       "    .dataframe thead th {\n",
       "        text-align: right;\n",
       "    }\n",
       "</style>\n",
       "<table border=\"1\" class=\"dataframe\">\n",
       "  <thead>\n",
       "    <tr style=\"text-align: right;\">\n",
       "      <th></th>\n",
       "      <th>Unnamed: 1</th>\n",
       "      <th>1950</th>\n",
       "      <th>1950s</th>\n",
       "      <th>1970</th>\n",
       "      <th>1971</th>\n",
       "      <th>2009</th>\n",
       "      <th>2010</th>\n",
       "      <th>4way</th>\n",
       "      <th>abandon</th>\n",
       "      <th>ability</th>\n",
       "      <th>...</th>\n",
       "      <th>young</th>\n",
       "      <th>younger</th>\n",
       "      <th>youre</th>\n",
       "      <th>youth</th>\n",
       "      <th>zebra</th>\n",
       "      <th>zigzag</th>\n",
       "      <th>zip</th>\n",
       "      <th>zombie</th>\n",
       "      <th>zoo</th>\n",
       "      <th>zoom</th>\n",
       "    </tr>\n",
       "  </thead>\n",
       "  <tbody>\n",
       "    <tr>\n",
       "      <th>0</th>\n",
       "      <td>0</td>\n",
       "      <td>0</td>\n",
       "      <td>0</td>\n",
       "      <td>0</td>\n",
       "      <td>0</td>\n",
       "      <td>0</td>\n",
       "      <td>0</td>\n",
       "      <td>0</td>\n",
       "      <td>0</td>\n",
       "      <td>0</td>\n",
       "      <td>...</td>\n",
       "      <td>0</td>\n",
       "      <td>0</td>\n",
       "      <td>0</td>\n",
       "      <td>0</td>\n",
       "      <td>0</td>\n",
       "      <td>0</td>\n",
       "      <td>0</td>\n",
       "      <td>0</td>\n",
       "      <td>0</td>\n",
       "      <td>0</td>\n",
       "    </tr>\n",
       "    <tr>\n",
       "      <th>1</th>\n",
       "      <td>0</td>\n",
       "      <td>0</td>\n",
       "      <td>0</td>\n",
       "      <td>0</td>\n",
       "      <td>0</td>\n",
       "      <td>0</td>\n",
       "      <td>0</td>\n",
       "      <td>0</td>\n",
       "      <td>0</td>\n",
       "      <td>0</td>\n",
       "      <td>...</td>\n",
       "      <td>0</td>\n",
       "      <td>0</td>\n",
       "      <td>0</td>\n",
       "      <td>0</td>\n",
       "      <td>0</td>\n",
       "      <td>0</td>\n",
       "      <td>0</td>\n",
       "      <td>0</td>\n",
       "      <td>0</td>\n",
       "      <td>0</td>\n",
       "    </tr>\n",
       "    <tr>\n",
       "      <th>2</th>\n",
       "      <td>0</td>\n",
       "      <td>0</td>\n",
       "      <td>0</td>\n",
       "      <td>0</td>\n",
       "      <td>0</td>\n",
       "      <td>0</td>\n",
       "      <td>0</td>\n",
       "      <td>0</td>\n",
       "      <td>0</td>\n",
       "      <td>0</td>\n",
       "      <td>...</td>\n",
       "      <td>0</td>\n",
       "      <td>0</td>\n",
       "      <td>0</td>\n",
       "      <td>0</td>\n",
       "      <td>0</td>\n",
       "      <td>0</td>\n",
       "      <td>0</td>\n",
       "      <td>0</td>\n",
       "      <td>0</td>\n",
       "      <td>0</td>\n",
       "    </tr>\n",
       "    <tr>\n",
       "      <th>3</th>\n",
       "      <td>0</td>\n",
       "      <td>0</td>\n",
       "      <td>0</td>\n",
       "      <td>0</td>\n",
       "      <td>0</td>\n",
       "      <td>0</td>\n",
       "      <td>0</td>\n",
       "      <td>0</td>\n",
       "      <td>0</td>\n",
       "      <td>0</td>\n",
       "      <td>...</td>\n",
       "      <td>0</td>\n",
       "      <td>0</td>\n",
       "      <td>0</td>\n",
       "      <td>0</td>\n",
       "      <td>0</td>\n",
       "      <td>0</td>\n",
       "      <td>0</td>\n",
       "      <td>0</td>\n",
       "      <td>0</td>\n",
       "      <td>0</td>\n",
       "    </tr>\n",
       "    <tr>\n",
       "      <th>4</th>\n",
       "      <td>0</td>\n",
       "      <td>0</td>\n",
       "      <td>0</td>\n",
       "      <td>0</td>\n",
       "      <td>0</td>\n",
       "      <td>0</td>\n",
       "      <td>0</td>\n",
       "      <td>0</td>\n",
       "      <td>0</td>\n",
       "      <td>0</td>\n",
       "      <td>...</td>\n",
       "      <td>0</td>\n",
       "      <td>0</td>\n",
       "      <td>0</td>\n",
       "      <td>0</td>\n",
       "      <td>1</td>\n",
       "      <td>0</td>\n",
       "      <td>0</td>\n",
       "      <td>0</td>\n",
       "      <td>0</td>\n",
       "      <td>0</td>\n",
       "    </tr>\n",
       "    <tr>\n",
       "      <th>...</th>\n",
       "      <td>...</td>\n",
       "      <td>...</td>\n",
       "      <td>...</td>\n",
       "      <td>...</td>\n",
       "      <td>...</td>\n",
       "      <td>...</td>\n",
       "      <td>...</td>\n",
       "      <td>...</td>\n",
       "      <td>...</td>\n",
       "      <td>...</td>\n",
       "      <td>...</td>\n",
       "      <td>...</td>\n",
       "      <td>...</td>\n",
       "      <td>...</td>\n",
       "      <td>...</td>\n",
       "      <td>...</td>\n",
       "      <td>...</td>\n",
       "      <td>...</td>\n",
       "      <td>...</td>\n",
       "      <td>...</td>\n",
       "      <td>...</td>\n",
       "    </tr>\n",
       "    <tr>\n",
       "      <th>X_test_id_977</th>\n",
       "      <td>0</td>\n",
       "      <td>0</td>\n",
       "      <td>0</td>\n",
       "      <td>0</td>\n",
       "      <td>0</td>\n",
       "      <td>0</td>\n",
       "      <td>0</td>\n",
       "      <td>0</td>\n",
       "      <td>0</td>\n",
       "      <td>0</td>\n",
       "      <td>...</td>\n",
       "      <td>0</td>\n",
       "      <td>0</td>\n",
       "      <td>0</td>\n",
       "      <td>0</td>\n",
       "      <td>0</td>\n",
       "      <td>0</td>\n",
       "      <td>0</td>\n",
       "      <td>0</td>\n",
       "      <td>0</td>\n",
       "      <td>0</td>\n",
       "    </tr>\n",
       "    <tr>\n",
       "      <th>X_test_id_978</th>\n",
       "      <td>0</td>\n",
       "      <td>0</td>\n",
       "      <td>0</td>\n",
       "      <td>0</td>\n",
       "      <td>0</td>\n",
       "      <td>0</td>\n",
       "      <td>0</td>\n",
       "      <td>0</td>\n",
       "      <td>0</td>\n",
       "      <td>0</td>\n",
       "      <td>...</td>\n",
       "      <td>0</td>\n",
       "      <td>0</td>\n",
       "      <td>0</td>\n",
       "      <td>0</td>\n",
       "      <td>0</td>\n",
       "      <td>0</td>\n",
       "      <td>0</td>\n",
       "      <td>0</td>\n",
       "      <td>0</td>\n",
       "      <td>0</td>\n",
       "    </tr>\n",
       "    <tr>\n",
       "      <th>X_test_id_979</th>\n",
       "      <td>0</td>\n",
       "      <td>0</td>\n",
       "      <td>0</td>\n",
       "      <td>0</td>\n",
       "      <td>0</td>\n",
       "      <td>0</td>\n",
       "      <td>0</td>\n",
       "      <td>0</td>\n",
       "      <td>0</td>\n",
       "      <td>0</td>\n",
       "      <td>...</td>\n",
       "      <td>0</td>\n",
       "      <td>0</td>\n",
       "      <td>0</td>\n",
       "      <td>0</td>\n",
       "      <td>0</td>\n",
       "      <td>0</td>\n",
       "      <td>0</td>\n",
       "      <td>0</td>\n",
       "      <td>0</td>\n",
       "      <td>0</td>\n",
       "    </tr>\n",
       "    <tr>\n",
       "      <th>X_test_id_980</th>\n",
       "      <td>0</td>\n",
       "      <td>0</td>\n",
       "      <td>0</td>\n",
       "      <td>0</td>\n",
       "      <td>0</td>\n",
       "      <td>0</td>\n",
       "      <td>1</td>\n",
       "      <td>0</td>\n",
       "      <td>0</td>\n",
       "      <td>0</td>\n",
       "      <td>...</td>\n",
       "      <td>0</td>\n",
       "      <td>0</td>\n",
       "      <td>0</td>\n",
       "      <td>0</td>\n",
       "      <td>0</td>\n",
       "      <td>0</td>\n",
       "      <td>0</td>\n",
       "      <td>0</td>\n",
       "      <td>0</td>\n",
       "      <td>0</td>\n",
       "    </tr>\n",
       "    <tr>\n",
       "      <th>X_test_id_981</th>\n",
       "      <td>0</td>\n",
       "      <td>0</td>\n",
       "      <td>0</td>\n",
       "      <td>0</td>\n",
       "      <td>0</td>\n",
       "      <td>0</td>\n",
       "      <td>0</td>\n",
       "      <td>0</td>\n",
       "      <td>0</td>\n",
       "      <td>0</td>\n",
       "      <td>...</td>\n",
       "      <td>0</td>\n",
       "      <td>0</td>\n",
       "      <td>0</td>\n",
       "      <td>0</td>\n",
       "      <td>0</td>\n",
       "      <td>0</td>\n",
       "      <td>0</td>\n",
       "      <td>0</td>\n",
       "      <td>0</td>\n",
       "      <td>0</td>\n",
       "    </tr>\n",
       "  </tbody>\n",
       "</table>\n",
       "<p>9841 rows × 3760 columns</p>\n",
       "</div>"
      ],
      "text/plain": [
       "               Unnamed: 1  1950  1950s  1970  1971  2009  2010  4way  abandon  \\\n",
       "0                       0     0      0     0     0     0     0     0        0   \n",
       "1                       0     0      0     0     0     0     0     0        0   \n",
       "2                       0     0      0     0     0     0     0     0        0   \n",
       "3                       0     0      0     0     0     0     0     0        0   \n",
       "4                       0     0      0     0     0     0     0     0        0   \n",
       "...                   ...   ...    ...   ...   ...   ...   ...   ...      ...   \n",
       "X_test_id_977           0     0      0     0     0     0     0     0        0   \n",
       "X_test_id_978           0     0      0     0     0     0     0     0        0   \n",
       "X_test_id_979           0     0      0     0     0     0     0     0        0   \n",
       "X_test_id_980           0     0      0     0     0     0     1     0        0   \n",
       "X_test_id_981           0     0      0     0     0     0     0     0        0   \n",
       "\n",
       "               ability  ...  young  younger  youre  youth  zebra  zigzag  zip  \\\n",
       "0                    0  ...      0        0      0      0      0       0    0   \n",
       "1                    0  ...      0        0      0      0      0       0    0   \n",
       "2                    0  ...      0        0      0      0      0       0    0   \n",
       "3                    0  ...      0        0      0      0      0       0    0   \n",
       "4                    0  ...      0        0      0      0      1       0    0   \n",
       "...                ...  ...    ...      ...    ...    ...    ...     ...  ...   \n",
       "X_test_id_977        0  ...      0        0      0      0      0       0    0   \n",
       "X_test_id_978        0  ...      0        0      0      0      0       0    0   \n",
       "X_test_id_979        0  ...      0        0      0      0      0       0    0   \n",
       "X_test_id_980        0  ...      0        0      0      0      0       0    0   \n",
       "X_test_id_981        0  ...      0        0      0      0      0       0    0   \n",
       "\n",
       "               zombie  zoo  zoom  \n",
       "0                   0    0     0  \n",
       "1                   0    0     0  \n",
       "2                   0    0     0  \n",
       "3                   0    0     0  \n",
       "4                   0    0     0  \n",
       "...               ...  ...   ...  \n",
       "X_test_id_977       0    0     0  \n",
       "X_test_id_978       0    0     0  \n",
       "X_test_id_979       0    0     0  \n",
       "X_test_id_980       0    0     0  \n",
       "X_test_id_981       0    0     0  \n",
       "\n",
       "[9841 rows x 3760 columns]"
      ]
     },
     "execution_count": 3,
     "metadata": {},
     "output_type": "execute_result"
    }
   ],
   "source": [
    "y_dataframe"
   ]
  },
  {
   "cell_type": "code",
   "execution_count": 4,
   "id": "b44871fb",
   "metadata": {},
   "outputs": [],
   "source": [
    "y_dataframe.drop(columns = 'Unnamed: 1', inplace=True)"
   ]
  },
  {
   "cell_type": "code",
   "execution_count": 5,
   "id": "f9fc3ebd",
   "metadata": {},
   "outputs": [
    {
     "data": {
      "text/html": [
       "<div>\n",
       "<style scoped>\n",
       "    .dataframe tbody tr th:only-of-type {\n",
       "        vertical-align: middle;\n",
       "    }\n",
       "\n",
       "    .dataframe tbody tr th {\n",
       "        vertical-align: top;\n",
       "    }\n",
       "\n",
       "    .dataframe thead th {\n",
       "        text-align: right;\n",
       "    }\n",
       "</style>\n",
       "<table border=\"1\" class=\"dataframe\">\n",
       "  <thead>\n",
       "    <tr style=\"text-align: right;\">\n",
       "      <th></th>\n",
       "      <th>1950</th>\n",
       "      <th>1950s</th>\n",
       "      <th>1970</th>\n",
       "      <th>1971</th>\n",
       "      <th>2009</th>\n",
       "      <th>2010</th>\n",
       "      <th>4way</th>\n",
       "      <th>abandon</th>\n",
       "      <th>ability</th>\n",
       "      <th>ablaze</th>\n",
       "      <th>...</th>\n",
       "      <th>young</th>\n",
       "      <th>younger</th>\n",
       "      <th>youre</th>\n",
       "      <th>youth</th>\n",
       "      <th>zebra</th>\n",
       "      <th>zigzag</th>\n",
       "      <th>zip</th>\n",
       "      <th>zombie</th>\n",
       "      <th>zoo</th>\n",
       "      <th>zoom</th>\n",
       "    </tr>\n",
       "  </thead>\n",
       "  <tbody>\n",
       "    <tr>\n",
       "      <th>0</th>\n",
       "      <td>0</td>\n",
       "      <td>0</td>\n",
       "      <td>0</td>\n",
       "      <td>0</td>\n",
       "      <td>0</td>\n",
       "      <td>0</td>\n",
       "      <td>0</td>\n",
       "      <td>0</td>\n",
       "      <td>0</td>\n",
       "      <td>0</td>\n",
       "      <td>...</td>\n",
       "      <td>0</td>\n",
       "      <td>0</td>\n",
       "      <td>0</td>\n",
       "      <td>0</td>\n",
       "      <td>0</td>\n",
       "      <td>0</td>\n",
       "      <td>0</td>\n",
       "      <td>0</td>\n",
       "      <td>0</td>\n",
       "      <td>0</td>\n",
       "    </tr>\n",
       "    <tr>\n",
       "      <th>1</th>\n",
       "      <td>0</td>\n",
       "      <td>0</td>\n",
       "      <td>0</td>\n",
       "      <td>0</td>\n",
       "      <td>0</td>\n",
       "      <td>0</td>\n",
       "      <td>0</td>\n",
       "      <td>0</td>\n",
       "      <td>0</td>\n",
       "      <td>0</td>\n",
       "      <td>...</td>\n",
       "      <td>0</td>\n",
       "      <td>0</td>\n",
       "      <td>0</td>\n",
       "      <td>0</td>\n",
       "      <td>0</td>\n",
       "      <td>0</td>\n",
       "      <td>0</td>\n",
       "      <td>0</td>\n",
       "      <td>0</td>\n",
       "      <td>0</td>\n",
       "    </tr>\n",
       "    <tr>\n",
       "      <th>2</th>\n",
       "      <td>0</td>\n",
       "      <td>0</td>\n",
       "      <td>0</td>\n",
       "      <td>0</td>\n",
       "      <td>0</td>\n",
       "      <td>0</td>\n",
       "      <td>0</td>\n",
       "      <td>0</td>\n",
       "      <td>0</td>\n",
       "      <td>0</td>\n",
       "      <td>...</td>\n",
       "      <td>0</td>\n",
       "      <td>0</td>\n",
       "      <td>0</td>\n",
       "      <td>0</td>\n",
       "      <td>0</td>\n",
       "      <td>0</td>\n",
       "      <td>0</td>\n",
       "      <td>0</td>\n",
       "      <td>0</td>\n",
       "      <td>0</td>\n",
       "    </tr>\n",
       "    <tr>\n",
       "      <th>3</th>\n",
       "      <td>0</td>\n",
       "      <td>0</td>\n",
       "      <td>0</td>\n",
       "      <td>0</td>\n",
       "      <td>0</td>\n",
       "      <td>0</td>\n",
       "      <td>0</td>\n",
       "      <td>0</td>\n",
       "      <td>0</td>\n",
       "      <td>0</td>\n",
       "      <td>...</td>\n",
       "      <td>0</td>\n",
       "      <td>0</td>\n",
       "      <td>0</td>\n",
       "      <td>0</td>\n",
       "      <td>0</td>\n",
       "      <td>0</td>\n",
       "      <td>0</td>\n",
       "      <td>0</td>\n",
       "      <td>0</td>\n",
       "      <td>0</td>\n",
       "    </tr>\n",
       "    <tr>\n",
       "      <th>4</th>\n",
       "      <td>0</td>\n",
       "      <td>0</td>\n",
       "      <td>0</td>\n",
       "      <td>0</td>\n",
       "      <td>0</td>\n",
       "      <td>0</td>\n",
       "      <td>0</td>\n",
       "      <td>0</td>\n",
       "      <td>0</td>\n",
       "      <td>0</td>\n",
       "      <td>...</td>\n",
       "      <td>0</td>\n",
       "      <td>0</td>\n",
       "      <td>0</td>\n",
       "      <td>0</td>\n",
       "      <td>1</td>\n",
       "      <td>0</td>\n",
       "      <td>0</td>\n",
       "      <td>0</td>\n",
       "      <td>0</td>\n",
       "      <td>0</td>\n",
       "    </tr>\n",
       "    <tr>\n",
       "      <th>...</th>\n",
       "      <td>...</td>\n",
       "      <td>...</td>\n",
       "      <td>...</td>\n",
       "      <td>...</td>\n",
       "      <td>...</td>\n",
       "      <td>...</td>\n",
       "      <td>...</td>\n",
       "      <td>...</td>\n",
       "      <td>...</td>\n",
       "      <td>...</td>\n",
       "      <td>...</td>\n",
       "      <td>...</td>\n",
       "      <td>...</td>\n",
       "      <td>...</td>\n",
       "      <td>...</td>\n",
       "      <td>...</td>\n",
       "      <td>...</td>\n",
       "      <td>...</td>\n",
       "      <td>...</td>\n",
       "      <td>...</td>\n",
       "      <td>...</td>\n",
       "    </tr>\n",
       "    <tr>\n",
       "      <th>X_test_id_977</th>\n",
       "      <td>0</td>\n",
       "      <td>0</td>\n",
       "      <td>0</td>\n",
       "      <td>0</td>\n",
       "      <td>0</td>\n",
       "      <td>0</td>\n",
       "      <td>0</td>\n",
       "      <td>0</td>\n",
       "      <td>0</td>\n",
       "      <td>0</td>\n",
       "      <td>...</td>\n",
       "      <td>0</td>\n",
       "      <td>0</td>\n",
       "      <td>0</td>\n",
       "      <td>0</td>\n",
       "      <td>0</td>\n",
       "      <td>0</td>\n",
       "      <td>0</td>\n",
       "      <td>0</td>\n",
       "      <td>0</td>\n",
       "      <td>0</td>\n",
       "    </tr>\n",
       "    <tr>\n",
       "      <th>X_test_id_978</th>\n",
       "      <td>0</td>\n",
       "      <td>0</td>\n",
       "      <td>0</td>\n",
       "      <td>0</td>\n",
       "      <td>0</td>\n",
       "      <td>0</td>\n",
       "      <td>0</td>\n",
       "      <td>0</td>\n",
       "      <td>0</td>\n",
       "      <td>0</td>\n",
       "      <td>...</td>\n",
       "      <td>0</td>\n",
       "      <td>0</td>\n",
       "      <td>0</td>\n",
       "      <td>0</td>\n",
       "      <td>0</td>\n",
       "      <td>0</td>\n",
       "      <td>0</td>\n",
       "      <td>0</td>\n",
       "      <td>0</td>\n",
       "      <td>0</td>\n",
       "    </tr>\n",
       "    <tr>\n",
       "      <th>X_test_id_979</th>\n",
       "      <td>0</td>\n",
       "      <td>0</td>\n",
       "      <td>0</td>\n",
       "      <td>0</td>\n",
       "      <td>0</td>\n",
       "      <td>0</td>\n",
       "      <td>0</td>\n",
       "      <td>0</td>\n",
       "      <td>0</td>\n",
       "      <td>0</td>\n",
       "      <td>...</td>\n",
       "      <td>0</td>\n",
       "      <td>0</td>\n",
       "      <td>0</td>\n",
       "      <td>0</td>\n",
       "      <td>0</td>\n",
       "      <td>0</td>\n",
       "      <td>0</td>\n",
       "      <td>0</td>\n",
       "      <td>0</td>\n",
       "      <td>0</td>\n",
       "    </tr>\n",
       "    <tr>\n",
       "      <th>X_test_id_980</th>\n",
       "      <td>0</td>\n",
       "      <td>0</td>\n",
       "      <td>0</td>\n",
       "      <td>0</td>\n",
       "      <td>0</td>\n",
       "      <td>1</td>\n",
       "      <td>0</td>\n",
       "      <td>0</td>\n",
       "      <td>0</td>\n",
       "      <td>0</td>\n",
       "      <td>...</td>\n",
       "      <td>0</td>\n",
       "      <td>0</td>\n",
       "      <td>0</td>\n",
       "      <td>0</td>\n",
       "      <td>0</td>\n",
       "      <td>0</td>\n",
       "      <td>0</td>\n",
       "      <td>0</td>\n",
       "      <td>0</td>\n",
       "      <td>0</td>\n",
       "    </tr>\n",
       "    <tr>\n",
       "      <th>X_test_id_981</th>\n",
       "      <td>0</td>\n",
       "      <td>0</td>\n",
       "      <td>0</td>\n",
       "      <td>0</td>\n",
       "      <td>0</td>\n",
       "      <td>0</td>\n",
       "      <td>0</td>\n",
       "      <td>0</td>\n",
       "      <td>0</td>\n",
       "      <td>0</td>\n",
       "      <td>...</td>\n",
       "      <td>0</td>\n",
       "      <td>0</td>\n",
       "      <td>0</td>\n",
       "      <td>0</td>\n",
       "      <td>0</td>\n",
       "      <td>0</td>\n",
       "      <td>0</td>\n",
       "      <td>0</td>\n",
       "      <td>0</td>\n",
       "      <td>0</td>\n",
       "    </tr>\n",
       "  </tbody>\n",
       "</table>\n",
       "<p>9841 rows × 3759 columns</p>\n",
       "</div>"
      ],
      "text/plain": [
       "               1950  1950s  1970  1971  2009  2010  4way  abandon  ability  \\\n",
       "0                 0      0     0     0     0     0     0        0        0   \n",
       "1                 0      0     0     0     0     0     0        0        0   \n",
       "2                 0      0     0     0     0     0     0        0        0   \n",
       "3                 0      0     0     0     0     0     0        0        0   \n",
       "4                 0      0     0     0     0     0     0        0        0   \n",
       "...             ...    ...   ...   ...   ...   ...   ...      ...      ...   \n",
       "X_test_id_977     0      0     0     0     0     0     0        0        0   \n",
       "X_test_id_978     0      0     0     0     0     0     0        0        0   \n",
       "X_test_id_979     0      0     0     0     0     0     0        0        0   \n",
       "X_test_id_980     0      0     0     0     0     1     0        0        0   \n",
       "X_test_id_981     0      0     0     0     0     0     0        0        0   \n",
       "\n",
       "               ablaze  ...  young  younger  youre  youth  zebra  zigzag  zip  \\\n",
       "0                   0  ...      0        0      0      0      0       0    0   \n",
       "1                   0  ...      0        0      0      0      0       0    0   \n",
       "2                   0  ...      0        0      0      0      0       0    0   \n",
       "3                   0  ...      0        0      0      0      0       0    0   \n",
       "4                   0  ...      0        0      0      0      1       0    0   \n",
       "...               ...  ...    ...      ...    ...    ...    ...     ...  ...   \n",
       "X_test_id_977       0  ...      0        0      0      0      0       0    0   \n",
       "X_test_id_978       0  ...      0        0      0      0      0       0    0   \n",
       "X_test_id_979       0  ...      0        0      0      0      0       0    0   \n",
       "X_test_id_980       0  ...      0        0      0      0      0       0    0   \n",
       "X_test_id_981       0  ...      0        0      0      0      0       0    0   \n",
       "\n",
       "               zombie  zoo  zoom  \n",
       "0                   0    0     0  \n",
       "1                   0    0     0  \n",
       "2                   0    0     0  \n",
       "3                   0    0     0  \n",
       "4                   0    0     0  \n",
       "...               ...  ...   ...  \n",
       "X_test_id_977       0    0     0  \n",
       "X_test_id_978       0    0     0  \n",
       "X_test_id_979       0    0     0  \n",
       "X_test_id_980       0    0     0  \n",
       "X_test_id_981       0    0     0  \n",
       "\n",
       "[9841 rows x 3759 columns]"
      ]
     },
     "execution_count": 5,
     "metadata": {},
     "output_type": "execute_result"
    }
   ],
   "source": [
    "y_dataframe"
   ]
  },
  {
   "cell_type": "code",
   "execution_count": 6,
   "id": "243792fd",
   "metadata": {},
   "outputs": [],
   "source": [
    "y_train = y_dataframe.iloc[0:8859].to_numpy()"
   ]
  },
  {
   "cell_type": "code",
   "execution_count": 7,
   "id": "3d5bf4ac",
   "metadata": {},
   "outputs": [],
   "source": [
    "y_test = y_dataframe.iloc[8859:9842].to_numpy()"
   ]
  },
  {
   "cell_type": "code",
   "execution_count": 8,
   "id": "41ddc833",
   "metadata": {},
   "outputs": [
    {
     "data": {
      "text/plain": [
       "(8859, 3759)"
      ]
     },
     "execution_count": 8,
     "metadata": {},
     "output_type": "execute_result"
    }
   ],
   "source": [
    "y_train.shape"
   ]
  },
  {
   "cell_type": "code",
   "execution_count": 9,
   "id": "175db505",
   "metadata": {},
   "outputs": [
    {
     "data": {
      "text/plain": [
       "(982, 3759)"
      ]
     },
     "execution_count": 9,
     "metadata": {},
     "output_type": "execute_result"
    }
   ],
   "source": [
    "y_test.shape"
   ]
  },
  {
   "cell_type": "markdown",
   "id": "6ec89e22",
   "metadata": {},
   "source": [
    "## X_train and X_test"
   ]
  },
  {
   "cell_type": "code",
   "execution_count": 10,
   "id": "174d738e",
   "metadata": {},
   "outputs": [],
   "source": [
    "X_train = np.load('../raw_data/nsd_train_fmriavg_nsdgeneral_sub1.npy')"
   ]
  },
  {
   "cell_type": "code",
   "execution_count": 11,
   "id": "97fd3fa4",
   "metadata": {},
   "outputs": [],
   "source": [
    "X_test = np.load('../raw_data/nsd_test_fmriavg_nsdgeneral_sub1.npy')"
   ]
  },
  {
   "cell_type": "code",
   "execution_count": 12,
   "id": "00942fbe",
   "metadata": {},
   "outputs": [
    {
     "data": {
      "text/plain": [
       "array([-208.66667175,   10.33333302,  222.        , ...,  508.        ,\n",
       "       1158.        ,  771.66668701])"
      ]
     },
     "execution_count": 12,
     "metadata": {},
     "output_type": "execute_result"
    }
   ],
   "source": [
    "X_train[0]"
   ]
  },
  {
   "cell_type": "code",
   "execution_count": 13,
   "id": "a8bb34ea",
   "metadata": {},
   "outputs": [
    {
     "data": {
      "text/plain": [
       "(8859, 15724)"
      ]
     },
     "execution_count": 13,
     "metadata": {},
     "output_type": "execute_result"
    }
   ],
   "source": [
    "X_train.shape"
   ]
  },
  {
   "cell_type": "code",
   "execution_count": 14,
   "id": "8bfe7b8e",
   "metadata": {},
   "outputs": [
    {
     "data": {
      "text/plain": [
       "(982, 15724)"
      ]
     },
     "execution_count": 14,
     "metadata": {},
     "output_type": "execute_result"
    }
   ],
   "source": [
    "X_test.shape"
   ]
  },
  {
   "cell_type": "code",
   "execution_count": 15,
   "id": "15cbc251",
   "metadata": {},
   "outputs": [],
   "source": [
    "scaler = RobustScaler()\n",
    "\n",
    "X_train_scaled = scaler.fit_transform(X_train)\n",
    "X_test_scaled = scaler.transform(X_test)"
   ]
  },
  {
   "cell_type": "markdown",
   "id": "b185a6dc",
   "metadata": {},
   "source": [
    "## Modelling"
   ]
  },
  {
   "cell_type": "code",
   "execution_count": 16,
   "id": "cde18511",
   "metadata": {},
   "outputs": [],
   "source": [
    "\n",
    "model = models.Sequential()\n",
    "\n",
    "model = Sequential([layers.Dense(100, input_shape = (15724,), activation = \"relu\"),\n",
    "                  layers.Dense(100, activation = \"relu\"),\n",
    "                    layers.Dropout(0.4),\n",
    "                  layers.Dense(200, activation = \"relu\"),\n",
    "                    layers.Dropout(0.4),\n",
    "                  layers.Dense(500, activation = \"relu\"),\n",
    "                    layers.Dropout(0.4),\n",
    "                    layers.Dense(5000, activation = \"relu\"),\n",
    "                    layers.Dropout(0.4),\n",
    "                    layers.Dense(1000, activation = \"relu\"),\n",
    "                    layers.Dropout(0.4),\n",
    "                     layers.Dense(2000, activation = \"relu\"),\n",
    "                    layers.Dropout(0.4),\n",
    "                  layers.Dense(800, activation = \"relu\"),\n",
    "                    layers.Dropout(0.4),\n",
    "                    layers.Dense(5000, activation = \"relu\"),\n",
    "                    layers.Dropout(0.4),\n",
    "                    layers.Dense(1000, activation = \"relu\"),\n",
    "                    layers.Dropout(0.4),\n",
    "                     layers.Dense(900, activation = \"relu\"),\n",
    "                    layers.Dropout(0.4),\n",
    "                  layers.Dense(1000, activation = \"relu\"),\n",
    "                    layers.Dropout(0.4),\n",
    "                    layers.Dense(5000, activation = \"relu\"),\n",
    "                    layers.Dropout(0.4),\n",
    "                    layers.Dense(1000, activation = \"relu\"),\n",
    "                    layers.Dropout(0.4),\n",
    "                    layers.Dense(2000, activation = \"relu\"),\n",
    "                  layers.Dense(3759, activation = \"sigmoid\")])\n",
    "\n",
    "\n",
    "# model.add(layers.Dense(2637, activation='sigmoid'))"
   ]
  },
  {
   "cell_type": "code",
   "execution_count": 17,
   "id": "570ae6d5",
   "metadata": {},
   "outputs": [],
   "source": [
    "model.compile(optimizer='adam',\n",
    "    loss='binary_crossentropy',\n",
    "             metrics = ['accuracy'])"
   ]
  },
  {
   "cell_type": "code",
   "execution_count": 18,
   "id": "79b487c0",
   "metadata": {},
   "outputs": [
    {
     "name": "stdout",
     "output_type": "stream",
     "text": [
      "Epoch 1/30\n",
      "250/250 [==============================] - 20s 77ms/step - loss: 0.0214 - accuracy: 0.0014 - val_loss: 0.0104 - val_accuracy: 0.0000e+00\n",
      "Epoch 2/30\n",
      "250/250 [==============================] - 18s 72ms/step - loss: 0.0105 - accuracy: 0.0020 - val_loss: 0.0105 - val_accuracy: 0.0000e+00\n",
      "Epoch 3/30\n",
      "250/250 [==============================] - 18s 73ms/step - loss: 0.0105 - accuracy: 0.0019 - val_loss: 0.0103 - val_accuracy: 0.0000e+00\n",
      "Epoch 4/30\n",
      "250/250 [==============================] - 18s 72ms/step - loss: 0.0105 - accuracy: 0.0013 - val_loss: 0.0103 - val_accuracy: 0.0090\n",
      "Epoch 5/30\n",
      "250/250 [==============================] - 18s 73ms/step - loss: 0.0104 - accuracy: 0.0028 - val_loss: 0.0103 - val_accuracy: 0.0090\n",
      "Epoch 6/30\n",
      "250/250 [==============================] - 18s 73ms/step - loss: 0.0104 - accuracy: 0.0016 - val_loss: 0.0103 - val_accuracy: 0.0000e+00\n",
      "Epoch 7/30\n",
      "250/250 [==============================] - 18s 73ms/step - loss: 0.0104 - accuracy: 8.7796e-04 - val_loss: 0.0103 - val_accuracy: 0.0000e+00\n",
      "Epoch 8/30\n",
      "250/250 [==============================] - 18s 73ms/step - loss: 0.0104 - accuracy: 0.0016 - val_loss: 0.0102 - val_accuracy: 0.0090\n",
      "Epoch 9/30\n",
      "250/250 [==============================] - 18s 73ms/step - loss: 0.0104 - accuracy: 0.0021 - val_loss: 0.0103 - val_accuracy: 0.0090\n",
      "Epoch 10/30\n",
      "250/250 [==============================] - 18s 73ms/step - loss: 0.0103 - accuracy: 0.0030 - val_loss: 0.0102 - val_accuracy: 0.0000e+00\n",
      "Epoch 11/30\n",
      "250/250 [==============================] - 18s 73ms/step - loss: 0.0103 - accuracy: 0.0021 - val_loss: 0.0103 - val_accuracy: 0.0000e+00\n",
      "Epoch 12/30\n",
      "250/250 [==============================] - 18s 74ms/step - loss: 0.0103 - accuracy: 0.0018 - val_loss: 0.0103 - val_accuracy: 0.0090\n",
      "Epoch 13/30\n",
      "250/250 [==============================] - 19s 75ms/step - loss: 0.0103 - accuracy: 0.0018 - val_loss: 0.0102 - val_accuracy: 0.0000e+00\n",
      "Epoch 14/30\n",
      "250/250 [==============================] - 20s 80ms/step - loss: 0.0103 - accuracy: 0.0021 - val_loss: 0.0102 - val_accuracy: 0.0000e+00\n",
      "Epoch 15/30\n",
      "250/250 [==============================] - 18s 73ms/step - loss: 0.0103 - accuracy: 0.0019 - val_loss: 0.0102 - val_accuracy: 0.0000e+00\n",
      "Epoch 16/30\n",
      "250/250 [==============================] - 18s 74ms/step - loss: 0.0103 - accuracy: 0.0025 - val_loss: 0.0102 - val_accuracy: 0.0000e+00\n",
      "Epoch 17/30\n",
      "250/250 [==============================] - 18s 73ms/step - loss: 0.0103 - accuracy: 0.0030 - val_loss: 0.0102 - val_accuracy: 0.0000e+00\n",
      "Epoch 18/30\n",
      "250/250 [==============================] - 18s 74ms/step - loss: 0.0103 - accuracy: 0.0015 - val_loss: 0.0103 - val_accuracy: 0.0090\n",
      "Epoch 19/30\n",
      "250/250 [==============================] - 19s 74ms/step - loss: 0.0103 - accuracy: 0.0019 - val_loss: 0.0103 - val_accuracy: 0.0000e+00\n",
      "Epoch 20/30\n",
      "250/250 [==============================] - 19s 75ms/step - loss: 0.0102 - accuracy: 0.0059 - val_loss: 0.0100 - val_accuracy: 0.0056\n",
      "Epoch 21/30\n",
      "250/250 [==============================] - 18s 74ms/step - loss: 0.0100 - accuracy: 0.0051 - val_loss: 0.0099 - val_accuracy: 0.0068\n",
      "Epoch 22/30\n",
      "250/250 [==============================] - 19s 74ms/step - loss: 0.0099 - accuracy: 0.0059 - val_loss: 0.0099 - val_accuracy: 0.0000e+00\n",
      "Epoch 23/30\n",
      "250/250 [==============================] - 19s 75ms/step - loss: 0.0098 - accuracy: 0.0063 - val_loss: 0.0098 - val_accuracy: 0.0056\n",
      "Epoch 24/30\n",
      "250/250 [==============================] - 19s 76ms/step - loss: 0.0098 - accuracy: 0.0060 - val_loss: 0.0099 - val_accuracy: 0.0011\n",
      "Epoch 25/30\n",
      "250/250 [==============================] - 19s 77ms/step - loss: 0.0098 - accuracy: 0.0058 - val_loss: 0.0099 - val_accuracy: 0.0000e+00\n",
      "Epoch 26/30\n",
      "250/250 [==============================] - 19s 77ms/step - loss: 0.0097 - accuracy: 0.0079 - val_loss: 0.0098 - val_accuracy: 0.0045\n",
      "Epoch 27/30\n",
      "250/250 [==============================] - 20s 78ms/step - loss: 0.0097 - accuracy: 0.0061 - val_loss: 0.0098 - val_accuracy: 0.0079\n",
      "Epoch 28/30\n",
      "250/250 [==============================] - 20s 78ms/step - loss: 0.0097 - accuracy: 0.0079 - val_loss: 0.0099 - val_accuracy: 0.0000e+00\n",
      "Epoch 29/30\n",
      "250/250 [==============================] - 20s 78ms/step - loss: 0.0097 - accuracy: 0.0080 - val_loss: 0.0099 - val_accuracy: 0.0068\n",
      "Epoch 30/30\n",
      "250/250 [==============================] - 19s 77ms/step - loss: 0.0097 - accuracy: 0.0070 - val_loss: 0.0099 - val_accuracy: 0.0023\n"
     ]
    }
   ],
   "source": [
    "history = model.fit(X_train_scaled,\n",
    "                    y_train, \n",
    "                    validation_split = 0.1,\n",
    "                    batch_size = 32,\n",
    "                    epochs=30)"
   ]
  },
  {
   "cell_type": "code",
   "execution_count": 19,
   "id": "496b8582",
   "metadata": {},
   "outputs": [],
   "source": [
    "# answer = model.predict(X_train_scaled[10].reshape(1,-1))"
   ]
  },
  {
   "cell_type": "code",
   "execution_count": 20,
   "id": "2c7c2d5a",
   "metadata": {},
   "outputs": [],
   "source": [
    "# answer[answer>0.1]"
   ]
  },
  {
   "cell_type": "code",
   "execution_count": 21,
   "id": "561c5c76",
   "metadata": {},
   "outputs": [],
   "source": [
    "# answer_idxs = np.argpartition(answer[0],-4)[-4:]"
   ]
  },
  {
   "cell_type": "code",
   "execution_count": 22,
   "id": "c72ac287",
   "metadata": {},
   "outputs": [],
   "source": [
    "# answer_idxs"
   ]
  },
  {
   "cell_type": "code",
   "execution_count": 23,
   "id": "98722868",
   "metadata": {},
   "outputs": [],
   "source": [
    "# y_dataframe"
   ]
  },
  {
   "cell_type": "code",
   "execution_count": 32,
   "id": "96ea5d3c",
   "metadata": {},
   "outputs": [],
   "source": [
    "labels = y_dataframe.columns[0:]"
   ]
  },
  {
   "cell_type": "code",
   "execution_count": 33,
   "id": "9df7353c",
   "metadata": {},
   "outputs": [
    {
     "data": {
      "text/plain": [
       "Index(['1950', '1950s', '1970', '1971', '2009', '2010', '4way', 'abandon',\n",
       "       'ability', 'ablaze',\n",
       "       ...\n",
       "       'young', 'younger', 'youre', 'youth', 'zebra', 'zigzag', 'zip',\n",
       "       'zombie', 'zoo', 'zoom'],\n",
       "      dtype='object', length=3759)"
      ]
     },
     "execution_count": 33,
     "metadata": {},
     "output_type": "execute_result"
    }
   ],
   "source": [
    "labels"
   ]
  },
  {
   "cell_type": "code",
   "execution_count": 26,
   "id": "eb854ba7",
   "metadata": {},
   "outputs": [],
   "source": [
    "# labels[answer_idxs]"
   ]
  },
  {
   "cell_type": "code",
   "execution_count": 39,
   "id": "03d1b0bf",
   "metadata": {},
   "outputs": [
    {
     "name": "stdout",
     "output_type": "stream",
     "text": [
      "1/1 [==============================] - 0s 18ms/step\n"
     ]
    }
   ],
   "source": [
    "test_answer = model.predict(X_test_scaled[800].reshape(1,-1))"
   ]
  },
  {
   "cell_type": "code",
   "execution_count": 40,
   "id": "74c69375",
   "metadata": {},
   "outputs": [
    {
     "data": {
      "text/plain": [
       "array([[5.0800958e-05, 2.1925445e-04, 6.8525645e-05, ..., 6.7792484e-05,\n",
       "        6.1545690e-04, 1.9322995e-04]], dtype=float32)"
      ]
     },
     "execution_count": 40,
     "metadata": {},
     "output_type": "execute_result"
    }
   ],
   "source": [
    "test_answer"
   ]
  },
  {
   "cell_type": "code",
   "execution_count": 41,
   "id": "8a2e2fe1",
   "metadata": {},
   "outputs": [],
   "source": [
    "test_answer_idxs = np.argpartition(test_answer[0],-4)[-4:]"
   ]
  },
  {
   "cell_type": "code",
   "execution_count": 42,
   "id": "57c42ed2",
   "metadata": {},
   "outputs": [
    {
     "data": {
      "text/plain": [
       "array([3167, 2161, 3670, 2940])"
      ]
     },
     "execution_count": 42,
     "metadata": {},
     "output_type": "execute_result"
    }
   ],
   "source": [
    "test_answer_idxs"
   ]
  },
  {
   "cell_type": "code",
   "execution_count": 43,
   "id": "322fe0fb",
   "metadata": {},
   "outputs": [
    {
     "data": {
      "text/plain": [
       "Index(['street', 'next', 'white', 'sit'], dtype='object')"
      ]
     },
     "execution_count": 43,
     "metadata": {},
     "output_type": "execute_result"
    }
   ],
   "source": [
    "labels[test_answer_idxs]"
   ]
  },
  {
   "cell_type": "code",
   "execution_count": null,
   "id": "54a0e398",
   "metadata": {},
   "outputs": [],
   "source": []
  }
 ],
 "metadata": {
  "kernelspec": {
   "display_name": "Python 3 (ipykernel)",
   "language": "python",
   "name": "python3"
  },
  "language_info": {
   "codemirror_mode": {
    "name": "ipython",
    "version": 3
   },
   "file_extension": ".py",
   "mimetype": "text/x-python",
   "name": "python",
   "nbconvert_exporter": "python",
   "pygments_lexer": "ipython3",
   "version": "3.10.6"
  },
  "toc": {
   "base_numbering": 1,
   "nav_menu": {},
   "number_sections": true,
   "sideBar": true,
   "skip_h1_title": false,
   "title_cell": "Table of Contents",
   "title_sidebar": "Contents",
   "toc_cell": false,
   "toc_position": {},
   "toc_section_display": true,
   "toc_window_display": false
  }
 },
 "nbformat": 4,
 "nbformat_minor": 5
}
