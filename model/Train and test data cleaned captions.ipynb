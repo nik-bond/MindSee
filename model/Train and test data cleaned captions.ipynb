{
 "cells": [
  {
   "cell_type": "code",
   "execution_count": 2,
   "id": "f2d39ddd",
   "metadata": {},
   "outputs": [],
   "source": [
    "import numpy as np\n",
    "from tqdm import tqdm\n",
    "import requests\n",
    "import os"
   ]
  },
  {
   "cell_type": "code",
   "execution_count": 4,
   "id": "426fa835",
   "metadata": {},
   "outputs": [
    {
     "ename": "FileNotFoundError",
     "evalue": "[Errno 2] No such file or directory: '../data/nsd_train_fmriavg_nsdgeneral_sub1.npy'",
     "output_type": "error",
     "traceback": [
      "\u001b[0;31m---------------------------------------------------------------------------\u001b[0m",
      "\u001b[0;31mFileNotFoundError\u001b[0m                         Traceback (most recent call last)",
      "Cell \u001b[0;32mIn[4], line 2\u001b[0m\n\u001b[1;32m      1\u001b[0m nsd_train_cap_sub1 \u001b[38;5;241m=\u001b[39m np\u001b[38;5;241m.\u001b[39mload(\u001b[38;5;124m'\u001b[39m\u001b[38;5;124m../data/nsd_train_cap_sub1.npy\u001b[39m\u001b[38;5;124m'\u001b[39m, allow_pickle\u001b[38;5;241m=\u001b[39m\u001b[38;5;28;01mTrue\u001b[39;00m)\n\u001b[0;32m----> 2\u001b[0m nsd_train_fmriavg_nsdgeneral_sub1 \u001b[38;5;241m=\u001b[39m \u001b[43mnp\u001b[49m\u001b[38;5;241;43m.\u001b[39;49m\u001b[43mload\u001b[49m\u001b[43m(\u001b[49m\u001b[38;5;124;43m'\u001b[39;49m\u001b[38;5;124;43m../data/nsd_train_fmriavg_nsdgeneral_sub1.npy\u001b[39;49m\u001b[38;5;124;43m'\u001b[39;49m\u001b[43m,\u001b[49m\u001b[43m \u001b[49m\u001b[43mallow_pickle\u001b[49m\u001b[38;5;241;43m=\u001b[39;49m\u001b[38;5;28;43;01mTrue\u001b[39;49;00m\u001b[43m)\u001b[49m\n\u001b[1;32m      3\u001b[0m nsd_test_cap_sub1 \u001b[38;5;241m=\u001b[39m np\u001b[38;5;241m.\u001b[39mload(\u001b[38;5;124m'\u001b[39m\u001b[38;5;124m../data/nsd_test_cap_sub1.npy\u001b[39m\u001b[38;5;124m'\u001b[39m, allow_pickle\u001b[38;5;241m=\u001b[39m\u001b[38;5;28;01mTrue\u001b[39;00m)\n\u001b[1;32m      4\u001b[0m nsd_test_fmriavg_nsdgeneral_sub1 \u001b[38;5;241m=\u001b[39m np\u001b[38;5;241m.\u001b[39mload(\u001b[38;5;124m'\u001b[39m\u001b[38;5;124m../data/nsd_test_fmriavg_nsdgeneral_sub1.npy\u001b[39m\u001b[38;5;124m'\u001b[39m, allow_pickle\u001b[38;5;241m=\u001b[39m\u001b[38;5;28;01mTrue\u001b[39;00m)\n",
      "File \u001b[0;32m~/.pyenv/versions/lewagon/envs/MindSee/lib/python3.10/site-packages/numpy/lib/npyio.py:405\u001b[0m, in \u001b[0;36mload\u001b[0;34m(file, mmap_mode, allow_pickle, fix_imports, encoding, max_header_size)\u001b[0m\n\u001b[1;32m    403\u001b[0m     own_fid \u001b[38;5;241m=\u001b[39m \u001b[38;5;28;01mFalse\u001b[39;00m\n\u001b[1;32m    404\u001b[0m \u001b[38;5;28;01melse\u001b[39;00m:\n\u001b[0;32m--> 405\u001b[0m     fid \u001b[38;5;241m=\u001b[39m stack\u001b[38;5;241m.\u001b[39menter_context(\u001b[38;5;28;43mopen\u001b[39;49m\u001b[43m(\u001b[49m\u001b[43mos_fspath\u001b[49m\u001b[43m(\u001b[49m\u001b[43mfile\u001b[49m\u001b[43m)\u001b[49m\u001b[43m,\u001b[49m\u001b[43m \u001b[49m\u001b[38;5;124;43m\"\u001b[39;49m\u001b[38;5;124;43mrb\u001b[39;49m\u001b[38;5;124;43m\"\u001b[39;49m\u001b[43m)\u001b[49m)\n\u001b[1;32m    406\u001b[0m     own_fid \u001b[38;5;241m=\u001b[39m \u001b[38;5;28;01mTrue\u001b[39;00m\n\u001b[1;32m    408\u001b[0m \u001b[38;5;66;03m# Code to distinguish from NumPy binary files and pickles.\u001b[39;00m\n",
      "\u001b[0;31mFileNotFoundError\u001b[0m: [Errno 2] No such file or directory: '../data/nsd_train_fmriavg_nsdgeneral_sub1.npy'"
     ]
    }
   ],
   "source": [
    "nsd_train_cap_sub1 = np.load('../data/nsd_train_cap_sub1.npy', allow_pickle=True)\n",
    "nsd_train_fmriavg_nsdgeneral_sub1 = np.load('../data/nsd_train_fmriavg_nsdgeneral_sub1.npy', allow_pickle=True)\n",
    "nsd_test_cap_sub1 = np.load('../data/nsd_test_cap_sub1.npy', allow_pickle=True)\n",
    "nsd_test_fmriavg_nsdgeneral_sub1 = np.load('../data/nsd_test_fmriavg_nsdgeneral_sub1.npy', allow_pickle=True)"
   ]
  },
  {
   "cell_type": "code",
   "execution_count": 3,
   "id": "c0cd6017",
   "metadata": {},
   "outputs": [],
   "source": [
    "nsd_train_cap_sub1"
   ]
  },
  {
   "cell_type": "code",
   "execution_count": 4,
   "id": "906c3866",
   "metadata": {},
   "outputs": [],
   "source": [
    "nsd_train_cap_sub1[1][1]"
   ]
  },
  {
   "cell_type": "code",
   "execution_count": 5,
   "id": "a04ea515",
   "metadata": {},
   "outputs": [],
   "source": [
    "len(nsd_train_cap_sub1[0])"
   ]
  },
  {
   "cell_type": "code",
   "execution_count": 6,
   "id": "33a4dc4b",
   "metadata": {},
   "outputs": [],
   "source": [
    "nsd_train_cap_sub1.shape"
   ]
  },
  {
   "cell_type": "code",
   "execution_count": null,
   "id": "bb546f01",
   "metadata": {},
   "outputs": [],
   "source": [
    "train_cap_sub1 = nsd_train_cap_sub1.tolist()"
   ]
  },
  {
   "cell_type": "code",
   "execution_count": null,
   "id": "bc5104f0",
   "metadata": {},
   "outputs": [],
   "source": [
    "train_cap_sub1"
   ]
  },
  {
   "cell_type": "code",
   "execution_count": null,
   "id": "3ef72b31",
   "metadata": {},
   "outputs": [],
   "source": [
    "len(train_cap_sub1)"
   ]
  },
  {
   "cell_type": "code",
   "execution_count": null,
   "id": "a0e03abe",
   "metadata": {},
   "outputs": [],
   "source": [
    "train_concat_captions = []\n",
    "\n",
    "for i in train_cap_sub1:\n",
    "        concat = i[0] + ' ' + i[1] + ' ' + i[2] + ' ' + i[3] + ' ' + i[4]\n",
    "        train_concat_captions.append(concat)"
   ]
  },
  {
   "cell_type": "code",
   "execution_count": null,
   "id": "7587d062",
   "metadata": {},
   "outputs": [],
   "source": [
    "train_concat_captions"
   ]
  },
  {
   "cell_type": "code",
   "execution_count": null,
   "id": "aca91117",
   "metadata": {},
   "outputs": [],
   "source": [
    "train_concat_captions[0]"
   ]
  },
  {
   "cell_type": "code",
   "execution_count": null,
   "id": "14326f5a",
   "metadata": {},
   "outputs": [],
   "source": [
    "train_concat_captions[1]"
   ]
  },
  {
   "cell_type": "code",
   "execution_count": null,
   "id": "291c06f9",
   "metadata": {},
   "outputs": [],
   "source": [
    "len(train_concat_captions)"
   ]
  },
  {
   "cell_type": "code",
   "execution_count": null,
   "id": "72067bc6",
   "metadata": {},
   "outputs": [],
   "source": [
    "comparison_test = train_concat_captions[0:10]"
   ]
  },
  {
   "cell_type": "code",
   "execution_count": null,
   "id": "be00fb7e",
   "metadata": {},
   "outputs": [],
   "source": [
    "comparison_test"
   ]
  },
  {
   "cell_type": "code",
   "execution_count": null,
   "id": "a3d96d4f",
   "metadata": {},
   "outputs": [],
   "source": [
    "%store comparison_test"
   ]
  },
  {
   "cell_type": "code",
   "execution_count": null,
   "id": "e74a6ce2",
   "metadata": {},
   "outputs": [],
   "source": [
    "api_key = os.getenv('CHAT_GPT_API_KEY')"
   ]
  },
  {
   "cell_type": "code",
   "execution_count": null,
   "id": "f97fe88a",
   "metadata": {},
   "outputs": [],
   "source": [
    "def chatGPT(text):\n",
    "    url = \"https://api.openai.com/v1/completions\"\n",
    "    headers = {\n",
    "    \"Content-Type\": \"application/json\",\n",
    "    \"Authorization\":f'Bearer {api_key}',\n",
    "    }\n",
    "    data = { \n",
    "    \"model\": \"text-ada-001\",\n",
    "    \"prompt\": text,\n",
    "    \"max_tokens\": 100,\n",
    "    \"temperature\": 0.8,\n",
    "    }\n",
    "    response = requests.post(url, headers=headers, json=data)\n",
    "    output = response.json()\n",
    "\n",
    "    return output"
   ]
  },
  {
   "cell_type": "code",
   "execution_count": null,
   "id": "c5e943b4",
   "metadata": {},
   "outputs": [],
   "source": [
    "!touch first_list.txt\n",
    "!touch second_list.txt\n",
    "!touch third_list.txt\n",
    "!touch fourth_list.txt"
   ]
  },
  {
   "cell_type": "code",
   "execution_count": null,
   "id": "c1eaafc3",
   "metadata": {},
   "outputs": [],
   "source": [
    "first_list = train_concat_captions[0:2216]\n",
    "second_list = train_concat_captions[2216:4430]\n",
    "third_list = train_concat_captions[4430:6645]\n",
    "fourth_list = train_concat_captions[6645:8860]"
   ]
  },
  {
   "cell_type": "code",
   "execution_count": null,
   "id": "96ca638c",
   "metadata": {},
   "outputs": [],
   "source": [
    "print(len(first_list))\n",
    "print(len(second_list))\n",
    "print(len(third_list))\n",
    "print(len(fourth_list))"
   ]
  },
  {
   "cell_type": "code",
   "execution_count": null,
   "id": "573ad91a",
   "metadata": {},
   "outputs": [],
   "source": [
    "first_list[0]"
   ]
  },
  {
   "cell_type": "code",
   "execution_count": null,
   "id": "9638093a",
   "metadata": {},
   "outputs": [],
   "source": [
    "response = chatGPT(f\"\"\"\n",
    "In the words contained in the parenthesis, return five simple common words the capture the most information:\n",
    "    ({first_list[0]})\n",
    "\"\"\")\n"
   ]
  },
  {
   "cell_type": "code",
   "execution_count": null,
   "id": "e2193f23",
   "metadata": {},
   "outputs": [],
   "source": [
    "response"
   ]
  },
  {
   "cell_type": "code",
   "execution_count": null,
   "id": "b76db819",
   "metadata": {},
   "outputs": [],
   "source": [
    "response['choices'][0]['text']"
   ]
  },
  {
   "cell_type": "code",
   "execution_count": null,
   "id": "41f1d988",
   "metadata": {},
   "outputs": [],
   "source": [
    "import time"
   ]
  },
  {
   "cell_type": "code",
   "execution_count": null,
   "id": "e97de2ca",
   "metadata": {},
   "outputs": [],
   "source": [
    "df=open('first_list.txt','w')\n",
    "\n",
    "for caption in tqdm(first_list):\n",
    "    \n",
    "    if len(caption.split()) > 100:\n",
    "            response = chatGPT(f\"\"\"\n",
    "In the words contained in the parenthesis, return five simple common words that capture the most information:\n",
    "    ({caption.split()[:100]})\n",
    "\"\"\")\n",
    "    else:\n",
    "            response = chatGPT(f\"\"\"\n",
    "In the words contained in the parenthesis, return five simple common words that capture the most information:\n",
    "    ({caption})\n",
    "\"\"\")\n",
    "        \n",
    "    \n",
    "    words = response['choices'][0]['text']\n",
    "    df.write(words)\n",
    "    df.write('\\n')\n",
    "        \n",
    "\n",
    "df.close()"
   ]
  },
  {
   "cell_type": "code",
   "execution_count": null,
   "id": "291e35e8",
   "metadata": {},
   "outputs": [],
   "source": [
    "response2 = chatGPT(f\"\"\"\n",
    "In the words contained in the parenthesis, return five simple common words the capture the most information:\n",
    "    ({first_list[5]})\n",
    "\"\"\")\n"
   ]
  },
  {
   "cell_type": "code",
   "execution_count": null,
   "id": "e6829ae7",
   "metadata": {},
   "outputs": [],
   "source": [
    "response2"
   ]
  },
  {
   "cell_type": "code",
   "execution_count": null,
   "id": "5300e79a",
   "metadata": {},
   "outputs": [],
   "source": [
    "response2['choices'][0]['text']"
   ]
  },
  {
   "cell_type": "code",
   "execution_count": null,
   "id": "96a915c7",
   "metadata": {},
   "outputs": [],
   "source": []
  },
  {
   "cell_type": "code",
   "execution_count": null,
   "id": "66d3dc62",
   "metadata": {},
   "outputs": [],
   "source": [
    "df_2=open('second_list.txt','w')\n",
    "\n",
    "for caption in tqdm(second_list):\n",
    "        if len(caption) > 100:\n",
    "            response = chatGPT(f\"\"\"\n",
    "In the words contained in the parenthesis, return five simple common words the capture the most information:\n",
    "    ({caption[:100]})\n",
    "\"\"\")\n",
    "        else:\n",
    "            response = chatGPT(f\"\"\"\n",
    "In the words contained in the parenthesis, return five simple common words the capture the most information:\n",
    "    ({caption})\n",
    "\"\"\")\n",
    "        \n",
    "    \n",
    "        words = response['choices'][0]['text']\n",
    "        df_2.write(words)\n",
    "        df_2.write('\\n')\n",
    "        \n",
    "\n",
    "df_2.close()"
   ]
  },
  {
   "cell_type": "code",
   "execution_count": null,
   "id": "4f5eb614",
   "metadata": {},
   "outputs": [],
   "source": [
    "df_3=open('third_list.txt','w')\n",
    "\n",
    "for caption in tqdm(third_list):\n",
    "        if len(caption) > 100:\n",
    "            response = chatGPT(f\"\"\"\n",
    "In the words contained in the parenthesis, return five simple common words the capture the most information:\n",
    "    ({caption[:100]})\n",
    "\"\"\")\n",
    "        else:\n",
    "            response = chatGPT(f\"\"\"\n",
    "In the words contained in the parenthesis, return five simple common words the capture the most information:\n",
    "    ({caption})\n",
    "\"\"\")\n",
    "        print(response)\n",
    "    \n",
    "        words = response['choices'][0]['text']\n",
    "        df_3.write(words)\n",
    "        df_3.write('\\n')\n",
    "        \n",
    "\n",
    "df_3.close()"
   ]
  },
  {
   "cell_type": "code",
   "execution_count": null,
   "id": "78961aff",
   "metadata": {},
   "outputs": [],
   "source": [
    "df_4=open('fourth_list.txt','w')\n",
    "\n",
    "for caption in tqdm(fourth_list):\n",
    "        if len(caption) > 100:\n",
    "            response = chatGPT(f\"\"\"\n",
    "In the words contained in the parenthesis, return five simple common words the capture the most information:\n",
    "    ({caption[:100]})\n",
    "\"\"\")\n",
    "        else:\n",
    "            response = chatGPT(f\"\"\"\n",
    "In the words contained in the parenthesis, return five simple common words the capture the most information:\n",
    "    ({caption})\n",
    "\"\"\")\n",
    "        print(response)\n",
    "    \n",
    "        words = response['choices'][0]['text']\n",
    "        df_4.write(words)\n",
    "        df_4.write('\\n')\n",
    "        \n",
    "\n",
    "df_4.close()"
   ]
  },
  {
   "cell_type": "code",
   "execution_count": null,
   "id": "3575213c",
   "metadata": {},
   "outputs": [],
   "source": []
  },
  {
   "cell_type": "code",
   "execution_count": null,
   "id": "2ab8de70",
   "metadata": {},
   "outputs": [],
   "source": [
    "nsd_train_fmriavg_nsdgeneral_sub1"
   ]
  },
  {
   "cell_type": "code",
   "execution_count": null,
   "id": "1f622469",
   "metadata": {},
   "outputs": [],
   "source": [
    "type(nsd_train_fmriavg_nsdgeneral_sub1)"
   ]
  },
  {
   "cell_type": "code",
   "execution_count": null,
   "id": "1673e079",
   "metadata": {},
   "outputs": [],
   "source": [
    "nsd_train_fmriavg_nsdgeneral_sub1.shape"
   ]
  },
  {
   "cell_type": "code",
   "execution_count": null,
   "id": "d5ba9e69",
   "metadata": {},
   "outputs": [],
   "source": []
  },
  {
   "cell_type": "code",
   "execution_count": null,
   "id": "b76ba4b9",
   "metadata": {},
   "outputs": [],
   "source": []
  },
  {
   "cell_type": "code",
   "execution_count": null,
   "id": "9fb51821",
   "metadata": {},
   "outputs": [],
   "source": [
    "nsd_test_cap_sub1"
   ]
  },
  {
   "cell_type": "code",
   "execution_count": null,
   "id": "812a3d49",
   "metadata": {},
   "outputs": [],
   "source": [
    "nsd_test_cap_sub1 = nsd_test_cap_sub1.tolist()"
   ]
  },
  {
   "cell_type": "code",
   "execution_count": null,
   "id": "00b99a5f",
   "metadata": {},
   "outputs": [],
   "source": [
    "test_captions = []\n",
    "\n",
    "for i in nsd_test_cap_sub1:\n",
    "    cap = i[0] + ' ' + i[1] + ' ' + i[2] + ' ' + i[3] + ' ' + i[4] \n",
    "    test_captions.append(cap)"
   ]
  },
  {
   "cell_type": "code",
   "execution_count": null,
   "id": "7d93476d",
   "metadata": {},
   "outputs": [],
   "source": [
    "test_captions "
   ]
  },
  {
   "cell_type": "code",
   "execution_count": null,
   "id": "2969ab7f",
   "metadata": {},
   "outputs": [],
   "source": [
    "test_captions[0:10]"
   ]
  },
  {
   "cell_type": "code",
   "execution_count": null,
   "id": "11d73857",
   "metadata": {},
   "outputs": [],
   "source": [
    "test_captions_test = test_captions[0:10]"
   ]
  },
  {
   "cell_type": "code",
   "execution_count": null,
   "id": "d3cccdbe",
   "metadata": {},
   "outputs": [],
   "source": [
    "%store test_captions_test"
   ]
  },
  {
   "cell_type": "code",
   "execution_count": null,
   "id": "aee5aaad",
   "metadata": {},
   "outputs": [],
   "source": []
  }
 ],
 "metadata": {
  "kernelspec": {
   "display_name": "Python 3 (ipykernel)",
   "language": "python",
   "name": "python3"
  },
  "language_info": {
   "codemirror_mode": {
    "name": "ipython",
    "version": 3
   },
   "file_extension": ".py",
   "mimetype": "text/x-python",
   "name": "python",
   "nbconvert_exporter": "python",
   "pygments_lexer": "ipython3",
   "version": "3.10.6"
  },
  "toc": {
   "base_numbering": 1,
   "nav_menu": {},
   "number_sections": true,
   "sideBar": true,
   "skip_h1_title": false,
   "title_cell": "Table of Contents",
   "title_sidebar": "Contents",
   "toc_cell": false,
   "toc_position": {},
   "toc_section_display": true,
   "toc_window_display": false
  }
 },
 "nbformat": 4,
 "nbformat_minor": 5
}
