{
 "cells": [
  {
   "cell_type": "code",
   "execution_count": 85,
   "id": "f945bccb",
   "metadata": {},
   "outputs": [],
   "source": [
    "import pandas as pd\n",
    "import numpy as np\n",
    "from sklearn.preprocessing import MinMaxScaler, RobustScaler"
   ]
  },
  {
   "cell_type": "code",
   "execution_count": 31,
   "id": "350f6e7e",
   "metadata": {},
   "outputs": [],
   "source": [
    "from tensorflow.keras import Sequential, layers, models"
   ]
  },
  {
   "cell_type": "markdown",
   "id": "3408ffad",
   "metadata": {},
   "source": [
    "### To get the data for X_train, y_train, X_test, y_test"
   ]
  },
  {
   "cell_type": "code",
   "execution_count": 26,
   "id": "c5e2f816",
   "metadata": {},
   "outputs": [
    {
     "name": "stderr",
     "output_type": "stream",
     "text": [
      "/var/folders/9w/z8lx7y0n7b198wy4jq4t4zrh0000gn/T/ipykernel_3758/3183250962.py:1: DtypeWarning: Columns (0) have mixed types. Specify dtype option on import or set low_memory=False.\n",
      "  y_dataframe = pd.read_csv('../data/dataframes/y_dataframe.csv',index_col = 0)\n"
     ]
    }
   ],
   "source": [
    "y_dataframe = pd.read_csv('../data/dataframes/y_dataframe.csv',index_col = 0)"
   ]
  },
  {
   "cell_type": "code",
   "execution_count": 94,
   "id": "bbf6c55a",
   "metadata": {},
   "outputs": [
    {
     "data": {
      "text/plain": [
       "Index([              0,               1,               2,               3,\n",
       "                     4,               5,               6,               7,\n",
       "                     8,               9,\n",
       "       ...\n",
       "       'X_test_id_972', 'X_test_id_973', 'X_test_id_974', 'X_test_id_975',\n",
       "       'X_test_id_976', 'X_test_id_977', 'X_test_id_978', 'X_test_id_979',\n",
       "       'X_test_id_980', 'X_test_id_981'],\n",
       "      dtype='object', length=9841)"
      ]
     },
     "execution_count": 94,
     "metadata": {},
     "output_type": "execute_result"
    }
   ],
   "source": [
    "y_dataframe.index"
   ]
  },
  {
   "cell_type": "code",
   "execution_count": 6,
   "id": "1c7fa1f5",
   "metadata": {},
   "outputs": [],
   "source": [
    "y_train = y_dataframe.iloc[0:8859].to_numpy()"
   ]
  },
  {
   "cell_type": "code",
   "execution_count": 7,
   "id": "ef50fcc5",
   "metadata": {},
   "outputs": [
    {
     "data": {
      "text/plain": [
       "array([[0, 0, 0, ..., 0, 0, 0],\n",
       "       [0, 0, 0, ..., 0, 0, 0],\n",
       "       [0, 0, 0, ..., 0, 0, 0],\n",
       "       ...,\n",
       "       [0, 0, 0, ..., 0, 0, 0],\n",
       "       [0, 0, 0, ..., 0, 0, 0],\n",
       "       [0, 0, 0, ..., 0, 0, 0]])"
      ]
     },
     "execution_count": 7,
     "metadata": {},
     "output_type": "execute_result"
    }
   ],
   "source": [
    "y_train"
   ]
  },
  {
   "cell_type": "code",
   "execution_count": 8,
   "id": "7a34c29f",
   "metadata": {},
   "outputs": [
    {
     "data": {
      "text/plain": [
       "(8859, 2637)"
      ]
     },
     "execution_count": 8,
     "metadata": {},
     "output_type": "execute_result"
    }
   ],
   "source": [
    "y_train.shape"
   ]
  },
  {
   "cell_type": "code",
   "execution_count": 9,
   "id": "0082bb2f",
   "metadata": {},
   "outputs": [],
   "source": [
    "y_test = y_dataframe.iloc[8859:].to_numpy()"
   ]
  },
  {
   "cell_type": "code",
   "execution_count": 10,
   "id": "e9e34412",
   "metadata": {},
   "outputs": [
    {
     "data": {
      "text/plain": [
       "(982, 2637)"
      ]
     },
     "execution_count": 10,
     "metadata": {},
     "output_type": "execute_result"
    }
   ],
   "source": [
    "y_test.shape"
   ]
  },
  {
   "cell_type": "code",
   "execution_count": 11,
   "id": "e2c66b7e",
   "metadata": {},
   "outputs": [],
   "source": [
    "X_train = np.load('../data/nsd_train_fmriavg_nsdgeneral_sub1.npy')"
   ]
  },
  {
   "cell_type": "code",
   "execution_count": 12,
   "id": "8a75a660",
   "metadata": {},
   "outputs": [
    {
     "data": {
      "text/plain": [
       "(8859, 15724)"
      ]
     },
     "execution_count": 12,
     "metadata": {},
     "output_type": "execute_result"
    }
   ],
   "source": [
    "X_train.shape"
   ]
  },
  {
   "cell_type": "code",
   "execution_count": 13,
   "id": "91d82f27",
   "metadata": {},
   "outputs": [],
   "source": [
    "X_test = np.load('../data/nsd_test_fmriavg_nsdgeneral_sub1.npy')"
   ]
  },
  {
   "cell_type": "code",
   "execution_count": 14,
   "id": "7aa568be",
   "metadata": {},
   "outputs": [
    {
     "data": {
      "text/plain": [
       "(982, 15724)"
      ]
     },
     "execution_count": 14,
     "metadata": {},
     "output_type": "execute_result"
    }
   ],
   "source": [
    "X_test.shape"
   ]
  },
  {
   "cell_type": "markdown",
   "id": "fde1568d",
   "metadata": {},
   "source": [
    "#### To get a new y_train and y_test on a bigger vocabulary"
   ]
  },
  {
   "cell_type": "code",
   "execution_count": 25,
   "id": "78d74aa5",
   "metadata": {},
   "outputs": [
    {
     "name": "stderr",
     "output_type": "stream",
     "text": [
      "/var/folders/9w/z8lx7y0n7b198wy4jq4t4zrh0000gn/T/ipykernel_3758/3702576093.py:1: DtypeWarning: Columns (0) have mixed types. Specify dtype option on import or set low_memory=False.\n",
      "  y_dataframe_2 = pd.read_csv('../data/dataframes/y_dataframe_2.csv',index_col = 0)\n"
     ]
    }
   ],
   "source": [
    "y_dataframe_2 = pd.read_csv('../data/dataframes/y_dataframe_2.csv',index_col = 0)"
   ]
  },
  {
   "cell_type": "code",
   "execution_count": 28,
   "id": "a3004f77",
   "metadata": {
    "collapsed": true
   },
   "outputs": [
    {
     "data": {
      "text/html": [
       "<div>\n",
       "<style scoped>\n",
       "    .dataframe tbody tr th:only-of-type {\n",
       "        vertical-align: middle;\n",
       "    }\n",
       "\n",
       "    .dataframe tbody tr th {\n",
       "        vertical-align: top;\n",
       "    }\n",
       "\n",
       "    .dataframe thead th {\n",
       "        text-align: right;\n",
       "    }\n",
       "</style>\n",
       "<table border=\"1\" class=\"dataframe\">\n",
       "  <thead>\n",
       "    <tr style=\"text-align: right;\">\n",
       "      <th></th>\n",
       "      <th>Unnamed: 1</th>\n",
       "      <th>1950</th>\n",
       "      <th>1950s</th>\n",
       "      <th>1970</th>\n",
       "      <th>1971</th>\n",
       "      <th>2009</th>\n",
       "      <th>2010</th>\n",
       "      <th>4way</th>\n",
       "      <th>abandon</th>\n",
       "      <th>ability</th>\n",
       "      <th>...</th>\n",
       "      <th>young</th>\n",
       "      <th>younger</th>\n",
       "      <th>youre</th>\n",
       "      <th>youth</th>\n",
       "      <th>zebra</th>\n",
       "      <th>zigzag</th>\n",
       "      <th>zip</th>\n",
       "      <th>zombie</th>\n",
       "      <th>zoo</th>\n",
       "      <th>zoom</th>\n",
       "    </tr>\n",
       "  </thead>\n",
       "  <tbody>\n",
       "    <tr>\n",
       "      <th>0</th>\n",
       "      <td>0</td>\n",
       "      <td>0</td>\n",
       "      <td>0</td>\n",
       "      <td>0</td>\n",
       "      <td>0</td>\n",
       "      <td>0</td>\n",
       "      <td>0</td>\n",
       "      <td>0</td>\n",
       "      <td>0</td>\n",
       "      <td>0</td>\n",
       "      <td>...</td>\n",
       "      <td>0</td>\n",
       "      <td>0</td>\n",
       "      <td>0</td>\n",
       "      <td>0</td>\n",
       "      <td>0</td>\n",
       "      <td>0</td>\n",
       "      <td>0</td>\n",
       "      <td>0</td>\n",
       "      <td>0</td>\n",
       "      <td>0</td>\n",
       "    </tr>\n",
       "    <tr>\n",
       "      <th>1</th>\n",
       "      <td>0</td>\n",
       "      <td>0</td>\n",
       "      <td>0</td>\n",
       "      <td>0</td>\n",
       "      <td>0</td>\n",
       "      <td>0</td>\n",
       "      <td>0</td>\n",
       "      <td>0</td>\n",
       "      <td>0</td>\n",
       "      <td>0</td>\n",
       "      <td>...</td>\n",
       "      <td>0</td>\n",
       "      <td>0</td>\n",
       "      <td>0</td>\n",
       "      <td>0</td>\n",
       "      <td>0</td>\n",
       "      <td>0</td>\n",
       "      <td>0</td>\n",
       "      <td>0</td>\n",
       "      <td>0</td>\n",
       "      <td>0</td>\n",
       "    </tr>\n",
       "    <tr>\n",
       "      <th>2</th>\n",
       "      <td>0</td>\n",
       "      <td>0</td>\n",
       "      <td>0</td>\n",
       "      <td>0</td>\n",
       "      <td>0</td>\n",
       "      <td>0</td>\n",
       "      <td>0</td>\n",
       "      <td>0</td>\n",
       "      <td>0</td>\n",
       "      <td>0</td>\n",
       "      <td>...</td>\n",
       "      <td>0</td>\n",
       "      <td>0</td>\n",
       "      <td>0</td>\n",
       "      <td>0</td>\n",
       "      <td>0</td>\n",
       "      <td>0</td>\n",
       "      <td>0</td>\n",
       "      <td>0</td>\n",
       "      <td>0</td>\n",
       "      <td>0</td>\n",
       "    </tr>\n",
       "    <tr>\n",
       "      <th>3</th>\n",
       "      <td>0</td>\n",
       "      <td>0</td>\n",
       "      <td>0</td>\n",
       "      <td>0</td>\n",
       "      <td>0</td>\n",
       "      <td>0</td>\n",
       "      <td>0</td>\n",
       "      <td>0</td>\n",
       "      <td>0</td>\n",
       "      <td>0</td>\n",
       "      <td>...</td>\n",
       "      <td>0</td>\n",
       "      <td>0</td>\n",
       "      <td>0</td>\n",
       "      <td>0</td>\n",
       "      <td>0</td>\n",
       "      <td>0</td>\n",
       "      <td>0</td>\n",
       "      <td>0</td>\n",
       "      <td>0</td>\n",
       "      <td>0</td>\n",
       "    </tr>\n",
       "    <tr>\n",
       "      <th>4</th>\n",
       "      <td>0</td>\n",
       "      <td>0</td>\n",
       "      <td>0</td>\n",
       "      <td>0</td>\n",
       "      <td>0</td>\n",
       "      <td>0</td>\n",
       "      <td>0</td>\n",
       "      <td>0</td>\n",
       "      <td>0</td>\n",
       "      <td>0</td>\n",
       "      <td>...</td>\n",
       "      <td>0</td>\n",
       "      <td>0</td>\n",
       "      <td>0</td>\n",
       "      <td>0</td>\n",
       "      <td>1</td>\n",
       "      <td>0</td>\n",
       "      <td>0</td>\n",
       "      <td>0</td>\n",
       "      <td>0</td>\n",
       "      <td>0</td>\n",
       "    </tr>\n",
       "    <tr>\n",
       "      <th>...</th>\n",
       "      <td>...</td>\n",
       "      <td>...</td>\n",
       "      <td>...</td>\n",
       "      <td>...</td>\n",
       "      <td>...</td>\n",
       "      <td>...</td>\n",
       "      <td>...</td>\n",
       "      <td>...</td>\n",
       "      <td>...</td>\n",
       "      <td>...</td>\n",
       "      <td>...</td>\n",
       "      <td>...</td>\n",
       "      <td>...</td>\n",
       "      <td>...</td>\n",
       "      <td>...</td>\n",
       "      <td>...</td>\n",
       "      <td>...</td>\n",
       "      <td>...</td>\n",
       "      <td>...</td>\n",
       "      <td>...</td>\n",
       "      <td>...</td>\n",
       "    </tr>\n",
       "    <tr>\n",
       "      <th>X_test_id_977</th>\n",
       "      <td>0</td>\n",
       "      <td>0</td>\n",
       "      <td>0</td>\n",
       "      <td>0</td>\n",
       "      <td>0</td>\n",
       "      <td>0</td>\n",
       "      <td>0</td>\n",
       "      <td>0</td>\n",
       "      <td>0</td>\n",
       "      <td>0</td>\n",
       "      <td>...</td>\n",
       "      <td>0</td>\n",
       "      <td>0</td>\n",
       "      <td>0</td>\n",
       "      <td>0</td>\n",
       "      <td>0</td>\n",
       "      <td>0</td>\n",
       "      <td>0</td>\n",
       "      <td>0</td>\n",
       "      <td>0</td>\n",
       "      <td>0</td>\n",
       "    </tr>\n",
       "    <tr>\n",
       "      <th>X_test_id_978</th>\n",
       "      <td>0</td>\n",
       "      <td>0</td>\n",
       "      <td>0</td>\n",
       "      <td>0</td>\n",
       "      <td>0</td>\n",
       "      <td>0</td>\n",
       "      <td>0</td>\n",
       "      <td>0</td>\n",
       "      <td>0</td>\n",
       "      <td>0</td>\n",
       "      <td>...</td>\n",
       "      <td>0</td>\n",
       "      <td>0</td>\n",
       "      <td>0</td>\n",
       "      <td>0</td>\n",
       "      <td>0</td>\n",
       "      <td>0</td>\n",
       "      <td>0</td>\n",
       "      <td>0</td>\n",
       "      <td>0</td>\n",
       "      <td>0</td>\n",
       "    </tr>\n",
       "    <tr>\n",
       "      <th>X_test_id_979</th>\n",
       "      <td>0</td>\n",
       "      <td>0</td>\n",
       "      <td>0</td>\n",
       "      <td>0</td>\n",
       "      <td>0</td>\n",
       "      <td>0</td>\n",
       "      <td>0</td>\n",
       "      <td>0</td>\n",
       "      <td>0</td>\n",
       "      <td>0</td>\n",
       "      <td>...</td>\n",
       "      <td>0</td>\n",
       "      <td>0</td>\n",
       "      <td>0</td>\n",
       "      <td>0</td>\n",
       "      <td>0</td>\n",
       "      <td>0</td>\n",
       "      <td>0</td>\n",
       "      <td>0</td>\n",
       "      <td>0</td>\n",
       "      <td>0</td>\n",
       "    </tr>\n",
       "    <tr>\n",
       "      <th>X_test_id_980</th>\n",
       "      <td>0</td>\n",
       "      <td>0</td>\n",
       "      <td>0</td>\n",
       "      <td>0</td>\n",
       "      <td>0</td>\n",
       "      <td>0</td>\n",
       "      <td>1</td>\n",
       "      <td>0</td>\n",
       "      <td>0</td>\n",
       "      <td>0</td>\n",
       "      <td>...</td>\n",
       "      <td>0</td>\n",
       "      <td>0</td>\n",
       "      <td>0</td>\n",
       "      <td>0</td>\n",
       "      <td>0</td>\n",
       "      <td>0</td>\n",
       "      <td>0</td>\n",
       "      <td>0</td>\n",
       "      <td>0</td>\n",
       "      <td>0</td>\n",
       "    </tr>\n",
       "    <tr>\n",
       "      <th>X_test_id_981</th>\n",
       "      <td>0</td>\n",
       "      <td>0</td>\n",
       "      <td>0</td>\n",
       "      <td>0</td>\n",
       "      <td>0</td>\n",
       "      <td>0</td>\n",
       "      <td>0</td>\n",
       "      <td>0</td>\n",
       "      <td>0</td>\n",
       "      <td>0</td>\n",
       "      <td>...</td>\n",
       "      <td>0</td>\n",
       "      <td>0</td>\n",
       "      <td>0</td>\n",
       "      <td>0</td>\n",
       "      <td>0</td>\n",
       "      <td>0</td>\n",
       "      <td>0</td>\n",
       "      <td>0</td>\n",
       "      <td>0</td>\n",
       "      <td>0</td>\n",
       "    </tr>\n",
       "  </tbody>\n",
       "</table>\n",
       "<p>9841 rows × 3760 columns</p>\n",
       "</div>"
      ],
      "text/plain": [
       "               Unnamed: 1  1950  1950s  1970  1971  2009  2010  4way  abandon  \\\n",
       "0                       0     0      0     0     0     0     0     0        0   \n",
       "1                       0     0      0     0     0     0     0     0        0   \n",
       "2                       0     0      0     0     0     0     0     0        0   \n",
       "3                       0     0      0     0     0     0     0     0        0   \n",
       "4                       0     0      0     0     0     0     0     0        0   \n",
       "...                   ...   ...    ...   ...   ...   ...   ...   ...      ...   \n",
       "X_test_id_977           0     0      0     0     0     0     0     0        0   \n",
       "X_test_id_978           0     0      0     0     0     0     0     0        0   \n",
       "X_test_id_979           0     0      0     0     0     0     0     0        0   \n",
       "X_test_id_980           0     0      0     0     0     0     1     0        0   \n",
       "X_test_id_981           0     0      0     0     0     0     0     0        0   \n",
       "\n",
       "               ability  ...  young  younger  youre  youth  zebra  zigzag  zip  \\\n",
       "0                    0  ...      0        0      0      0      0       0    0   \n",
       "1                    0  ...      0        0      0      0      0       0    0   \n",
       "2                    0  ...      0        0      0      0      0       0    0   \n",
       "3                    0  ...      0        0      0      0      0       0    0   \n",
       "4                    0  ...      0        0      0      0      1       0    0   \n",
       "...                ...  ...    ...      ...    ...    ...    ...     ...  ...   \n",
       "X_test_id_977        0  ...      0        0      0      0      0       0    0   \n",
       "X_test_id_978        0  ...      0        0      0      0      0       0    0   \n",
       "X_test_id_979        0  ...      0        0      0      0      0       0    0   \n",
       "X_test_id_980        0  ...      0        0      0      0      0       0    0   \n",
       "X_test_id_981        0  ...      0        0      0      0      0       0    0   \n",
       "\n",
       "               zombie  zoo  zoom  \n",
       "0                   0    0     0  \n",
       "1                   0    0     0  \n",
       "2                   0    0     0  \n",
       "3                   0    0     0  \n",
       "4                   0    0     0  \n",
       "...               ...  ...   ...  \n",
       "X_test_id_977       0    0     0  \n",
       "X_test_id_978       0    0     0  \n",
       "X_test_id_979       0    0     0  \n",
       "X_test_id_980       0    0     0  \n",
       "X_test_id_981       0    0     0  \n",
       "\n",
       "[9841 rows x 3760 columns]"
      ]
     },
     "execution_count": 28,
     "metadata": {},
     "output_type": "execute_result"
    }
   ],
   "source": [
    "y_dataframe_2"
   ]
  },
  {
   "cell_type": "code",
   "execution_count": 29,
   "id": "10f2c3c4",
   "metadata": {},
   "outputs": [],
   "source": [
    "y_train_2 = y_dataframe_2.iloc[0:8859].to_numpy()"
   ]
  },
  {
   "cell_type": "code",
   "execution_count": 30,
   "id": "6e961a4b",
   "metadata": {},
   "outputs": [
    {
     "data": {
      "text/plain": [
       "(8859, 3760)"
      ]
     },
     "execution_count": 30,
     "metadata": {},
     "output_type": "execute_result"
    }
   ],
   "source": [
    "y_train_2.shape"
   ]
  },
  {
   "cell_type": "code",
   "execution_count": 32,
   "id": "32145937",
   "metadata": {},
   "outputs": [],
   "source": [
    "y_test_2 = y_dataframe_2.iloc[8859:].to_numpy()"
   ]
  },
  {
   "cell_type": "code",
   "execution_count": 34,
   "id": "db4999b3",
   "metadata": {},
   "outputs": [
    {
     "data": {
      "text/plain": [
       "(982, 3760)"
      ]
     },
     "execution_count": 34,
     "metadata": {},
     "output_type": "execute_result"
    }
   ],
   "source": [
    "y_test_2.shape"
   ]
  },
  {
   "cell_type": "markdown",
   "id": "dbffe42f",
   "metadata": {},
   "source": [
    "### To get the caption corresponding to an Image_index"
   ]
  },
  {
   "cell_type": "code",
   "execution_count": 15,
   "id": "7e3f6ea9",
   "metadata": {},
   "outputs": [],
   "source": [
    "#Load test dataframe\n",
    "df_test = pd.read_csv('../data/dataframes/df_test.csv')"
   ]
  },
  {
   "cell_type": "code",
   "execution_count": 16,
   "id": "7ed129de",
   "metadata": {},
   "outputs": [
    {
     "data": {
      "text/html": [
       "<div>\n",
       "<style scoped>\n",
       "    .dataframe tbody tr th:only-of-type {\n",
       "        vertical-align: middle;\n",
       "    }\n",
       "\n",
       "    .dataframe tbody tr th {\n",
       "        vertical-align: top;\n",
       "    }\n",
       "\n",
       "    .dataframe thead th {\n",
       "        text-align: right;\n",
       "    }\n",
       "</style>\n",
       "<table border=\"1\" class=\"dataframe\">\n",
       "  <thead>\n",
       "    <tr style=\"text-align: right;\">\n",
       "      <th></th>\n",
       "      <th>Image_index</th>\n",
       "      <th>test_caps_processed</th>\n",
       "      <th>fMRI</th>\n",
       "    </tr>\n",
       "  </thead>\n",
       "  <tbody>\n",
       "    <tr>\n",
       "      <th>0</th>\n",
       "      <td>46002</td>\n",
       "      <td>['cow', 'white', 'grass', 'eat']</td>\n",
       "      <td>[-339.66665649 -236.66667175   13.66666698 ......</td>\n",
       "    </tr>\n",
       "    <tr>\n",
       "      <th>1</th>\n",
       "      <td>48617</td>\n",
       "      <td>['airplane', 'port', 'cloud', 'plane']</td>\n",
       "      <td>[ 277.5 -418.    14.5 ...  122.   436.5  461. ]</td>\n",
       "    </tr>\n",
       "    <tr>\n",
       "      <th>2</th>\n",
       "      <td>44980</td>\n",
       "      <td>['airplane', 'sky', 'build', 'sunset']</td>\n",
       "      <td>[ 69.         177.         -49.66666794 ... 28...</td>\n",
       "    </tr>\n",
       "    <tr>\n",
       "      <th>3</th>\n",
       "      <td>32625</td>\n",
       "      <td>['kitchen', 'view', 'middle', 'day']</td>\n",
       "      <td>[ 366.66665649 -412.           42.33333206 ......</td>\n",
       "    </tr>\n",
       "    <tr>\n",
       "      <th>4</th>\n",
       "      <td>53052</td>\n",
       "      <td>['clock', 'center', 'tile', 'star']</td>\n",
       "      <td>[ -49.33333206 -321.66665649   31.33333397 ......</td>\n",
       "    </tr>\n",
       "  </tbody>\n",
       "</table>\n",
       "</div>"
      ],
      "text/plain": [
       "   Image_index                     test_caps_processed  \\\n",
       "0        46002        ['cow', 'white', 'grass', 'eat']   \n",
       "1        48617  ['airplane', 'port', 'cloud', 'plane']   \n",
       "2        44980  ['airplane', 'sky', 'build', 'sunset']   \n",
       "3        32625    ['kitchen', 'view', 'middle', 'day']   \n",
       "4        53052     ['clock', 'center', 'tile', 'star']   \n",
       "\n",
       "                                                fMRI  \n",
       "0  [-339.66665649 -236.66667175   13.66666698 ......  \n",
       "1    [ 277.5 -418.    14.5 ...  122.   436.5  461. ]  \n",
       "2  [ 69.         177.         -49.66666794 ... 28...  \n",
       "3  [ 366.66665649 -412.           42.33333206 ......  \n",
       "4  [ -49.33333206 -321.66665649   31.33333397 ......  "
      ]
     },
     "execution_count": 16,
     "metadata": {},
     "output_type": "execute_result"
    }
   ],
   "source": [
    "df_test.head()"
   ]
  },
  {
   "cell_type": "code",
   "execution_count": 23,
   "id": "a09f1022",
   "metadata": {},
   "outputs": [
    {
     "data": {
      "text/plain": [
       "(982, 3)"
      ]
     },
     "execution_count": 23,
     "metadata": {},
     "output_type": "execute_result"
    }
   ],
   "source": [
    "df_test.shape"
   ]
  },
  {
   "cell_type": "code",
   "execution_count": 17,
   "id": "fdfe58fc",
   "metadata": {},
   "outputs": [],
   "source": [
    "#create new df with just the values you need\n",
    "df_test_idx_caps= df_test[['Image_index', 'test_caps_processed']]\n"
   ]
  },
  {
   "cell_type": "code",
   "execution_count": 18,
   "id": "3a7d7292",
   "metadata": {},
   "outputs": [
    {
     "data": {
      "text/plain": [
       "44980"
      ]
     },
     "execution_count": 18,
     "metadata": {},
     "output_type": "execute_result"
    }
   ],
   "source": [
    "#Input filename to create index value\n",
    "filename ='44980.png'\n",
    "index = filename.split(\".\")[0]\n",
    "index = int(index)\n",
    "index"
   ]
  },
  {
   "cell_type": "code",
   "execution_count": 19,
   "id": "409bfb49",
   "metadata": {},
   "outputs": [
    {
     "name": "stdout",
     "output_type": "stream",
     "text": [
      "['airplane', 'sky', 'build', 'sunset']\n"
     ]
    }
   ],
   "source": [
    "#fetch caps from index\n",
    "caps=df_test_idx_caps.loc[df_test_idx_caps['Image_index'] == index, 'test_caps_processed'].item()\n",
    "print(caps)"
   ]
  },
  {
   "cell_type": "markdown",
   "id": "2c286b9f",
   "metadata": {},
   "source": [
    "### To Build a basic model"
   ]
  },
  {
   "cell_type": "code",
   "execution_count": 20,
   "id": "376488b1",
   "metadata": {},
   "outputs": [],
   "source": [
    "scaler = RobustScaler()\n",
    "\n",
    "X_train_scaled = scaler.fit_transform(X_train)\n",
    "X_test_scaled = scaler.transform(X_test)"
   ]
  },
  {
   "cell_type": "code",
   "execution_count": 21,
   "id": "792d93ae",
   "metadata": {},
   "outputs": [
    {
     "data": {
      "text/plain": [
       "array([[-1.28444441, -0.48185293, -0.05411858, ...,  0.12920738,\n",
       "        -0.63977899, -0.8584444 ],\n",
       "       [ 0.08703705, -1.00143268, -0.05013928, ..., -0.09011943,\n",
       "         0.16381217,  0.49063606],\n",
       "       [-0.37629628,  0.7034384 , -0.35654596, ...,  0.26167209,\n",
       "        -0.13701656,  0.43597097],\n",
       "       ...,\n",
       "       [ 0.03851854,  0.05682903, -0.55710305, ..., -0.08360478,\n",
       "         0.68508289, -0.31989202],\n",
       "       [ 1.98814816,  1.14469915,  1.71906087, ...,  2.5982627 ,\n",
       "         1.37624311,  1.77425339],\n",
       "       [-1.50518517, -0.72063038,  0.0620772 , ..., -1.06297501,\n",
       "        -0.1154696 , -0.36780834]])"
      ]
     },
     "execution_count": 21,
     "metadata": {},
     "output_type": "execute_result"
    }
   ],
   "source": [
    "X_test_scaled"
   ]
  },
  {
   "cell_type": "code",
   "execution_count": 86,
   "id": "712b1eb3",
   "metadata": {},
   "outputs": [
    {
     "data": {
      "text/plain": [
       "(8859, 15724)"
      ]
     },
     "execution_count": 86,
     "metadata": {},
     "output_type": "execute_result"
    }
   ],
   "source": [
    "X_train_scaled.shape"
   ]
  },
  {
   "cell_type": "code",
   "execution_count": 87,
   "id": "b83e31b8",
   "metadata": {},
   "outputs": [
    {
     "data": {
      "text/plain": [
       "(982, 15724)"
      ]
     },
     "execution_count": 87,
     "metadata": {},
     "output_type": "execute_result"
    }
   ],
   "source": [
    "X_test_scaled.shape"
   ]
  },
  {
   "cell_type": "code",
   "execution_count": 22,
   "id": "c971da17",
   "metadata": {
    "collapsed": true
   },
   "outputs": [
    {
     "data": {
      "text/plain": [
       "array([[-339.66665649, -236.66667175,   13.66666698, ...,  223.        ,\n",
       "         -48.33333206, -205.33332825],\n",
       "       [ 277.5       , -418.        ,   14.5       , ...,  122.        ,\n",
       "         436.5       ,  461.        ],\n",
       "       [  69.        ,  177.        ,  -49.66666794, ...,  284.        ,\n",
       "         255.        ,  434.        ],\n",
       "       ...,\n",
       "       [ 255.66667175,  -48.66666794,  -91.66666412, ...,  125.        ,\n",
       "         751.        ,   60.66666794],\n",
       "       [1133.        ,  331.        ,  385.        , ..., 1360.        ,\n",
       "        1168.        , 1095.        ],\n",
       "       [-439.        , -320.        ,   38.        , ..., -326.        ,\n",
       "         268.        ,   37.        ]])"
      ]
     },
     "execution_count": 22,
     "metadata": {},
     "output_type": "execute_result"
    }
   ],
   "source": [
    "X_test"
   ]
  },
  {
   "cell_type": "code",
   "execution_count": 36,
   "id": "35f6c87f",
   "metadata": {},
   "outputs": [],
   "source": [
    "# the last layer has 3760 - the size of the vocabulary"
   ]
  },
  {
   "cell_type": "code",
   "execution_count": 55,
   "id": "636ba629",
   "metadata": {},
   "outputs": [],
   "source": [
    "model = models.Sequential()\n",
    "\n",
    "model = Sequential([layers.Dense(200, input_shape = (15724,), activation = \"relu\"),\n",
    "                    layers.Dense(200, activation = \"relu\"),\n",
    "                    layers.Dropout(0.4),\n",
    "                    layers.Dense(300, activation = \"relu\"),\n",
    "                    layers.Dropout(0.4),\n",
    "                    layers.Dense(400, activation = \"relu\"),\n",
    "                    layers.Dropout(0.4),\n",
    "                    layers.Dense(400, activation = \"relu\"),\n",
    "                    layers.Dropout(0.4),\n",
    "                    layers.Dense(500, activation = \"relu\"),\n",
    "                    layers.Dropout(0.4),\n",
    "                    layers.Dense(500, activation = \"relu\"),\n",
    "                    layers.Dropout(0.4),\n",
    "                    layers.Dense(1000, activation = \"relu\"),\n",
    "                    layers.Dropout(0.4),\n",
    "                    layers.Dense(1000, activation = \"relu\"),\n",
    "                    layers.Dropout(0.4),\n",
    "                    layers.Dense(2000, activation = \"relu\"),\n",
    "                    layers.Dropout(0.4),\n",
    "                    layers.Dense(2000, activation = \"relu\"),\n",
    "                    layers.Dense(3760, activation = \"sigmoid\")])"
   ]
  },
  {
   "cell_type": "code",
   "execution_count": 56,
   "id": "1a10d4e7",
   "metadata": {},
   "outputs": [],
   "source": [
    "model.compile(optimizer='adam',\n",
    "    loss='binary_crossentropy',\n",
    "             metrics = ['accuracy'])"
   ]
  },
  {
   "cell_type": "code",
   "execution_count": 57,
   "id": "ca48c5e3",
   "metadata": {
    "collapsed": true
   },
   "outputs": [
    {
     "name": "stdout",
     "output_type": "stream",
     "text": [
      "Model: \"sequential_9\"\n",
      "_________________________________________________________________\n",
      " Layer (type)                Output Shape              Param #   \n",
      "=================================================================\n",
      " dense_41 (Dense)            (None, 200)               3145000   \n",
      "                                                                 \n",
      " dense_42 (Dense)            (None, 200)               40200     \n",
      "                                                                 \n",
      " dropout_29 (Dropout)        (None, 200)               0         \n",
      "                                                                 \n",
      " dense_43 (Dense)            (None, 300)               60300     \n",
      "                                                                 \n",
      " dropout_30 (Dropout)        (None, 300)               0         \n",
      "                                                                 \n",
      " dense_44 (Dense)            (None, 400)               120400    \n",
      "                                                                 \n",
      " dropout_31 (Dropout)        (None, 400)               0         \n",
      "                                                                 \n",
      " dense_45 (Dense)            (None, 400)               160400    \n",
      "                                                                 \n",
      " dropout_32 (Dropout)        (None, 400)               0         \n",
      "                                                                 \n",
      " dense_46 (Dense)            (None, 500)               200500    \n",
      "                                                                 \n",
      " dropout_33 (Dropout)        (None, 500)               0         \n",
      "                                                                 \n",
      " dense_47 (Dense)            (None, 500)               250500    \n",
      "                                                                 \n",
      " dropout_34 (Dropout)        (None, 500)               0         \n",
      "                                                                 \n",
      " dense_48 (Dense)            (None, 1000)              501000    \n",
      "                                                                 \n",
      " dropout_35 (Dropout)        (None, 1000)              0         \n",
      "                                                                 \n",
      " dense_49 (Dense)            (None, 1000)              1001000   \n",
      "                                                                 \n",
      " dropout_36 (Dropout)        (None, 1000)              0         \n",
      "                                                                 \n",
      " dense_50 (Dense)            (None, 2000)              2002000   \n",
      "                                                                 \n",
      " dropout_37 (Dropout)        (None, 2000)              0         \n",
      "                                                                 \n",
      " dense_51 (Dense)            (None, 2000)              4002000   \n",
      "                                                                 \n",
      " dense_52 (Dense)            (None, 3760)              7523760   \n",
      "                                                                 \n",
      "=================================================================\n",
      "Total params: 19,007,060\n",
      "Trainable params: 19,007,060\n",
      "Non-trainable params: 0\n",
      "_________________________________________________________________\n"
     ]
    }
   ],
   "source": [
    "model.summary()"
   ]
  },
  {
   "cell_type": "code",
   "execution_count": 58,
   "id": "6f614db9",
   "metadata": {
    "collapsed": true
   },
   "outputs": [
    {
     "name": "stdout",
     "output_type": "stream",
     "text": [
      "Epoch 1/30\n",
      "250/250 [==============================] - 11s 41ms/step - loss: 0.0203 - accuracy: 0.0034 - val_loss: 0.0104 - val_accuracy: 0.0000e+00\n",
      "Epoch 2/30\n",
      "250/250 [==============================] - 10s 41ms/step - loss: 0.0105 - accuracy: 0.0010 - val_loss: 0.0103 - val_accuracy: 0.0000e+00\n",
      "Epoch 3/30\n",
      "250/250 [==============================] - 10s 41ms/step - loss: 0.0105 - accuracy: 0.0024 - val_loss: 0.0103 - val_accuracy: 0.0000e+00\n",
      "Epoch 4/30\n",
      "250/250 [==============================] - 10s 40ms/step - loss: 0.0104 - accuracy: 0.0028 - val_loss: 0.0104 - val_accuracy: 0.0000e+00\n",
      "Epoch 5/30\n",
      "250/250 [==============================] - 10s 40ms/step - loss: 0.0104 - accuracy: 0.0026 - val_loss: 0.0103 - val_accuracy: 0.0000e+00\n",
      "Epoch 6/30\n",
      "250/250 [==============================] - 10s 40ms/step - loss: 0.0104 - accuracy: 0.0038 - val_loss: 0.0103 - val_accuracy: 0.0000e+00\n",
      "Epoch 7/30\n",
      "250/250 [==============================] - 10s 40ms/step - loss: 0.0103 - accuracy: 0.0054 - val_loss: 0.0106 - val_accuracy: 0.0000e+00\n",
      "Epoch 8/30\n",
      "250/250 [==============================] - 10s 40ms/step - loss: 0.0101 - accuracy: 0.0070 - val_loss: 0.0105 - val_accuracy: 0.0000e+00\n",
      "Epoch 9/30\n",
      "250/250 [==============================] - 10s 40ms/step - loss: 0.0100 - accuracy: 0.0089 - val_loss: 0.0104 - val_accuracy: 0.0000e+00\n",
      "Epoch 10/30\n",
      "250/250 [==============================] - 10s 40ms/step - loss: 0.0099 - accuracy: 0.0056 - val_loss: 0.0105 - val_accuracy: 0.0000e+00\n",
      "Epoch 11/30\n",
      "250/250 [==============================] - 10s 40ms/step - loss: 0.0099 - accuracy: 0.0080 - val_loss: 0.0104 - val_accuracy: 0.0000e+00\n",
      "Epoch 12/30\n",
      "250/250 [==============================] - 10s 40ms/step - loss: 0.0098 - accuracy: 0.0089 - val_loss: 0.0102 - val_accuracy: 0.0034\n",
      "Epoch 13/30\n",
      "250/250 [==============================] - 10s 40ms/step - loss: 0.0098 - accuracy: 0.0098 - val_loss: 0.0101 - val_accuracy: 0.0045\n",
      "Epoch 14/30\n",
      "250/250 [==============================] - 10s 40ms/step - loss: 0.0098 - accuracy: 0.0068 - val_loss: 0.0102 - val_accuracy: 0.0000e+00\n",
      "Epoch 15/30\n",
      "250/250 [==============================] - 10s 40ms/step - loss: 0.0097 - accuracy: 0.0073 - val_loss: 0.0102 - val_accuracy: 0.0000e+00\n",
      "Epoch 16/30\n",
      "250/250 [==============================] - 10s 40ms/step - loss: 0.0097 - accuracy: 0.0085 - val_loss: 0.0103 - val_accuracy: 0.0056\n",
      "Epoch 17/30\n",
      "250/250 [==============================] - 10s 40ms/step - loss: 0.0097 - accuracy: 0.0073 - val_loss: 0.0104 - val_accuracy: 0.0000e+00\n",
      "Epoch 18/30\n",
      "250/250 [==============================] - 10s 40ms/step - loss: 0.0097 - accuracy: 0.0078 - val_loss: 0.0102 - val_accuracy: 0.0011\n",
      "Epoch 19/30\n",
      "250/250 [==============================] - 10s 40ms/step - loss: 0.0097 - accuracy: 0.0107 - val_loss: 0.0102 - val_accuracy: 0.0000e+00\n",
      "Epoch 20/30\n",
      "250/250 [==============================] - 10s 40ms/step - loss: 0.0097 - accuracy: 0.0098 - val_loss: 0.0103 - val_accuracy: 0.0000e+00\n",
      "Epoch 21/30\n",
      "250/250 [==============================] - 10s 40ms/step - loss: 0.0097 - accuracy: 0.0077 - val_loss: 0.0102 - val_accuracy: 0.0011\n",
      "Epoch 22/30\n",
      "250/250 [==============================] - 10s 40ms/step - loss: 0.0097 - accuracy: 0.0077 - val_loss: 0.0103 - val_accuracy: 0.0000e+00\n",
      "Epoch 23/30\n",
      "250/250 [==============================] - 10s 40ms/step - loss: 0.0097 - accuracy: 0.0079 - val_loss: 0.0105 - val_accuracy: 0.0000e+00\n",
      "Epoch 24/30\n",
      "250/250 [==============================] - 10s 40ms/step - loss: 0.0097 - accuracy: 0.0109 - val_loss: 0.0103 - val_accuracy: 0.0000e+00\n",
      "Epoch 25/30\n",
      "250/250 [==============================] - 10s 40ms/step - loss: 0.0097 - accuracy: 0.0083 - val_loss: 0.0103 - val_accuracy: 0.0226\n",
      "Epoch 26/30\n",
      "250/250 [==============================] - 10s 40ms/step - loss: 0.0097 - accuracy: 0.0092 - val_loss: 0.0103 - val_accuracy: 0.0000e+00\n",
      "Epoch 27/30\n",
      "250/250 [==============================] - 10s 41ms/step - loss: 0.0097 - accuracy: 0.0073 - val_loss: 0.0105 - val_accuracy: 0.0226\n",
      "Epoch 28/30\n",
      "250/250 [==============================] - 10s 40ms/step - loss: 0.0097 - accuracy: 0.0108 - val_loss: 0.0105 - val_accuracy: 0.0000e+00\n",
      "Epoch 29/30\n",
      "250/250 [==============================] - 10s 40ms/step - loss: 0.0097 - accuracy: 0.0087 - val_loss: 0.0102 - val_accuracy: 0.0000e+00\n",
      "Epoch 30/30\n",
      "250/250 [==============================] - 10s 40ms/step - loss: 0.0097 - accuracy: 0.0065 - val_loss: 0.0103 - val_accuracy: 0.0000e+00\n"
     ]
    }
   ],
   "source": [
    "history = model.fit(X_train_scaled,\n",
    "                    y_train_2, \n",
    "                    validation_split = 0.1,\n",
    "                    batch_size = 32,\n",
    "                    epochs=30)"
   ]
  },
  {
   "cell_type": "code",
   "execution_count": 61,
   "id": "81238ffd",
   "metadata": {},
   "outputs": [
    {
     "data": {
      "text/plain": [
       "array([-0.81333332,  0.89063992, -0.57302029, ..., -0.2290988 ,\n",
       "        0.45745861, -0.24902988])"
      ]
     },
     "execution_count": 61,
     "metadata": {},
     "output_type": "execute_result"
    }
   ],
   "source": [
    "X_test_scaled[10]"
   ]
  },
  {
   "cell_type": "code",
   "execution_count": 60,
   "id": "e59c119a",
   "metadata": {},
   "outputs": [
    {
     "data": {
      "text/plain": [
       "array([[-0.81333332,  0.89063992, -0.57302029, ..., -0.2290988 ,\n",
       "         0.45745861, -0.24902988]])"
      ]
     },
     "execution_count": 60,
     "metadata": {},
     "output_type": "execute_result"
    }
   ],
   "source": [
    "X_test_scaled[10].reshape(1,-1)"
   ]
  },
  {
   "cell_type": "code",
   "execution_count": 62,
   "id": "dfefd852",
   "metadata": {},
   "outputs": [
    {
     "name": "stdout",
     "output_type": "stream",
     "text": [
      "1/1 [==============================] - 0s 96ms/step\n"
     ]
    }
   ],
   "source": [
    "test_answer = model.predict(X_test_scaled[45].reshape(1,-1))"
   ]
  },
  {
   "cell_type": "code",
   "execution_count": 63,
   "id": "97224f0b",
   "metadata": {},
   "outputs": [
    {
     "data": {
      "text/plain": [
       "array([[1.1889849e-02, 6.0950413e-05, 1.7441624e-04, ..., 6.2612082e-05,\n",
       "        1.3398594e-04, 9.9577424e-05]], dtype=float32)"
      ]
     },
     "execution_count": 63,
     "metadata": {},
     "output_type": "execute_result"
    }
   ],
   "source": [
    "test_answer"
   ]
  },
  {
   "cell_type": "code",
   "execution_count": 64,
   "id": "7842439c",
   "metadata": {},
   "outputs": [],
   "source": [
    "test_answer_idxs = np.argpartition(test_answer[0],-5)[-5:]"
   ]
  },
  {
   "cell_type": "code",
   "execution_count": 65,
   "id": "661ed15e",
   "metadata": {},
   "outputs": [
    {
     "data": {
      "text/plain": [
       "array([3671, 2941, 1305, 3262, 2451])"
      ]
     },
     "execution_count": 65,
     "metadata": {},
     "output_type": "execute_result"
    }
   ],
   "source": [
    "test_answer_idxs"
   ]
  },
  {
   "cell_type": "code",
   "execution_count": 67,
   "id": "c2fb6c6b",
   "metadata": {},
   "outputs": [],
   "source": [
    "labels = y_dataframe_2.columns[1:]"
   ]
  },
  {
   "cell_type": "code",
   "execution_count": 68,
   "id": "aa16e890",
   "metadata": {},
   "outputs": [
    {
     "data": {
      "text/plain": [
       "Index(['whitehouse', 'site', 'foot', 'tablecloth', 'plater'], dtype='object')"
      ]
     },
     "execution_count": 68,
     "metadata": {},
     "output_type": "execute_result"
    }
   ],
   "source": [
    "labels[test_answer_idxs]"
   ]
  },
  {
   "cell_type": "code",
   "execution_count": 73,
   "id": "2121052e",
   "metadata": {},
   "outputs": [
    {
     "name": "stdout",
     "output_type": "stream",
     "text": [
      "1/1 [==============================] - 0s 22ms/step\n"
     ]
    }
   ],
   "source": [
    "test_answer_2 = model.predict(X_test_scaled[125].reshape(1,-1))"
   ]
  },
  {
   "cell_type": "code",
   "execution_count": 77,
   "id": "450006ae",
   "metadata": {},
   "outputs": [],
   "source": [
    "test_answer_idxs_2 = np.argpartition(test_answer_2[0],-5)[-5:]"
   ]
  },
  {
   "cell_type": "code",
   "execution_count": 78,
   "id": "ef2f46f4",
   "metadata": {},
   "outputs": [
    {
     "data": {
      "text/plain": [
       "array([3671, 2941, 1305, 3262, 2451])"
      ]
     },
     "execution_count": 78,
     "metadata": {},
     "output_type": "execute_result"
    }
   ],
   "source": [
    "test_answer_idxs_2"
   ]
  },
  {
   "cell_type": "code",
   "execution_count": 80,
   "id": "614c9fdb",
   "metadata": {},
   "outputs": [
    {
     "data": {
      "text/plain": [
       "Index(['whitehouse', 'site', 'foot', 'tablecloth', 'plater'], dtype='object')"
      ]
     },
     "execution_count": 80,
     "metadata": {},
     "output_type": "execute_result"
    }
   ],
   "source": [
    "labels[test_answer_idxs_2]"
   ]
  },
  {
   "cell_type": "code",
   "execution_count": 81,
   "id": "e1e5246f",
   "metadata": {},
   "outputs": [
    {
     "name": "stdout",
     "output_type": "stream",
     "text": [
      "1/1 [==============================] - 0s 23ms/step\n"
     ]
    }
   ],
   "source": [
    "test_answer_3 = model.predict(X_test_scaled[500].reshape(1,-1))"
   ]
  },
  {
   "cell_type": "code",
   "execution_count": 82,
   "id": "ba237b7a",
   "metadata": {},
   "outputs": [],
   "source": [
    "test_answer_idxs_3 = np.argpartition(test_answer_3[0],-5)[-5:]"
   ]
  },
  {
   "cell_type": "code",
   "execution_count": 83,
   "id": "2998c80f",
   "metadata": {},
   "outputs": [
    {
     "data": {
      "text/plain": [
       "array([1770, 2721, 3671,  269, 2941])"
      ]
     },
     "execution_count": 83,
     "metadata": {},
     "output_type": "execute_result"
    }
   ],
   "source": [
    "test_answer_idxs_3"
   ]
  },
  {
   "cell_type": "code",
   "execution_count": 84,
   "id": "c2fb0fc6",
   "metadata": {},
   "outputs": [
    {
     "data": {
      "text/plain": [
       "Index(['kite', 'roost', 'whitehouse', 'bathtub', 'site'], dtype='object')"
      ]
     },
     "execution_count": 84,
     "metadata": {},
     "output_type": "execute_result"
    }
   ],
   "source": [
    "labels[test_answer_idxs_3]"
   ]
  },
  {
   "cell_type": "code",
   "execution_count": null,
   "id": "974c7252",
   "metadata": {},
   "outputs": [],
   "source": []
  }
 ],
 "metadata": {
  "kernelspec": {
   "display_name": "Python 3 (ipykernel)",
   "language": "python",
   "name": "python3"
  },
  "language_info": {
   "codemirror_mode": {
    "name": "ipython",
    "version": 3
   },
   "file_extension": ".py",
   "mimetype": "text/x-python",
   "name": "python",
   "nbconvert_exporter": "python",
   "pygments_lexer": "ipython3",
   "version": "3.10.6"
  },
  "toc": {
   "base_numbering": 1,
   "nav_menu": {},
   "number_sections": true,
   "sideBar": true,
   "skip_h1_title": false,
   "title_cell": "Table of Contents",
   "title_sidebar": "Contents",
   "toc_cell": false,
   "toc_position": {},
   "toc_section_display": true,
   "toc_window_display": false
  }
 },
 "nbformat": 4,
 "nbformat_minor": 5
}
