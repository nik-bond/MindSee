{
 "cells": [
  {
   "cell_type": "code",
   "execution_count": 1,
   "id": "7d018da9",
   "metadata": {},
   "outputs": [],
   "source": [
    "import pandas as pd\n",
    "import numpy as np"
   ]
  },
  {
   "cell_type": "code",
   "execution_count": 2,
   "id": "8ae5ae5d",
   "metadata": {},
   "outputs": [
    {
     "name": "stderr",
     "output_type": "stream",
     "text": [
      "/var/folders/d1/xzw000453hgd1t8zbydcjg_80000gn/T/ipykernel_13775/2601136099.py:1: DtypeWarning: Columns (0) have mixed types. Specify dtype option on import or set low_memory=False.\n",
      "  y_df = pd.read_csv(\"y_dataframe.csv\")\n"
     ]
    }
   ],
   "source": [
    "y_df = pd.read_csv(\"y_dataframe.csv\")"
   ]
  },
  {
   "cell_type": "code",
   "execution_count": 3,
   "id": "5b567e3a",
   "metadata": {},
   "outputs": [],
   "source": [
    "y_train = y_df.iloc[:8859, 1:].to_numpy()"
   ]
  },
  {
   "cell_type": "code",
   "execution_count": 34,
   "id": "f98c1ea5",
   "metadata": {
    "scrolled": true
   },
   "outputs": [
    {
     "data": {
      "text/html": [
       "<div>\n",
       "<style scoped>\n",
       "    .dataframe tbody tr th:only-of-type {\n",
       "        vertical-align: middle;\n",
       "    }\n",
       "\n",
       "    .dataframe tbody tr th {\n",
       "        vertical-align: top;\n",
       "    }\n",
       "\n",
       "    .dataframe thead th {\n",
       "        text-align: right;\n",
       "    }\n",
       "</style>\n",
       "<table border=\"1\" class=\"dataframe\">\n",
       "  <thead>\n",
       "    <tr style=\"text-align: right;\">\n",
       "      <th></th>\n",
       "      <th>1950s</th>\n",
       "      <th>1970</th>\n",
       "      <th>1971</th>\n",
       "      <th>2009</th>\n",
       "      <th>4-way</th>\n",
       "      <th>abandon</th>\n",
       "      <th>about</th>\n",
       "      <th>above</th>\n",
       "      <th>abraham</th>\n",
       "      <th>abstract</th>\n",
       "      <th>...</th>\n",
       "      <th>yogurt</th>\n",
       "      <th>york</th>\n",
       "      <th>you</th>\n",
       "      <th>young</th>\n",
       "      <th>younger</th>\n",
       "      <th>youth</th>\n",
       "      <th>zebra</th>\n",
       "      <th>zip</th>\n",
       "      <th>zombie</th>\n",
       "      <th>zoo</th>\n",
       "    </tr>\n",
       "  </thead>\n",
       "  <tbody>\n",
       "    <tr>\n",
       "      <th>0</th>\n",
       "      <td>0</td>\n",
       "      <td>0</td>\n",
       "      <td>0</td>\n",
       "      <td>0</td>\n",
       "      <td>0</td>\n",
       "      <td>0</td>\n",
       "      <td>0</td>\n",
       "      <td>0</td>\n",
       "      <td>0</td>\n",
       "      <td>0</td>\n",
       "      <td>...</td>\n",
       "      <td>0</td>\n",
       "      <td>0</td>\n",
       "      <td>0</td>\n",
       "      <td>0</td>\n",
       "      <td>0</td>\n",
       "      <td>0</td>\n",
       "      <td>0</td>\n",
       "      <td>0</td>\n",
       "      <td>0</td>\n",
       "      <td>0</td>\n",
       "    </tr>\n",
       "    <tr>\n",
       "      <th>1</th>\n",
       "      <td>0</td>\n",
       "      <td>0</td>\n",
       "      <td>0</td>\n",
       "      <td>0</td>\n",
       "      <td>0</td>\n",
       "      <td>0</td>\n",
       "      <td>0</td>\n",
       "      <td>0</td>\n",
       "      <td>0</td>\n",
       "      <td>0</td>\n",
       "      <td>...</td>\n",
       "      <td>0</td>\n",
       "      <td>0</td>\n",
       "      <td>0</td>\n",
       "      <td>0</td>\n",
       "      <td>0</td>\n",
       "      <td>0</td>\n",
       "      <td>0</td>\n",
       "      <td>0</td>\n",
       "      <td>0</td>\n",
       "      <td>0</td>\n",
       "    </tr>\n",
       "    <tr>\n",
       "      <th>2</th>\n",
       "      <td>0</td>\n",
       "      <td>0</td>\n",
       "      <td>0</td>\n",
       "      <td>0</td>\n",
       "      <td>0</td>\n",
       "      <td>0</td>\n",
       "      <td>0</td>\n",
       "      <td>0</td>\n",
       "      <td>0</td>\n",
       "      <td>0</td>\n",
       "      <td>...</td>\n",
       "      <td>0</td>\n",
       "      <td>0</td>\n",
       "      <td>0</td>\n",
       "      <td>0</td>\n",
       "      <td>0</td>\n",
       "      <td>0</td>\n",
       "      <td>0</td>\n",
       "      <td>0</td>\n",
       "      <td>0</td>\n",
       "      <td>0</td>\n",
       "    </tr>\n",
       "    <tr>\n",
       "      <th>3</th>\n",
       "      <td>0</td>\n",
       "      <td>0</td>\n",
       "      <td>0</td>\n",
       "      <td>0</td>\n",
       "      <td>0</td>\n",
       "      <td>0</td>\n",
       "      <td>0</td>\n",
       "      <td>0</td>\n",
       "      <td>0</td>\n",
       "      <td>0</td>\n",
       "      <td>...</td>\n",
       "      <td>0</td>\n",
       "      <td>0</td>\n",
       "      <td>0</td>\n",
       "      <td>0</td>\n",
       "      <td>0</td>\n",
       "      <td>0</td>\n",
       "      <td>0</td>\n",
       "      <td>0</td>\n",
       "      <td>0</td>\n",
       "      <td>0</td>\n",
       "    </tr>\n",
       "    <tr>\n",
       "      <th>4</th>\n",
       "      <td>0</td>\n",
       "      <td>0</td>\n",
       "      <td>0</td>\n",
       "      <td>0</td>\n",
       "      <td>0</td>\n",
       "      <td>0</td>\n",
       "      <td>0</td>\n",
       "      <td>0</td>\n",
       "      <td>0</td>\n",
       "      <td>0</td>\n",
       "      <td>...</td>\n",
       "      <td>0</td>\n",
       "      <td>0</td>\n",
       "      <td>0</td>\n",
       "      <td>0</td>\n",
       "      <td>0</td>\n",
       "      <td>0</td>\n",
       "      <td>1</td>\n",
       "      <td>0</td>\n",
       "      <td>0</td>\n",
       "      <td>0</td>\n",
       "    </tr>\n",
       "    <tr>\n",
       "      <th>...</th>\n",
       "      <td>...</td>\n",
       "      <td>...</td>\n",
       "      <td>...</td>\n",
       "      <td>...</td>\n",
       "      <td>...</td>\n",
       "      <td>...</td>\n",
       "      <td>...</td>\n",
       "      <td>...</td>\n",
       "      <td>...</td>\n",
       "      <td>...</td>\n",
       "      <td>...</td>\n",
       "      <td>...</td>\n",
       "      <td>...</td>\n",
       "      <td>...</td>\n",
       "      <td>...</td>\n",
       "      <td>...</td>\n",
       "      <td>...</td>\n",
       "      <td>...</td>\n",
       "      <td>...</td>\n",
       "      <td>...</td>\n",
       "      <td>...</td>\n",
       "    </tr>\n",
       "    <tr>\n",
       "      <th>9836</th>\n",
       "      <td>0</td>\n",
       "      <td>0</td>\n",
       "      <td>0</td>\n",
       "      <td>0</td>\n",
       "      <td>0</td>\n",
       "      <td>0</td>\n",
       "      <td>0</td>\n",
       "      <td>0</td>\n",
       "      <td>0</td>\n",
       "      <td>0</td>\n",
       "      <td>...</td>\n",
       "      <td>0</td>\n",
       "      <td>0</td>\n",
       "      <td>0</td>\n",
       "      <td>0</td>\n",
       "      <td>0</td>\n",
       "      <td>0</td>\n",
       "      <td>0</td>\n",
       "      <td>0</td>\n",
       "      <td>0</td>\n",
       "      <td>0</td>\n",
       "    </tr>\n",
       "    <tr>\n",
       "      <th>9837</th>\n",
       "      <td>0</td>\n",
       "      <td>0</td>\n",
       "      <td>0</td>\n",
       "      <td>0</td>\n",
       "      <td>0</td>\n",
       "      <td>0</td>\n",
       "      <td>0</td>\n",
       "      <td>0</td>\n",
       "      <td>0</td>\n",
       "      <td>0</td>\n",
       "      <td>...</td>\n",
       "      <td>0</td>\n",
       "      <td>0</td>\n",
       "      <td>0</td>\n",
       "      <td>0</td>\n",
       "      <td>0</td>\n",
       "      <td>0</td>\n",
       "      <td>0</td>\n",
       "      <td>0</td>\n",
       "      <td>0</td>\n",
       "      <td>0</td>\n",
       "    </tr>\n",
       "    <tr>\n",
       "      <th>9838</th>\n",
       "      <td>0</td>\n",
       "      <td>0</td>\n",
       "      <td>0</td>\n",
       "      <td>0</td>\n",
       "      <td>0</td>\n",
       "      <td>0</td>\n",
       "      <td>0</td>\n",
       "      <td>0</td>\n",
       "      <td>0</td>\n",
       "      <td>0</td>\n",
       "      <td>...</td>\n",
       "      <td>0</td>\n",
       "      <td>0</td>\n",
       "      <td>0</td>\n",
       "      <td>0</td>\n",
       "      <td>0</td>\n",
       "      <td>0</td>\n",
       "      <td>0</td>\n",
       "      <td>0</td>\n",
       "      <td>0</td>\n",
       "      <td>0</td>\n",
       "    </tr>\n",
       "    <tr>\n",
       "      <th>9839</th>\n",
       "      <td>0</td>\n",
       "      <td>0</td>\n",
       "      <td>0</td>\n",
       "      <td>0</td>\n",
       "      <td>0</td>\n",
       "      <td>0</td>\n",
       "      <td>0</td>\n",
       "      <td>0</td>\n",
       "      <td>0</td>\n",
       "      <td>0</td>\n",
       "      <td>...</td>\n",
       "      <td>0</td>\n",
       "      <td>0</td>\n",
       "      <td>0</td>\n",
       "      <td>0</td>\n",
       "      <td>0</td>\n",
       "      <td>0</td>\n",
       "      <td>0</td>\n",
       "      <td>0</td>\n",
       "      <td>0</td>\n",
       "      <td>0</td>\n",
       "    </tr>\n",
       "    <tr>\n",
       "      <th>9840</th>\n",
       "      <td>0</td>\n",
       "      <td>0</td>\n",
       "      <td>0</td>\n",
       "      <td>0</td>\n",
       "      <td>0</td>\n",
       "      <td>0</td>\n",
       "      <td>0</td>\n",
       "      <td>0</td>\n",
       "      <td>0</td>\n",
       "      <td>0</td>\n",
       "      <td>...</td>\n",
       "      <td>0</td>\n",
       "      <td>0</td>\n",
       "      <td>0</td>\n",
       "      <td>0</td>\n",
       "      <td>0</td>\n",
       "      <td>0</td>\n",
       "      <td>0</td>\n",
       "      <td>0</td>\n",
       "      <td>0</td>\n",
       "      <td>0</td>\n",
       "    </tr>\n",
       "  </tbody>\n",
       "</table>\n",
       "<p>9841 rows × 2637 columns</p>\n",
       "</div>"
      ],
      "text/plain": [
       "      1950s  1970  1971  2009  4-way  abandon  about  above  abraham  \\\n",
       "0         0     0     0     0      0        0      0      0        0   \n",
       "1         0     0     0     0      0        0      0      0        0   \n",
       "2         0     0     0     0      0        0      0      0        0   \n",
       "3         0     0     0     0      0        0      0      0        0   \n",
       "4         0     0     0     0      0        0      0      0        0   \n",
       "...     ...   ...   ...   ...    ...      ...    ...    ...      ...   \n",
       "9836      0     0     0     0      0        0      0      0        0   \n",
       "9837      0     0     0     0      0        0      0      0        0   \n",
       "9838      0     0     0     0      0        0      0      0        0   \n",
       "9839      0     0     0     0      0        0      0      0        0   \n",
       "9840      0     0     0     0      0        0      0      0        0   \n",
       "\n",
       "      abstract  ...  yogurt  york  you  young  younger  youth  zebra  zip  \\\n",
       "0            0  ...       0     0    0      0        0      0      0    0   \n",
       "1            0  ...       0     0    0      0        0      0      0    0   \n",
       "2            0  ...       0     0    0      0        0      0      0    0   \n",
       "3            0  ...       0     0    0      0        0      0      0    0   \n",
       "4            0  ...       0     0    0      0        0      0      1    0   \n",
       "...        ...  ...     ...   ...  ...    ...      ...    ...    ...  ...   \n",
       "9836         0  ...       0     0    0      0        0      0      0    0   \n",
       "9837         0  ...       0     0    0      0        0      0      0    0   \n",
       "9838         0  ...       0     0    0      0        0      0      0    0   \n",
       "9839         0  ...       0     0    0      0        0      0      0    0   \n",
       "9840         0  ...       0     0    0      0        0      0      0    0   \n",
       "\n",
       "      zombie  zoo  \n",
       "0          0    0  \n",
       "1          0    0  \n",
       "2          0    0  \n",
       "3          0    0  \n",
       "4          0    0  \n",
       "...      ...  ...  \n",
       "9836       0    0  \n",
       "9837       0    0  \n",
       "9838       0    0  \n",
       "9839       0    0  \n",
       "9840       0    0  \n",
       "\n",
       "[9841 rows x 2637 columns]"
      ]
     },
     "execution_count": 34,
     "metadata": {},
     "output_type": "execute_result"
    }
   ],
   "source": [
    "y_df"
   ]
  },
  {
   "cell_type": "code",
   "execution_count": 5,
   "id": "95603fd3",
   "metadata": {},
   "outputs": [],
   "source": [
    "y_df.drop(columns = [\"Unnamed: 0\"], inplace = True)"
   ]
  },
  {
   "cell_type": "code",
   "execution_count": 6,
   "id": "ff2ccd3c",
   "metadata": {},
   "outputs": [],
   "source": [
    "X_train = np.load(\"nsd_train_fmriavg_nsdgeneral_sub1.npy\")"
   ]
  },
  {
   "cell_type": "code",
   "execution_count": 7,
   "id": "3fa52f1b",
   "metadata": {},
   "outputs": [],
   "source": [
    "from sklearn.preprocessing import RobustScaler"
   ]
  },
  {
   "cell_type": "code",
   "execution_count": 8,
   "id": "68f749c5",
   "metadata": {},
   "outputs": [],
   "source": [
    "scaler = RobustScaler()"
   ]
  },
  {
   "cell_type": "code",
   "execution_count": 9,
   "id": "9bd4a53e",
   "metadata": {},
   "outputs": [],
   "source": [
    "X_scaled = scaler.fit_transform(X_train)"
   ]
  },
  {
   "cell_type": "code",
   "execution_count": 10,
   "id": "ee7e55d8",
   "metadata": {},
   "outputs": [],
   "source": [
    "from tensorflow.keras import Sequential\n",
    "from tensorflow.keras import layers"
   ]
  },
  {
   "cell_type": "code",
   "execution_count": 11,
   "id": "233fc876",
   "metadata": {},
   "outputs": [
    {
     "name": "stdout",
     "output_type": "stream",
     "text": [
      "Metal device set to: Apple M2 Pro\n"
     ]
    },
    {
     "name": "stderr",
     "output_type": "stream",
     "text": [
      "2023-06-12 11:47:33.618177: I tensorflow/core/common_runtime/pluggable_device/pluggable_device_factory.cc:303] Could not identify NUMA node of platform GPU ID 0, defaulting to 0. Your kernel may not have been built with NUMA support.\n",
      "2023-06-12 11:47:33.618194: I tensorflow/core/common_runtime/pluggable_device/pluggable_device_factory.cc:269] Created TensorFlow device (/job:localhost/replica:0/task:0/device:GPU:0 with 0 MB memory) -> physical PluggableDevice (device: 0, name: METAL, pci bus id: <undefined>)\n"
     ]
    }
   ],
   "source": [
    "model = Sequential([layers.Dense(100, input_shape = (15724,), activation = \"relu\"),\n",
    "                  layers.Dense(100, activation = \"relu\"),\n",
    "                    layers.Dropout(0.5),\n",
    "                  layers.Dense(200, activation = \"relu\"),\n",
    "                    layers.Dropout(0.5),\n",
    "                  layers.Dense(500, activation = \"relu\"),\n",
    "                    layers.Dropout(0.5),\n",
    "                    layers.Dense(500, activation = \"relu\"),\n",
    "                    layers.Dropout(0.5),\n",
    "                    layers.Dense(1000, activation = \"relu\"),\n",
    "                    layers.Dropout(0.5),\n",
    "                    layers.Dense(2000, activation = \"relu\"),\n",
    "                  layers.Dense(2637, activation = \"sigmoid\")])"
   ]
  },
  {
   "cell_type": "code",
   "execution_count": 12,
   "id": "f3f99e43",
   "metadata": {},
   "outputs": [],
   "source": [
    "model.compile(loss = \"binary_crossentropy\", optimizer = \"adam\")"
   ]
  },
  {
   "cell_type": "code",
   "execution_count": 13,
   "id": "f020087a",
   "metadata": {
    "scrolled": true
   },
   "outputs": [
    {
     "name": "stdout",
     "output_type": "stream",
     "text": [
      "Epoch 1/30\n"
     ]
    },
    {
     "name": "stderr",
     "output_type": "stream",
     "text": [
      "2023-06-12 11:47:35.343079: I tensorflow/core/grappler/optimizers/custom_graph_optimizer_registry.cc:114] Plugin optimizer for device_type GPU is enabled.\n",
      "2023-06-12 11:47:35.363244: E tensorflow/core/grappler/optimizers/meta_optimizer.cc:954] PluggableGraphOptimizer failed: INVALID_ARGUMENT: Unparseable tensorflow.GraphDef proto\n",
      "2023-06-12 11:47:35.371513: E tensorflow/core/grappler/optimizers/meta_optimizer.cc:954] PluggableGraphOptimizer failed: INVALID_ARGUMENT: Unparseable tensorflow.GraphDef proto\n"
     ]
    },
    {
     "name": "stdout",
     "output_type": "stream",
     "text": [
      "250/250 [==============================] - ETA: 0s - loss: 0.0190"
     ]
    },
    {
     "name": "stderr",
     "output_type": "stream",
     "text": [
      "2023-06-12 11:47:38.476864: I tensorflow/core/grappler/optimizers/custom_graph_optimizer_registry.cc:114] Plugin optimizer for device_type GPU is enabled.\n",
      "2023-06-12 11:47:38.481759: E tensorflow/core/grappler/optimizers/meta_optimizer.cc:954] PluggableGraphOptimizer failed: INVALID_ARGUMENT: Unparseable tensorflow.GraphDef proto\n",
      "2023-06-12 11:47:38.484101: E tensorflow/core/grappler/optimizers/meta_optimizer.cc:954] PluggableGraphOptimizer failed: INVALID_ARGUMENT: Unparseable tensorflow.GraphDef proto\n"
     ]
    },
    {
     "name": "stdout",
     "output_type": "stream",
     "text": [
      "250/250 [==============================] - 4s 12ms/step - loss: 0.0190 - val_loss: 0.0952\n",
      "Epoch 2/30\n",
      "250/250 [==============================] - 3s 10ms/step - loss: 0.0098 - val_loss: 0.0566\n",
      "Epoch 3/30\n",
      "250/250 [==============================] - 3s 10ms/step - loss: 0.0090 - val_loss: 0.0264\n",
      "Epoch 4/30\n",
      "250/250 [==============================] - 3s 11ms/step - loss: 0.0086 - val_loss: 0.0122\n",
      "Epoch 5/30\n",
      "250/250 [==============================] - 3s 10ms/step - loss: 0.0082 - val_loss: 0.0091\n",
      "Epoch 6/30\n",
      "250/250 [==============================] - 3s 10ms/step - loss: 0.0080 - val_loss: 0.0084\n",
      "Epoch 7/30\n",
      "250/250 [==============================] - 3s 11ms/step - loss: 0.0078 - val_loss: 0.0082\n",
      "Epoch 8/30\n",
      "250/250 [==============================] - 3s 10ms/step - loss: 0.0076 - val_loss: 0.0081\n",
      "Epoch 9/30\n",
      "250/250 [==============================] - 3s 11ms/step - loss: 0.0075 - val_loss: 0.0081\n",
      "Epoch 10/30\n",
      "250/250 [==============================] - 3s 10ms/step - loss: 0.0074 - val_loss: 0.0080\n",
      "Epoch 11/30\n",
      "250/250 [==============================] - 3s 10ms/step - loss: 0.0073 - val_loss: 0.0079\n",
      "Epoch 12/30\n",
      "250/250 [==============================] - 3s 10ms/step - loss: 0.0072 - val_loss: 0.0079\n",
      "Epoch 13/30\n",
      "250/250 [==============================] - 3s 10ms/step - loss: 0.0071 - val_loss: 0.0078\n",
      "Epoch 14/30\n",
      "250/250 [==============================] - 3s 11ms/step - loss: 0.0070 - val_loss: 0.0079\n",
      "Epoch 15/30\n",
      "250/250 [==============================] - 3s 11ms/step - loss: 0.0069 - val_loss: 0.0079\n",
      "Epoch 16/30\n",
      "250/250 [==============================] - 3s 10ms/step - loss: 0.0068 - val_loss: 0.0079\n",
      "Epoch 17/30\n",
      "250/250 [==============================] - 3s 10ms/step - loss: 0.0068 - val_loss: 0.0078\n",
      "Epoch 18/30\n",
      "250/250 [==============================] - 3s 10ms/step - loss: 0.0067 - val_loss: 0.0079\n",
      "Epoch 19/30\n",
      "250/250 [==============================] - 3s 10ms/step - loss: 0.0067 - val_loss: 0.0080\n",
      "Epoch 20/30\n",
      "250/250 [==============================] - 3s 11ms/step - loss: 0.0066 - val_loss: 0.0079\n",
      "Epoch 21/30\n",
      "250/250 [==============================] - 3s 10ms/step - loss: 0.0065 - val_loss: 0.0079\n",
      "Epoch 22/30\n",
      "250/250 [==============================] - 3s 10ms/step - loss: 0.0065 - val_loss: 0.0080\n",
      "Epoch 23/30\n",
      "250/250 [==============================] - 3s 10ms/step - loss: 0.0064 - val_loss: 0.0081\n",
      "Epoch 24/30\n",
      "250/250 [==============================] - 3s 11ms/step - loss: 0.0064 - val_loss: 0.0080\n",
      "Epoch 25/30\n",
      "250/250 [==============================] - 3s 10ms/step - loss: 0.0063 - val_loss: 0.0080\n",
      "Epoch 26/30\n",
      "250/250 [==============================] - 3s 10ms/step - loss: 0.0063 - val_loss: 0.0081\n",
      "Epoch 27/30\n",
      "250/250 [==============================] - 3s 10ms/step - loss: 0.0062 - val_loss: 0.0080\n",
      "Epoch 28/30\n",
      "250/250 [==============================] - 3s 10ms/step - loss: 0.0062 - val_loss: 0.0082\n",
      "Epoch 29/30\n",
      "250/250 [==============================] - 3s 10ms/step - loss: 0.0061 - val_loss: 0.0081\n",
      "Epoch 30/30\n",
      "250/250 [==============================] - 3s 11ms/step - loss: 0.0061 - val_loss: 0.0082\n"
     ]
    },
    {
     "data": {
      "text/plain": [
       "<keras.src.callbacks.History at 0x1305e4ac0>"
      ]
     },
     "execution_count": 13,
     "metadata": {},
     "output_type": "execute_result"
    }
   ],
   "source": [
    "model.fit(X_scaled, y_train, validation_split=0.1, batch_size = 32, epochs = 30)"
   ]
  },
  {
   "cell_type": "code",
   "execution_count": 14,
   "id": "11719ba1",
   "metadata": {},
   "outputs": [],
   "source": [
    "X_test = np.load(\"nsd_test_fmriavg_nsdgeneral_sub1.npy\")"
   ]
  },
  {
   "cell_type": "code",
   "execution_count": 15,
   "id": "153d18c9",
   "metadata": {},
   "outputs": [],
   "source": [
    "X_test_scaled = scaler.transform(X_test)"
   ]
  },
  {
   "cell_type": "code",
   "execution_count": 74,
   "id": "67df14bb",
   "metadata": {},
   "outputs": [
    {
     "name": "stdout",
     "output_type": "stream",
     "text": [
      "1/1 [==============================] - 0s 16ms/step\n"
     ]
    }
   ],
   "source": [
    "test_answer = model.predict(X_test_scaled[4].reshape(1,-1))"
   ]
  },
  {
   "cell_type": "code",
   "execution_count": 75,
   "id": "00237f8e",
   "metadata": {},
   "outputs": [],
   "source": [
    "labels = y_df.columns"
   ]
  },
  {
   "cell_type": "code",
   "execution_count": 76,
   "id": "3b4c1400",
   "metadata": {},
   "outputs": [
    {
     "data": {
      "text/plain": [
       "Index(['1950s', '1970', '1971', '2009', '4-way', 'abandon', 'about', 'above',\n",
       "       'abraham', 'abstract',\n",
       "       ...\n",
       "       'yogurt', 'york', 'you', 'young', 'younger', 'youth', 'zebra', 'zip',\n",
       "       'zombie', 'zoo'],\n",
       "      dtype='object', length=2637)"
      ]
     },
     "execution_count": 76,
     "metadata": {},
     "output_type": "execute_result"
    }
   ],
   "source": [
    "labels"
   ]
  },
  {
   "cell_type": "code",
   "execution_count": 77,
   "id": "c1bc85a0",
   "metadata": {
    "scrolled": true
   },
   "outputs": [
    {
     "data": {
      "text/plain": [
       "array([[3.9359084e-06, 4.5505162e-06, 7.9655656e-06, ..., 1.9370495e-04,\n",
       "        4.3466498e-06, 7.8796899e-07]], dtype=float32)"
      ]
     },
     "execution_count": 77,
     "metadata": {},
     "output_type": "execute_result"
    }
   ],
   "source": [
    "test_answer"
   ]
  },
  {
   "cell_type": "code",
   "execution_count": 78,
   "id": "c6805544",
   "metadata": {},
   "outputs": [
    {
     "data": {
      "text/plain": [
       "array([0.43375233], dtype=float32)"
      ]
     },
     "execution_count": 78,
     "metadata": {},
     "output_type": "execute_result"
    }
   ],
   "source": [
    "test_answer[test_answer>0.4]"
   ]
  },
  {
   "cell_type": "code",
   "execution_count": 79,
   "id": "c8c4d6ec",
   "metadata": {},
   "outputs": [],
   "source": [
    "test_answer_idxs = np.argpartition(test_answer[0],-2)[-2:]"
   ]
  },
  {
   "cell_type": "code",
   "execution_count": 80,
   "id": "20bdb90b",
   "metadata": {},
   "outputs": [
    {
     "data": {
      "text/plain": [
       "Index(['build', 'clock'], dtype='object')"
      ]
     },
     "execution_count": 80,
     "metadata": {},
     "output_type": "execute_result"
    }
   ],
   "source": [
    "labels[test_answer_idxs]"
   ]
  },
  {
   "cell_type": "code",
   "execution_count": null,
   "id": "2c03cecc",
   "metadata": {},
   "outputs": [],
   "source": []
  },
  {
   "cell_type": "code",
   "execution_count": null,
   "id": "960629c3",
   "metadata": {},
   "outputs": [],
   "source": []
  }
 ],
 "metadata": {
  "kernelspec": {
   "display_name": "Python 3 (ipykernel)",
   "language": "python",
   "name": "python3"
  },
  "language_info": {
   "codemirror_mode": {
    "name": "ipython",
    "version": 3
   },
   "file_extension": ".py",
   "mimetype": "text/x-python",
   "name": "python",
   "nbconvert_exporter": "python",
   "pygments_lexer": "ipython3",
   "version": "3.10.6"
  },
  "nbTranslate": {
   "displayLangs": [
    "*"
   ],
   "hotkey": "",
   "langInMainMenu": true,
   "sourceLang": "fr",
   "targetLang": "en",
   "useGoogleTranslate": true
  },
  "toc": {
   "base_numbering": 1,
   "nav_menu": {},
   "number_sections": true,
   "sideBar": true,
   "skip_h1_title": false,
   "title_cell": "Table of Contents",
   "title_sidebar": "Contents",
   "toc_cell": false,
   "toc_position": {},
   "toc_section_display": true,
   "toc_window_display": false
  }
 },
 "nbformat": 4,
 "nbformat_minor": 5
}
