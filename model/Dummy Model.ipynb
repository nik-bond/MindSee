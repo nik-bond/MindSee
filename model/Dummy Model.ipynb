{
 "cells": [
  {
   "cell_type": "markdown",
   "id": "70d55a62",
   "metadata": {},
   "source": [
    "# Model Code"
   ]
  },
  {
   "cell_type": "code",
   "execution_count": 1,
   "id": "e7a54334",
   "metadata": {},
   "outputs": [],
   "source": [
    "import numpy as np\n",
    "nsd_train_cap_sub1 = np.load('nsd_train_cap_sub1.npy', allow_pickle=True)\n",
    "nsd_train_fmriavg_nsdgeneral_sub1 = np.load('nsd_train_fmriavg_nsdgeneral_sub1.npy', allow_pickle=True)\n",
    "nsd_test_cap_sub1 = np.load('nsd_test_cap_sub1.npy', allow_pickle=True)\n",
    "nsd_test_fmriavg_nsdgeneral_sub1 = np.load('nsd_test_fmriavg_nsdgeneral_sub1.npy', allow_pickle=True)"
   ]
  },
  {
   "cell_type": "code",
   "execution_count": 2,
   "id": "46ddf126",
   "metadata": {},
   "outputs": [],
   "source": [
    "X_train_fmri = nsd_train_fmriavg_nsdgeneral_sub1\n",
    "X_test_fmri = nsd_test_fmriavg_nsdgeneral_sub1"
   ]
  },
  {
   "cell_type": "code",
   "execution_count": 3,
   "id": "b0a387d8",
   "metadata": {},
   "outputs": [
    {
     "data": {
      "text/plain": [
       "numpy.ndarray"
      ]
     },
     "execution_count": 3,
     "metadata": {},
     "output_type": "execute_result"
    }
   ],
   "source": [
    "type(X_train_fmri)"
   ]
  },
  {
   "cell_type": "code",
   "execution_count": 4,
   "id": "1adc0205",
   "metadata": {},
   "outputs": [
    {
     "data": {
      "text/plain": [
       "(8859, 15724)"
      ]
     },
     "execution_count": 4,
     "metadata": {},
     "output_type": "execute_result"
    }
   ],
   "source": [
    "X_train_fmri.shape"
   ]
  },
  {
   "cell_type": "code",
   "execution_count": 5,
   "id": "7ab106d4",
   "metadata": {},
   "outputs": [
    {
     "data": {
      "text/plain": [
       "(15724,)"
      ]
     },
     "execution_count": 5,
     "metadata": {},
     "output_type": "execute_result"
    }
   ],
   "source": [
    "X_train_fmri[0].shape"
   ]
  },
  {
   "cell_type": "code",
   "execution_count": 6,
   "id": "e5935765",
   "metadata": {},
   "outputs": [
    {
     "data": {
      "text/plain": [
       "(-3784.333251953125, 11740.0)"
      ]
     },
     "execution_count": 6,
     "metadata": {},
     "output_type": "execute_result"
    }
   ],
   "source": [
    "X_train_fmri[0].min(), X_train_fmri[0].max()"
   ]
  },
  {
   "cell_type": "code",
   "execution_count": 7,
   "id": "c7799e97",
   "metadata": {},
   "outputs": [
    {
     "data": {
      "text/plain": [
       "array([[0],\n",
       "       [1],\n",
       "       [1],\n",
       "       [0],\n",
       "       [0],\n",
       "       [1],\n",
       "       [1],\n",
       "       [0],\n",
       "       [0],\n",
       "       [1]])"
      ]
     },
     "execution_count": 7,
     "metadata": {},
     "output_type": "execute_result"
    }
   ],
   "source": [
    "np.random.randint(2, size=10).reshape(10,1)"
   ]
  },
  {
   "cell_type": "code",
   "execution_count": 8,
   "id": "3108bc0e",
   "metadata": {},
   "outputs": [],
   "source": [
    "no_of_y = [1, 2, 3, 4, 5, 6, 7, 8, 9, 10]"
   ]
  },
  {
   "cell_type": "code",
   "execution_count": 9,
   "id": "988fa555",
   "metadata": {},
   "outputs": [],
   "source": [
    "made_up_y = []\n",
    "\n",
    "for i in no_of_y:\n",
    "    y_vector = np.random.randint(2, size=10)#.reshape(10,1)\n",
    "    made_up_y.append(y_vector)"
   ]
  },
  {
   "cell_type": "code",
   "execution_count": 10,
   "id": "45ba0d6f",
   "metadata": {
    "scrolled": true
   },
   "outputs": [
    {
     "data": {
      "text/plain": [
       "[array([1, 1, 0, 0, 0, 1, 0, 0, 0, 1]),\n",
       " array([0, 0, 1, 0, 1, 0, 1, 1, 1, 1]),\n",
       " array([1, 1, 1, 0, 1, 1, 1, 0, 1, 0]),\n",
       " array([0, 0, 1, 1, 1, 1, 1, 1, 0, 1]),\n",
       " array([1, 0, 0, 1, 1, 0, 1, 0, 1, 0]),\n",
       " array([0, 0, 0, 1, 1, 0, 1, 1, 0, 1]),\n",
       " array([0, 1, 1, 0, 1, 0, 1, 0, 0, 0]),\n",
       " array([1, 1, 0, 1, 0, 0, 1, 0, 0, 1]),\n",
       " array([0, 1, 1, 0, 1, 1, 0, 1, 0, 1]),\n",
       " array([0, 0, 1, 1, 0, 1, 0, 0, 0, 1])]"
      ]
     },
     "execution_count": 10,
     "metadata": {},
     "output_type": "execute_result"
    }
   ],
   "source": [
    "made_up_y "
   ]
  },
  {
   "cell_type": "code",
   "execution_count": 11,
   "id": "0eff552f",
   "metadata": {},
   "outputs": [
    {
     "data": {
      "text/plain": [
       "numpy.ndarray"
      ]
     },
     "execution_count": 11,
     "metadata": {},
     "output_type": "execute_result"
    }
   ],
   "source": [
    "type(made_up_y[0])"
   ]
  },
  {
   "cell_type": "code",
   "execution_count": 12,
   "id": "a606e2ac",
   "metadata": {},
   "outputs": [],
   "source": [
    "sliced_X_train = X_train_fmri[0:10]"
   ]
  },
  {
   "cell_type": "code",
   "execution_count": 13,
   "id": "b2e0eb2e",
   "metadata": {},
   "outputs": [
    {
     "data": {
      "text/plain": [
       "array([-208.66667175,   10.33333302,  222.        , ...,  508.        ,\n",
       "       1158.        ,  771.66668701])"
      ]
     },
     "execution_count": 13,
     "metadata": {},
     "output_type": "execute_result"
    }
   ],
   "source": [
    "sliced_X_train[0]"
   ]
  },
  {
   "cell_type": "code",
   "execution_count": null,
   "id": "92fdf576",
   "metadata": {},
   "outputs": [],
   "source": []
  },
  {
   "cell_type": "code",
   "execution_count": null,
   "id": "8126c490",
   "metadata": {},
   "outputs": [],
   "source": []
  },
  {
   "cell_type": "code",
   "execution_count": 14,
   "id": "4871e8a9",
   "metadata": {},
   "outputs": [
    {
     "data": {
      "text/plain": [
       "10"
      ]
     },
     "execution_count": 14,
     "metadata": {},
     "output_type": "execute_result"
    }
   ],
   "source": [
    "len(sliced_X_train)"
   ]
  },
  {
   "cell_type": "code",
   "execution_count": 15,
   "id": "615b4e5f",
   "metadata": {},
   "outputs": [],
   "source": [
    "from tensorflow.keras import Sequential, layers, models\n"
   ]
  },
  {
   "cell_type": "code",
   "execution_count": 16,
   "id": "db24878b",
   "metadata": {},
   "outputs": [],
   "source": [
    "model = models.Sequential()\n",
    "\n",
    "model.add(layers.Dense(5, activation='relu', input_dim=15724)) \n",
    "model.add(layers.Dense(4, activation='relu')) \n",
    "model.add(layers.Dense(3, activation='relu')) \n",
    "\n",
    "model.add(layers.Dense(10, activation='sigmoid'))\n",
    "\n"
   ]
  },
  {
   "cell_type": "code",
   "execution_count": 17,
   "id": "5627be93",
   "metadata": {},
   "outputs": [],
   "source": [
    "model.compile(optimizer='rmsprop',\n",
    "    loss='binary_crossentropy')"
   ]
  },
  {
   "cell_type": "code",
   "execution_count": 18,
   "id": "258d6620",
   "metadata": {},
   "outputs": [
    {
     "data": {
      "text/plain": [
       "(10, 15724)"
      ]
     },
     "execution_count": 18,
     "metadata": {},
     "output_type": "execute_result"
    }
   ],
   "source": [
    "sliced_X_train.shape"
   ]
  },
  {
   "cell_type": "code",
   "execution_count": 19,
   "id": "f89861fc",
   "metadata": {},
   "outputs": [],
   "source": [
    "made_up_y = np.array(made_up_y)"
   ]
  },
  {
   "cell_type": "code",
   "execution_count": 20,
   "id": "7300ac53",
   "metadata": {
    "collapsed": true
   },
   "outputs": [
    {
     "name": "stdout",
     "output_type": "stream",
     "text": [
      "Epoch 1/30\n",
      "1/1 [==============================] - 0s 250ms/step - loss: 9.7129 - val_loss: 0.6934\n",
      "Epoch 2/30\n",
      "1/1 [==============================] - 0s 8ms/step - loss: 0.6929 - val_loss: 0.6932\n",
      "Epoch 3/30\n",
      "1/1 [==============================] - 0s 10ms/step - loss: 0.6927 - val_loss: 0.6931\n",
      "Epoch 4/30\n",
      "1/1 [==============================] - 0s 9ms/step - loss: 0.6925 - val_loss: 0.6930\n",
      "Epoch 5/30\n",
      "1/1 [==============================] - 0s 10ms/step - loss: 0.6923 - val_loss: 0.6929\n",
      "Epoch 6/30\n",
      "1/1 [==============================] - 0s 10ms/step - loss: 0.6921 - val_loss: 0.6929\n",
      "Epoch 7/30\n",
      "1/1 [==============================] - 0s 11ms/step - loss: 0.6920 - val_loss: 0.6928\n",
      "Epoch 8/30\n",
      "1/1 [==============================] - 0s 11ms/step - loss: 0.6918 - val_loss: 0.6927\n",
      "Epoch 9/30\n",
      "1/1 [==============================] - 0s 9ms/step - loss: 0.6916 - val_loss: 0.6926\n",
      "Epoch 10/30\n",
      "1/1 [==============================] - 0s 11ms/step - loss: 0.6915 - val_loss: 0.6926\n",
      "Epoch 11/30\n",
      "1/1 [==============================] - 0s 10ms/step - loss: 0.6914 - val_loss: 0.6925\n",
      "Epoch 12/30\n",
      "1/1 [==============================] - 0s 9ms/step - loss: 0.6912 - val_loss: 0.6924\n",
      "Epoch 13/30\n",
      "1/1 [==============================] - 0s 10ms/step - loss: 0.6911 - val_loss: 0.6924\n",
      "Epoch 14/30\n",
      "1/1 [==============================] - 0s 11ms/step - loss: 0.6909 - val_loss: 0.6923\n",
      "Epoch 15/30\n",
      "1/1 [==============================] - 0s 9ms/step - loss: 0.6908 - val_loss: 0.6922\n",
      "Epoch 16/30\n",
      "1/1 [==============================] - 0s 11ms/step - loss: 0.6907 - val_loss: 0.6922\n",
      "Epoch 17/30\n",
      "1/1 [==============================] - 0s 10ms/step - loss: 0.6905 - val_loss: 0.6921\n",
      "Epoch 18/30\n",
      "1/1 [==============================] - 0s 9ms/step - loss: 0.6904 - val_loss: 0.6920\n",
      "Epoch 19/30\n",
      "1/1 [==============================] - 0s 10ms/step - loss: 0.6903 - val_loss: 0.6920\n",
      "Epoch 20/30\n",
      "1/1 [==============================] - 0s 10ms/step - loss: 0.6901 - val_loss: 0.6919\n",
      "Epoch 21/30\n",
      "1/1 [==============================] - 0s 10ms/step - loss: 0.6900 - val_loss: 0.6919\n",
      "Epoch 22/30\n",
      "1/1 [==============================] - 0s 11ms/step - loss: 0.6899 - val_loss: 0.6918\n",
      "Epoch 23/30\n",
      "1/1 [==============================] - 0s 9ms/step - loss: 0.6898 - val_loss: 0.6917\n",
      "Epoch 24/30\n",
      "1/1 [==============================] - 0s 11ms/step - loss: 0.6896 - val_loss: 0.6917\n",
      "Epoch 25/30\n",
      "1/1 [==============================] - 0s 10ms/step - loss: 0.6895 - val_loss: 0.6916\n",
      "Epoch 26/30\n",
      "1/1 [==============================] - 0s 10ms/step - loss: 0.6894 - val_loss: 0.6916\n",
      "Epoch 27/30\n",
      "1/1 [==============================] - 0s 11ms/step - loss: 0.6893 - val_loss: 0.6915\n",
      "Epoch 28/30\n",
      "1/1 [==============================] - 0s 10ms/step - loss: 0.6891 - val_loss: 0.6915\n",
      "Epoch 29/30\n",
      "1/1 [==============================] - 0s 10ms/step - loss: 0.6890 - val_loss: 0.6914\n",
      "Epoch 30/30\n",
      "1/1 [==============================] - 0s 11ms/step - loss: 0.6889 - val_loss: 0.6913\n"
     ]
    }
   ],
   "source": [
    "history = model.fit(sliced_X_train,\n",
    "          made_up_y, \n",
    "          validation_split = 0.3,\n",
    "          epochs=30)"
   ]
  },
  {
   "cell_type": "code",
   "execution_count": 21,
   "id": "598c9d8b",
   "metadata": {},
   "outputs": [
    {
     "name": "stdout",
     "output_type": "stream",
     "text": [
      "1/1 [==============================] - 0s 43ms/step\n"
     ]
    }
   ],
   "source": [
    "result = model.predict(sliced_X_train[8:11])"
   ]
  },
  {
   "cell_type": "code",
   "execution_count": 22,
   "id": "07a25d2e",
   "metadata": {},
   "outputs": [
    {
     "data": {
      "text/plain": [
       "array([0.49203265, 0.49201334, 0.50798666, 0.49203265, 0.50936204,\n",
       "       0.49203265, 0.50936204, 0.49201334, 0.49201313, 0.5079674 ],\n",
       "      dtype=float32)"
      ]
     },
     "execution_count": 22,
     "metadata": {},
     "output_type": "execute_result"
    }
   ],
   "source": [
    "result[0]"
   ]
  },
  {
   "cell_type": "code",
   "execution_count": 23,
   "id": "a7f36668",
   "metadata": {},
   "outputs": [
    {
     "data": {
      "text/plain": [
       "(10,)"
      ]
     },
     "execution_count": 23,
     "metadata": {},
     "output_type": "execute_result"
    }
   ],
   "source": [
    "result[0].shape"
   ]
  }
 ],
 "metadata": {
  "kernelspec": {
   "display_name": "Python 3 (ipykernel)",
   "language": "python",
   "name": "python3"
  },
  "language_info": {
   "codemirror_mode": {
    "name": "ipython",
    "version": 3
   },
   "file_extension": ".py",
   "mimetype": "text/x-python",
   "name": "python",
   "nbconvert_exporter": "python",
   "pygments_lexer": "ipython3",
   "version": "3.10.6"
  },
  "toc": {
   "base_numbering": 1,
   "nav_menu": {},
   "number_sections": true,
   "sideBar": true,
   "skip_h1_title": false,
   "title_cell": "Table of Contents",
   "title_sidebar": "Contents",
   "toc_cell": false,
   "toc_position": {},
   "toc_section_display": true,
   "toc_window_display": false
  }
 },
 "nbformat": 4,
 "nbformat_minor": 5
}
