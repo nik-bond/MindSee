{
 "cells": [
  {
   "cell_type": "code",
   "execution_count": 2,
   "id": "7d018da9",
   "metadata": {},
   "outputs": [
    {
     "name": "stderr",
     "output_type": "stream",
     "text": [
      "2023-06-12 23:21:05.983386: I tensorflow/core/platform/cpu_feature_guard.cc:193] This TensorFlow binary is optimized with oneAPI Deep Neural Network Library (oneDNN) to use the following CPU instructions in performance-critical operations:  AVX2 FMA\n",
      "To enable them in other operations, rebuild TensorFlow with the appropriate compiler flags.\n",
      "2023-06-12 23:21:06.261890: E tensorflow/stream_executor/cuda/cuda_blas.cc:2981] Unable to register cuBLAS factory: Attempting to register factory for plugin cuBLAS when one has already been registered\n",
      "2023-06-12 23:21:06.962388: W tensorflow/stream_executor/platform/default/dso_loader.cc:64] Could not load dynamic library 'libnvinfer.so.7'; dlerror: libnvinfer.so.7: cannot open shared object file: No such file or directory\n",
      "2023-06-12 23:21:06.962477: W tensorflow/stream_executor/platform/default/dso_loader.cc:64] Could not load dynamic library 'libnvinfer_plugin.so.7'; dlerror: libnvinfer_plugin.so.7: cannot open shared object file: No such file or directory\n",
      "2023-06-12 23:21:06.962482: W tensorflow/compiler/tf2tensorrt/utils/py_utils.cc:38] TF-TRT Warning: Cannot dlopen some TensorRT libraries. If you would like to use Nvidia GPU with TensorRT, please make sure the missing libraries mentioned above are installed properly.\n"
     ]
    }
   ],
   "source": [
    "import pandas as pd\n",
    "import numpy as np\n",
    "from tensorflow.keras import Sequential, layers, models\n",
    "from sklearn.preprocessing import MinMaxScaler, RobustScaler\n",
    "from tensorflow.keras.callbacks import EarlyStopping\n",
    "import h5py as h5\n",
    "import matplotlib.pyplot as plt"
   ]
  },
  {
   "cell_type": "code",
   "execution_count": 3,
   "id": "8ae5ae5d",
   "metadata": {},
   "outputs": [
    {
     "name": "stderr",
     "output_type": "stream",
     "text": [
      "/tmp/ipykernel_663/1355504315.py:1: DtypeWarning: Columns (0) have mixed types. Specify dtype option on import or set low_memory=False.\n",
      "  y_df = pd.read_csv(\"../data/y_dataframe.csv\")\n"
     ]
    }
   ],
   "source": [
    "y_df = pd.read_csv(\"../data/y_dataframe.csv\")\n",
    "images_file = h5.File(\"../data/nsd_stimuli.hdf5\", \"r\")\n",
    "images = images_file['imgBrick']\n",
    "stim_list_test=np.load('../data/nsd_test_stim_list1.npy')\n",
    "stim_list_train=np.load('../data/subj01_nsd_train_stim_list1.npy')\n",
    "train_caps=np.load('../data/nsd_train_cap_sub1.npy')\n",
    "test_caps=np.load('../data/nsd_test_cap_sub1.npy')\n",
    "X_test_dataframe = pd.read_csv('../data/df_test.csv')"
   ]
  },
  {
   "cell_type": "code",
   "execution_count": 4,
   "id": "5b567e3a",
   "metadata": {},
   "outputs": [],
   "source": [
    "y_train = y_df.iloc[:8859, 1:].to_numpy()"
   ]
  },
  {
   "cell_type": "code",
   "execution_count": 5,
   "id": "f98c1ea5",
   "metadata": {
    "scrolled": true
   },
   "outputs": [
    {
     "data": {
      "text/html": [
       "<div>\n",
       "<style scoped>\n",
       "    .dataframe tbody tr th:only-of-type {\n",
       "        vertical-align: middle;\n",
       "    }\n",
       "\n",
       "    .dataframe tbody tr th {\n",
       "        vertical-align: top;\n",
       "    }\n",
       "\n",
       "    .dataframe thead th {\n",
       "        text-align: right;\n",
       "    }\n",
       "</style>\n",
       "<table border=\"1\" class=\"dataframe\">\n",
       "  <thead>\n",
       "    <tr style=\"text-align: right;\">\n",
       "      <th></th>\n",
       "      <th>Unnamed: 0</th>\n",
       "      <th>1950s</th>\n",
       "      <th>1970</th>\n",
       "      <th>1971</th>\n",
       "      <th>2009</th>\n",
       "      <th>4-way</th>\n",
       "      <th>abandon</th>\n",
       "      <th>about</th>\n",
       "      <th>above</th>\n",
       "      <th>abraham</th>\n",
       "      <th>...</th>\n",
       "      <th>yogurt</th>\n",
       "      <th>york</th>\n",
       "      <th>you</th>\n",
       "      <th>young</th>\n",
       "      <th>younger</th>\n",
       "      <th>youth</th>\n",
       "      <th>zebra</th>\n",
       "      <th>zip</th>\n",
       "      <th>zombie</th>\n",
       "      <th>zoo</th>\n",
       "    </tr>\n",
       "  </thead>\n",
       "  <tbody>\n",
       "    <tr>\n",
       "      <th>0</th>\n",
       "      <td>0</td>\n",
       "      <td>0</td>\n",
       "      <td>0</td>\n",
       "      <td>0</td>\n",
       "      <td>0</td>\n",
       "      <td>0</td>\n",
       "      <td>0</td>\n",
       "      <td>0</td>\n",
       "      <td>0</td>\n",
       "      <td>0</td>\n",
       "      <td>...</td>\n",
       "      <td>0</td>\n",
       "      <td>0</td>\n",
       "      <td>0</td>\n",
       "      <td>0</td>\n",
       "      <td>0</td>\n",
       "      <td>0</td>\n",
       "      <td>0</td>\n",
       "      <td>0</td>\n",
       "      <td>0</td>\n",
       "      <td>0</td>\n",
       "    </tr>\n",
       "    <tr>\n",
       "      <th>1</th>\n",
       "      <td>1</td>\n",
       "      <td>0</td>\n",
       "      <td>0</td>\n",
       "      <td>0</td>\n",
       "      <td>0</td>\n",
       "      <td>0</td>\n",
       "      <td>0</td>\n",
       "      <td>0</td>\n",
       "      <td>0</td>\n",
       "      <td>0</td>\n",
       "      <td>...</td>\n",
       "      <td>0</td>\n",
       "      <td>0</td>\n",
       "      <td>0</td>\n",
       "      <td>0</td>\n",
       "      <td>0</td>\n",
       "      <td>0</td>\n",
       "      <td>0</td>\n",
       "      <td>0</td>\n",
       "      <td>0</td>\n",
       "      <td>0</td>\n",
       "    </tr>\n",
       "    <tr>\n",
       "      <th>2</th>\n",
       "      <td>2</td>\n",
       "      <td>0</td>\n",
       "      <td>0</td>\n",
       "      <td>0</td>\n",
       "      <td>0</td>\n",
       "      <td>0</td>\n",
       "      <td>0</td>\n",
       "      <td>0</td>\n",
       "      <td>0</td>\n",
       "      <td>0</td>\n",
       "      <td>...</td>\n",
       "      <td>0</td>\n",
       "      <td>0</td>\n",
       "      <td>0</td>\n",
       "      <td>0</td>\n",
       "      <td>0</td>\n",
       "      <td>0</td>\n",
       "      <td>0</td>\n",
       "      <td>0</td>\n",
       "      <td>0</td>\n",
       "      <td>0</td>\n",
       "    </tr>\n",
       "    <tr>\n",
       "      <th>3</th>\n",
       "      <td>3</td>\n",
       "      <td>0</td>\n",
       "      <td>0</td>\n",
       "      <td>0</td>\n",
       "      <td>0</td>\n",
       "      <td>0</td>\n",
       "      <td>0</td>\n",
       "      <td>0</td>\n",
       "      <td>0</td>\n",
       "      <td>0</td>\n",
       "      <td>...</td>\n",
       "      <td>0</td>\n",
       "      <td>0</td>\n",
       "      <td>0</td>\n",
       "      <td>0</td>\n",
       "      <td>0</td>\n",
       "      <td>0</td>\n",
       "      <td>0</td>\n",
       "      <td>0</td>\n",
       "      <td>0</td>\n",
       "      <td>0</td>\n",
       "    </tr>\n",
       "    <tr>\n",
       "      <th>4</th>\n",
       "      <td>4</td>\n",
       "      <td>0</td>\n",
       "      <td>0</td>\n",
       "      <td>0</td>\n",
       "      <td>0</td>\n",
       "      <td>0</td>\n",
       "      <td>0</td>\n",
       "      <td>0</td>\n",
       "      <td>0</td>\n",
       "      <td>0</td>\n",
       "      <td>...</td>\n",
       "      <td>0</td>\n",
       "      <td>0</td>\n",
       "      <td>0</td>\n",
       "      <td>0</td>\n",
       "      <td>0</td>\n",
       "      <td>0</td>\n",
       "      <td>1</td>\n",
       "      <td>0</td>\n",
       "      <td>0</td>\n",
       "      <td>0</td>\n",
       "    </tr>\n",
       "    <tr>\n",
       "      <th>...</th>\n",
       "      <td>...</td>\n",
       "      <td>...</td>\n",
       "      <td>...</td>\n",
       "      <td>...</td>\n",
       "      <td>...</td>\n",
       "      <td>...</td>\n",
       "      <td>...</td>\n",
       "      <td>...</td>\n",
       "      <td>...</td>\n",
       "      <td>...</td>\n",
       "      <td>...</td>\n",
       "      <td>...</td>\n",
       "      <td>...</td>\n",
       "      <td>...</td>\n",
       "      <td>...</td>\n",
       "      <td>...</td>\n",
       "      <td>...</td>\n",
       "      <td>...</td>\n",
       "      <td>...</td>\n",
       "      <td>...</td>\n",
       "      <td>...</td>\n",
       "    </tr>\n",
       "    <tr>\n",
       "      <th>9836</th>\n",
       "      <td>X_test_id_977</td>\n",
       "      <td>0</td>\n",
       "      <td>0</td>\n",
       "      <td>0</td>\n",
       "      <td>0</td>\n",
       "      <td>0</td>\n",
       "      <td>0</td>\n",
       "      <td>0</td>\n",
       "      <td>0</td>\n",
       "      <td>0</td>\n",
       "      <td>...</td>\n",
       "      <td>0</td>\n",
       "      <td>0</td>\n",
       "      <td>0</td>\n",
       "      <td>0</td>\n",
       "      <td>0</td>\n",
       "      <td>0</td>\n",
       "      <td>0</td>\n",
       "      <td>0</td>\n",
       "      <td>0</td>\n",
       "      <td>0</td>\n",
       "    </tr>\n",
       "    <tr>\n",
       "      <th>9837</th>\n",
       "      <td>X_test_id_978</td>\n",
       "      <td>0</td>\n",
       "      <td>0</td>\n",
       "      <td>0</td>\n",
       "      <td>0</td>\n",
       "      <td>0</td>\n",
       "      <td>0</td>\n",
       "      <td>0</td>\n",
       "      <td>0</td>\n",
       "      <td>0</td>\n",
       "      <td>...</td>\n",
       "      <td>0</td>\n",
       "      <td>0</td>\n",
       "      <td>0</td>\n",
       "      <td>0</td>\n",
       "      <td>0</td>\n",
       "      <td>0</td>\n",
       "      <td>0</td>\n",
       "      <td>0</td>\n",
       "      <td>0</td>\n",
       "      <td>0</td>\n",
       "    </tr>\n",
       "    <tr>\n",
       "      <th>9838</th>\n",
       "      <td>X_test_id_979</td>\n",
       "      <td>0</td>\n",
       "      <td>0</td>\n",
       "      <td>0</td>\n",
       "      <td>0</td>\n",
       "      <td>0</td>\n",
       "      <td>0</td>\n",
       "      <td>0</td>\n",
       "      <td>0</td>\n",
       "      <td>0</td>\n",
       "      <td>...</td>\n",
       "      <td>0</td>\n",
       "      <td>0</td>\n",
       "      <td>0</td>\n",
       "      <td>0</td>\n",
       "      <td>0</td>\n",
       "      <td>0</td>\n",
       "      <td>0</td>\n",
       "      <td>0</td>\n",
       "      <td>0</td>\n",
       "      <td>0</td>\n",
       "    </tr>\n",
       "    <tr>\n",
       "      <th>9839</th>\n",
       "      <td>X_test_id_980</td>\n",
       "      <td>0</td>\n",
       "      <td>0</td>\n",
       "      <td>0</td>\n",
       "      <td>0</td>\n",
       "      <td>0</td>\n",
       "      <td>0</td>\n",
       "      <td>0</td>\n",
       "      <td>0</td>\n",
       "      <td>0</td>\n",
       "      <td>...</td>\n",
       "      <td>0</td>\n",
       "      <td>0</td>\n",
       "      <td>0</td>\n",
       "      <td>0</td>\n",
       "      <td>0</td>\n",
       "      <td>0</td>\n",
       "      <td>0</td>\n",
       "      <td>0</td>\n",
       "      <td>0</td>\n",
       "      <td>0</td>\n",
       "    </tr>\n",
       "    <tr>\n",
       "      <th>9840</th>\n",
       "      <td>X_test_id_981</td>\n",
       "      <td>0</td>\n",
       "      <td>0</td>\n",
       "      <td>0</td>\n",
       "      <td>0</td>\n",
       "      <td>0</td>\n",
       "      <td>0</td>\n",
       "      <td>0</td>\n",
       "      <td>0</td>\n",
       "      <td>0</td>\n",
       "      <td>...</td>\n",
       "      <td>0</td>\n",
       "      <td>0</td>\n",
       "      <td>0</td>\n",
       "      <td>0</td>\n",
       "      <td>0</td>\n",
       "      <td>0</td>\n",
       "      <td>0</td>\n",
       "      <td>0</td>\n",
       "      <td>0</td>\n",
       "      <td>0</td>\n",
       "    </tr>\n",
       "  </tbody>\n",
       "</table>\n",
       "<p>9841 rows × 2638 columns</p>\n",
       "</div>"
      ],
      "text/plain": [
       "         Unnamed: 0  1950s  1970  1971  2009  4-way  abandon  about  above  \\\n",
       "0                 0      0     0     0     0      0        0      0      0   \n",
       "1                 1      0     0     0     0      0        0      0      0   \n",
       "2                 2      0     0     0     0      0        0      0      0   \n",
       "3                 3      0     0     0     0      0        0      0      0   \n",
       "4                 4      0     0     0     0      0        0      0      0   \n",
       "...             ...    ...   ...   ...   ...    ...      ...    ...    ...   \n",
       "9836  X_test_id_977      0     0     0     0      0        0      0      0   \n",
       "9837  X_test_id_978      0     0     0     0      0        0      0      0   \n",
       "9838  X_test_id_979      0     0     0     0      0        0      0      0   \n",
       "9839  X_test_id_980      0     0     0     0      0        0      0      0   \n",
       "9840  X_test_id_981      0     0     0     0      0        0      0      0   \n",
       "\n",
       "      abraham  ...  yogurt  york  you  young  younger  youth  zebra  zip  \\\n",
       "0           0  ...       0     0    0      0        0      0      0    0   \n",
       "1           0  ...       0     0    0      0        0      0      0    0   \n",
       "2           0  ...       0     0    0      0        0      0      0    0   \n",
       "3           0  ...       0     0    0      0        0      0      0    0   \n",
       "4           0  ...       0     0    0      0        0      0      1    0   \n",
       "...       ...  ...     ...   ...  ...    ...      ...    ...    ...  ...   \n",
       "9836        0  ...       0     0    0      0        0      0      0    0   \n",
       "9837        0  ...       0     0    0      0        0      0      0    0   \n",
       "9838        0  ...       0     0    0      0        0      0      0    0   \n",
       "9839        0  ...       0     0    0      0        0      0      0    0   \n",
       "9840        0  ...       0     0    0      0        0      0      0    0   \n",
       "\n",
       "      zombie  zoo  \n",
       "0          0    0  \n",
       "1          0    0  \n",
       "2          0    0  \n",
       "3          0    0  \n",
       "4          0    0  \n",
       "...      ...  ...  \n",
       "9836       0    0  \n",
       "9837       0    0  \n",
       "9838       0    0  \n",
       "9839       0    0  \n",
       "9840       0    0  \n",
       "\n",
       "[9841 rows x 2638 columns]"
      ]
     },
     "execution_count": 5,
     "metadata": {},
     "output_type": "execute_result"
    }
   ],
   "source": [
    "y_df"
   ]
  },
  {
   "cell_type": "code",
   "execution_count": 6,
   "id": "95603fd3",
   "metadata": {},
   "outputs": [],
   "source": [
    "y_df.drop(columns = [\"Unnamed: 0\"], inplace = True)"
   ]
  },
  {
   "cell_type": "code",
   "execution_count": 7,
   "id": "ff2ccd3c",
   "metadata": {},
   "outputs": [],
   "source": [
    "X_train = np.load(\"../data/nsd_train_fmriavg_nsdgeneral_sub1.npy\")"
   ]
  },
  {
   "cell_type": "code",
   "execution_count": 8,
   "id": "3fa52f1b",
   "metadata": {},
   "outputs": [],
   "source": [
    "# from sklearn.preprocessing import RobustScaler"
   ]
  },
  {
   "cell_type": "code",
   "execution_count": 9,
   "id": "68f749c5",
   "metadata": {},
   "outputs": [],
   "source": [
    "scaler = RobustScaler()"
   ]
  },
  {
   "cell_type": "code",
   "execution_count": 10,
   "id": "9bd4a53e",
   "metadata": {},
   "outputs": [],
   "source": [
    "X_scaled = scaler.fit_transform(X_train)"
   ]
  },
  {
   "cell_type": "code",
   "execution_count": 11,
   "id": "ee7e55d8",
   "metadata": {},
   "outputs": [],
   "source": [
    "# from tensorflow.keras import Sequential\n",
    "# from tensorflow.keras import layers"
   ]
  },
  {
   "cell_type": "code",
   "execution_count": 12,
   "id": "233fc876",
   "metadata": {},
   "outputs": [
    {
     "name": "stderr",
     "output_type": "stream",
     "text": [
      "2023-06-12 23:21:27.525876: I tensorflow/stream_executor/cuda/cuda_gpu_executor.cc:966] could not open file to read NUMA node: /sys/bus/pci/devices/0000:01:00.0/numa_node\n",
      "Your kernel may have been built without NUMA support.\n",
      "2023-06-12 23:21:27.653473: W tensorflow/stream_executor/platform/default/dso_loader.cc:64] Could not load dynamic library 'libcudnn.so.8'; dlerror: libcudnn.so.8: cannot open shared object file: No such file or directory\n",
      "2023-06-12 23:21:27.653487: W tensorflow/core/common_runtime/gpu/gpu_device.cc:1934] Cannot dlopen some GPU libraries. Please make sure the missing libraries mentioned above are installed properly if you would like to use GPU. Follow the guide at https://www.tensorflow.org/install/gpu for how to download and setup the required libraries for your platform.\n",
      "Skipping registering GPU devices...\n",
      "2023-06-12 23:21:27.654953: I tensorflow/core/platform/cpu_feature_guard.cc:193] This TensorFlow binary is optimized with oneAPI Deep Neural Network Library (oneDNN) to use the following CPU instructions in performance-critical operations:  AVX2 FMA\n",
      "To enable them in other operations, rebuild TensorFlow with the appropriate compiler flags.\n",
      "2023-06-12 23:21:27.696410: W tensorflow/core/framework/cpu_allocator_impl.cc:82] Allocation of 62896000 exceeds 10% of free system memory.\n",
      "2023-06-12 23:21:27.726196: W tensorflow/core/framework/cpu_allocator_impl.cc:82] Allocation of 62896000 exceeds 10% of free system memory.\n",
      "2023-06-12 23:21:27.733071: W tensorflow/core/framework/cpu_allocator_impl.cc:82] Allocation of 62896000 exceeds 10% of free system memory.\n",
      "2023-06-12 23:21:27.769275: W tensorflow/core/framework/cpu_allocator_impl.cc:82] Allocation of 24000000 exceeds 10% of free system memory.\n",
      "2023-06-12 23:21:27.774162: W tensorflow/core/framework/cpu_allocator_impl.cc:82] Allocation of 24000000 exceeds 10% of free system memory.\n"
     ]
    }
   ],
   "source": [
    "model = Sequential([layers.Dense(1000, input_shape = (15724,), activation = \"relu\"),\n",
    "                  layers.Dense(1000, activation = \"relu\"),\n",
    "                    layers.Dropout(0.5),\n",
    "                  layers.Dense(2000, activation = \"relu\"),\n",
    "                    layers.Dropout(0.5),\n",
    "                  layers.Dense(3000, activation = \"relu\"),\n",
    "                    layers.Dropout(0.5),\n",
    "                    layers.Dense(5000, activation = \"relu\"),\n",
    "                    layers.Dropout(0.5),\n",
    "                    layers.Dense(1000, activation = \"relu\"),\n",
    "                    layers.Dropout(0.5),\n",
    "                    layers.Dense(2000, activation = \"relu\"),\n",
    "                  layers.Dense(2637, activation = \"sigmoid\")])"
   ]
  },
  {
   "cell_type": "code",
   "execution_count": 13,
   "id": "f3f99e43",
   "metadata": {},
   "outputs": [],
   "source": [
    "model.compile(loss = \"binary_crossentropy\", optimizer = \"adam\")"
   ]
  },
  {
   "cell_type": "code",
   "execution_count": 14,
   "id": "c3423356",
   "metadata": {},
   "outputs": [],
   "source": [
    "# es = EarlyStopping(patience=7,restore_best_weights = True)\n",
    "\n",
    "# history = model.fit(X_scaled, y_train, validation_split=0.1, batch_size = 32, epochs = 40, callbacks=[es])"
   ]
  },
  {
   "cell_type": "code",
   "execution_count": null,
   "id": "f020087a",
   "metadata": {
    "scrolled": true
   },
   "outputs": [],
   "source": [
    "history = model.fit(X_scaled, y_train, validation_split=0.1, batch_size = 32, epochs = 30)"
   ]
  },
  {
   "cell_type": "code",
   "execution_count": null,
   "id": "11719ba1",
   "metadata": {},
   "outputs": [],
   "source": [
    "X_test = np.load(\"../data/nsd_test_fmriavg_nsdgeneral_sub1.npy\")"
   ]
  },
  {
   "cell_type": "code",
   "execution_count": null,
   "id": "153d18c9",
   "metadata": {},
   "outputs": [],
   "source": [
    "X_test_scaled = scaler.transform(X_test)"
   ]
  },
  {
   "cell_type": "code",
   "execution_count": null,
   "id": "67df14bb",
   "metadata": {},
   "outputs": [],
   "source": [
    "idx=15\n",
    "test_answer = model.predict(X_test_scaled[idx].reshape(1,-1))"
   ]
  },
  {
   "cell_type": "code",
   "execution_count": null,
   "id": "00237f8e",
   "metadata": {},
   "outputs": [],
   "source": [
    "labels = y_df.columns"
   ]
  },
  {
   "cell_type": "code",
   "execution_count": null,
   "id": "3b4c1400",
   "metadata": {},
   "outputs": [],
   "source": [
    "labels"
   ]
  },
  {
   "cell_type": "code",
   "execution_count": null,
   "id": "c1bc85a0",
   "metadata": {
    "scrolled": true
   },
   "outputs": [],
   "source": [
    "test_answer"
   ]
  },
  {
   "cell_type": "code",
   "execution_count": null,
   "id": "c6805544",
   "metadata": {},
   "outputs": [],
   "source": [
    "test_answer[test_answer>0.4]"
   ]
  },
  {
   "cell_type": "code",
   "execution_count": null,
   "id": "c8c4d6ec",
   "metadata": {},
   "outputs": [],
   "source": [
    "test_answer_idxs = np.argpartition(test_answer[0],-4)[-4:]"
   ]
  },
  {
   "cell_type": "code",
   "execution_count": null,
   "id": "20bdb90b",
   "metadata": {},
   "outputs": [],
   "source": [
    "labels[test_answer_idxs]"
   ]
  },
  {
   "cell_type": "code",
   "execution_count": null,
   "id": "927d204a",
   "metadata": {},
   "outputs": [],
   "source": [
    "# idx=300\n",
    "# test_answer = model.predict(X_test_scaled[idx].reshape(1,-1))\n",
    "# labels = y_df.columns\n",
    "\n",
    "# test_answer_idxs = np.argpartition(test_answer[0],-2)[-2:]\n",
    "# labels[test_answer_idxs]"
   ]
  },
  {
   "cell_type": "code",
   "execution_count": null,
   "id": "4b186ce9",
   "metadata": {},
   "outputs": [],
   "source": [
    "df_test_idx_caps=X_test_dataframe[['Image_index', 'test_caps_processed']]\n",
    "\n"
   ]
  },
  {
   "cell_type": "code",
   "execution_count": null,
   "id": "fbadcf90",
   "metadata": {},
   "outputs": [],
   "source": [
    "# idx=333\n",
    "# test_index=stim_list_test[idx]\n",
    "# test_index"
   ]
  },
  {
   "cell_type": "code",
   "execution_count": null,
   "id": "266300ca",
   "metadata": {},
   "outputs": [],
   "source": [
    "# idx=51\n",
    "# test_answer = model.predict(X_test_scaled[idx].reshape(1,-1))\n",
    "# test_answer_idxs = np.argpartition(test_answer[0],-4)[-4:]\n",
    "# labels[test_answer_idxs]"
   ]
  },
  {
   "cell_type": "code",
   "execution_count": null,
   "id": "c3374126",
   "metadata": {},
   "outputs": [],
   "source": [
    "pwd"
   ]
  },
  {
   "cell_type": "code",
   "execution_count": null,
   "id": "ab12678d",
   "metadata": {},
   "outputs": [],
   "source": [
    "# import pickle\n",
    "\n",
    "# # Load the model from a file\n",
    "# with open('model.pkl', 'rb') as file:\n",
    "# model = pickle.load(file)\n"
   ]
  },
  {
   "cell_type": "code",
   "execution_count": null,
   "id": "960629c3",
   "metadata": {},
   "outputs": [],
   "source": [
    "idx=1\n",
    "test_answer = model.predict(X_test_scaled[idx].reshape(1,-1))\n",
    "test_answer_idxs = np.argpartition(test_answer[0],-4)[-4:]\n",
    "labels[test_answer_idxs]\n",
    "test_index=stim_list_test[idx]\n",
    "caps=df_test_idx_caps.loc[df_test_idx_caps['Image_index'] == test_index, 'test_caps_processed'].item()\n",
    "plt.imshow(images[test_index])\n",
    "plt.show()\n",
    "print('Original captions', test_caps[idx])\n",
    "print('Test captions processed:' , caps)\n",
    "# print('fMRI array', X_test[idx])\n",
    "print('Predicted labels', list(labels[test_answer_idxs]))\n"
   ]
  },
  {
   "cell_type": "code",
   "execution_count": null,
   "id": "988409f1",
   "metadata": {},
   "outputs": [],
   "source": [
    "X_test_dataframe"
   ]
  },
  {
   "cell_type": "code",
   "execution_count": null,
   "id": "f5cb2af6",
   "metadata": {},
   "outputs": [],
   "source": [
    "## Save the model to a file\n",
    "# with open('model.pkl', 'wb') as file:\n",
    "#     pickle.dump(model, file)"
   ]
  },
  {
   "cell_type": "code",
   "execution_count": null,
   "id": "f325cacb",
   "metadata": {},
   "outputs": [],
   "source": [
    "pwd"
   ]
  },
  {
   "cell_type": "code",
   "execution_count": null,
   "id": "8b7c9f6c",
   "metadata": {},
   "outputs": [],
   "source": [
    "models.save_model(model, '../model/models/my_model_fat')"
   ]
  },
  {
   "cell_type": "code",
   "execution_count": null,
   "id": "e285628f",
   "metadata": {},
   "outputs": [],
   "source": []
  }
 ],
 "metadata": {
  "kernelspec": {
   "display_name": "Python 3 (ipykernel)",
   "language": "python",
   "name": "python3"
  },
  "language_info": {
   "codemirror_mode": {
    "name": "ipython",
    "version": 3
   },
   "file_extension": ".py",
   "mimetype": "text/x-python",
   "name": "python",
   "nbconvert_exporter": "python",
   "pygments_lexer": "ipython3",
   "version": "3.10.6"
  },
  "nbTranslate": {
   "displayLangs": [
    "*"
   ],
   "hotkey": "",
   "langInMainMenu": true,
   "sourceLang": "fr",
   "targetLang": "en",
   "useGoogleTranslate": true
  },
  "toc": {
   "base_numbering": 1,
   "nav_menu": {},
   "number_sections": true,
   "sideBar": true,
   "skip_h1_title": false,
   "title_cell": "Table of Contents",
   "title_sidebar": "Contents",
   "toc_cell": false,
   "toc_position": {},
   "toc_section_display": true,
   "toc_window_display": false
  }
 },
 "nbformat": 4,
 "nbformat_minor": 5
}
