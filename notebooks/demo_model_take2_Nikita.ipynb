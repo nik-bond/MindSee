{
 "cells": [
  {
   "cell_type": "code",
   "execution_count": 10,
   "id": "7d018da9",
   "metadata": {},
   "outputs": [],
   "source": [
    "import pandas as pd\n",
    "import numpy as np\n",
    "from tensorflow.keras import Sequential, layers, models\n",
    "from sklearn.preprocessing import MinMaxScaler, RobustScaler\n",
    "from tensorflow.keras.callbacks import EarlyStopping\n",
    "import h5py as h5\n",
    "import matplotlib.pyplot as plt"
   ]
  },
  {
   "cell_type": "code",
   "execution_count": 51,
   "id": "8ae5ae5d",
   "metadata": {},
   "outputs": [
    {
     "name": "stderr",
     "output_type": "stream",
     "text": [
      "/tmp/ipykernel_3678/1355504315.py:1: DtypeWarning: Columns (0) have mixed types. Specify dtype option on import or set low_memory=False.\n",
      "  y_df = pd.read_csv(\"../data/y_dataframe.csv\")\n"
     ]
    }
   ],
   "source": [
    "y_df = pd.read_csv(\"../data/y_dataframe.csv\")\n",
    "images_file = h5.File(\"../data/nsd_stimuli.hdf5\", \"r\")\n",
    "images = images_file['imgBrick']\n",
    "stim_list_test=np.load('../data/nsd_test_stim_list1.npy')\n",
    "stim_list_train=np.load('../data/subj01_nsd_train_stim_list1.npy')\n",
    "train_caps=np.load('../data/nsd_train_cap_sub1.npy')\n",
    "test_caps=np.load('../data/nsd_test_cap_sub1.npy')\n",
    "X_test_dataframe = pd.read_csv('../data/df_test.csv')"
   ]
  },
  {
   "cell_type": "code",
   "execution_count": 52,
   "id": "5b567e3a",
   "metadata": {},
   "outputs": [],
   "source": [
    "y_train = y_df.iloc[:8859, 1:].to_numpy()"
   ]
  },
  {
   "cell_type": "code",
   "execution_count": 55,
   "id": "f98c1ea5",
   "metadata": {
    "scrolled": true
   },
   "outputs": [
    {
     "data": {
      "text/html": [
       "<div>\n",
       "<style scoped>\n",
       "    .dataframe tbody tr th:only-of-type {\n",
       "        vertical-align: middle;\n",
       "    }\n",
       "\n",
       "    .dataframe tbody tr th {\n",
       "        vertical-align: top;\n",
       "    }\n",
       "\n",
       "    .dataframe thead th {\n",
       "        text-align: right;\n",
       "    }\n",
       "</style>\n",
       "<table border=\"1\" class=\"dataframe\">\n",
       "  <thead>\n",
       "    <tr style=\"text-align: right;\">\n",
       "      <th></th>\n",
       "      <th>1950s</th>\n",
       "      <th>1970</th>\n",
       "      <th>1971</th>\n",
       "      <th>2009</th>\n",
       "      <th>4-way</th>\n",
       "      <th>abandon</th>\n",
       "      <th>about</th>\n",
       "      <th>above</th>\n",
       "      <th>abraham</th>\n",
       "      <th>abstract</th>\n",
       "      <th>...</th>\n",
       "      <th>yogurt</th>\n",
       "      <th>york</th>\n",
       "      <th>you</th>\n",
       "      <th>young</th>\n",
       "      <th>younger</th>\n",
       "      <th>youth</th>\n",
       "      <th>zebra</th>\n",
       "      <th>zip</th>\n",
       "      <th>zombie</th>\n",
       "      <th>zoo</th>\n",
       "    </tr>\n",
       "  </thead>\n",
       "  <tbody>\n",
       "    <tr>\n",
       "      <th>0</th>\n",
       "      <td>0</td>\n",
       "      <td>0</td>\n",
       "      <td>0</td>\n",
       "      <td>0</td>\n",
       "      <td>0</td>\n",
       "      <td>0</td>\n",
       "      <td>0</td>\n",
       "      <td>0</td>\n",
       "      <td>0</td>\n",
       "      <td>0</td>\n",
       "      <td>...</td>\n",
       "      <td>0</td>\n",
       "      <td>0</td>\n",
       "      <td>0</td>\n",
       "      <td>0</td>\n",
       "      <td>0</td>\n",
       "      <td>0</td>\n",
       "      <td>0</td>\n",
       "      <td>0</td>\n",
       "      <td>0</td>\n",
       "      <td>0</td>\n",
       "    </tr>\n",
       "    <tr>\n",
       "      <th>1</th>\n",
       "      <td>0</td>\n",
       "      <td>0</td>\n",
       "      <td>0</td>\n",
       "      <td>0</td>\n",
       "      <td>0</td>\n",
       "      <td>0</td>\n",
       "      <td>0</td>\n",
       "      <td>0</td>\n",
       "      <td>0</td>\n",
       "      <td>0</td>\n",
       "      <td>...</td>\n",
       "      <td>0</td>\n",
       "      <td>0</td>\n",
       "      <td>0</td>\n",
       "      <td>0</td>\n",
       "      <td>0</td>\n",
       "      <td>0</td>\n",
       "      <td>0</td>\n",
       "      <td>0</td>\n",
       "      <td>0</td>\n",
       "      <td>0</td>\n",
       "    </tr>\n",
       "    <tr>\n",
       "      <th>2</th>\n",
       "      <td>0</td>\n",
       "      <td>0</td>\n",
       "      <td>0</td>\n",
       "      <td>0</td>\n",
       "      <td>0</td>\n",
       "      <td>0</td>\n",
       "      <td>0</td>\n",
       "      <td>0</td>\n",
       "      <td>0</td>\n",
       "      <td>0</td>\n",
       "      <td>...</td>\n",
       "      <td>0</td>\n",
       "      <td>0</td>\n",
       "      <td>0</td>\n",
       "      <td>0</td>\n",
       "      <td>0</td>\n",
       "      <td>0</td>\n",
       "      <td>0</td>\n",
       "      <td>0</td>\n",
       "      <td>0</td>\n",
       "      <td>0</td>\n",
       "    </tr>\n",
       "    <tr>\n",
       "      <th>3</th>\n",
       "      <td>0</td>\n",
       "      <td>0</td>\n",
       "      <td>0</td>\n",
       "      <td>0</td>\n",
       "      <td>0</td>\n",
       "      <td>0</td>\n",
       "      <td>0</td>\n",
       "      <td>0</td>\n",
       "      <td>0</td>\n",
       "      <td>0</td>\n",
       "      <td>...</td>\n",
       "      <td>0</td>\n",
       "      <td>0</td>\n",
       "      <td>0</td>\n",
       "      <td>0</td>\n",
       "      <td>0</td>\n",
       "      <td>0</td>\n",
       "      <td>0</td>\n",
       "      <td>0</td>\n",
       "      <td>0</td>\n",
       "      <td>0</td>\n",
       "    </tr>\n",
       "    <tr>\n",
       "      <th>4</th>\n",
       "      <td>0</td>\n",
       "      <td>0</td>\n",
       "      <td>0</td>\n",
       "      <td>0</td>\n",
       "      <td>0</td>\n",
       "      <td>0</td>\n",
       "      <td>0</td>\n",
       "      <td>0</td>\n",
       "      <td>0</td>\n",
       "      <td>0</td>\n",
       "      <td>...</td>\n",
       "      <td>0</td>\n",
       "      <td>0</td>\n",
       "      <td>0</td>\n",
       "      <td>0</td>\n",
       "      <td>0</td>\n",
       "      <td>0</td>\n",
       "      <td>1</td>\n",
       "      <td>0</td>\n",
       "      <td>0</td>\n",
       "      <td>0</td>\n",
       "    </tr>\n",
       "    <tr>\n",
       "      <th>...</th>\n",
       "      <td>...</td>\n",
       "      <td>...</td>\n",
       "      <td>...</td>\n",
       "      <td>...</td>\n",
       "      <td>...</td>\n",
       "      <td>...</td>\n",
       "      <td>...</td>\n",
       "      <td>...</td>\n",
       "      <td>...</td>\n",
       "      <td>...</td>\n",
       "      <td>...</td>\n",
       "      <td>...</td>\n",
       "      <td>...</td>\n",
       "      <td>...</td>\n",
       "      <td>...</td>\n",
       "      <td>...</td>\n",
       "      <td>...</td>\n",
       "      <td>...</td>\n",
       "      <td>...</td>\n",
       "      <td>...</td>\n",
       "      <td>...</td>\n",
       "    </tr>\n",
       "    <tr>\n",
       "      <th>9836</th>\n",
       "      <td>0</td>\n",
       "      <td>0</td>\n",
       "      <td>0</td>\n",
       "      <td>0</td>\n",
       "      <td>0</td>\n",
       "      <td>0</td>\n",
       "      <td>0</td>\n",
       "      <td>0</td>\n",
       "      <td>0</td>\n",
       "      <td>0</td>\n",
       "      <td>...</td>\n",
       "      <td>0</td>\n",
       "      <td>0</td>\n",
       "      <td>0</td>\n",
       "      <td>0</td>\n",
       "      <td>0</td>\n",
       "      <td>0</td>\n",
       "      <td>0</td>\n",
       "      <td>0</td>\n",
       "      <td>0</td>\n",
       "      <td>0</td>\n",
       "    </tr>\n",
       "    <tr>\n",
       "      <th>9837</th>\n",
       "      <td>0</td>\n",
       "      <td>0</td>\n",
       "      <td>0</td>\n",
       "      <td>0</td>\n",
       "      <td>0</td>\n",
       "      <td>0</td>\n",
       "      <td>0</td>\n",
       "      <td>0</td>\n",
       "      <td>0</td>\n",
       "      <td>0</td>\n",
       "      <td>...</td>\n",
       "      <td>0</td>\n",
       "      <td>0</td>\n",
       "      <td>0</td>\n",
       "      <td>0</td>\n",
       "      <td>0</td>\n",
       "      <td>0</td>\n",
       "      <td>0</td>\n",
       "      <td>0</td>\n",
       "      <td>0</td>\n",
       "      <td>0</td>\n",
       "    </tr>\n",
       "    <tr>\n",
       "      <th>9838</th>\n",
       "      <td>0</td>\n",
       "      <td>0</td>\n",
       "      <td>0</td>\n",
       "      <td>0</td>\n",
       "      <td>0</td>\n",
       "      <td>0</td>\n",
       "      <td>0</td>\n",
       "      <td>0</td>\n",
       "      <td>0</td>\n",
       "      <td>0</td>\n",
       "      <td>...</td>\n",
       "      <td>0</td>\n",
       "      <td>0</td>\n",
       "      <td>0</td>\n",
       "      <td>0</td>\n",
       "      <td>0</td>\n",
       "      <td>0</td>\n",
       "      <td>0</td>\n",
       "      <td>0</td>\n",
       "      <td>0</td>\n",
       "      <td>0</td>\n",
       "    </tr>\n",
       "    <tr>\n",
       "      <th>9839</th>\n",
       "      <td>0</td>\n",
       "      <td>0</td>\n",
       "      <td>0</td>\n",
       "      <td>0</td>\n",
       "      <td>0</td>\n",
       "      <td>0</td>\n",
       "      <td>0</td>\n",
       "      <td>0</td>\n",
       "      <td>0</td>\n",
       "      <td>0</td>\n",
       "      <td>...</td>\n",
       "      <td>0</td>\n",
       "      <td>0</td>\n",
       "      <td>0</td>\n",
       "      <td>0</td>\n",
       "      <td>0</td>\n",
       "      <td>0</td>\n",
       "      <td>0</td>\n",
       "      <td>0</td>\n",
       "      <td>0</td>\n",
       "      <td>0</td>\n",
       "    </tr>\n",
       "    <tr>\n",
       "      <th>9840</th>\n",
       "      <td>0</td>\n",
       "      <td>0</td>\n",
       "      <td>0</td>\n",
       "      <td>0</td>\n",
       "      <td>0</td>\n",
       "      <td>0</td>\n",
       "      <td>0</td>\n",
       "      <td>0</td>\n",
       "      <td>0</td>\n",
       "      <td>0</td>\n",
       "      <td>...</td>\n",
       "      <td>0</td>\n",
       "      <td>0</td>\n",
       "      <td>0</td>\n",
       "      <td>0</td>\n",
       "      <td>0</td>\n",
       "      <td>0</td>\n",
       "      <td>0</td>\n",
       "      <td>0</td>\n",
       "      <td>0</td>\n",
       "      <td>0</td>\n",
       "    </tr>\n",
       "  </tbody>\n",
       "</table>\n",
       "<p>9841 rows × 2637 columns</p>\n",
       "</div>"
      ],
      "text/plain": [
       "      1950s  1970  1971  2009  4-way  abandon  about  above  abraham  \\\n",
       "0         0     0     0     0      0        0      0      0        0   \n",
       "1         0     0     0     0      0        0      0      0        0   \n",
       "2         0     0     0     0      0        0      0      0        0   \n",
       "3         0     0     0     0      0        0      0      0        0   \n",
       "4         0     0     0     0      0        0      0      0        0   \n",
       "...     ...   ...   ...   ...    ...      ...    ...    ...      ...   \n",
       "9836      0     0     0     0      0        0      0      0        0   \n",
       "9837      0     0     0     0      0        0      0      0        0   \n",
       "9838      0     0     0     0      0        0      0      0        0   \n",
       "9839      0     0     0     0      0        0      0      0        0   \n",
       "9840      0     0     0     0      0        0      0      0        0   \n",
       "\n",
       "      abstract  ...  yogurt  york  you  young  younger  youth  zebra  zip  \\\n",
       "0            0  ...       0     0    0      0        0      0      0    0   \n",
       "1            0  ...       0     0    0      0        0      0      0    0   \n",
       "2            0  ...       0     0    0      0        0      0      0    0   \n",
       "3            0  ...       0     0    0      0        0      0      0    0   \n",
       "4            0  ...       0     0    0      0        0      0      1    0   \n",
       "...        ...  ...     ...   ...  ...    ...      ...    ...    ...  ...   \n",
       "9836         0  ...       0     0    0      0        0      0      0    0   \n",
       "9837         0  ...       0     0    0      0        0      0      0    0   \n",
       "9838         0  ...       0     0    0      0        0      0      0    0   \n",
       "9839         0  ...       0     0    0      0        0      0      0    0   \n",
       "9840         0  ...       0     0    0      0        0      0      0    0   \n",
       "\n",
       "      zombie  zoo  \n",
       "0          0    0  \n",
       "1          0    0  \n",
       "2          0    0  \n",
       "3          0    0  \n",
       "4          0    0  \n",
       "...      ...  ...  \n",
       "9836       0    0  \n",
       "9837       0    0  \n",
       "9838       0    0  \n",
       "9839       0    0  \n",
       "9840       0    0  \n",
       "\n",
       "[9841 rows x 2637 columns]"
      ]
     },
     "execution_count": 55,
     "metadata": {},
     "output_type": "execute_result"
    }
   ],
   "source": [
    "y_df"
   ]
  },
  {
   "cell_type": "code",
   "execution_count": 54,
   "id": "95603fd3",
   "metadata": {},
   "outputs": [],
   "source": [
    "y_df.drop(columns = [\"Unnamed: 0\"], inplace = True)"
   ]
  },
  {
   "cell_type": "code",
   "execution_count": 15,
   "id": "ff2ccd3c",
   "metadata": {},
   "outputs": [],
   "source": [
    "X_train = np.load(\"../data/nsd_train_fmriavg_nsdgeneral_sub1.npy\")"
   ]
  },
  {
   "cell_type": "code",
   "execution_count": 16,
   "id": "3fa52f1b",
   "metadata": {},
   "outputs": [],
   "source": [
    "# from sklearn.preprocessing import RobustScaler"
   ]
  },
  {
   "cell_type": "code",
   "execution_count": 17,
   "id": "68f749c5",
   "metadata": {},
   "outputs": [],
   "source": [
    "scaler = RobustScaler()"
   ]
  },
  {
   "cell_type": "code",
   "execution_count": 18,
   "id": "9bd4a53e",
   "metadata": {},
   "outputs": [],
   "source": [
    "X_scaled = scaler.fit_transform(X_train)"
   ]
  },
  {
   "cell_type": "code",
   "execution_count": 19,
   "id": "ee7e55d8",
   "metadata": {},
   "outputs": [],
   "source": [
    "# from tensorflow.keras import Sequential\n",
    "# from tensorflow.keras import layers"
   ]
  },
  {
   "cell_type": "code",
   "execution_count": 132,
   "id": "233fc876",
   "metadata": {},
   "outputs": [],
   "source": [
    "model = Sequential([layers.Dense(1000, input_shape = (15724,), activation = \"relu\"),\n",
    "                  layers.Dense(1000, activation = \"relu\"),\n",
    "                    layers.Dropout(0.5),\n",
    "                  layers.Dense(2000, activation = \"relu\"),\n",
    "                    layers.Dropout(0.5),\n",
    "                  layers.Dense(3000, activation = \"relu\"),\n",
    "                    layers.Dropout(0.5),\n",
    "                    layers.Dense(5000, activation = \"relu\"),\n",
    "                    layers.Dropout(0.5),\n",
    "                    layers.Dense(1000, activation = \"relu\"),\n",
    "                    layers.Dropout(0.5),\n",
    "                    layers.Dense(2000, activation = \"relu\"),\n",
    "                  layers.Dense(2637, activation = \"sigmoid\")])"
   ]
  },
  {
   "cell_type": "code",
   "execution_count": 133,
   "id": "f3f99e43",
   "metadata": {},
   "outputs": [],
   "source": [
    "model.compile(loss = \"binary_crossentropy\", optimizer = \"adam\")"
   ]
  },
  {
   "cell_type": "code",
   "execution_count": null,
   "id": "7b06ef55",
   "metadata": {},
   "outputs": [],
   "source": [
    "# es = EarlyStopping(patience=7,restore_best_weights = True)\n",
    "\n",
    "# history = model.fit(X_scaled, y_train, validation_split=0.1, batch_size = 32, epochs = 40, callbacks=[es])"
   ]
  },
  {
   "cell_type": "code",
   "execution_count": 134,
   "id": "f020087a",
   "metadata": {
    "scrolled": true
   },
   "outputs": [
    {
     "name": "stdout",
     "output_type": "stream",
     "text": [
      "Epoch 1/30\n",
      "250/250 [==============================] - 28s 110ms/step - loss: 0.0178 - val_loss: 0.0291\n",
      "Epoch 2/30\n",
      "250/250 [==============================] - 25s 100ms/step - loss: 0.0106 - val_loss: 0.0131\n",
      "Epoch 3/30\n",
      "250/250 [==============================] - 25s 99ms/step - loss: 0.0094 - val_loss: 0.0120\n",
      "Epoch 4/30\n",
      "250/250 [==============================] - 24s 98ms/step - loss: 0.0085 - val_loss: 0.0088\n",
      "Epoch 5/30\n",
      "250/250 [==============================] - 24s 97ms/step - loss: 0.0082 - val_loss: 0.0082\n",
      "Epoch 6/30\n",
      "250/250 [==============================] - 24s 98ms/step - loss: 0.0080 - val_loss: 0.0080\n",
      "Epoch 7/30\n",
      "250/250 [==============================] - 24s 97ms/step - loss: 0.0079 - val_loss: 0.0079\n",
      "Epoch 8/30\n",
      "250/250 [==============================] - 25s 100ms/step - loss: 0.0078 - val_loss: 0.0079\n",
      "Epoch 9/30\n",
      "250/250 [==============================] - 24s 98ms/step - loss: 0.0077 - val_loss: 0.0079\n",
      "Epoch 10/30\n",
      "250/250 [==============================] - 24s 97ms/step - loss: 0.0077 - val_loss: 0.0078\n",
      "Epoch 11/30\n",
      "250/250 [==============================] - 24s 97ms/step - loss: 0.0076 - val_loss: 0.0078\n",
      "Epoch 12/30\n",
      "250/250 [==============================] - 25s 99ms/step - loss: 0.0076 - val_loss: 0.0079\n",
      "Epoch 13/30\n",
      "250/250 [==============================] - 25s 98ms/step - loss: 0.0077 - val_loss: 0.0080\n",
      "Epoch 14/30\n",
      "250/250 [==============================] - 25s 99ms/step - loss: 0.0077 - val_loss: 0.0079\n",
      "Epoch 15/30\n",
      "250/250 [==============================] - 25s 99ms/step - loss: 0.0077 - val_loss: 0.0081\n",
      "Epoch 16/30\n",
      "250/250 [==============================] - 25s 99ms/step - loss: 0.0077 - val_loss: 0.0080\n",
      "Epoch 17/30\n",
      "250/250 [==============================] - 25s 101ms/step - loss: 0.0077 - val_loss: 0.0080\n",
      "Epoch 18/30\n",
      "250/250 [==============================] - 25s 99ms/step - loss: 0.0077 - val_loss: 0.0079\n",
      "Epoch 19/30\n",
      "250/250 [==============================] - 25s 99ms/step - loss: 0.0077 - val_loss: 0.0080\n",
      "Epoch 20/30\n",
      "250/250 [==============================] - 24s 98ms/step - loss: 0.0076 - val_loss: 0.0080\n",
      "Epoch 21/30\n",
      "250/250 [==============================] - 24s 98ms/step - loss: 0.0076 - val_loss: 0.0079\n",
      "Epoch 22/30\n",
      "250/250 [==============================] - 24s 98ms/step - loss: 0.0076 - val_loss: 0.0080\n",
      "Epoch 23/30\n",
      "250/250 [==============================] - 25s 99ms/step - loss: 0.0077 - val_loss: 0.0081\n",
      "Epoch 24/30\n",
      "250/250 [==============================] - 26s 103ms/step - loss: 0.0077 - val_loss: 0.0080\n",
      "Epoch 25/30\n",
      "250/250 [==============================] - 26s 103ms/step - loss: 0.0076 - val_loss: 0.0079\n",
      "Epoch 26/30\n",
      "250/250 [==============================] - 26s 105ms/step - loss: 0.0076 - val_loss: 0.0079\n",
      "Epoch 27/30\n",
      "250/250 [==============================] - 26s 104ms/step - loss: 0.0077 - val_loss: 0.0079\n",
      "Epoch 28/30\n",
      "250/250 [==============================] - 26s 102ms/step - loss: 0.0076 - val_loss: 0.0079\n",
      "Epoch 29/30\n",
      "250/250 [==============================] - 25s 100ms/step - loss: 0.0076 - val_loss: 0.0080\n",
      "Epoch 30/30\n",
      "250/250 [==============================] - 25s 99ms/step - loss: 0.0076 - val_loss: 0.0080\n"
     ]
    }
   ],
   "source": [
    "history = model.fit(X_scaled, y_train, validation_split=0.1, batch_size = 32, epochs = 30)"
   ]
  },
  {
   "cell_type": "code",
   "execution_count": 25,
   "id": "11719ba1",
   "metadata": {},
   "outputs": [],
   "source": [
    "X_test = np.load(\"../data/nsd_test_fmriavg_nsdgeneral_sub1.npy\")"
   ]
  },
  {
   "cell_type": "code",
   "execution_count": 26,
   "id": "153d18c9",
   "metadata": {},
   "outputs": [],
   "source": [
    "X_test_scaled = scaler.transform(X_test)"
   ]
  },
  {
   "cell_type": "code",
   "execution_count": 315,
   "id": "67df14bb",
   "metadata": {},
   "outputs": [
    {
     "name": "stdout",
     "output_type": "stream",
     "text": [
      "1/1 [==============================] - 0s 23ms/step\n"
     ]
    }
   ],
   "source": [
    "idx=15\n",
    "test_answer = model.predict(X_test_scaled[idx].reshape(1,-1))"
   ]
  },
  {
   "cell_type": "code",
   "execution_count": 316,
   "id": "00237f8e",
   "metadata": {},
   "outputs": [],
   "source": [
    "labels = y_df.columns"
   ]
  },
  {
   "cell_type": "code",
   "execution_count": 317,
   "id": "3b4c1400",
   "metadata": {},
   "outputs": [
    {
     "data": {
      "text/plain": [
       "Index(['1950s', '1970', '1971', '2009', '4-way', 'abandon', 'about', 'above',\n",
       "       'abraham', 'abstract',\n",
       "       ...\n",
       "       'yogurt', 'york', 'you', 'young', 'younger', 'youth', 'zebra', 'zip',\n",
       "       'zombie', 'zoo'],\n",
       "      dtype='object', length=2637)"
      ]
     },
     "execution_count": 317,
     "metadata": {},
     "output_type": "execute_result"
    }
   ],
   "source": [
    "labels"
   ]
  },
  {
   "cell_type": "code",
   "execution_count": 318,
   "id": "c1bc85a0",
   "metadata": {
    "scrolled": true
   },
   "outputs": [
    {
     "data": {
      "text/plain": [
       "array([[6.3033898e-05, 5.7711721e-05, 1.2276028e-05, ..., 1.8588266e-04,\n",
       "        1.4808851e-05, 1.0762357e-03]], dtype=float32)"
      ]
     },
     "execution_count": 318,
     "metadata": {},
     "output_type": "execute_result"
    }
   ],
   "source": [
    "test_answer"
   ]
  },
  {
   "cell_type": "code",
   "execution_count": 319,
   "id": "c6805544",
   "metadata": {},
   "outputs": [
    {
     "data": {
      "text/plain": [
       "array([], dtype=float32)"
      ]
     },
     "execution_count": 319,
     "metadata": {},
     "output_type": "execute_result"
    }
   ],
   "source": [
    "test_answer[test_answer>0.4]"
   ]
  },
  {
   "cell_type": "code",
   "execution_count": 320,
   "id": "c8c4d6ec",
   "metadata": {},
   "outputs": [],
   "source": [
    "test_answer_idxs = np.argpartition(test_answer[0],-4)[-4:]"
   ]
  },
  {
   "cell_type": "code",
   "execution_count": 321,
   "id": "20bdb90b",
   "metadata": {},
   "outputs": [
    {
     "data": {
      "text/plain": [
       "Index(['man', 'people', 'build', 'clock'], dtype='object')"
      ]
     },
     "execution_count": 321,
     "metadata": {},
     "output_type": "execute_result"
    }
   ],
   "source": [
    "labels[test_answer_idxs]"
   ]
  },
  {
   "cell_type": "code",
   "execution_count": 322,
   "id": "927d204a",
   "metadata": {},
   "outputs": [],
   "source": [
    "# idx=300\n",
    "# test_answer = model.predict(X_test_scaled[idx].reshape(1,-1))\n",
    "# labels = y_df.columns\n",
    "\n",
    "# test_answer_idxs = np.argpartition(test_answer[0],-2)[-2:]\n",
    "# labels[test_answer_idxs]"
   ]
  },
  {
   "cell_type": "code",
   "execution_count": 311,
   "id": "4b186ce9",
   "metadata": {},
   "outputs": [],
   "source": [
    "df_test_idx_caps=X_test_dataframe[['Image_index', 'test_caps_processed']]\n",
    "\n"
   ]
  },
  {
   "cell_type": "code",
   "execution_count": 312,
   "id": "fbadcf90",
   "metadata": {},
   "outputs": [],
   "source": [
    "# idx=333\n",
    "# test_index=stim_list_test[idx]\n",
    "# test_index"
   ]
  },
  {
   "cell_type": "code",
   "execution_count": 313,
   "id": "030de473",
   "metadata": {},
   "outputs": [],
   "source": [
    "# idx=51\n",
    "# test_answer = model.predict(X_test_scaled[idx].reshape(1,-1))\n",
    "# test_answer_idxs = np.argpartition(test_answer[0],-4)[-4:]\n",
    "# labels[test_answer_idxs]"
   ]
  },
  {
   "cell_type": "code",
   "execution_count": null,
   "id": "37b217c0",
   "metadata": {},
   "outputs": [],
   "source": [
    "pwd"
   ]
  },
  {
   "cell_type": "code",
   "execution_count": null,
   "id": "dc5e110b",
   "metadata": {},
   "outputs": [],
   "source": [
    "# import pickle\n",
    "\n",
    "# # Load the model from a file\n",
    "# with open('model.pkl', 'rb') as file:\n",
    "# model = pickle.load(file)\n"
   ]
  },
  {
   "cell_type": "code",
   "execution_count": null,
   "id": "960629c3",
   "metadata": {},
   "outputs": [],
   "source": [
    "idx=1\n",
    "test_answer = model.predict(X_test_scaled[idx].reshape(1,-1))\n",
    "test_answer_idxs = np.argpartition(test_answer[0],-4)[-4:]\n",
    "labels[test_answer_idxs]\n",
    "test_index=stim_list_test[idx]\n",
    "caps=df_test_idx_caps.loc[df_test_idx_caps['Image_index'] == test_index, 'test_caps_processed'].item()\n",
    "plt.imshow(images[test_index])\n",
    "plt.show()\n",
    "print('Original captions', test_caps[idx])\n",
    "print('Test captions processed:' , caps)\n",
    "# print('fMRI array', X_test[idx])\n",
    "print('Predicted labels', list(labels[test_answer_idxs]))\n"
   ]
  },
  {
   "cell_type": "code",
   "execution_count": null,
   "id": "988409f1",
   "metadata": {},
   "outputs": [],
   "source": [
    "X_test_dataframe"
   ]
  },
  {
   "cell_type": "code",
   "execution_count": 330,
   "id": "f5cb2af6",
   "metadata": {},
   "outputs": [
    {
     "name": "stdout",
     "output_type": "stream",
     "text": [
      "INFO:tensorflow:Assets written to: ram://5bcadd3b-61ca-4357-9fa0-49735049cb85/assets\n"
     ]
    }
   ],
   "source": [
    "## Save the model to a file\n",
    "# with open('model.pkl', 'wb') as file:\n",
    "#     pickle.dump(model, file)"
   ]
  },
  {
   "cell_type": "code",
   "execution_count": 327,
   "id": "d441da8f",
   "metadata": {},
   "outputs": [
    {
     "data": {
      "text/plain": [
       "'/home/nik/code/nik-bond/MindSee/notebooks'"
      ]
     },
     "execution_count": 327,
     "metadata": {},
     "output_type": "execute_result"
    }
   ],
   "source": [
    "pwd"
   ]
  },
  {
   "cell_type": "code",
   "execution_count": null,
   "id": "225aa9a6",
   "metadata": {},
   "outputs": [],
   "source": []
  }
 ],
 "metadata": {
  "kernelspec": {
   "display_name": "Python 3 (ipykernel)",
   "language": "python",
   "name": "python3"
  },
  "language_info": {
   "codemirror_mode": {
    "name": "ipython",
    "version": 3
   },
   "file_extension": ".py",
   "mimetype": "text/x-python",
   "name": "python",
   "nbconvert_exporter": "python",
   "pygments_lexer": "ipython3",
   "version": "3.10.6"
  },
  "nbTranslate": {
   "displayLangs": [
    "*"
   ],
   "hotkey": "",
   "langInMainMenu": true,
   "sourceLang": "fr",
   "targetLang": "en",
   "useGoogleTranslate": true
  },
  "toc": {
   "base_numbering": 1,
   "nav_menu": {},
   "number_sections": true,
   "sideBar": true,
   "skip_h1_title": false,
   "title_cell": "Table of Contents",
   "title_sidebar": "Contents",
   "toc_cell": false,
   "toc_position": {},
   "toc_section_display": true,
   "toc_window_display": false
  }
 },
 "nbformat": 4,
 "nbformat_minor": 5
}
