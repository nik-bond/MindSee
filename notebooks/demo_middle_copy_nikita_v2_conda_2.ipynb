{
 "cells": [
  {
   "cell_type": "code",
   "execution_count": 7,
   "id": "7d018da9",
   "metadata": {},
   "outputs": [],
   "source": [
    "import pandas as pd\n",
    "import numpy as np\n",
    "from tensorflow.keras import Sequential, layers, models\n",
    "from sklearn.preprocessing import MinMaxScaler, RobustScaler\n",
    "from tensorflow.keras.callbacks import EarlyStopping\n",
    "import h5py as h5\n",
    "import matplotlib.pyplot as plt"
   ]
  },
  {
   "cell_type": "code",
   "execution_count": 8,
   "id": "8ae5ae5d",
   "metadata": {},
   "outputs": [
    {
     "name": "stderr",
     "output_type": "stream",
     "text": [
      "C:\\Users\\Admin\\AppData\\Local\\Temp\\ipykernel_3564\\3560020842.py:1: DtypeWarning: Columns (0) have mixed types. Specify dtype option on import or set low_memory=False.\n",
      "  y_df = pd.read_csv(\"C:\\\\Users\\\\Admin\\\\Documents\\\\MindSee\\\\data\\\\y_dataframe.csv\")\n"
     ]
    }
   ],
   "source": [
    "y_df = pd.read_csv(\"C:\\\\Users\\\\Admin\\\\Documents\\\\MindSee\\\\data\\\\y_dataframe.csv\")\n",
    "y_train = y_df.iloc[:8859, 1:].to_numpy()\n",
    "y_df.drop(columns = [\"Unnamed: 0\"], inplace = True)\n",
    "X_train = np.load(\"C:\\\\Users\\\\Admin\\\\Documents\\\\MindSee\\\\data\\\\nsd_train_fmriavg_nsdgeneral_sub1.npy\")\n",
    "X_test = np.load(\"C:\\\\Users\\\\Admin\\\\Documents\\\\MindSee\\\\data\\\\nsd_test_fmriavg_nsdgeneral_sub1.npy\")\n"
   ]
  },
  {
   "cell_type": "code",
   "execution_count": 9,
   "id": "5b567e3a",
   "metadata": {},
   "outputs": [],
   "source": [
    "scaler = RobustScaler()\n",
    "X_scaled = scaler.fit_transform(X_train)\n",
    "X_test_scaled = scaler.transform(X_test)"
   ]
  },
  {
   "cell_type": "code",
   "execution_count": 10,
   "id": "f98c1ea5",
   "metadata": {
    "scrolled": true
   },
   "outputs": [],
   "source": [
    "labels = y_df.columns"
   ]
  },
  {
   "cell_type": "code",
   "execution_count": 2,
   "id": "233fc876",
   "metadata": {},
   "outputs": [],
   "source": [
    "# model_3 = Sequential([layers.Dense(2000, input_shape = (15724,), activation = \"relu\"),\n",
    "#                   layers.Dense(1500, activation = \"relu\"),\n",
    "#                     layers.Dropout(0.1),\n",
    "#                   layers.Dense(1200, activation = \"relu\"),\n",
    "#                     layers.Dropout(0.1),\n",
    "#                   layers.Dense(1000, activation = \"relu\"),\n",
    "#                     layers.Dropout(0.1),\n",
    "#                     layers.Dense(800, activation = \"relu\"),\n",
    "#                     layers.Dropout(0.1),\n",
    "#                     layers.Dense(500, activation = \"relu\"),\n",
    "#                     layers.Dropout(0.1),\n",
    "#                     layers.Dense(800, activation = \"relu\"),\n",
    "#                   layers.Dense(2637, activation = \"sigmoid\")])\n",
    "\n",
    "# model_3.compile(loss = \"binary_crossentropy\", optimizer = \"adam\")\n",
    "# es = EarlyStopping(patience=20,restore_best_weights = True)\n",
    "\n",
    "# history_3 = model_3.fit(X_scaled, y_train, validation_split=0.15, batch_size = 32, epochs = 120, callbacks=[es])"
   ]
  },
  {
   "cell_type": "code",
   "execution_count": 30,
   "id": "564bba41",
   "metadata": {},
   "outputs": [],
   "source": [
    "# modelx = Sequential([layers.Dense(500, input_shape = (15724,), activation = \"relu\"),\n",
    "#                   layers.Dense(500, activation = \"relu\"),\n",
    "#                     layers.Dropout(0.1),\n",
    "#                   layers.Dense(500, activation = \"relu\"),\n",
    "                    \n",
    "#                   layers.Dense(500, activation = \"relu\"),\n",
    "#                     layers.Dropout(0.1),\n",
    "#                     layers.Dense(500, activation = \"relu\"),\n",
    "                    \n",
    "#                     layers.Dense(500, activation = \"relu\"),\n",
    "#                     layers.Dropout(0.1),\n",
    "#                     layers.Dense(500, activation = \"relu\"),\n",
    "                     \n",
    "#                      layers.Dense(500, activation = \"relu\"),\n",
    "#                      layers.Dropout(0.1),\n",
    "#                      layers.Dense(500, activation = \"relu\"),\n",
    "#                      layers.Dense(500, activation = \"relu\"),\n",
    "#                      layers.Dropout(0.1),\n",
    "#                      layers.Dense(500, activation = \"relu\"),\n",
    "                     \n",
    "#                   layers.Dense(2637, activation = \"sigmoid\")])"
   ]
  },
  {
   "cell_type": "code",
   "execution_count": 31,
   "id": "f3f99e43",
   "metadata": {},
   "outputs": [],
   "source": [
    "# modelx.compile(loss = \"binary_crossentropy\", optimizer = \"adam\")"
   ]
  },
  {
   "cell_type": "code",
   "execution_count": 3,
   "id": "f020087a",
   "metadata": {
    "scrolled": true
   },
   "outputs": [],
   "source": [
    "# model_mark.fit(X_scaled, y_train, validation_split=0.1, batch_size = 32, epochs = 30)\n",
    "# es = EarlyStopping(patience=20,restore_best_weights = True)\n",
    "\n",
    "# history_x = modelx.fit(X_scaled, y_train, validation_split=0.15, batch_size = 16, epochs = 100, callbacks=[es])"
   ]
  },
  {
   "cell_type": "code",
   "execution_count": 4,
   "id": "9218eae1",
   "metadata": {},
   "outputs": [],
   "source": [
    "# mmo = Sequential([layers.Dense(100, input_shape = (15724,), activation = \"relu\"),\n",
    "#                   layers.Dense(100, activation = \"relu\"),\n",
    "#                     layers.Dropout(0.4),\n",
    "#                   layers.Dense(200, activation = \"relu\"),\n",
    "#                     layers.Dropout(0.4),\n",
    "#                   layers.Dense(500, activation = \"relu\"),\n",
    "#                     layers.Dropout(0.4),\n",
    "#                     layers.Dense(500, activation = \"relu\"),\n",
    "#                     layers.Dropout(0.4),\n",
    "#                     layers.Dense(1000, activation = \"relu\"),\n",
    "#                     layers.Dropout(0.4),\n",
    "#                     layers.Dense(2000, activation = \"relu\"),\n",
    "#                   layers.Dense(2637, activation = \"sigmoid\")])\n",
    "# mmo.compile(loss = \"binary_crossentropy\", optimizer = \"adam\")\n",
    "# mmo.fit(X_scaled, y_train, validation_split=0.1, batch_size = 32, epochs = 30)"
   ]
  },
  {
   "cell_type": "code",
   "execution_count": 5,
   "id": "413facc1",
   "metadata": {},
   "outputs": [],
   "source": [
    "# mmo2 = Sequential([layers.Dense(100, input_shape = (15724,), activation = \"relu\"),\n",
    "#                   layers.Dense(100, activation = \"relu\"),\n",
    "#                     layers.Dropout(0.1),\n",
    "#                   layers.Dense(200, activation = \"relu\"),\n",
    "#                     layers.Dropout(0.5),\n",
    "#                   layers.Dense(500, activation = \"relu\"),\n",
    "#                     layers.Dropout(0.5),\n",
    "#                     layers.Dense(500, activation = \"relu\"),\n",
    "#                     layers.Dropout(0.5),\n",
    "#                     layers.Dense(1000, activation = \"relu\"),\n",
    "#                     layers.Dropout(0.5),\n",
    "#                     layers.Dense(2000, activation = \"relu\"),\n",
    "#                   layers.Dense(2637, activation = \"sigmoid\")])\n",
    "# mmo2.compile(loss = \"binary_crossentropy\", optimizer = \"adam\")\n",
    "# mmo2.fit(X_scaled, y_train, validation_split=0.1, batch_size = 32, epochs = 30)"
   ]
  },
  {
   "cell_type": "code",
   "execution_count": 13,
   "id": "2c03cecc",
   "metadata": {},
   "outputs": [],
   "source": [
    "images_file = h5.File(\"C:\\\\Users\\\\Admin\\\\Documents\\\\MindSee\\\\data\\\\selected_test_images.hdf5\", \"r\")\n",
    "stim_list_test=np.load('C:\\\\Users\\\\Admin\\\\Documents\\\\MindSee\\\\data\\\\nsd_test_stim_list1.npy')\n",
    "stim_list_train=np.load('C:\\\\Users\\\\Admin\\\\Documents\\\\MindSee\\\\data\\\\subj01_nsd_train_stim_list1.npy')\n",
    "# train_caps=np.load('drive/MyDrive/data/nsd_train_cap_sub1.npy')\n",
    "test_caps=np.load('C:\\\\Users\\\\Admin\\\\Documents\\\\MindSee\\\\data\\\\nsd_test_cap_sub1.npy')\n",
    "X_test_dataframe = pd.read_csv('C:\\\\Users\\\\Admin\\\\Documents\\\\MindSee\\\\data\\\\df_test.csv')\n",
    "df_test_idx_caps=X_test_dataframe[['Image_index', 'test_caps_processed']]"
   ]
  },
  {
   "cell_type": "code",
   "execution_count": 30,
   "id": "abd8f2ae",
   "metadata": {},
   "outputs": [],
   "source": [
    "model_mark = models.load_model('C:\\\\Users\\\\Admin\\\\Documents\\\\MindSee\\\\models\\\\model_mark_adjusted_val15_droupout_removed')\n",
    "model2 = models.load_model('C:\\\\Users\\\\Admin\\\\Documents\\\\MindSee\\\\models\\\\model2')\n",
    "model_3=models.load_model('..\\\\models\\\\model_3')\n",
    "modelx=models.load_model('..\\\\models\\\\modelx')\n",
    "mmo=models.load_model('..\\\\models\\\\mmo')\n",
    "mmo2=models.load_model('..\\\\models\\\\mmo2')\n",
    "multi_model=models.load_model('..\\\\models\\\\multi_model')"
   ]
  },
  {
   "cell_type": "code",
   "execution_count": 31,
   "id": "67a472e9",
   "metadata": {},
   "outputs": [],
   "source": [
    "\n",
    "test_index=58096"
   ]
  },
  {
   "cell_type": "code",
   "execution_count": 32,
   "id": "a0e1cde6",
   "metadata": {},
   "outputs": [
    {
     "data": {
      "text/plain": [
       "271"
      ]
     },
     "execution_count": 32,
     "metadata": {},
     "output_type": "execute_result"
    }
   ],
   "source": [
    "test_index_r = np.where(stim_list_test == test_index)[0][0]\n",
    "test_index_r"
   ]
  },
  {
   "cell_type": "code",
   "execution_count": 33,
   "id": "36bd322f",
   "metadata": {},
   "outputs": [
    {
     "data": {
      "text/plain": [
       "58096"
      ]
     },
     "execution_count": 33,
     "metadata": {},
     "output_type": "execute_result"
    }
   ],
   "source": [
    "test_index"
   ]
  },
  {
   "cell_type": "code",
   "execution_count": 43,
   "id": "960629c3",
   "metadata": {
    "scrolled": true
   },
   "outputs": [
    {
     "name": "stdout",
     "output_type": "stream",
     "text": [
      "1/1 [==============================] - 0s 104ms/step\n",
      "1/1 [==============================] - 0s 22ms/step\n",
      "1/1 [==============================] - 0s 24ms/step\n",
      "1/1 [==============================] - 0s 16ms/step\n",
      "1/1 [==============================] - 0s 26ms/step\n",
      "1/1 [==============================] - 0s 17ms/step\n",
      "1/1 [==============================] - 0s 33ms/step\n"
     ]
    }
   ],
   "source": [
    "idx=89\n",
    "#model 3\n",
    "test_answer_3 = model_3.predict(X_test_scaled[idx].reshape(1,-1))\n",
    "test_answer_idxs_3 = np.argpartition(test_answer_3[0],-4)[-4:]\n",
    "#model x\n",
    "test_answer_x = modelx.predict(X_test_scaled[idx].reshape(1,-1))\n",
    "test_answer_idxs_x = np.argpartition(test_answer_x[0],-4)[-4:]\n",
    "test_index=stim_list_test[idx]  ##only need to run once\n",
    "#model mark\n",
    "test_answer_mark = model_mark.predict(X_test_scaled[idx].reshape(1,-1))\n",
    "test_answer_idxs_mark = np.argpartition(test_answer_mark[0],-4)[-4:]\n",
    "# model 2\n",
    "test_answer_model2 = model2.predict(X_test_scaled[idx].reshape(1,-1))\n",
    "test_answer_idxs_model2 = np.argpartition(test_answer_model2[0],-4)[-4:]\n",
    "# mmo - mark model original\n",
    "test_answer_mmo = mmo.predict(X_test_scaled[idx].reshape(1,-1))\n",
    "test_answer_idxs_mmo = np.argpartition(test_answer_mmo[0],-4)[-4:]\n",
    "# mmo2 - mark model original v.2\n",
    "test_answer_mmo2 = mmo2.predict(X_test_scaled[idx].reshape(1,-1))\n",
    "test_answer_idxs_mmo2 = np.argpartition(test_answer_mmo2[0],-4)[-4:]\n",
    "#model_squared\n",
    "# test_answer_model_squared = model_squared.predict(X_test_scaled[idx].reshape(1,-1))\n",
    "# test_answer_idxs_model_squared = np.argpartition(test_answer_model_squared[0],-4)[-4:]\n",
    "#multi model\n",
    "test_answer_multi_model =  multi_model.predict(X_test_scaled[idx].reshape(1,-1))\n",
    "test_answer_idxs_multi_model = np.argpartition(test_answer_multi_model[0],-4)[-4:]\n",
    "# #multi model 2\n",
    "# test_answer_multi_2 =  multi_2.predict(X_test_scaled[idx].reshape(1,-1))\n",
    "# test_answer_idxs_multi_2 = np.argpartition(test_answer_multi_2[0],-4)[-4:]\n",
    "# show info\n",
    "caps=df_test_idx_caps.loc[df_test_idx_caps['Image_index'] == test_index, 'test_caps_processed'].item()\n"
   ]
  },
  {
   "cell_type": "code",
   "execution_count": 44,
   "id": "9a199bbc",
   "metadata": {},
   "outputs": [
    {
     "data": {
      "image/png": "[encoded data removed]",
      "text/plain": [
       "<Figure size 640x480 with 1 Axes>"
      ]
     },
     "metadata": {},
     "output_type": "display_data"
    },
    {
     "name": "stdout",
     "output_type": "stream",
     "text": [
      "Original captions ['' '' 'A man in a plaid shirt doing skateboard tricks ' '' '']\n",
      "Test captions processed: ['skateboard', 'man', 'plaid', ' ']\n",
      "Predicted labels Mark ['man', 'boy', 'skateboard', 'trick']\n",
      "Predicted labels Model2 ['skateboard', 'person', 'ski', 'man']\n",
      "Predicted labels Model 3 ['skateboard', 'ski', 'jump', 'person']\n",
      "Predicted labels Model Mark Original ['ski', 'man', 'person', 'skateboard']\n",
      "Predicted labels Model Mark O2 ['ski', 'man', 'person', 'skateboard']\n",
      "Predicted labels Model Multi ['person', 'skateboard', 'man', 'ski']\n",
      "Index 89\n"
     ]
    }
   ],
   "source": [
    "plt.imshow(images_file[str(test_index)])\n",
    "plt.show()\n",
    "print('Original captions', test_caps[idx])\n",
    "print('Test captions processed:' , caps)\n",
    "#print('fMRI array', X_test[idx])\n",
    "print('Predicted labels Mark', list(labels[test_answer_idxs_mark]))\n",
    "print('Predicted labels Model2', list(labels[test_answer_idxs_model2]))\n",
    "print('Predicted labels Model 3', list(labels[test_answer_idxs_3]))\n",
    "print('Predicted labels Model Mark Original', list(labels[test_answer_idxs_mmo]))\n",
    "print('Predicted labels Model Mark O2', list(labels[test_answer_idxs_mmo]))\n",
    "print('Predicted labels Model Multi', list(labels[test_answer_idxs_multi_model]))\n",
    "# print('Predicted labels Model Multi 2', list(labels[test_answer_idxs_multi_2]))\n",
    "print('Index', idx)"
   ]
  },
  {
   "cell_type": "code",
   "execution_count": 143,
   "id": "6181d5b6",
   "metadata": {},
   "outputs": [
    {
     "name": "stderr",
     "output_type": "stream",
     "text": [
      "WARNING:absl:Found untraced functions such as query_layer_call_fn, query_layer_call_and_return_conditional_losses, key_layer_call_fn, key_layer_call_and_return_conditional_losses, value_layer_call_fn while saving (showing 5 of 12). These functions will not be directly callable after loading.\n"
     ]
    },
    {
     "name": "stdout",
     "output_type": "stream",
     "text": [
      "INFO:tensorflow:Assets written to: ..\\models\\multi_model\\assets\n"
     ]
    },
    {
     "name": "stderr",
     "output_type": "stream",
     "text": [
      "INFO:tensorflow:Assets written to: ..\\models\\multi_model\\assets\n"
     ]
    }
   ],
   "source": [
    "# models.save_model(model_3, '..\\\\models\\\\model_3')\n",
    "# models.save_model(modelx, '..\\\\models\\\\modelx')\n",
    "# models.save_model(mmo, '..\\\\models\\\\mmo')\n",
    "# models.save_model(mmo2, '..\\\\models\\\\mmo2')\n",
    "models.save_model(multi_model, '..\\\\models\\\\multi_model')"
   ]
  },
  {
   "cell_type": "code",
   "execution_count": 42,
   "id": "1f55bb65",
   "metadata": {},
   "outputs": [
    {
     "name": "stdout",
     "output_type": "stream",
     "text": [
      "Model: \"sequential\"\n",
      "_________________________________________________________________\n",
      " Layer (type)                Output Shape              Param #   \n",
      "=================================================================\n",
      " dense (Dense)               (None, 2000)              31450000  \n",
      "                                                                 \n",
      " dense_1 (Dense)             (None, 1500)              3001500   \n",
      "                                                                 \n",
      " dropout (Dropout)           (None, 1500)              0         \n",
      "                                                                 \n",
      " dense_2 (Dense)             (None, 1200)              1801200   \n",
      "                                                                 \n",
      " dropout_1 (Dropout)         (None, 1200)              0         \n",
      "                                                                 \n",
      " dense_3 (Dense)             (None, 1000)              1201000   \n",
      "                                                                 \n",
      " dropout_2 (Dropout)         (None, 1000)              0         \n",
      "                                                                 \n",
      " dense_4 (Dense)             (None, 800)               800800    \n",
      "                                                                 \n",
      " dropout_3 (Dropout)         (None, 800)               0         \n",
      "                                                                 \n",
      " dense_5 (Dense)             (None, 500)               400500    \n",
      "                                                                 \n",
      " dropout_4 (Dropout)         (None, 500)               0         \n",
      "                                                                 \n",
      " dense_6 (Dense)             (None, 800)               400800    \n",
      "                                                                 \n",
      " dense_7 (Dense)             (None, 2637)              2112237   \n",
      "                                                                 \n",
      "=================================================================\n",
      "Total params: 41,168,037\n",
      "Trainable params: 41,168,037\n",
      "Non-trainable params: 0\n",
      "_________________________________________________________________\n"
     ]
    }
   ],
   "source": [
    "model_3.summary()"
   ]
  },
  {
   "cell_type": "code",
   "execution_count": null,
   "id": "2e1d4ebc",
   "metadata": {},
   "outputs": [],
   "source": [
    "\n",
    "# from sklearn.model_selection import GridSearchCV\n",
    "\n",
    "# # Assuming you have the XGBoost regressor model named 'xgb_model'\n",
    "# xgb_model = model_xgb\n",
    "\n",
    "# # Define the parameter grid for grid search\n",
    "# param_grid = {\n",
    "#     'max_depth': [3, 6, 9],\n",
    "#     'learning_rate': [0.1, 0.01, 0.001],\n",
    "#     'n_estimators': [100, 500, 1000]\n",
    "# }\n",
    "\n",
    "# # Create the GridSearchCV object with the XGBoost regressor and parameter grid\n",
    "# grid_search = GridSearchCV(estimator=xgb_model, param_grid=param_grid, cv=5, scoring='neg_mean_squared_error')\n",
    "\n",
    "# # Perform the grid search\n",
    "# grid_search.fit(X_scaled, y_train)  # X and y represent your input features and target variables\n",
    "\n",
    "# # Retrieve the best model and best parameter combination\n",
    "# best_model = grid_search.best_estimator_\n",
    "# best_params = grid_search.best_params_\n",
    "\n",
    "# # Print the best model and best parameters\n",
    "# print(\"Best Model:\", best_model)\n",
    "# print(\"Best Parameters:\", best_params)"
   ]
  },
  {
   "cell_type": "code",
   "execution_count": 38,
   "id": "0e2bb239",
   "metadata": {},
   "outputs": [],
   "source": [
    "# np.save('X_test_scaled.npy', X_test_scaled)"
   ]
  },
  {
   "cell_type": "code",
   "execution_count": 101,
   "id": "217456a6",
   "metadata": {},
   "outputs": [
    {
     "name": "stdout",
     "output_type": "stream",
     "text": [
      "Model: \"sequential\"\n",
      "_________________________________________________________________\n",
      " Layer (type)                Output Shape              Param #   \n",
      "=================================================================\n",
      " dense (Dense)               (None, 100)               1572500   \n",
      "                                                                 \n",
      " dense_1 (Dense)             (None, 100)               10100     \n",
      "                                                                 \n",
      " dense_2 (Dense)             (None, 200)               20200     \n",
      "                                                                 \n",
      " dense_3 (Dense)             (None, 500)               100500    \n",
      "                                                                 \n",
      " dense_4 (Dense)             (None, 500)               250500    \n",
      "                                                                 \n",
      " dense_5 (Dense)             (None, 1000)              501000    \n",
      "                                                                 \n",
      " dense_6 (Dense)             (None, 2000)              2002000   \n",
      "                                                                 \n",
      " dense_7 (Dense)             (None, 1000)              2001000   \n",
      "                                                                 \n",
      " dense_8 (Dense)             (None, 500)               500500    \n",
      "                                                                 \n",
      " dense_9 (Dense)             (None, 200)               100200    \n",
      "                                                                 \n",
      " dense_10 (Dense)            (None, 100)               20100     \n",
      "                                                                 \n",
      " dense_11 (Dense)            (None, 2637)              266337    \n",
      "                                                                 \n",
      "=================================================================\n",
      "Total params: 7,344,937\n",
      "Trainable params: 7,344,937\n",
      "Non-trainable params: 0\n",
      "_________________________________________________________________\n"
     ]
    }
   ],
   "source": [
    "model2.summary()"
   ]
  },
  {
   "cell_type": "code",
   "execution_count": null,
   "id": "9c0d2a44",
   "metadata": {},
   "outputs": [],
   "source": []
  },
  {
   "cell_type": "code",
   "execution_count": 6,
   "id": "964d1ab4",
   "metadata": {},
   "outputs": [
    {
     "ename": "NameError",
     "evalue": "name 'Sequential' is not defined",
     "output_type": "error",
     "traceback": [
      "\u001b[1;31m---------------------------------------------------------------------------\u001b[0m",
      "\u001b[1;31mNameError\u001b[0m                                 Traceback (most recent call last)",
      "Cell \u001b[1;32mIn[6], line 1\u001b[0m\n\u001b[1;32m----> 1\u001b[0m model_squared \u001b[38;5;241m=\u001b[39m \u001b[43mSequential\u001b[49m([layers\u001b[38;5;241m.\u001b[39mDense(\u001b[38;5;241m100\u001b[39m, input_shape \u001b[38;5;241m=\u001b[39m (\u001b[38;5;241m15724\u001b[39m,), activation \u001b[38;5;241m=\u001b[39m \u001b[38;5;124m\"\u001b[39m\u001b[38;5;124mrelu\u001b[39m\u001b[38;5;124m\"\u001b[39m),\n\u001b[0;32m      2\u001b[0m                             layers\u001b[38;5;241m.\u001b[39mDense(\u001b[38;5;241m500\u001b[39m, activation\u001b[38;5;241m=\u001b[39m\u001b[38;5;124m'\u001b[39m\u001b[38;5;124mrelu\u001b[39m\u001b[38;5;124m'\u001b[39m),\n\u001b[0;32m      3\u001b[0m                             layers\u001b[38;5;241m.\u001b[39mDense(\u001b[38;5;241m600\u001b[39m, activation\u001b[38;5;241m=\u001b[39m\u001b[38;5;124m'\u001b[39m\u001b[38;5;124mrelu\u001b[39m\u001b[38;5;124m'\u001b[39m),\n\u001b[0;32m      4\u001b[0m                   \n\u001b[0;32m      5\u001b[0m                   layers\u001b[38;5;241m.\u001b[39mDense(\u001b[38;5;241m700\u001b[39m, activation\u001b[38;5;241m=\u001b[39m\u001b[38;5;124m'\u001b[39m\u001b[38;5;124mrelu\u001b[39m\u001b[38;5;124m'\u001b[39m),\n\u001b[0;32m      6\u001b[0m                     \n\u001b[0;32m      7\u001b[0m                   layers\u001b[38;5;241m.\u001b[39mDense(\u001b[38;5;241m1000\u001b[39m),\n\u001b[0;32m      8\u001b[0m                     layers\u001b[38;5;241m.\u001b[39mLeakyReLU(alpha\u001b[38;5;241m=\u001b[39m\u001b[38;5;241m0.05\u001b[39m),\n\u001b[0;32m      9\u001b[0m                             layers\u001b[38;5;241m.\u001b[39mDropout(\u001b[38;5;241m0.1\u001b[39m),\n\u001b[0;32m     10\u001b[0m                     layers\u001b[38;5;241m.\u001b[39mDense(\u001b[38;5;241m2000\u001b[39m),\n\u001b[0;32m     11\u001b[0m                     layers\u001b[38;5;241m.\u001b[39mLeakyReLU(alpha\u001b[38;5;241m=\u001b[39m\u001b[38;5;241m0.05\u001b[39m),\n\u001b[0;32m     12\u001b[0m                             layers\u001b[38;5;241m.\u001b[39mDropout(\u001b[38;5;241m0.1\u001b[39m),\n\u001b[0;32m     13\u001b[0m                     layers\u001b[38;5;241m.\u001b[39mDense(\u001b[38;5;241m1000\u001b[39m, activation\u001b[38;5;241m=\u001b[39m\u001b[38;5;124m'\u001b[39m\u001b[38;5;124mrelu\u001b[39m\u001b[38;5;124m'\u001b[39m),\n\u001b[0;32m     14\u001b[0m                     \n\u001b[0;32m     15\u001b[0m                     layers\u001b[38;5;241m.\u001b[39mDense(\u001b[38;5;241m2000\u001b[39m, activation\u001b[38;5;241m=\u001b[39m\u001b[38;5;124m'\u001b[39m\u001b[38;5;124mrelu\u001b[39m\u001b[38;5;124m'\u001b[39m),\n\u001b[0;32m     16\u001b[0m                   layers\u001b[38;5;241m.\u001b[39mDropout(\u001b[38;5;241m0.1\u001b[39m),\n\u001b[0;32m     17\u001b[0m                     layers\u001b[38;5;241m.\u001b[39mDense(\u001b[38;5;241m1000\u001b[39m),\n\u001b[0;32m     18\u001b[0m                            layers\u001b[38;5;241m.\u001b[39mLeakyReLU(alpha\u001b[38;5;241m=\u001b[39m\u001b[38;5;241m0.01\u001b[39m),\n\u001b[0;32m     19\u001b[0m                             layers\u001b[38;5;241m.\u001b[39mDropout(\u001b[38;5;241m0.3\u001b[39m),\n\u001b[0;32m     20\u001b[0m                     layers\u001b[38;5;241m.\u001b[39mDense(\u001b[38;5;241m500\u001b[39m),\n\u001b[0;32m     21\u001b[0m                             layers\u001b[38;5;241m.\u001b[39mLeakyReLU(alpha\u001b[38;5;241m=\u001b[39m\u001b[38;5;241m0.05\u001b[39m),\n\u001b[0;32m     22\u001b[0m                             layers\u001b[38;5;241m.\u001b[39mDropout(\u001b[38;5;241m0.1\u001b[39m),\n\u001b[0;32m     23\u001b[0m                             layers\u001b[38;5;241m.\u001b[39mDense(\u001b[38;5;241m2000\u001b[39m),\n\u001b[0;32m     24\u001b[0m                             layers\u001b[38;5;241m.\u001b[39mLeakyReLU(alpha\u001b[38;5;241m=\u001b[39m\u001b[38;5;241m0.05\u001b[39m),\n\u001b[0;32m     25\u001b[0m                             layers\u001b[38;5;241m.\u001b[39mDropout(\u001b[38;5;241m0.1\u001b[39m),\n\u001b[0;32m     26\u001b[0m                   layers\u001b[38;5;241m.\u001b[39mDense(\u001b[38;5;241m1000\u001b[39m,activation\u001b[38;5;241m=\u001b[39m\u001b[38;5;124m'\u001b[39m\u001b[38;5;124mrelu\u001b[39m\u001b[38;5;124m'\u001b[39m),\n\u001b[0;32m     27\u001b[0m                             \n\u001b[0;32m     28\u001b[0m                   \n\u001b[0;32m     29\u001b[0m                   \n\u001b[0;32m     30\u001b[0m                   layers\u001b[38;5;241m.\u001b[39mDense(\u001b[38;5;241m2637\u001b[39m, activation \u001b[38;5;241m=\u001b[39m \u001b[38;5;124m\"\u001b[39m\u001b[38;5;124msigmoid\u001b[39m\u001b[38;5;124m\"\u001b[39m)])\n\u001b[0;32m     31\u001b[0m model_squared\u001b[38;5;241m.\u001b[39mcompile(loss \u001b[38;5;241m=\u001b[39m \u001b[38;5;124m\"\u001b[39m\u001b[38;5;124mbinary_crossentropy\u001b[39m\u001b[38;5;124m\"\u001b[39m, optimizer \u001b[38;5;241m=\u001b[39m \u001b[38;5;124m\"\u001b[39m\u001b[38;5;124madam\u001b[39m\u001b[38;5;124m\"\u001b[39m)\n\u001b[0;32m     32\u001b[0m es \u001b[38;5;241m=\u001b[39m EarlyStopping(patience\u001b[38;5;241m=\u001b[39m\u001b[38;5;241m20\u001b[39m,restore_best_weights \u001b[38;5;241m=\u001b[39m \u001b[38;5;28;01mTrue\u001b[39;00m)\n",
      "\u001b[1;31mNameError\u001b[0m: name 'Sequential' is not defined"
     ]
    }
   ],
   "source": [
    "model_squared = Sequential([layers.Dense(100, input_shape = (15724,), activation = \"relu\"),\n",
    "                            layers.Dense(500, activation='relu'),\n",
    "                            layers.Dense(600, activation='relu'),\n",
    "                  \n",
    "                  layers.Dense(700, activation='relu'),\n",
    "                    \n",
    "                  layers.Dense(1000),\n",
    "                    layers.LeakyReLU(alpha=0.05),\n",
    "                            layers.Dropout(0.1),\n",
    "                    layers.Dense(2000),\n",
    "                    layers.LeakyReLU(alpha=0.05),\n",
    "                            layers.Dropout(0.1),\n",
    "                    layers.Dense(1000, activation='relu'),\n",
    "                    \n",
    "                    layers.Dense(2000, activation='relu'),\n",
    "                  layers.Dropout(0.1),\n",
    "                    layers.Dense(1000),\n",
    "                           layers.LeakyReLU(alpha=0.01),\n",
    "                            layers.Dropout(0.3),\n",
    "                    layers.Dense(500),\n",
    "                            layers.LeakyReLU(alpha=0.05),\n",
    "                            layers.Dropout(0.1),\n",
    "                            layers.Dense(2000),\n",
    "                            layers.LeakyReLU(alpha=0.05),\n",
    "                            layers.Dropout(0.1),\n",
    "                  layers.Dense(1000,activation='relu'),\n",
    "                            \n",
    "                  \n",
    "                  \n",
    "                  layers.Dense(2637, activation = \"sigmoid\")])\n",
    "model_squared.compile(loss = \"binary_crossentropy\", optimizer = \"adam\")\n",
    "es = EarlyStopping(patience=20,restore_best_weights = True)\n",
    "\n",
    "model_squared_history = model_squared.fit(X_scaled, y_train, validation_split=0.15, batch_size = 16, epochs = 120, callbacks=[es])"
   ]
  },
  {
   "cell_type": "code",
   "execution_count": null,
   "id": "66b954af",
   "metadata": {},
   "outputs": [],
   "source": [
    "# from sklearn.model_selection import train_test_split\n",
    "# from xgboost import XGBClassifier\n",
    "\n",
    "# X_train, X_val, y_train, y_val = train_test_split(\n",
    "#     X_train_scaled, y_train, test_size = 0.15  # TEST = 15%\n",
    "# )\n",
    "# xgb_class = XGBClassifier(max_depth=10, n_estimators=100, learning_rate=0.1, verbosity=2,\n",
    "#                           # stop iterating when eval loss increases 5 times in a row\n",
    "#                           early_stopping_rounds=5)\n",
    "# xgb_class.fit(X_train, y_train,\n",
    "#     # evaluate loss at each iteration\n",
    "#     eval_set=[(X_val, y_val)]\n",
    "# )\n",
    "# y_pred = xgb_class.predict(X_train_scaled)"
   ]
  },
  {
   "cell_type": "code",
   "execution_count": null,
   "id": "94e4d0db",
   "metadata": {},
   "outputs": [],
   "source": [
    "# import xgboost as xgb\n",
    "# from sklearn.model_selection import GridSearchCV\n",
    "# from sklearn.metrics import accuracy_score\n",
    "# from sklearn.model_selection import train_test_split\n",
    "\n",
    "\n",
    "\n",
    "\n",
    "# # Create the XGBoost classifier\n",
    "# xgb_model = xgb.XGBClassifier()\n",
    "\n",
    "# # X_train, X_val, y_train, y_val = train_test_split(\n",
    "# #     X_train_scaled, y_train, test_size = 0.15  # TEST = 15%\n",
    "# # )\n",
    "# # Define the parameter grid for grid search\n",
    "# param_grid = {\n",
    "#     'max_depth': [3, 6, 9],\n",
    "#     'learning_rate': [0.1, 0.01, 0.001],\n",
    "#     'n_estimators': [100, 500, 1000]\n",
    "# }\n",
    "\n",
    "# # Create the GridSearchCV object with the XGBoost classifier and parameter grid\n",
    "# grid_search = GridSearchCV(estimator=xgb_model, param_grid=param_grid, cv=5, verbose=1)\n",
    "\n",
    "# # Perform the grid search\n",
    "# grid_search.fit(X_scaled, y_train)\n",
    "\n",
    "# # Retrieve the best model and best parameter combination\n",
    "# best_model = grid_search.best_estimator_\n",
    "# best_params = grid_search.best_params_\n",
    "\n",
    "# # Print the best model and best parameters\n",
    "# print(\"Best Model:\", best_model)\n",
    "# print(\"Best Parameters:\", best_params)\n",
    "\n",
    "\n",
    "\n",
    "# # Calculate the accuracy\n",
    "# # accuracy = accuracy_score(y, y_pred)\n",
    "# # print(\"Accuracy:\", accuracy)"
   ]
  },
  {
   "cell_type": "code",
   "execution_count": 97,
   "id": "49c76e00",
   "metadata": {
    "scrolled": true
   },
   "outputs": [
    {
     "name": "stderr",
     "output_type": "stream",
     "text": [
      "C:\\Users\\Admin\\AppData\\Local\\Temp\\ipykernel_3736\\571862791.py:1: DtypeWarning: Columns (0) have mixed types. Specify dtype option on import or set low_memory=False.\n",
      "  y_long= pd.read_csv(\"C:\\\\Users\\\\Admin\\\\Documents\\\\MindSee\\\\data\\\\y_dataframe_2.csv\")\n"
     ]
    }
   ],
   "source": [
    "y_long= pd.read_csv(\"C:\\\\Users\\\\Admin\\\\Documents\\\\MindSee\\\\data\\\\y_dataframe_2.csv\")"
   ]
  },
  {
   "cell_type": "code",
   "execution_count": 99,
   "id": "bf494a85",
   "metadata": {},
   "outputs": [],
   "source": [
    "y_long.drop(columns = [\"Unnamed: 0\", \"Unnamed: 1\"], inplace = True)"
   ]
  },
  {
   "cell_type": "code",
   "execution_count": 100,
   "id": "9fdfd5fe",
   "metadata": {},
   "outputs": [
    {
     "data": {
      "text/html": [
       "<div>\n",
       "<style scoped>\n",
       "    .dataframe tbody tr th:only-of-type {\n",
       "        vertical-align: middle;\n",
       "    }\n",
       "\n",
       "    .dataframe tbody tr th {\n",
       "        vertical-align: top;\n",
       "    }\n",
       "\n",
       "    .dataframe thead th {\n",
       "        text-align: right;\n",
       "    }\n",
       "</style>\n",
       "<table border=\"1\" class=\"dataframe\">\n",
       "  <thead>\n",
       "    <tr style=\"text-align: right;\">\n",
       "      <th></th>\n",
       "      <th>1950</th>\n",
       "      <th>1950s</th>\n",
       "      <th>1970</th>\n",
       "      <th>1971</th>\n",
       "      <th>2009</th>\n",
       "      <th>2010</th>\n",
       "      <th>4way</th>\n",
       "      <th>abandon</th>\n",
       "      <th>ability</th>\n",
       "      <th>ablaze</th>\n",
       "      <th>...</th>\n",
       "      <th>young</th>\n",
       "      <th>younger</th>\n",
       "      <th>youre</th>\n",
       "      <th>youth</th>\n",
       "      <th>zebra</th>\n",
       "      <th>zigzag</th>\n",
       "      <th>zip</th>\n",
       "      <th>zombie</th>\n",
       "      <th>zoo</th>\n",
       "      <th>zoom</th>\n",
       "    </tr>\n",
       "  </thead>\n",
       "  <tbody>\n",
       "    <tr>\n",
       "      <th>0</th>\n",
       "      <td>0</td>\n",
       "      <td>0</td>\n",
       "      <td>0</td>\n",
       "      <td>0</td>\n",
       "      <td>0</td>\n",
       "      <td>0</td>\n",
       "      <td>0</td>\n",
       "      <td>0</td>\n",
       "      <td>0</td>\n",
       "      <td>0</td>\n",
       "      <td>...</td>\n",
       "      <td>0</td>\n",
       "      <td>0</td>\n",
       "      <td>0</td>\n",
       "      <td>0</td>\n",
       "      <td>0</td>\n",
       "      <td>0</td>\n",
       "      <td>0</td>\n",
       "      <td>0</td>\n",
       "      <td>0</td>\n",
       "      <td>0</td>\n",
       "    </tr>\n",
       "    <tr>\n",
       "      <th>1</th>\n",
       "      <td>0</td>\n",
       "      <td>0</td>\n",
       "      <td>0</td>\n",
       "      <td>0</td>\n",
       "      <td>0</td>\n",
       "      <td>0</td>\n",
       "      <td>0</td>\n",
       "      <td>0</td>\n",
       "      <td>0</td>\n",
       "      <td>0</td>\n",
       "      <td>...</td>\n",
       "      <td>0</td>\n",
       "      <td>0</td>\n",
       "      <td>0</td>\n",
       "      <td>0</td>\n",
       "      <td>0</td>\n",
       "      <td>0</td>\n",
       "      <td>0</td>\n",
       "      <td>0</td>\n",
       "      <td>0</td>\n",
       "      <td>0</td>\n",
       "    </tr>\n",
       "    <tr>\n",
       "      <th>2</th>\n",
       "      <td>0</td>\n",
       "      <td>0</td>\n",
       "      <td>0</td>\n",
       "      <td>0</td>\n",
       "      <td>0</td>\n",
       "      <td>0</td>\n",
       "      <td>0</td>\n",
       "      <td>0</td>\n",
       "      <td>0</td>\n",
       "      <td>0</td>\n",
       "      <td>...</td>\n",
       "      <td>0</td>\n",
       "      <td>0</td>\n",
       "      <td>0</td>\n",
       "      <td>0</td>\n",
       "      <td>0</td>\n",
       "      <td>0</td>\n",
       "      <td>0</td>\n",
       "      <td>0</td>\n",
       "      <td>0</td>\n",
       "      <td>0</td>\n",
       "    </tr>\n",
       "    <tr>\n",
       "      <th>3</th>\n",
       "      <td>0</td>\n",
       "      <td>0</td>\n",
       "      <td>0</td>\n",
       "      <td>0</td>\n",
       "      <td>0</td>\n",
       "      <td>0</td>\n",
       "      <td>0</td>\n",
       "      <td>0</td>\n",
       "      <td>0</td>\n",
       "      <td>0</td>\n",
       "      <td>...</td>\n",
       "      <td>0</td>\n",
       "      <td>0</td>\n",
       "      <td>0</td>\n",
       "      <td>0</td>\n",
       "      <td>0</td>\n",
       "      <td>0</td>\n",
       "      <td>0</td>\n",
       "      <td>0</td>\n",
       "      <td>0</td>\n",
       "      <td>0</td>\n",
       "    </tr>\n",
       "    <tr>\n",
       "      <th>4</th>\n",
       "      <td>0</td>\n",
       "      <td>0</td>\n",
       "      <td>0</td>\n",
       "      <td>0</td>\n",
       "      <td>0</td>\n",
       "      <td>0</td>\n",
       "      <td>0</td>\n",
       "      <td>0</td>\n",
       "      <td>0</td>\n",
       "      <td>0</td>\n",
       "      <td>...</td>\n",
       "      <td>0</td>\n",
       "      <td>0</td>\n",
       "      <td>0</td>\n",
       "      <td>0</td>\n",
       "      <td>1</td>\n",
       "      <td>0</td>\n",
       "      <td>0</td>\n",
       "      <td>0</td>\n",
       "      <td>0</td>\n",
       "      <td>0</td>\n",
       "    </tr>\n",
       "    <tr>\n",
       "      <th>...</th>\n",
       "      <td>...</td>\n",
       "      <td>...</td>\n",
       "      <td>...</td>\n",
       "      <td>...</td>\n",
       "      <td>...</td>\n",
       "      <td>...</td>\n",
       "      <td>...</td>\n",
       "      <td>...</td>\n",
       "      <td>...</td>\n",
       "      <td>...</td>\n",
       "      <td>...</td>\n",
       "      <td>...</td>\n",
       "      <td>...</td>\n",
       "      <td>...</td>\n",
       "      <td>...</td>\n",
       "      <td>...</td>\n",
       "      <td>...</td>\n",
       "      <td>...</td>\n",
       "      <td>...</td>\n",
       "      <td>...</td>\n",
       "      <td>...</td>\n",
       "    </tr>\n",
       "    <tr>\n",
       "      <th>9836</th>\n",
       "      <td>0</td>\n",
       "      <td>0</td>\n",
       "      <td>0</td>\n",
       "      <td>0</td>\n",
       "      <td>0</td>\n",
       "      <td>0</td>\n",
       "      <td>0</td>\n",
       "      <td>0</td>\n",
       "      <td>0</td>\n",
       "      <td>0</td>\n",
       "      <td>...</td>\n",
       "      <td>0</td>\n",
       "      <td>0</td>\n",
       "      <td>0</td>\n",
       "      <td>0</td>\n",
       "      <td>0</td>\n",
       "      <td>0</td>\n",
       "      <td>0</td>\n",
       "      <td>0</td>\n",
       "      <td>0</td>\n",
       "      <td>0</td>\n",
       "    </tr>\n",
       "    <tr>\n",
       "      <th>9837</th>\n",
       "      <td>0</td>\n",
       "      <td>0</td>\n",
       "      <td>0</td>\n",
       "      <td>0</td>\n",
       "      <td>0</td>\n",
       "      <td>0</td>\n",
       "      <td>0</td>\n",
       "      <td>0</td>\n",
       "      <td>0</td>\n",
       "      <td>0</td>\n",
       "      <td>...</td>\n",
       "      <td>0</td>\n",
       "      <td>0</td>\n",
       "      <td>0</td>\n",
       "      <td>0</td>\n",
       "      <td>0</td>\n",
       "      <td>0</td>\n",
       "      <td>0</td>\n",
       "      <td>0</td>\n",
       "      <td>0</td>\n",
       "      <td>0</td>\n",
       "    </tr>\n",
       "    <tr>\n",
       "      <th>9838</th>\n",
       "      <td>0</td>\n",
       "      <td>0</td>\n",
       "      <td>0</td>\n",
       "      <td>0</td>\n",
       "      <td>0</td>\n",
       "      <td>0</td>\n",
       "      <td>0</td>\n",
       "      <td>0</td>\n",
       "      <td>0</td>\n",
       "      <td>0</td>\n",
       "      <td>...</td>\n",
       "      <td>0</td>\n",
       "      <td>0</td>\n",
       "      <td>0</td>\n",
       "      <td>0</td>\n",
       "      <td>0</td>\n",
       "      <td>0</td>\n",
       "      <td>0</td>\n",
       "      <td>0</td>\n",
       "      <td>0</td>\n",
       "      <td>0</td>\n",
       "    </tr>\n",
       "    <tr>\n",
       "      <th>9839</th>\n",
       "      <td>0</td>\n",
       "      <td>0</td>\n",
       "      <td>0</td>\n",
       "      <td>0</td>\n",
       "      <td>0</td>\n",
       "      <td>1</td>\n",
       "      <td>0</td>\n",
       "      <td>0</td>\n",
       "      <td>0</td>\n",
       "      <td>0</td>\n",
       "      <td>...</td>\n",
       "      <td>0</td>\n",
       "      <td>0</td>\n",
       "      <td>0</td>\n",
       "      <td>0</td>\n",
       "      <td>0</td>\n",
       "      <td>0</td>\n",
       "      <td>0</td>\n",
       "      <td>0</td>\n",
       "      <td>0</td>\n",
       "      <td>0</td>\n",
       "    </tr>\n",
       "    <tr>\n",
       "      <th>9840</th>\n",
       "      <td>0</td>\n",
       "      <td>0</td>\n",
       "      <td>0</td>\n",
       "      <td>0</td>\n",
       "      <td>0</td>\n",
       "      <td>0</td>\n",
       "      <td>0</td>\n",
       "      <td>0</td>\n",
       "      <td>0</td>\n",
       "      <td>0</td>\n",
       "      <td>...</td>\n",
       "      <td>0</td>\n",
       "      <td>0</td>\n",
       "      <td>0</td>\n",
       "      <td>0</td>\n",
       "      <td>0</td>\n",
       "      <td>0</td>\n",
       "      <td>0</td>\n",
       "      <td>0</td>\n",
       "      <td>0</td>\n",
       "      <td>0</td>\n",
       "    </tr>\n",
       "  </tbody>\n",
       "</table>\n",
       "<p>9841 rows × 3759 columns</p>\n",
       "</div>"
      ],
      "text/plain": [
       "      1950  1950s  1970  1971  2009  2010  4way  abandon  ability  ablaze  \\\n",
       "0        0      0     0     0     0     0     0        0        0       0   \n",
       "1        0      0     0     0     0     0     0        0        0       0   \n",
       "2        0      0     0     0     0     0     0        0        0       0   \n",
       "3        0      0     0     0     0     0     0        0        0       0   \n",
       "4        0      0     0     0     0     0     0        0        0       0   \n",
       "...    ...    ...   ...   ...   ...   ...   ...      ...      ...     ...   \n",
       "9836     0      0     0     0     0     0     0        0        0       0   \n",
       "9837     0      0     0     0     0     0     0        0        0       0   \n",
       "9838     0      0     0     0     0     0     0        0        0       0   \n",
       "9839     0      0     0     0     0     1     0        0        0       0   \n",
       "9840     0      0     0     0     0     0     0        0        0       0   \n",
       "\n",
       "      ...  young  younger  youre  youth  zebra  zigzag  zip  zombie  zoo  zoom  \n",
       "0     ...      0        0      0      0      0       0    0       0    0     0  \n",
       "1     ...      0        0      0      0      0       0    0       0    0     0  \n",
       "2     ...      0        0      0      0      0       0    0       0    0     0  \n",
       "3     ...      0        0      0      0      0       0    0       0    0     0  \n",
       "4     ...      0        0      0      0      1       0    0       0    0     0  \n",
       "...   ...    ...      ...    ...    ...    ...     ...  ...     ...  ...   ...  \n",
       "9836  ...      0        0      0      0      0       0    0       0    0     0  \n",
       "9837  ...      0        0      0      0      0       0    0       0    0     0  \n",
       "9838  ...      0        0      0      0      0       0    0       0    0     0  \n",
       "9839  ...      0        0      0      0      0       0    0       0    0     0  \n",
       "9840  ...      0        0      0      0      0       0    0       0    0     0  \n",
       "\n",
       "[9841 rows x 3759 columns]"
      ]
     },
     "execution_count": 100,
     "metadata": {},
     "output_type": "execute_result"
    }
   ],
   "source": [
    "y_long"
   ]
  },
  {
   "cell_type": "code",
   "execution_count": 134,
   "id": "4fc9864b",
   "metadata": {},
   "outputs": [],
   "source": [
    "import tensorflow as tf\n",
    "from tensorflow.keras.models import Model\n",
    "from tensorflow.keras.layers import Input, Dense, Dropout, MultiHeadAttention, LayerNormalization\n",
    "\n",
    "def create_ma_model(input_shape, num_classes):\n",
    "    # Input layer\n",
    "    inputs = Input(shape=input_shape)\n",
    "\n",
    "    # Multihead Attention layer\n",
    "    attention = MultiHeadAttention(num_heads=8, key_dim=64)(inputs, inputs)\n",
    "    attention = LayerNormalization(epsilon=1e-6)(attention)\n",
    "    \n",
    "    # Feed-forward neural network\n",
    "    dense = Dense(units=256, activation='relu')(attention)\n",
    "    dense = Dropout(0.2)(dense)\n",
    "    dense = Dense(units=128, activation='relu')(dense)\n",
    "    dense = Dropout(0.2)(dense)\n",
    "\n",
    "    # Output layer\n",
    "    outputs = Dense(units=num_classes, activation='sigmoid')(dense)\n",
    "\n",
    "    # Create the model\n",
    "    model = Model(inputs=inputs, outputs=outputs)\n",
    "\n",
    "    return model"
   ]
  },
  {
   "cell_type": "code",
   "execution_count": 30,
   "id": "ac3b27d2",
   "metadata": {},
   "outputs": [
    {
     "data": {
      "text/plain": [
       "(8859, 15724)"
      ]
     },
     "execution_count": 30,
     "metadata": {},
     "output_type": "execute_result"
    }
   ],
   "source": [
    "X_train.shape"
   ]
  },
  {
   "cell_type": "code",
   "execution_count": 100,
   "id": "247cf62f",
   "metadata": {},
   "outputs": [],
   "source": [
    "import tensorflow as tf\n",
    "from tensorflow.keras.models import Model\n",
    "from tensorflow.keras.layers import Input, Dense, Dropout, MultiHeadAttention, LayerNormalization\n"
   ]
  },
  {
   "cell_type": "code",
   "execution_count": null,
   "id": "5a848ff6",
   "metadata": {},
   "outputs": [],
   "source": []
  },
  {
   "cell_type": "code",
   "execution_count": null,
   "id": "e5ff6953",
   "metadata": {},
   "outputs": [],
   "source": []
  },
  {
   "cell_type": "code",
   "execution_count": null,
   "id": "76704124",
   "metadata": {},
   "outputs": [],
   "source": []
  },
  {
   "cell_type": "code",
   "execution_count": null,
   "id": "1fb668c9",
   "metadata": {},
   "outputs": [],
   "source": [
    "\n"
   ]
  },
  {
   "cell_type": "code",
   "execution_count": 147,
   "id": "2cd7162d",
   "metadata": {},
   "outputs": [
    {
     "name": "stdout",
     "output_type": "stream",
     "text": [
      "Model: \"model_10\"\n",
      "__________________________________________________________________________________________________\n",
      " Layer (type)                   Output Shape         Param #     Connected to                     \n",
      "==================================================================================================\n",
      " input_22 (InputLayer)          [(None, 15724)]      0           []                               \n",
      "                                                                                                  \n",
      " reshape_9 (Reshape)            (None, 1, 15724)     0           ['input_22[0][0]']               \n",
      "                                                                                                  \n",
      " multi_head_attention_17 (Multi  (None, 1, 15724)    32220012    ['reshape_9[0][0]',              \n",
      " HeadAttention)                                                   'reshape_9[0][0]']              \n",
      "                                                                                                  \n",
      " layer_normalization_10 (LayerN  (None, 1, 15724)    31448       ['multi_head_attention_17[0][0]']\n",
      " ormalization)                                                                                    \n",
      "                                                                                                  \n",
      " dense_60 (Dense)               (None, 1, 256)       4025600     ['layer_normalization_10[0][0]'] \n",
      "                                                                                                  \n",
      " dropout_35 (Dropout)           (None, 1, 256)       0           ['dense_60[0][0]']               \n",
      "                                                                                                  \n",
      " dense_61 (Dense)               (None, 1, 128)       32896       ['dropout_35[0][0]']             \n",
      "                                                                                                  \n",
      " dropout_36 (Dropout)           (None, 1, 128)       0           ['dense_61[0][0]']               \n",
      "                                                                                                  \n",
      " dense_62 (Dense)               (None, 1, 2637)      340173      ['dropout_36[0][0]']             \n",
      "                                                                                                  \n"
     ]
    }
   ],
   "source": [
    "from tensorflow.keras.models import Model\n",
    "from tensorflow.keras.layers import Input, Dense, Dropout, MultiHeadAttention, LayerNormalization\n",
    "\n",
    "# Define input shape\n",
    "input_shape = (15724,)\n",
    "\n",
    "# Input layer\n",
    "inputs = Input(shape=input_shape)\n",
    "\n",
    "# Reshape inputs to include sequence length\n",
    "reshaped_inputs = Reshape((1, input_shape[0]))(inputs)\n",
    "\n",
    "# Multihead Attention layer\n",
    "attention = MultiHeadAttention(num_heads=8, key_dim=64)(reshaped_inputs, reshaped_inputs)\n",
    "attention = LayerNormalization(epsilon=1e-6)(attention)\n",
    "\n",
    "# Dense layers\n",
    "dense = Dense(units=256, activation='relu')(attention)\n",
    "dense = Dropout(0.2)(dense)\n",
    "dense = Dense(units=128, activation='relu')(dense)\n",
    "dense = Dropout(0.2)(dense)\n",
    "\n",
    "# Output layer\n",
    "outputs = Dense(units=2637, activation='sigmoid')(dense)\n",
    "\n",
    "# Create the model\n",
    "model = Model(inputs=inputs, outputs=outputs)\n",
    "\n",
    "# Compile the model\n",
    "model.compile(optimizer='adam', loss='binary_crossentropy', metrics=['accuracy'])\n",
    "\n",
    "# Print the model summary\n",
    "model.summary()\n"
   ]
  },
  {
   "cell_type": "code",
   "execution_count": 148,
   "id": "da8e6da9",
   "metadata": {},
   "outputs": [],
   "source": [
    "early_stopping = EarlyStopping(monitor='val_loss', patience=30, restore_best_weights=True)\n",
    "\n",
    "# Train the model with early stopping using validation split\n",
    "history = model.fit(X_scaled, y_train, epochs=100, validation_split=0.15, callbacks=[early_stopping])"
   ]
  },
  {
   "cell_type": "code",
   "execution_count": 105,
   "id": "dfc945ac",
   "metadata": {},
   "outputs": [],
   "source": [
    "multi_2=model"
   ]
  },
  {
   "cell_type": "code",
   "execution_count": 59,
   "id": "e4815281",
   "metadata": {},
   "outputs": [],
   "source": [
    "multi_model=model"
   ]
  },
  {
   "cell_type": "code",
   "execution_count": 60,
   "id": "67d34e20",
   "metadata": {},
   "outputs": [
    {
     "data": {
      "text/plain": [
       "<keras.engine.functional.Functional at 0x17e2b5104f0>"
      ]
     },
     "execution_count": 60,
     "metadata": {},
     "output_type": "execute_result"
    }
   ],
   "source": [
    "multi_model.predict"
   ]
  },
  {
   "cell_type": "code",
   "execution_count": 39,
   "id": "5c8079de",
   "metadata": {},
   "outputs": [
    {
     "name": "stdout",
     "output_type": "stream",
     "text": [
      "Model: \"model_6\"\n",
      "__________________________________________________________________________________________________\n",
      " Layer (type)                   Output Shape         Param #     Connected to                     \n",
      "==================================================================================================\n",
      " input_18 (InputLayer)          [(None, 15724)]      0           []                               \n",
      "                                                                                                  \n",
      " reshape_5 (Reshape)            (None, 1, 15724)     0           ['input_18[0][0]']               \n",
      "                                                                                                  \n",
      " multi_head_attention_13 (Multi  (None, 1, 15724)    32220012    ['reshape_5[0][0]',              \n",
      " HeadAttention)                                                   'reshape_5[0][0]']              \n",
      "                                                                                                  \n",
      " layer_normalization_6 (LayerNo  (None, 1, 15724)    31448       ['multi_head_attention_13[0][0]']\n",
      " rmalization)                                                                                     \n",
      "                                                                                                  \n",
      " dense_18 (Dense)               (None, 1, 256)       4025600     ['layer_normalization_6[0][0]']  \n",
      "                                                                                                  \n",
      " dropout_12 (Dropout)           (None, 1, 256)       0           ['dense_18[0][0]']               \n",
      "                                                                                                  \n",
      " dense_19 (Dense)               (None, 1, 128)       32896       ['dropout_12[0][0]']             \n",
      "                                                                                                  \n",
      " dropout_13 (Dropout)           (None, 1, 128)       0           ['dense_19[0][0]']               \n",
      "                                                                                                  \n",
      " dense_20 (Dense)               (None, 1, 2637)      340173      ['dropout_13[0][0]']             \n",
      "                                                                                                  \n",
      " tf.compat.v1.squeeze (TFOpLamb  (None, 2637)        0           ['dense_20[0][0]']               \n",
      " da)                                                                                              \n",
      "                                                                                                  \n",
      "==================================================================================================\n",
      "Total params: 36,650,129\n",
      "Trainable params: 36,650,129\n",
      "Non-trainable params: 0\n",
      "__________________________________________________________________________________________________\n"
     ]
    }
   ],
   "source": [
    "multi_model.summary()"
   ]
  },
  {
   "cell_type": "code",
   "execution_count": 86,
   "id": "2ea11ef3",
   "metadata": {},
   "outputs": [],
   "source": [
    "import torch\n",
    "import torch.nn as nn\n",
    "\n",
    "class MultiLabelClassifier(nn.Module):\n",
    "    def __init__(self, input_dim, hidden_dim, output_dim):\n",
    "        super(MultiLabelClassifier, self).__init__()\n",
    "        self.attention = nn.MultiheadAttention(hidden_dim, num_heads=2)\n",
    "        self.fc1 = nn.Linear(input_dim, hidden_dim)\n",
    "        self.fc2 = nn.Linear(hidden_dim, output_dim)\n",
    "\n",
    "    def forward(self, x):\n",
    "        x = x.transpose(0, 1)\n",
    "\n",
    "        x, _ = self.attention(x, x, x)\n",
    "        x = x.transpose(0, 1)\n",
    "\n",
    "        x = nn.functional.relu(self.fc1(x))\n",
    "        x = nn.functional.sigmoid(self.fc2(x))\n",
    "        return x\n"
   ]
  },
  {
   "cell_type": "code",
   "execution_count": 146,
   "id": "6ebd4f0f",
   "metadata": {},
   "outputs": [
    {
     "ename": "ImportError",
     "evalue": "cannot import name 'SubsetRandomSampler' from 'torch.utils.data.dataloader' (C:\\Users\\Admin\\miniconda3\\lib\\site-packages\\torch\\utils\\data\\dataloader.py)",
     "output_type": "error",
     "traceback": [
      "\u001b[1;31m---------------------------------------------------------------------------\u001b[0m",
      "\u001b[1;31mImportError\u001b[0m                               Traceback (most recent call last)",
      "Cell \u001b[1;32mIn[146], line 6\u001b[0m\n\u001b[0;32m      4\u001b[0m \u001b[38;5;28;01mfrom\u001b[39;00m \u001b[38;5;21;01mtorch\u001b[39;00m\u001b[38;5;21;01m.\u001b[39;00m\u001b[38;5;21;01mutils\u001b[39;00m\u001b[38;5;21;01m.\u001b[39;00m\u001b[38;5;21;01mdata\u001b[39;00m \u001b[38;5;28;01mimport\u001b[39;00m DataLoader\n\u001b[0;32m      5\u001b[0m \u001b[38;5;28;01mfrom\u001b[39;00m \u001b[38;5;21;01mtorch\u001b[39;00m\u001b[38;5;21;01m.\u001b[39;00m\u001b[38;5;21;01mutils\u001b[39;00m\u001b[38;5;21;01m.\u001b[39;00m\u001b[38;5;21;01mdata\u001b[39;00m\u001b[38;5;21;01m.\u001b[39;00m\u001b[38;5;21;01mdataset\u001b[39;00m \u001b[38;5;28;01mimport\u001b[39;00m random_split\n\u001b[1;32m----> 6\u001b[0m \u001b[38;5;28;01mfrom\u001b[39;00m \u001b[38;5;21;01mtorch\u001b[39;00m\u001b[38;5;21;01m.\u001b[39;00m\u001b[38;5;21;01mutils\u001b[39;00m\u001b[38;5;21;01m.\u001b[39;00m\u001b[38;5;21;01mdata\u001b[39;00m\u001b[38;5;21;01m.\u001b[39;00m\u001b[38;5;21;01mdataloader\u001b[39;00m \u001b[38;5;28;01mimport\u001b[39;00m SubsetRandomSampler\n\u001b[0;32m      7\u001b[0m \u001b[38;5;28;01mfrom\u001b[39;00m \u001b[38;5;21;01mtorch\u001b[39;00m\u001b[38;5;21;01m.\u001b[39;00m\u001b[38;5;21;01mutils\u001b[39;00m\u001b[38;5;21;01m.\u001b[39;00m\u001b[38;5;21;01mtensorboard\u001b[39;00m \u001b[38;5;28;01mimport\u001b[39;00m SummaryWriter\n\u001b[0;32m      8\u001b[0m \u001b[38;5;28;01mfrom\u001b[39;00m \u001b[38;5;21;01msklearn\u001b[39;00m\u001b[38;5;21;01m.\u001b[39;00m\u001b[38;5;21;01mmodel_selection\u001b[39;00m \u001b[38;5;28;01mimport\u001b[39;00m train_test_split\n",
      "\u001b[1;31mImportError\u001b[0m: cannot import name 'SubsetRandomSampler' from 'torch.utils.data.dataloader' (C:\\Users\\Admin\\miniconda3\\lib\\site-packages\\torch\\utils\\data\\dataloader.py)"
     ]
    }
   ],
   "source": [
    "\n",
    "import torch\n",
    "import torch.nn as nn\n",
    "import torch.optim as optim\n",
    "from torch.utils.data import DataLoader\n",
    "from torch.utils.data.dataset import random_split\n",
    "from torch.utils.data.dataloader import SubsetRandomSampler\n",
    "from torch.utils.tensorboard import SummaryWriter\n",
    "from sklearn.model_selection import train_test_split\n",
    "\n",
    "# Define the model architecture\n",
    "model = MultiLabelClassifier(input_dim, hidden_dim, output_dim)\n",
    "\n",
    "# Define the loss function and optimizer\n",
    "criterion = nn.BCELoss()\n",
    "optimizer = optim.Adam(model.parameters(), lr=0.001)\n",
    "\n",
    "# Create data loaders for training and validation sets\n",
    "train_loader = DataLoader(train_dataset, batch_size=batch_size, shuffle=True)\n",
    "val_loader = DataLoader(val_dataset, batch_size=batch_size)\n",
    "\n",
    "# Define the early stopping criteria\n",
    "best_loss = float('inf')\n",
    "patience = 5\n",
    "counter = 0\n",
    "\n",
    "# Training loop with early stopping\n",
    "for epoch in range(num_epochs):\n",
    "    model.train()\n",
    "    for inputs, labels in train_loader:\n",
    "        optimizer.zero_grad()\n",
    "        outputs = model(inputs)\n",
    "        loss = criterion(outputs, labels)\n",
    "        loss.backward()\n",
    "        optimizer.step()\n",
    "    \n",
    "    model.eval()\n",
    "    with torch.no_grad():\n",
    "        val_loss = 0\n",
    "        for inputs, labels in val_loader:\n",
    "            outputs = model(inputs)\n",
    "            val_loss += criterion(outputs, labels)\n",
    "        val_loss /= len(val_loader)\n",
    "        \n",
    "        # Check if the current validation loss is better than the best loss\n",
    "        if val_loss < best_loss:\n",
    "            best_loss = val_loss\n",
    "            counter = 0\n",
    "        else:\n",
    "            counter += 1\n",
    "        \n",
    "        # Stop training if the validation loss doesn't improve for a certain number of epochs\n",
    "        if counter >= patience:\n",
    "            print(\"Early stopping! Validation loss did not improve.\")\n",
    "            break\n"
   ]
  },
  {
   "cell_type": "code",
   "execution_count": 145,
   "id": "6e6b80c1",
   "metadata": {},
   "outputs": [
    {
     "ename": "AssertionError",
     "evalue": "embed_dim must be divisible by num_heads",
     "output_type": "error",
     "traceback": [
      "\u001b[1;31m---------------------------------------------------------------------------\u001b[0m",
      "\u001b[1;31mAssertionError\u001b[0m                            Traceback (most recent call last)",
      "Cell \u001b[1;32mIn[145], line 1\u001b[0m\n\u001b[1;32m----> 1\u001b[0m model_wtf \u001b[38;5;241m=\u001b[39m \u001b[43mMultiLabelClassifier\u001b[49m\u001b[43m(\u001b[49m\u001b[38;5;241;43m15724\u001b[39;49m\u001b[43m,\u001b[49m\u001b[43m \u001b[49m\u001b[38;5;241;43m8859\u001b[39;49m\u001b[43m \u001b[49m\u001b[43m,\u001b[49m\u001b[43m \u001b[49m\u001b[38;5;241;43m2637\u001b[39;49m\u001b[43m)\u001b[49m\n\u001b[0;32m      2\u001b[0m criterion \u001b[38;5;241m=\u001b[39m nn\u001b[38;5;241m.\u001b[39mBCELoss()\n\u001b[0;32m      3\u001b[0m optimizer \u001b[38;5;241m=\u001b[39m torch\u001b[38;5;241m.\u001b[39moptim\u001b[38;5;241m.\u001b[39mAdam(model_wtf\u001b[38;5;241m.\u001b[39mparameters(), lr\u001b[38;5;241m=\u001b[39m\u001b[38;5;241m0.01\u001b[39m)\n",
      "Cell \u001b[1;32mIn[86], line 7\u001b[0m, in \u001b[0;36mMultiLabelClassifier.__init__\u001b[1;34m(self, input_dim, hidden_dim, output_dim)\u001b[0m\n\u001b[0;32m      5\u001b[0m \u001b[38;5;28;01mdef\u001b[39;00m \u001b[38;5;21m__init__\u001b[39m(\u001b[38;5;28mself\u001b[39m, input_dim, hidden_dim, output_dim):\n\u001b[0;32m      6\u001b[0m     \u001b[38;5;28msuper\u001b[39m(MultiLabelClassifier, \u001b[38;5;28mself\u001b[39m)\u001b[38;5;241m.\u001b[39m\u001b[38;5;21m__init__\u001b[39m()\n\u001b[1;32m----> 7\u001b[0m     \u001b[38;5;28mself\u001b[39m\u001b[38;5;241m.\u001b[39mattention \u001b[38;5;241m=\u001b[39m \u001b[43mnn\u001b[49m\u001b[38;5;241;43m.\u001b[39;49m\u001b[43mMultiheadAttention\u001b[49m\u001b[43m(\u001b[49m\u001b[43mhidden_dim\u001b[49m\u001b[43m,\u001b[49m\u001b[43m \u001b[49m\u001b[43mnum_heads\u001b[49m\u001b[38;5;241;43m=\u001b[39;49m\u001b[38;5;241;43m2\u001b[39;49m\u001b[43m)\u001b[49m\n\u001b[0;32m      8\u001b[0m     \u001b[38;5;28mself\u001b[39m\u001b[38;5;241m.\u001b[39mfc1 \u001b[38;5;241m=\u001b[39m nn\u001b[38;5;241m.\u001b[39mLinear(input_dim, hidden_dim)\n\u001b[0;32m      9\u001b[0m     \u001b[38;5;28mself\u001b[39m\u001b[38;5;241m.\u001b[39mfc2 \u001b[38;5;241m=\u001b[39m nn\u001b[38;5;241m.\u001b[39mLinear(hidden_dim, output_dim)\n",
      "File \u001b[1;32m~\\miniconda3\\lib\\site-packages\\torch\\nn\\modules\\activation.py:969\u001b[0m, in \u001b[0;36mMultiheadAttention.__init__\u001b[1;34m(self, embed_dim, num_heads, dropout, bias, add_bias_kv, add_zero_attn, kdim, vdim, batch_first, device, dtype)\u001b[0m\n\u001b[0;32m    967\u001b[0m \u001b[38;5;28mself\u001b[39m\u001b[38;5;241m.\u001b[39mbatch_first \u001b[38;5;241m=\u001b[39m batch_first\n\u001b[0;32m    968\u001b[0m \u001b[38;5;28mself\u001b[39m\u001b[38;5;241m.\u001b[39mhead_dim \u001b[38;5;241m=\u001b[39m embed_dim \u001b[38;5;241m/\u001b[39m\u001b[38;5;241m/\u001b[39m num_heads\n\u001b[1;32m--> 969\u001b[0m \u001b[38;5;28;01massert\u001b[39;00m \u001b[38;5;28mself\u001b[39m\u001b[38;5;241m.\u001b[39mhead_dim \u001b[38;5;241m*\u001b[39m num_heads \u001b[38;5;241m==\u001b[39m \u001b[38;5;28mself\u001b[39m\u001b[38;5;241m.\u001b[39membed_dim, \u001b[38;5;124m\"\u001b[39m\u001b[38;5;124membed_dim must be divisible by num_heads\u001b[39m\u001b[38;5;124m\"\u001b[39m\n\u001b[0;32m    971\u001b[0m \u001b[38;5;28;01mif\u001b[39;00m \u001b[38;5;129;01mnot\u001b[39;00m \u001b[38;5;28mself\u001b[39m\u001b[38;5;241m.\u001b[39m_qkv_same_embed_dim:\n\u001b[0;32m    972\u001b[0m     \u001b[38;5;28mself\u001b[39m\u001b[38;5;241m.\u001b[39mq_proj_weight \u001b[38;5;241m=\u001b[39m Parameter(torch\u001b[38;5;241m.\u001b[39mempty((embed_dim, embed_dim), \u001b[38;5;241m*\u001b[39m\u001b[38;5;241m*\u001b[39mfactory_kwargs))\n",
      "\u001b[1;31mAssertionError\u001b[0m: embed_dim must be divisible by num_heads"
     ]
    }
   ],
   "source": [
    "model_wtf = MultiLabelClassifier(15724, 8859 , 2637)\n",
    "criterion = nn.BCELoss()\n",
    "optimizer = torch.optim.Adam(model_wtf.parameters(), lr=0.01)\n",
    "\n",
    "X_train_tensor = torch.tensor(X_scaled, dtype=torch.float32)\n",
    "y_train_tensor = torch.tensor(y_train, dtype=torch.float32)\n",
    "\n",
    "for epoch in range(100):\n",
    "    # Forward pass\n",
    "    outputs = model_wtf(X_train_tensor)\n",
    "    loss = criterion(outputs, y_train_tensor)\n",
    "\n",
    "    # Backward and optimize\n",
    "    optimizer.zero_grad()\n",
    "    loss.backward()\n",
    "    optimizer.step()\n",
    "\n",
    "    # Print progress\n",
    "    if (epoch+1) % print_interval == 0:\n",
    "        print(f'Epoch [{epoch+1}/{num_epochs}], Loss: {loss.item()}')\n"
   ]
  },
  {
   "cell_type": "code",
   "execution_count": null,
   "id": "257e02a1",
   "metadata": {},
   "outputs": [],
   "source": [
    "# import tensorflow as tf\n",
    "\n",
    "# class MultiLabelClassifier(tf.keras.Model):\n",
    "#     def __init__(self, input_dim, hidden_dim, output_dim):\n",
    "#         super(MultiLabelClassifier, self).__init__()\n",
    "#         self.attention = tf.keras.layers.MultiHeadAttention(num_heads=2, key_dim=hidden_dim)\n",
    "#         self.fc1 = tf.keras.layers.Dense(hidden_dim, activation='relu')\n",
    "#         self.fc2 = tf.keras.layers.Dense(output_dim, activation='sigmoid')\n",
    "\n",
    "#     def call(self, x):\n",
    "#         x = tf.transpose(x, perm=[1, 0, 2])\n",
    "#         x = self.attention(x, x)\n",
    "#         x = tf.transpose(x, perm=[1, 0, 2])\n",
    "#         x = self.fc1(x)\n",
    "#         x = self.fc2(x)\n",
    "#         return x"
   ]
  }
 ],
 "metadata": {
  "kernelspec": {
   "display_name": "Python 3 (ipykernel)",
   "language": "python",
   "name": "python3"
  },
  "language_info": {
   "codemirror_mode": {
    "name": "ipython",
    "version": 3
   },
   "file_extension": ".py",
   "mimetype": "text/x-python",
   "name": "python",
   "nbconvert_exporter": "python",
   "pygments_lexer": "ipython3",
   "version": "3.10.10"
  },
  "nbTranslate": {
   "displayLangs": [
    "*"
   ],
   "hotkey": "",
   "langInMainMenu": true,
   "sourceLang": "fr",
   "targetLang": "en",
   "useGoogleTranslate": true
  },
  "toc": {
   "base_numbering": 1,
   "nav_menu": {},
   "number_sections": true,
   "sideBar": true,
   "skip_h1_title": false,
   "title_cell": "Table of Contents",
   "title_sidebar": "Contents",
   "toc_cell": false,
   "toc_position": {},
   "toc_section_display": true,
   "toc_window_display": false
  }
 },
 "nbformat": 4,
 "nbformat_minor": 5
}
