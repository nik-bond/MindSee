{
 "cells": [
  {
   "cell_type": "code",
   "execution_count": 10,
   "id": "c2ae84c7",
   "metadata": {},
   "outputs": [],
   "source": [
    "import numpy as np\n",
    "import pandas as pd"
   ]
  },
  {
   "cell_type": "code",
   "execution_count": 2,
   "id": "b7b10a43",
   "metadata": {},
   "outputs": [],
   "source": [
    "captions = np.load('COCO_73k_annots_curated.npy')"
   ]
  },
  {
   "cell_type": "code",
   "execution_count": 3,
   "id": "0e0538f5",
   "metadata": {},
   "outputs": [
    {
     "ename": "AttributeError",
     "evalue": "'numpy.ndarray' object has no attribute 'head'",
     "output_type": "error",
     "traceback": [
      "\u001b[0;31m---------------------------------------------------------------------------\u001b[0m",
      "\u001b[0;31mAttributeError\u001b[0m                            Traceback (most recent call last)",
      "Cell \u001b[0;32mIn[3], line 1\u001b[0m\n\u001b[0;32m----> 1\u001b[0m \u001b[43mcaptions\u001b[49m\u001b[38;5;241;43m.\u001b[39;49m\u001b[43mhead\u001b[49m()\n",
      "\u001b[0;31mAttributeError\u001b[0m: 'numpy.ndarray' object has no attribute 'head'"
     ]
    }
   ],
   "source": [
    "captions.head()"
   ]
  },
  {
   "cell_type": "code",
   "execution_count": 4,
   "id": "160ecc0d",
   "metadata": {},
   "outputs": [
    {
     "data": {
      "text/plain": [
       "(73000, 5)"
      ]
     },
     "execution_count": 4,
     "metadata": {},
     "output_type": "execute_result"
    }
   ],
   "source": [
    "captions.shape"
   ]
  },
  {
   "cell_type": "code",
   "execution_count": 5,
   "id": "21d2e923",
   "metadata": {},
   "outputs": [
    {
     "data": {
      "text/plain": [
       "array([\"A person kitesurfing over the waves of the ocean's shore.\", '',\n",
       "       'A man is flying up in the air and having fun. ',\n",
       "       'A guy is waterboarding in the ocean on a windy day.', ''],\n",
       "      dtype='<U250')"
      ]
     },
     "execution_count": 5,
     "metadata": {},
     "output_type": "execute_result"
    }
   ],
   "source": [
    "captions[0]"
   ]
  },
  {
   "cell_type": "code",
   "execution_count": 6,
   "id": "96f352b1",
   "metadata": {},
   "outputs": [
    {
     "data": {
      "text/plain": [
       "<function ndarray.view>"
      ]
     },
     "execution_count": 6,
     "metadata": {},
     "output_type": "execute_result"
    }
   ],
   "source": [
    "captions.view"
   ]
  },
  {
   "cell_type": "code",
   "execution_count": 7,
   "id": "6ee84e33",
   "metadata": {},
   "outputs": [
    {
     "data": {
      "text/plain": [
       "array(['',\n",
       "       'A cat sitting on the edge of the toilet looking toward the open bathroom door.',\n",
       "       '', '', ''], dtype='<U250')"
      ]
     },
     "execution_count": 7,
     "metadata": {},
     "output_type": "execute_result"
    }
   ],
   "source": [
    "captions[1]"
   ]
  },
  {
   "cell_type": "code",
   "execution_count": 8,
   "id": "78567b7e",
   "metadata": {},
   "outputs": [
    {
     "data": {
      "text/plain": [
       "array(['', '', '', '',\n",
       "       'A clock is seen at the top of a very tall building.'],\n",
       "      dtype='<U250')"
      ]
     },
     "execution_count": 8,
     "metadata": {},
     "output_type": "execute_result"
    }
   ],
   "source": [
    "captions[10]"
   ]
  },
  {
   "cell_type": "code",
   "execution_count": 15,
   "id": "57857d72",
   "metadata": {},
   "outputs": [],
   "source": [
    "df=pd.DataFrame(data=captions[0:,0:],\n",
    "            index=[i for i in range(captions.shape[0])],\n",
    "            columns=['s'+str(i+1) for i in range(captions.shape[1])])"
   ]
  },
  {
   "cell_type": "code",
   "execution_count": 24,
   "id": "a1b6b024",
   "metadata": {},
   "outputs": [
    {
     "data": {
      "text/html": [
       "<div>\n",
       "<style scoped>\n",
       "    .dataframe tbody tr th:only-of-type {\n",
       "        vertical-align: middle;\n",
       "    }\n",
       "\n",
       "    .dataframe tbody tr th {\n",
       "        vertical-align: top;\n",
       "    }\n",
       "\n",
       "    .dataframe thead th {\n",
       "        text-align: right;\n",
       "    }\n",
       "</style>\n",
       "<table border=\"1\" class=\"dataframe\">\n",
       "  <thead>\n",
       "    <tr style=\"text-align: right;\">\n",
       "      <th></th>\n",
       "      <th>s1</th>\n",
       "      <th>s2</th>\n",
       "      <th>s3</th>\n",
       "      <th>s4</th>\n",
       "      <th>s5</th>\n",
       "    </tr>\n",
       "  </thead>\n",
       "  <tbody>\n",
       "    <tr>\n",
       "      <th>0</th>\n",
       "      <td>A person kitesurfing over the waves of the oce...</td>\n",
       "      <td></td>\n",
       "      <td>A man is flying up in the air and having fun.</td>\n",
       "      <td>A guy is waterboarding in the ocean on a windy...</td>\n",
       "      <td></td>\n",
       "    </tr>\n",
       "    <tr>\n",
       "      <th>1</th>\n",
       "      <td></td>\n",
       "      <td>A cat sitting on the edge of the toilet lookin...</td>\n",
       "      <td></td>\n",
       "      <td></td>\n",
       "      <td></td>\n",
       "    </tr>\n",
       "    <tr>\n",
       "      <th>2</th>\n",
       "      <td>A person cutting a pizza next to a salad and b...</td>\n",
       "      <td>A hand is slicing a pizza on a table.</td>\n",
       "      <td></td>\n",
       "      <td></td>\n",
       "      <td>A slice of pizza, greens, two wine glasses wit...</td>\n",
       "    </tr>\n",
       "    <tr>\n",
       "      <th>3</th>\n",
       "      <td></td>\n",
       "      <td></td>\n",
       "      <td>A pepsi soda on the table with a tray of bread...</td>\n",
       "      <td></td>\n",
       "      <td></td>\n",
       "    </tr>\n",
       "    <tr>\n",
       "      <th>4</th>\n",
       "      <td>A man who is walking across the street.</td>\n",
       "      <td>A busy intersection with an ice cream truck dr...</td>\n",
       "      <td></td>\n",
       "      <td></td>\n",
       "      <td></td>\n",
       "    </tr>\n",
       "    <tr>\n",
       "      <th>5</th>\n",
       "      <td>A giraffe stands near a tree in the wilderness.</td>\n",
       "      <td></td>\n",
       "      <td></td>\n",
       "      <td>Head and neck of a giraffe in natural feeding ...</td>\n",
       "      <td>A giraffe walking near a tree with very few le...</td>\n",
       "    </tr>\n",
       "    <tr>\n",
       "      <th>6</th>\n",
       "      <td></td>\n",
       "      <td></td>\n",
       "      <td>a black and white picture of tow baseball play...</td>\n",
       "      <td></td>\n",
       "      <td>Two old time baseball players talk to a man.</td>\n",
       "    </tr>\n",
       "    <tr>\n",
       "      <th>7</th>\n",
       "      <td></td>\n",
       "      <td>A bird  that is sitting down on some water.</td>\n",
       "      <td></td>\n",
       "      <td>A bird standing next to a large body of water.</td>\n",
       "      <td>A tall white bird standing on a lake in a swamp.</td>\n",
       "    </tr>\n",
       "    <tr>\n",
       "      <th>8</th>\n",
       "      <td>Two men talking to each other on a street corn...</td>\n",
       "      <td></td>\n",
       "      <td></td>\n",
       "      <td></td>\n",
       "      <td></td>\n",
       "    </tr>\n",
       "    <tr>\n",
       "      <th>9</th>\n",
       "      <td></td>\n",
       "      <td></td>\n",
       "      <td></td>\n",
       "      <td></td>\n",
       "      <td>A woman hits a tennis ball with some kids.</td>\n",
       "    </tr>\n",
       "  </tbody>\n",
       "</table>\n",
       "</div>"
      ],
      "text/plain": [
       "                                                  s1  \\\n",
       "0  A person kitesurfing over the waves of the oce...   \n",
       "1                                                      \n",
       "2  A person cutting a pizza next to a salad and b...   \n",
       "3                                                      \n",
       "4            A man who is walking across the street.   \n",
       "5   A giraffe stands near a tree in the wilderness.    \n",
       "6                                                      \n",
       "7                                                      \n",
       "8  Two men talking to each other on a street corn...   \n",
       "9                                                      \n",
       "\n",
       "                                                  s2  \\\n",
       "0                                                      \n",
       "1  A cat sitting on the edge of the toilet lookin...   \n",
       "2              A hand is slicing a pizza on a table.   \n",
       "3                                                      \n",
       "4  A busy intersection with an ice cream truck dr...   \n",
       "5                                                      \n",
       "6                                                      \n",
       "7        A bird  that is sitting down on some water.   \n",
       "8                                                      \n",
       "9                                                      \n",
       "\n",
       "                                                  s3  \\\n",
       "0     A man is flying up in the air and having fun.    \n",
       "1                                                      \n",
       "2                                                      \n",
       "3  A pepsi soda on the table with a tray of bread...   \n",
       "4                                                      \n",
       "5                                                      \n",
       "6  a black and white picture of tow baseball play...   \n",
       "7                                                      \n",
       "8                                                      \n",
       "9                                                      \n",
       "\n",
       "                                                  s4  \\\n",
       "0  A guy is waterboarding in the ocean on a windy...   \n",
       "1                                                      \n",
       "2                                                      \n",
       "3                                                      \n",
       "4                                                      \n",
       "5  Head and neck of a giraffe in natural feeding ...   \n",
       "6                                                      \n",
       "7     A bird standing next to a large body of water.   \n",
       "8                                                      \n",
       "9                                                      \n",
       "\n",
       "                                                  s5  \n",
       "0                                                     \n",
       "1                                                     \n",
       "2  A slice of pizza, greens, two wine glasses wit...  \n",
       "3                                                     \n",
       "4                                                     \n",
       "5  A giraffe walking near a tree with very few le...  \n",
       "6       Two old time baseball players talk to a man.  \n",
       "7   A tall white bird standing on a lake in a swamp.  \n",
       "8                                                     \n",
       "9         A woman hits a tennis ball with some kids.  "
      ]
     },
     "execution_count": 24,
     "metadata": {},
     "output_type": "execute_result"
    }
   ],
   "source": [
    "df.head(10)"
   ]
  },
  {
   "cell_type": "code",
   "execution_count": 17,
   "id": "f87decd5",
   "metadata": {},
   "outputs": [
    {
     "data": {
      "text/html": [
       "<div>\n",
       "<style scoped>\n",
       "    .dataframe tbody tr th:only-of-type {\n",
       "        vertical-align: middle;\n",
       "    }\n",
       "\n",
       "    .dataframe tbody tr th {\n",
       "        vertical-align: top;\n",
       "    }\n",
       "\n",
       "    .dataframe thead th {\n",
       "        text-align: right;\n",
       "    }\n",
       "</style>\n",
       "<table border=\"1\" class=\"dataframe\">\n",
       "  <thead>\n",
       "    <tr style=\"text-align: right;\">\n",
       "      <th></th>\n",
       "      <th>s1</th>\n",
       "      <th>s2</th>\n",
       "      <th>s3</th>\n",
       "      <th>s4</th>\n",
       "      <th>s5</th>\n",
       "    </tr>\n",
       "  </thead>\n",
       "  <tbody>\n",
       "    <tr>\n",
       "      <th>0</th>\n",
       "      <td>False</td>\n",
       "      <td>False</td>\n",
       "      <td>False</td>\n",
       "      <td>False</td>\n",
       "      <td>False</td>\n",
       "    </tr>\n",
       "    <tr>\n",
       "      <th>1</th>\n",
       "      <td>False</td>\n",
       "      <td>False</td>\n",
       "      <td>False</td>\n",
       "      <td>False</td>\n",
       "      <td>False</td>\n",
       "    </tr>\n",
       "    <tr>\n",
       "      <th>2</th>\n",
       "      <td>False</td>\n",
       "      <td>False</td>\n",
       "      <td>False</td>\n",
       "      <td>False</td>\n",
       "      <td>False</td>\n",
       "    </tr>\n",
       "    <tr>\n",
       "      <th>3</th>\n",
       "      <td>False</td>\n",
       "      <td>False</td>\n",
       "      <td>False</td>\n",
       "      <td>False</td>\n",
       "      <td>False</td>\n",
       "    </tr>\n",
       "    <tr>\n",
       "      <th>4</th>\n",
       "      <td>False</td>\n",
       "      <td>False</td>\n",
       "      <td>False</td>\n",
       "      <td>False</td>\n",
       "      <td>False</td>\n",
       "    </tr>\n",
       "    <tr>\n",
       "      <th>...</th>\n",
       "      <td>...</td>\n",
       "      <td>...</td>\n",
       "      <td>...</td>\n",
       "      <td>...</td>\n",
       "      <td>...</td>\n",
       "    </tr>\n",
       "    <tr>\n",
       "      <th>72995</th>\n",
       "      <td>False</td>\n",
       "      <td>False</td>\n",
       "      <td>False</td>\n",
       "      <td>False</td>\n",
       "      <td>False</td>\n",
       "    </tr>\n",
       "    <tr>\n",
       "      <th>72996</th>\n",
       "      <td>False</td>\n",
       "      <td>False</td>\n",
       "      <td>False</td>\n",
       "      <td>False</td>\n",
       "      <td>False</td>\n",
       "    </tr>\n",
       "    <tr>\n",
       "      <th>72997</th>\n",
       "      <td>False</td>\n",
       "      <td>False</td>\n",
       "      <td>False</td>\n",
       "      <td>False</td>\n",
       "      <td>False</td>\n",
       "    </tr>\n",
       "    <tr>\n",
       "      <th>72998</th>\n",
       "      <td>False</td>\n",
       "      <td>False</td>\n",
       "      <td>False</td>\n",
       "      <td>False</td>\n",
       "      <td>False</td>\n",
       "    </tr>\n",
       "    <tr>\n",
       "      <th>72999</th>\n",
       "      <td>False</td>\n",
       "      <td>False</td>\n",
       "      <td>False</td>\n",
       "      <td>False</td>\n",
       "      <td>False</td>\n",
       "    </tr>\n",
       "  </tbody>\n",
       "</table>\n",
       "<p>73000 rows × 5 columns</p>\n",
       "</div>"
      ],
      "text/plain": [
       "          s1     s2     s3     s4     s5\n",
       "0      False  False  False  False  False\n",
       "1      False  False  False  False  False\n",
       "2      False  False  False  False  False\n",
       "3      False  False  False  False  False\n",
       "4      False  False  False  False  False\n",
       "...      ...    ...    ...    ...    ...\n",
       "72995  False  False  False  False  False\n",
       "72996  False  False  False  False  False\n",
       "72997  False  False  False  False  False\n",
       "72998  False  False  False  False  False\n",
       "72999  False  False  False  False  False\n",
       "\n",
       "[73000 rows x 5 columns]"
      ]
     },
     "execution_count": 17,
     "metadata": {},
     "output_type": "execute_result"
    }
   ],
   "source": [
    "df.isnull()"
   ]
  },
  {
   "cell_type": "code",
   "execution_count": 23,
   "id": "2b2f4c96",
   "metadata": {},
   "outputs": [
    {
     "data": {
      "text/plain": [
       "<bound method DataFrame.value_counts of           s1     s2     s3     s4     s5\n",
       "0      False  False  False  False  False\n",
       "1      False  False  False  False  False\n",
       "2      False  False  False  False  False\n",
       "3      False  False  False  False  False\n",
       "4      False  False  False  False  False\n",
       "...      ...    ...    ...    ...    ...\n",
       "72995  False  False  False  False  False\n",
       "72996  False  False  False  False  False\n",
       "72997  False  False  False  False  False\n",
       "72998  False  False  False  False  False\n",
       "72999  False  False  False  False  False\n",
       "\n",
       "[73000 rows x 5 columns]>"
      ]
     },
     "execution_count": 23,
     "metadata": {},
     "output_type": "execute_result"
    }
   ],
   "source": [
    "df.isnull().value_counts"
   ]
  },
  {
   "cell_type": "code",
   "execution_count": null,
   "id": "184726d8",
   "metadata": {},
   "outputs": [],
   "source": []
  }
 ],
 "metadata": {
  "kernelspec": {
   "display_name": "Python 3 (ipykernel)",
   "language": "python",
   "name": "python3"
  },
  "language_info": {
   "codemirror_mode": {
    "name": "ipython",
    "version": 3
   },
   "file_extension": ".py",
   "mimetype": "text/x-python",
   "name": "python",
   "nbconvert_exporter": "python",
   "pygments_lexer": "ipython3",
   "version": "3.10.6"
  },
  "toc": {
   "base_numbering": 1,
   "nav_menu": {},
   "number_sections": true,
   "sideBar": true,
   "skip_h1_title": false,
   "title_cell": "Table of Contents",
   "title_sidebar": "Contents",
   "toc_cell": false,
   "toc_position": {},
   "toc_section_display": true,
   "toc_window_display": false
  }
 },
 "nbformat": 4,
 "nbformat_minor": 5
}
