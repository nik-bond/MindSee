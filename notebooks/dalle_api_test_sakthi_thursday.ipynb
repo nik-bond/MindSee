{
 "cells": [
  {
   "cell_type": "code",
   "execution_count": 1,
   "id": "941a01df",
   "metadata": {
    "collapsed": true
   },
   "outputs": [
    {
     "name": "stdout",
     "output_type": "stream",
     "text": [
      "Requirement already satisfied: requests in /Users/kansak/.pyenv/versions/3.10.6/envs/MindSee/lib/python3.10/site-packages (2.31.0)\r\n",
      "Requirement already satisfied: charset-normalizer<4,>=2 in /Users/kansak/.pyenv/versions/3.10.6/envs/MindSee/lib/python3.10/site-packages (from requests) (3.1.0)\r\n",
      "Requirement already satisfied: idna<4,>=2.5 in /Users/kansak/.pyenv/versions/3.10.6/envs/MindSee/lib/python3.10/site-packages (from requests) (3.4)\r\n",
      "Requirement already satisfied: urllib3<3,>=1.21.1 in /Users/kansak/.pyenv/versions/3.10.6/envs/MindSee/lib/python3.10/site-packages (from requests) (2.0.2)\r\n",
      "Requirement already satisfied: certifi>=2017.4.17 in /Users/kansak/.pyenv/versions/3.10.6/envs/MindSee/lib/python3.10/site-packages (from requests) (2023.5.7)\r\n"
     ]
    }
   ],
   "source": [
    "!pip install requests"
   ]
  },
  {
   "cell_type": "code",
   "execution_count": 2,
   "id": "872fd905",
   "metadata": {},
   "outputs": [],
   "source": [
    "import requests"
   ]
  },
  {
   "cell_type": "code",
   "execution_count": 3,
   "id": "a6b81865",
   "metadata": {
    "collapsed": true
   },
   "outputs": [
    {
     "name": "stdout",
     "output_type": "stream",
     "text": [
      "Requirement already satisfied: openai in /Users/kansak/.pyenv/versions/3.10.6/envs/MindSee/lib/python3.10/site-packages (0.27.8)\r\n",
      "Requirement already satisfied: requests>=2.20 in /Users/kansak/.pyenv/versions/3.10.6/envs/MindSee/lib/python3.10/site-packages (from openai) (2.31.0)\r\n",
      "Requirement already satisfied: tqdm in /Users/kansak/.pyenv/versions/3.10.6/envs/MindSee/lib/python3.10/site-packages (from openai) (4.65.0)\r\n",
      "Requirement already satisfied: aiohttp in /Users/kansak/.pyenv/versions/3.10.6/envs/MindSee/lib/python3.10/site-packages (from openai) (3.8.4)\r\n",
      "Requirement already satisfied: charset-normalizer<4,>=2 in /Users/kansak/.pyenv/versions/3.10.6/envs/MindSee/lib/python3.10/site-packages (from requests>=2.20->openai) (3.1.0)\r\n",
      "Requirement already satisfied: idna<4,>=2.5 in /Users/kansak/.pyenv/versions/3.10.6/envs/MindSee/lib/python3.10/site-packages (from requests>=2.20->openai) (3.4)\r\n",
      "Requirement already satisfied: urllib3<3,>=1.21.1 in /Users/kansak/.pyenv/versions/3.10.6/envs/MindSee/lib/python3.10/site-packages (from requests>=2.20->openai) (2.0.2)\r\n",
      "Requirement already satisfied: certifi>=2017.4.17 in /Users/kansak/.pyenv/versions/3.10.6/envs/MindSee/lib/python3.10/site-packages (from requests>=2.20->openai) (2023.5.7)\r\n",
      "Requirement already satisfied: attrs>=17.3.0 in /Users/kansak/.pyenv/versions/3.10.6/envs/MindSee/lib/python3.10/site-packages (from aiohttp->openai) (23.1.0)\r\n",
      "Requirement already satisfied: multidict<7.0,>=4.5 in /Users/kansak/.pyenv/versions/3.10.6/envs/MindSee/lib/python3.10/site-packages (from aiohttp->openai) (6.0.4)\r\n",
      "Requirement already satisfied: async-timeout<5.0,>=4.0.0a3 in /Users/kansak/.pyenv/versions/3.10.6/envs/MindSee/lib/python3.10/site-packages (from aiohttp->openai) (4.0.2)\r\n",
      "Requirement already satisfied: yarl<2.0,>=1.0 in /Users/kansak/.pyenv/versions/3.10.6/envs/MindSee/lib/python3.10/site-packages (from aiohttp->openai) (1.9.2)\r\n",
      "Requirement already satisfied: frozenlist>=1.1.1 in /Users/kansak/.pyenv/versions/3.10.6/envs/MindSee/lib/python3.10/site-packages (from aiohttp->openai) (1.3.3)\r\n",
      "Requirement already satisfied: aiosignal>=1.1.2 in /Users/kansak/.pyenv/versions/3.10.6/envs/MindSee/lib/python3.10/site-packages (from aiohttp->openai) (1.3.1)\r\n"
     ]
    }
   ],
   "source": [
    "!pip install openai"
   ]
  },
  {
   "cell_type": "code",
   "execution_count": 4,
   "id": "e6c87d5d",
   "metadata": {},
   "outputs": [],
   "source": [
    "import openai"
   ]
  },
  {
   "attachments": {},
   "cell_type": "markdown",
   "id": "c962f3a7",
   "metadata": {},
   "source": [
    "## creating a Dalle image as an url"
   ]
  },
  {
   "cell_type": "code",
   "execution_count": null,
   "id": "2d88fd40",
   "metadata": {},
   "outputs": [],
   "source": [
    "# prompt = \"white cows  grass tress sky\""
   ]
  },
  {
   "cell_type": "code",
   "execution_count": null,
   "id": "c01a2efe",
   "metadata": {},
   "outputs": [],
   "source": [
    "# response = openai.Image.create(prompt=prompt, n=1, size=\"1024x1024\", response_format=\"url\" )"
   ]
  },
  {
   "cell_type": "code",
   "execution_count": null,
   "id": "c280374c",
   "metadata": {},
   "outputs": [],
   "source": [
    "# print(response[\"data\"][0][\"url\"])"
   ]
  },
  {
   "cell_type": "code",
   "execution_count": null,
   "id": "3ab92da4",
   "metadata": {},
   "outputs": [],
   "source": [
    "# response"
   ]
  },
  {
   "cell_type": "code",
   "execution_count": null,
   "id": "f1b7621d",
   "metadata": {},
   "outputs": [],
   "source": [
    "# import json\n",
    "# import os\n",
    "# from pathlib import Path\n",
    "\n",
    "# import openai\n",
    "\n",
    "# PROMPT = \"An eco-friendly computer from the 90s in the style of vaporwave\"\n",
    "# DATA_DIR = Path.cwd() / \"responses\"\n",
    "\n",
    "# DATA_DIR.mkdir(exist_ok=True)\n",
    "\n",
    "# openai.api_key = os.getenv(\"OPENAI_API_KEY\")\n",
    "\n",
    "# response = openai.Image.create(\n",
    "#     prompt=PROMPT,\n",
    "#     n=1,\n",
    "#     size=\"256x256\",\n",
    "#     response_format=\"b64_json\",\n",
    "# )\n",
    "\n",
    "# file_name = DATA_DIR / f\"{PROMPT[:5]}-{response['created']}.json\"\n",
    "\n",
    "# with open(file_name, mode=\"w\", encoding=\"utf-8\") as file:\n",
    "#     json.dump(response, file)"
   ]
  },
  {
   "attachments": {},
   "cell_type": "markdown",
   "id": "5cf2045a",
   "metadata": {},
   "source": [
    "## Creating the Dalle image as a json file"
   ]
  },
  {
   "cell_type": "code",
   "execution_count": 5,
   "id": "583ccdc4",
   "metadata": {},
   "outputs": [],
   "source": [
    "import json\n",
    "import os\n",
    "from pathlib import Path\n",
    "from base64 import b64decode"
   ]
  },
  {
   "cell_type": "code",
   "execution_count": 7,
   "id": "80e5c35c",
   "metadata": {
    "collapsed": true
   },
   "outputs": [
    {
     "ename": "NameError",
     "evalue": "name 'DATA_DIR' is not defined",
     "output_type": "error",
     "traceback": [
      "\u001b[0;31m---------------------------------------------------------------------------\u001b[0m",
      "\u001b[0;31mNameError\u001b[0m                                 Traceback (most recent call last)",
      "Cell \u001b[0;32mIn[7], line 2\u001b[0m\n\u001b[1;32m      1\u001b[0m \u001b[38;5;66;03m# Data_Dir=Path.cwd()/\"responses\"\u001b[39;00m\n\u001b[0;32m----> 2\u001b[0m \u001b[43mDATA_DIR\u001b[49m\n",
      "\u001b[0;31mNameError\u001b[0m: name 'DATA_DIR' is not defined"
     ]
    }
   ],
   "source": [
    "# Data_Dir=Path.cwd()/\"responses\"\n",
    "# DATA_DIR"
   ]
  },
  {
   "cell_type": "code",
   "execution_count": 8,
   "id": "2d06cab1",
   "metadata": {},
   "outputs": [],
   "source": [
    "PROMPT = \"Cat, hiding, laptop, box\"\n",
    "DATA_DIR = Path.cwd() / \"responses\""
   ]
  },
  {
   "cell_type": "code",
   "execution_count": 9,
   "id": "deec8e93",
   "metadata": {},
   "outputs": [],
   "source": [
    "DATA_DIR.mkdir(exist_ok=True)"
   ]
  },
  {
   "cell_type": "code",
   "execution_count": 10,
   "id": "b49c0c74",
   "metadata": {},
   "outputs": [],
   "source": [
    "openai.api_key = os.getenv(\"OPENAI_KEY\")"
   ]
  },
  {
   "cell_type": "code",
   "execution_count": 11,
   "id": "0083aec5",
   "metadata": {},
   "outputs": [],
   "source": [
    "response = openai.Image.create(\n",
    "    prompt=PROMPT,\n",
    "    n=1,\n",
    "    size=\"256x256\",\n",
    "    response_format=\"b64_json\",\n",
    ")"
   ]
  },
  {
   "cell_type": "code",
   "execution_count": 12,
   "id": "8611d903",
   "metadata": {},
   "outputs": [],
   "source": [
    "file_name = DATA_DIR / f\"{PROMPT[:5]}-{response['created']}.json\""
   ]
  },
  {
   "cell_type": "code",
   "execution_count": 13,
   "id": "ed7d4ce9",
   "metadata": {},
   "outputs": [],
   "source": [
    "with open(file_name, mode=\"w\", encoding=\"utf-8\") as file:\n",
    "    json.dump(response, file)"
   ]
  },
  {
   "attachments": {},
   "cell_type": "markdown",
   "id": "2d21bab3",
   "metadata": {},
   "source": [
    "## Converting and saving the image"
   ]
  },
  {
   "cell_type": "code",
   "execution_count": null,
   "id": "0b47cc33",
   "metadata": {},
   "outputs": [],
   "source": [
    "# DATA_DIR = Path.cwd() / \"responses\"\n",
    "# JSON_FILE = DATA_DIR / \"black-1686155539.json\"\n",
    "# IMAGE_DIR = Path.cwd() / \"images\" / JSON_FILE.stem"
   ]
  },
  {
   "cell_type": "code",
   "execution_count": 14,
   "id": "380cb2ab",
   "metadata": {},
   "outputs": [],
   "source": [
    "DATA_DIR = Path.cwd() / \"responses\"\n",
    "JSON_FILE = file_name\n",
    "IMAGE_DIR = Path.cwd() / \"images\" / JSON_FILE.stem"
   ]
  },
  {
   "cell_type": "code",
   "execution_count": 15,
   "id": "038e0b47",
   "metadata": {},
   "outputs": [],
   "source": [
    "IMAGE_DIR.mkdir(parents=True, exist_ok=True)"
   ]
  },
  {
   "cell_type": "code",
   "execution_count": 16,
   "id": "1e303433",
   "metadata": {},
   "outputs": [],
   "source": [
    "with open(JSON_FILE, mode=\"r\", encoding=\"utf-8\") as file:\n",
    "    response = json.load(file)"
   ]
  },
  {
   "cell_type": "code",
   "execution_count": 17,
   "id": "4b0c4309",
   "metadata": {},
   "outputs": [],
   "source": [
    "for index, image_dict in enumerate(response[\"data\"]):\n",
    "    image_data = b64decode(image_dict[\"b64_json\"])\n",
    "    image_file = IMAGE_DIR / f\"{JSON_FILE.stem}-{index}.png\"\n",
    "    with open(image_file, mode=\"wb\") as png:\n",
    "        png.write(image_data)"
   ]
  },
  {
   "cell_type": "code",
   "execution_count": null,
   "id": "3a491ffe",
   "metadata": {},
   "outputs": [],
   "source": []
  }
 ],
 "metadata": {
  "kernelspec": {
   "display_name": "Python 3 (ipykernel)",
   "language": "python",
   "name": "python3"
  },
  "language_info": {
   "codemirror_mode": {
    "name": "ipython",
    "version": 3
   },
   "file_extension": ".py",
   "mimetype": "text/x-python",
   "name": "python",
   "nbconvert_exporter": "python",
   "pygments_lexer": "ipython3",
   "version": "3.10.6"
  },
  "toc": {
   "base_numbering": 1,
   "nav_menu": {},
   "number_sections": true,
   "sideBar": true,
   "skip_h1_title": false,
   "title_cell": "Table of Contents",
   "title_sidebar": "Contents",
   "toc_cell": false,
   "toc_position": {},
   "toc_section_display": true,
   "toc_window_display": false
  }
 },
 "nbformat": 4,
 "nbformat_minor": 5
}
