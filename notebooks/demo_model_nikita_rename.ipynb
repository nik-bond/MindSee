{
 "cells": [
  {
   "cell_type": "code",
   "execution_count": 1,
   "id": "3bcb3240",
   "metadata": {},
   "outputs": [
    {
     "name": "stderr",
     "output_type": "stream",
     "text": [
      "2023-06-12 09:34:57.191419: I tensorflow/core/platform/cpu_feature_guard.cc:193] This TensorFlow binary is optimized with oneAPI Deep Neural Network Library (oneDNN) to use the following CPU instructions in performance-critical operations:  AVX2 FMA\n",
      "To enable them in other operations, rebuild TensorFlow with the appropriate compiler flags.\n",
      "2023-06-12 09:34:57.287997: E tensorflow/stream_executor/cuda/cuda_blas.cc:2981] Unable to register cuBLAS factory: Attempting to register factory for plugin cuBLAS when one has already been registered\n",
      "2023-06-12 09:34:57.703096: W tensorflow/stream_executor/platform/default/dso_loader.cc:64] Could not load dynamic library 'libnvinfer.so.7'; dlerror: libnvinfer.so.7: cannot open shared object file: No such file or directory\n",
      "2023-06-12 09:34:57.703192: W tensorflow/stream_executor/platform/default/dso_loader.cc:64] Could not load dynamic library 'libnvinfer_plugin.so.7'; dlerror: libnvinfer_plugin.so.7: cannot open shared object file: No such file or directory\n",
      "2023-06-12 09:34:57.703197: W tensorflow/compiler/tf2tensorrt/utils/py_utils.cc:38] TF-TRT Warning: Cannot dlopen some TensorRT libraries. If you would like to use Nvidia GPU with TensorRT, please make sure the missing libraries mentioned above are installed properly.\n"
     ]
    }
   ],
   "source": [
    "import pandas as pd\n",
    "import numpy as np\n",
    "from sklearn.preprocessing import RobustScaler, StandardScaler\n",
    "from tensorflow.keras import Sequential\n",
    "from tensorflow.keras import layers\n"
   ]
  },
  {
   "cell_type": "code",
   "execution_count": 2,
   "id": "5e32dec2",
   "metadata": {},
   "outputs": [
    {
     "name": "stderr",
     "output_type": "stream",
     "text": [
      "/tmp/ipykernel_19116/4167803891.py:1: DtypeWarning: Columns (0) have mixed types. Specify dtype option on import or set low_memory=False.\n",
      "  y_df = pd.read_csv(\"../data/y_dataframe.csv\")\n"
     ]
    }
   ],
   "source": [
    "y_df = pd.read_csv(\"../data/y_dataframe.csv\")"
   ]
  },
  {
   "cell_type": "code",
   "execution_count": 3,
   "id": "1ccc7872",
   "metadata": {},
   "outputs": [],
   "source": [
    "y_train = y_df.iloc[:8859, 1:].to_numpy()"
   ]
  },
  {
   "cell_type": "code",
   "execution_count": 4,
   "id": "23eb15cd",
   "metadata": {},
   "outputs": [
    {
     "data": {
      "text/html": [
       "<div>\n",
       "<style scoped>\n",
       "    .dataframe tbody tr th:only-of-type {\n",
       "        vertical-align: middle;\n",
       "    }\n",
       "\n",
       "    .dataframe tbody tr th {\n",
       "        vertical-align: top;\n",
       "    }\n",
       "\n",
       "    .dataframe thead th {\n",
       "        text-align: right;\n",
       "    }\n",
       "</style>\n",
       "<table border=\"1\" class=\"dataframe\">\n",
       "  <thead>\n",
       "    <tr style=\"text-align: right;\">\n",
       "      <th></th>\n",
       "      <th>Unnamed: 0</th>\n",
       "      <th>1950s</th>\n",
       "      <th>1970</th>\n",
       "      <th>1971</th>\n",
       "      <th>2009</th>\n",
       "      <th>4-way</th>\n",
       "      <th>abandon</th>\n",
       "      <th>about</th>\n",
       "      <th>above</th>\n",
       "      <th>abraham</th>\n",
       "      <th>...</th>\n",
       "      <th>yogurt</th>\n",
       "      <th>york</th>\n",
       "      <th>you</th>\n",
       "      <th>young</th>\n",
       "      <th>younger</th>\n",
       "      <th>youth</th>\n",
       "      <th>zebra</th>\n",
       "      <th>zip</th>\n",
       "      <th>zombie</th>\n",
       "      <th>zoo</th>\n",
       "    </tr>\n",
       "  </thead>\n",
       "  <tbody>\n",
       "    <tr>\n",
       "      <th>0</th>\n",
       "      <td>0</td>\n",
       "      <td>0</td>\n",
       "      <td>0</td>\n",
       "      <td>0</td>\n",
       "      <td>0</td>\n",
       "      <td>0</td>\n",
       "      <td>0</td>\n",
       "      <td>0</td>\n",
       "      <td>0</td>\n",
       "      <td>0</td>\n",
       "      <td>...</td>\n",
       "      <td>0</td>\n",
       "      <td>0</td>\n",
       "      <td>0</td>\n",
       "      <td>0</td>\n",
       "      <td>0</td>\n",
       "      <td>0</td>\n",
       "      <td>0</td>\n",
       "      <td>0</td>\n",
       "      <td>0</td>\n",
       "      <td>0</td>\n",
       "    </tr>\n",
       "    <tr>\n",
       "      <th>1</th>\n",
       "      <td>1</td>\n",
       "      <td>0</td>\n",
       "      <td>0</td>\n",
       "      <td>0</td>\n",
       "      <td>0</td>\n",
       "      <td>0</td>\n",
       "      <td>0</td>\n",
       "      <td>0</td>\n",
       "      <td>0</td>\n",
       "      <td>0</td>\n",
       "      <td>...</td>\n",
       "      <td>0</td>\n",
       "      <td>0</td>\n",
       "      <td>0</td>\n",
       "      <td>0</td>\n",
       "      <td>0</td>\n",
       "      <td>0</td>\n",
       "      <td>0</td>\n",
       "      <td>0</td>\n",
       "      <td>0</td>\n",
       "      <td>0</td>\n",
       "    </tr>\n",
       "    <tr>\n",
       "      <th>2</th>\n",
       "      <td>2</td>\n",
       "      <td>0</td>\n",
       "      <td>0</td>\n",
       "      <td>0</td>\n",
       "      <td>0</td>\n",
       "      <td>0</td>\n",
       "      <td>0</td>\n",
       "      <td>0</td>\n",
       "      <td>0</td>\n",
       "      <td>0</td>\n",
       "      <td>...</td>\n",
       "      <td>0</td>\n",
       "      <td>0</td>\n",
       "      <td>0</td>\n",
       "      <td>0</td>\n",
       "      <td>0</td>\n",
       "      <td>0</td>\n",
       "      <td>0</td>\n",
       "      <td>0</td>\n",
       "      <td>0</td>\n",
       "      <td>0</td>\n",
       "    </tr>\n",
       "    <tr>\n",
       "      <th>3</th>\n",
       "      <td>3</td>\n",
       "      <td>0</td>\n",
       "      <td>0</td>\n",
       "      <td>0</td>\n",
       "      <td>0</td>\n",
       "      <td>0</td>\n",
       "      <td>0</td>\n",
       "      <td>0</td>\n",
       "      <td>0</td>\n",
       "      <td>0</td>\n",
       "      <td>...</td>\n",
       "      <td>0</td>\n",
       "      <td>0</td>\n",
       "      <td>0</td>\n",
       "      <td>0</td>\n",
       "      <td>0</td>\n",
       "      <td>0</td>\n",
       "      <td>0</td>\n",
       "      <td>0</td>\n",
       "      <td>0</td>\n",
       "      <td>0</td>\n",
       "    </tr>\n",
       "    <tr>\n",
       "      <th>4</th>\n",
       "      <td>4</td>\n",
       "      <td>0</td>\n",
       "      <td>0</td>\n",
       "      <td>0</td>\n",
       "      <td>0</td>\n",
       "      <td>0</td>\n",
       "      <td>0</td>\n",
       "      <td>0</td>\n",
       "      <td>0</td>\n",
       "      <td>0</td>\n",
       "      <td>...</td>\n",
       "      <td>0</td>\n",
       "      <td>0</td>\n",
       "      <td>0</td>\n",
       "      <td>0</td>\n",
       "      <td>0</td>\n",
       "      <td>0</td>\n",
       "      <td>1</td>\n",
       "      <td>0</td>\n",
       "      <td>0</td>\n",
       "      <td>0</td>\n",
       "    </tr>\n",
       "    <tr>\n",
       "      <th>...</th>\n",
       "      <td>...</td>\n",
       "      <td>...</td>\n",
       "      <td>...</td>\n",
       "      <td>...</td>\n",
       "      <td>...</td>\n",
       "      <td>...</td>\n",
       "      <td>...</td>\n",
       "      <td>...</td>\n",
       "      <td>...</td>\n",
       "      <td>...</td>\n",
       "      <td>...</td>\n",
       "      <td>...</td>\n",
       "      <td>...</td>\n",
       "      <td>...</td>\n",
       "      <td>...</td>\n",
       "      <td>...</td>\n",
       "      <td>...</td>\n",
       "      <td>...</td>\n",
       "      <td>...</td>\n",
       "      <td>...</td>\n",
       "      <td>...</td>\n",
       "    </tr>\n",
       "    <tr>\n",
       "      <th>9836</th>\n",
       "      <td>X_test_id_977</td>\n",
       "      <td>0</td>\n",
       "      <td>0</td>\n",
       "      <td>0</td>\n",
       "      <td>0</td>\n",
       "      <td>0</td>\n",
       "      <td>0</td>\n",
       "      <td>0</td>\n",
       "      <td>0</td>\n",
       "      <td>0</td>\n",
       "      <td>...</td>\n",
       "      <td>0</td>\n",
       "      <td>0</td>\n",
       "      <td>0</td>\n",
       "      <td>0</td>\n",
       "      <td>0</td>\n",
       "      <td>0</td>\n",
       "      <td>0</td>\n",
       "      <td>0</td>\n",
       "      <td>0</td>\n",
       "      <td>0</td>\n",
       "    </tr>\n",
       "    <tr>\n",
       "      <th>9837</th>\n",
       "      <td>X_test_id_978</td>\n",
       "      <td>0</td>\n",
       "      <td>0</td>\n",
       "      <td>0</td>\n",
       "      <td>0</td>\n",
       "      <td>0</td>\n",
       "      <td>0</td>\n",
       "      <td>0</td>\n",
       "      <td>0</td>\n",
       "      <td>0</td>\n",
       "      <td>...</td>\n",
       "      <td>0</td>\n",
       "      <td>0</td>\n",
       "      <td>0</td>\n",
       "      <td>0</td>\n",
       "      <td>0</td>\n",
       "      <td>0</td>\n",
       "      <td>0</td>\n",
       "      <td>0</td>\n",
       "      <td>0</td>\n",
       "      <td>0</td>\n",
       "    </tr>\n",
       "    <tr>\n",
       "      <th>9838</th>\n",
       "      <td>X_test_id_979</td>\n",
       "      <td>0</td>\n",
       "      <td>0</td>\n",
       "      <td>0</td>\n",
       "      <td>0</td>\n",
       "      <td>0</td>\n",
       "      <td>0</td>\n",
       "      <td>0</td>\n",
       "      <td>0</td>\n",
       "      <td>0</td>\n",
       "      <td>...</td>\n",
       "      <td>0</td>\n",
       "      <td>0</td>\n",
       "      <td>0</td>\n",
       "      <td>0</td>\n",
       "      <td>0</td>\n",
       "      <td>0</td>\n",
       "      <td>0</td>\n",
       "      <td>0</td>\n",
       "      <td>0</td>\n",
       "      <td>0</td>\n",
       "    </tr>\n",
       "    <tr>\n",
       "      <th>9839</th>\n",
       "      <td>X_test_id_980</td>\n",
       "      <td>0</td>\n",
       "      <td>0</td>\n",
       "      <td>0</td>\n",
       "      <td>0</td>\n",
       "      <td>0</td>\n",
       "      <td>0</td>\n",
       "      <td>0</td>\n",
       "      <td>0</td>\n",
       "      <td>0</td>\n",
       "      <td>...</td>\n",
       "      <td>0</td>\n",
       "      <td>0</td>\n",
       "      <td>0</td>\n",
       "      <td>0</td>\n",
       "      <td>0</td>\n",
       "      <td>0</td>\n",
       "      <td>0</td>\n",
       "      <td>0</td>\n",
       "      <td>0</td>\n",
       "      <td>0</td>\n",
       "    </tr>\n",
       "    <tr>\n",
       "      <th>9840</th>\n",
       "      <td>X_test_id_981</td>\n",
       "      <td>0</td>\n",
       "      <td>0</td>\n",
       "      <td>0</td>\n",
       "      <td>0</td>\n",
       "      <td>0</td>\n",
       "      <td>0</td>\n",
       "      <td>0</td>\n",
       "      <td>0</td>\n",
       "      <td>0</td>\n",
       "      <td>...</td>\n",
       "      <td>0</td>\n",
       "      <td>0</td>\n",
       "      <td>0</td>\n",
       "      <td>0</td>\n",
       "      <td>0</td>\n",
       "      <td>0</td>\n",
       "      <td>0</td>\n",
       "      <td>0</td>\n",
       "      <td>0</td>\n",
       "      <td>0</td>\n",
       "    </tr>\n",
       "  </tbody>\n",
       "</table>\n",
       "<p>9841 rows × 2638 columns</p>\n",
       "</div>"
      ],
      "text/plain": [
       "         Unnamed: 0  1950s  1970  1971  2009  4-way  abandon  about  above  \\\n",
       "0                 0      0     0     0     0      0        0      0      0   \n",
       "1                 1      0     0     0     0      0        0      0      0   \n",
       "2                 2      0     0     0     0      0        0      0      0   \n",
       "3                 3      0     0     0     0      0        0      0      0   \n",
       "4                 4      0     0     0     0      0        0      0      0   \n",
       "...             ...    ...   ...   ...   ...    ...      ...    ...    ...   \n",
       "9836  X_test_id_977      0     0     0     0      0        0      0      0   \n",
       "9837  X_test_id_978      0     0     0     0      0        0      0      0   \n",
       "9838  X_test_id_979      0     0     0     0      0        0      0      0   \n",
       "9839  X_test_id_980      0     0     0     0      0        0      0      0   \n",
       "9840  X_test_id_981      0     0     0     0      0        0      0      0   \n",
       "\n",
       "      abraham  ...  yogurt  york  you  young  younger  youth  zebra  zip  \\\n",
       "0           0  ...       0     0    0      0        0      0      0    0   \n",
       "1           0  ...       0     0    0      0        0      0      0    0   \n",
       "2           0  ...       0     0    0      0        0      0      0    0   \n",
       "3           0  ...       0     0    0      0        0      0      0    0   \n",
       "4           0  ...       0     0    0      0        0      0      1    0   \n",
       "...       ...  ...     ...   ...  ...    ...      ...    ...    ...  ...   \n",
       "9836        0  ...       0     0    0      0        0      0      0    0   \n",
       "9837        0  ...       0     0    0      0        0      0      0    0   \n",
       "9838        0  ...       0     0    0      0        0      0      0    0   \n",
       "9839        0  ...       0     0    0      0        0      0      0    0   \n",
       "9840        0  ...       0     0    0      0        0      0      0    0   \n",
       "\n",
       "      zombie  zoo  \n",
       "0          0    0  \n",
       "1          0    0  \n",
       "2          0    0  \n",
       "3          0    0  \n",
       "4          0    0  \n",
       "...      ...  ...  \n",
       "9836       0    0  \n",
       "9837       0    0  \n",
       "9838       0    0  \n",
       "9839       0    0  \n",
       "9840       0    0  \n",
       "\n",
       "[9841 rows x 2638 columns]"
      ]
     },
     "execution_count": 4,
     "metadata": {},
     "output_type": "execute_result"
    }
   ],
   "source": [
    "y_df"
   ]
  },
  {
   "cell_type": "code",
   "execution_count": 5,
   "id": "9d89bacb",
   "metadata": {
    "scrolled": true
   },
   "outputs": [],
   "source": [
    "y_df.drop(columns = [\"Unnamed: 0\"], inplace = True)"
   ]
  },
  {
   "cell_type": "code",
   "execution_count": 6,
   "id": "ab34109a",
   "metadata": {},
   "outputs": [
    {
     "data": {
      "text/plain": [
       "array([[0, 0, 0, ..., 0, 0, 0],\n",
       "       [0, 0, 0, ..., 0, 0, 0],\n",
       "       [0, 0, 0, ..., 0, 0, 0],\n",
       "       ...,\n",
       "       [0, 0, 0, ..., 0, 0, 0],\n",
       "       [0, 0, 0, ..., 0, 0, 0],\n",
       "       [0, 0, 0, ..., 0, 0, 0]])"
      ]
     },
     "execution_count": 6,
     "metadata": {},
     "output_type": "execute_result"
    }
   ],
   "source": [
    "y_train"
   ]
  },
  {
   "cell_type": "code",
   "execution_count": 7,
   "id": "966e5630",
   "metadata": {},
   "outputs": [],
   "source": [
    "X_train = np.load(\"../data/nsd_train_fmriavg_nsdgeneral_sub1.npy\")"
   ]
  },
  {
   "cell_type": "code",
   "execution_count": 8,
   "id": "4e58edc7",
   "metadata": {},
   "outputs": [],
   "source": [
    "scaler = RobustScaler()"
   ]
  },
  {
   "cell_type": "code",
   "execution_count": 9,
   "id": "99e463f7",
   "metadata": {},
   "outputs": [
    {
     "data": {
      "text/plain": [
       "array([[-2.08666672e+02,  1.03333330e+01,  2.22000000e+02, ...,\n",
       "         5.08000000e+02,  1.15800000e+03,  7.71666687e+02],\n",
       "       [ 6.25333313e+02,  1.05000000e+02,  2.61000000e+02, ...,\n",
       "         4.95000000e+02,  7.87333313e+02,  5.37666687e+02],\n",
       "       [ 7.84000000e+02, -9.30000000e+01, -3.46666679e+01, ...,\n",
       "         3.33333343e-01,  2.02666672e+02,  2.63000000e+02],\n",
       "       ...,\n",
       "       [ 7.36000000e+02, -4.62000000e+02,  3.00000000e+02, ...,\n",
       "         1.97000000e+02,  7.04000000e+02, -1.45000000e+02],\n",
       "       [ 1.10250000e+03, -1.47000000e+02,  2.94000000e+02, ...,\n",
       "         2.70500000e+02,  7.33000000e+02,  2.32000000e+02],\n",
       "       [ 2.00000000e+02, -4.57000000e+02,  1.54000000e+02, ...,\n",
       "         3.20000000e+01,  4.87000000e+02,  1.94000000e+02]])"
      ]
     },
     "execution_count": 9,
     "metadata": {},
     "output_type": "execute_result"
    }
   ],
   "source": [
    "X_train"
   ]
  },
  {
   "cell_type": "code",
   "execution_count": 10,
   "id": "e5fbb2a3",
   "metadata": {},
   "outputs": [],
   "source": [
    "X_scaled = scaler.fit_transform(X_train)"
   ]
  },
  {
   "cell_type": "code",
   "execution_count": 11,
   "id": "348e6e31",
   "metadata": {},
   "outputs": [
    {
     "data": {
      "text/plain": [
       "(8859, 15724)"
      ]
     },
     "execution_count": 11,
     "metadata": {},
     "output_type": "execute_result"
    }
   ],
   "source": [
    "X_scaled.shape"
   ]
  },
  {
   "cell_type": "code",
   "execution_count": 12,
   "id": "a9641578",
   "metadata": {},
   "outputs": [
    {
     "data": {
      "text/plain": [
       "(8859, 2637)"
      ]
     },
     "execution_count": 12,
     "metadata": {},
     "output_type": "execute_result"
    }
   ],
   "source": [
    "y_train.shape"
   ]
  },
  {
   "cell_type": "code",
   "execution_count": 13,
   "id": "b5e02ae4",
   "metadata": {},
   "outputs": [
    {
     "name": "stderr",
     "output_type": "stream",
     "text": [
      "2023-06-12 09:35:26.886019: I tensorflow/stream_executor/cuda/cuda_gpu_executor.cc:966] could not open file to read NUMA node: /sys/bus/pci/devices/0000:01:00.0/numa_node\n",
      "Your kernel may have been built without NUMA support.\n",
      "2023-06-12 09:35:27.051436: W tensorflow/stream_executor/platform/default/dso_loader.cc:64] Could not load dynamic library 'libcudnn.so.8'; dlerror: libcudnn.so.8: cannot open shared object file: No such file or directory\n",
      "2023-06-12 09:35:27.051452: W tensorflow/core/common_runtime/gpu/gpu_device.cc:1934] Cannot dlopen some GPU libraries. Please make sure the missing libraries mentioned above are installed properly if you would like to use GPU. Follow the guide at https://www.tensorflow.org/install/gpu for how to download and setup the required libraries for your platform.\n",
      "Skipping registering GPU devices...\n",
      "2023-06-12 09:35:27.052603: I tensorflow/core/platform/cpu_feature_guard.cc:193] This TensorFlow binary is optimized with oneAPI Deep Neural Network Library (oneDNN) to use the following CPU instructions in performance-critical operations:  AVX2 FMA\n",
      "To enable them in other operations, rebuild TensorFlow with the appropriate compiler flags.\n",
      "2023-06-12 09:35:27.167492: W tensorflow/core/framework/cpu_allocator_impl.cc:82] Allocation of 21096000 exceeds 10% of free system memory.\n",
      "2023-06-12 09:35:27.171583: W tensorflow/core/framework/cpu_allocator_impl.cc:82] Allocation of 21096000 exceeds 10% of free system memory.\n",
      "2023-06-12 09:35:27.173631: W tensorflow/core/framework/cpu_allocator_impl.cc:82] Allocation of 21096000 exceeds 10% of free system memory.\n"
     ]
    }
   ],
   "source": [
    "model = Sequential([layers.Dense(100, input_shape = (15724,), activation = \"relu\"),\n",
    "                  layers.Dense(100, activation = \"relu\"),\n",
    "                    layers.Dropout(0.4),\n",
    "                  layers.Dense(200, activation = \"relu\"),\n",
    "                    layers.Dropout(0.4),\n",
    "                  layers.Dense(500, activation = \"relu\"),\n",
    "                    layers.Dropout(0.4),\n",
    "                    layers.Dense(500, activation = \"relu\"),\n",
    "                    layers.Dropout(0.4),\n",
    "                    layers.Dense(1000, activation = \"relu\"),\n",
    "                    layers.Dropout(0.4),\n",
    "                    layers.Dense(2000, activation = \"relu\"),\n",
    "                  layers.Dense(2637, activation = \"sigmoid\")])"
   ]
  },
  {
   "cell_type": "code",
   "execution_count": 14,
   "id": "b3a53e6c",
   "metadata": {},
   "outputs": [],
   "source": [
    "model.compile(loss = \"binary_crossentropy\", optimizer = \"adam\")"
   ]
  },
  {
   "cell_type": "code",
   "execution_count": 15,
   "id": "ba49a32d",
   "metadata": {
    "scrolled": true
   },
   "outputs": [
    {
     "name": "stderr",
     "output_type": "stream",
     "text": [
      "2023-06-12 09:35:34.686564: W tensorflow/core/framework/cpu_allocator_impl.cc:82] Allocation of 501469808 exceeds 10% of free system memory.\n",
      "2023-06-12 09:35:35.027665: W tensorflow/core/framework/cpu_allocator_impl.cc:82] Allocation of 168198408 exceeds 10% of free system memory.\n"
     ]
    },
    {
     "name": "stdout",
     "output_type": "stream",
     "text": [
      "Epoch 1/40\n",
      "250/250 [==============================] - 6s 22ms/step - loss: 0.0200 - val_loss: 0.0464\n",
      "Epoch 2/40\n",
      "250/250 [==============================] - 5s 21ms/step - loss: 0.0096 - val_loss: 0.0167\n",
      "Epoch 3/40\n",
      "250/250 [==============================] - 5s 20ms/step - loss: 0.0089 - val_loss: 0.0085\n",
      "Epoch 4/40\n",
      "250/250 [==============================] - 5s 20ms/step - loss: 0.0085 - val_loss: 0.0085\n",
      "Epoch 5/40\n",
      "250/250 [==============================] - 5s 20ms/step - loss: 0.0084 - val_loss: 0.0084\n",
      "Epoch 6/40\n",
      "250/250 [==============================] - 5s 20ms/step - loss: 0.0083 - val_loss: 0.0083\n",
      "Epoch 7/40\n",
      "250/250 [==============================] - 5s 20ms/step - loss: 0.0082 - val_loss: 0.0083\n",
      "Epoch 8/40\n",
      "250/250 [==============================] - 5s 20ms/step - loss: 0.0080 - val_loss: 0.0081\n",
      "Epoch 9/40\n",
      "250/250 [==============================] - 5s 20ms/step - loss: 0.0079 - val_loss: 0.0080\n",
      "Epoch 10/40\n",
      "250/250 [==============================] - 5s 20ms/step - loss: 0.0077 - val_loss: 0.0080\n",
      "Epoch 11/40\n",
      "250/250 [==============================] - 5s 21ms/step - loss: 0.0076 - val_loss: 0.0079\n",
      "Epoch 12/40\n",
      "250/250 [==============================] - 6s 22ms/step - loss: 0.0075 - val_loss: 0.0079\n",
      "Epoch 13/40\n",
      "250/250 [==============================] - 5s 21ms/step - loss: 0.0074 - val_loss: 0.0078\n",
      "Epoch 14/40\n",
      "250/250 [==============================] - 5s 20ms/step - loss: 0.0073 - val_loss: 0.0078\n",
      "Epoch 15/40\n",
      "250/250 [==============================] - 5s 20ms/step - loss: 0.0072 - val_loss: 0.0078\n",
      "Epoch 16/40\n",
      "250/250 [==============================] - 5s 20ms/step - loss: 0.0072 - val_loss: 0.0077\n",
      "Epoch 17/40\n",
      "250/250 [==============================] - 5s 20ms/step - loss: 0.0072 - val_loss: 0.0077\n",
      "Epoch 18/40\n",
      "250/250 [==============================] - 5s 20ms/step - loss: 0.0071 - val_loss: 0.0078\n",
      "Epoch 19/40\n",
      "250/250 [==============================] - 5s 21ms/step - loss: 0.0071 - val_loss: 0.0077\n",
      "Epoch 20/40\n",
      "250/250 [==============================] - 5s 20ms/step - loss: 0.0070 - val_loss: 0.0079\n",
      "Epoch 21/40\n",
      "250/250 [==============================] - 5s 20ms/step - loss: 0.0070 - val_loss: 0.0077\n",
      "Epoch 22/40\n",
      "250/250 [==============================] - 5s 20ms/step - loss: 0.0070 - val_loss: 0.0078\n",
      "Epoch 23/40\n",
      "250/250 [==============================] - 5s 20ms/step - loss: 0.0069 - val_loss: 0.0078\n",
      "Epoch 24/40\n",
      "250/250 [==============================] - 5s 20ms/step - loss: 0.0069 - val_loss: 0.0078\n",
      "Epoch 25/40\n",
      "250/250 [==============================] - 5s 20ms/step - loss: 0.0069 - val_loss: 0.0078\n",
      "Epoch 26/40\n",
      "250/250 [==============================] - 5s 20ms/step - loss: 0.0069 - val_loss: 0.0077\n",
      "Epoch 27/40\n",
      "250/250 [==============================] - 5s 20ms/step - loss: 0.0068 - val_loss: 0.0078\n",
      "Epoch 28/40\n",
      "250/250 [==============================] - 5s 20ms/step - loss: 0.0068 - val_loss: 0.0078\n",
      "Epoch 29/40\n",
      "250/250 [==============================] - 5s 20ms/step - loss: 0.0068 - val_loss: 0.0078\n",
      "Epoch 30/40\n",
      "250/250 [==============================] - 5s 20ms/step - loss: 0.0068 - val_loss: 0.0078\n",
      "Epoch 31/40\n",
      "250/250 [==============================] - 5s 21ms/step - loss: 0.0068 - val_loss: 0.0078\n",
      "Epoch 32/40\n",
      "250/250 [==============================] - 6s 22ms/step - loss: 0.0068 - val_loss: 0.0078\n",
      "Epoch 33/40\n",
      "250/250 [==============================] - 6s 23ms/step - loss: 0.0067 - val_loss: 0.0078\n"
     ]
    },
    {
     "data": {
      "text/plain": [
       "<keras.callbacks.History at 0x7efed9e23970>"
      ]
     },
     "execution_count": 15,
     "metadata": {},
     "output_type": "execute_result"
    }
   ],
   "source": [
    "from tensorflow.keras.callbacks import EarlyStopping\n",
    "es = EarlyStopping(patience=7,restore_best_weights = True)\n",
    "\n",
    "model.fit(X_scaled, y_train, validation_split=0.1, batch_size = 32, epochs = 40, callbacks=[es])"
   ]
  },
  {
   "cell_type": "code",
   "execution_count": 16,
   "id": "8a4508a6",
   "metadata": {},
   "outputs": [
    {
     "name": "stdout",
     "output_type": "stream",
     "text": [
      "1/1 [==============================] - 0s 72ms/step\n"
     ]
    }
   ],
   "source": [
    "answer = model.predict(X_scaled[2].reshape(1,-1))"
   ]
  },
  {
   "cell_type": "code",
   "execution_count": 17,
   "id": "e998e61d",
   "metadata": {},
   "outputs": [
    {
     "data": {
      "text/plain": [
       "array([0.12492863, 0.10666753], dtype=float32)"
      ]
     },
     "execution_count": 17,
     "metadata": {},
     "output_type": "execute_result"
    }
   ],
   "source": [
    "answer[answer>0.1]"
   ]
  },
  {
   "cell_type": "code",
   "execution_count": 18,
   "id": "f8976e46",
   "metadata": {},
   "outputs": [],
   "source": [
    "answer_idxs = np.argpartition(answer[0],-4)[-4:]"
   ]
  },
  {
   "cell_type": "code",
   "execution_count": 19,
   "id": "a2058153",
   "metadata": {},
   "outputs": [
    {
     "data": {
      "text/plain": [
       "array([ 703, 2188, 1366, 1668])"
      ]
     },
     "execution_count": 19,
     "metadata": {},
     "output_type": "execute_result"
    }
   ],
   "source": [
    "answer_idxs"
   ]
  },
  {
   "cell_type": "code",
   "execution_count": 20,
   "id": "61672431",
   "metadata": {},
   "outputs": [],
   "source": [
    "labels = y_df.columns[1:]"
   ]
  },
  {
   "cell_type": "code",
   "execution_count": 21,
   "id": "4bfbf4fa",
   "metadata": {
    "scrolled": true
   },
   "outputs": [
    {
     "data": {
      "text/plain": [
       "Index(['doll', 'star', 'maneuver', 'pepper'], dtype='object')"
      ]
     },
     "execution_count": 21,
     "metadata": {},
     "output_type": "execute_result"
    }
   ],
   "source": [
    "labels[answer_idxs]"
   ]
  },
  {
   "cell_type": "code",
   "execution_count": 22,
   "id": "fa8d8f06",
   "metadata": {},
   "outputs": [],
   "source": [
    "X_test = np.load(\"../data/nsd_test_fmriavg_nsdgeneral_sub1.npy\")"
   ]
  },
  {
   "cell_type": "code",
   "execution_count": 23,
   "id": "56c51e33",
   "metadata": {},
   "outputs": [],
   "source": [
    "X_test_scaled = scaler.transform(X_test)"
   ]
  },
  {
   "cell_type": "code",
   "execution_count": 24,
   "id": "c5138915",
   "metadata": {},
   "outputs": [
    {
     "data": {
      "text/plain": [
       "array([-1.28444441, -0.48185293, -0.05411858, ...,  0.12920738,\n",
       "       -0.63977899, -0.8584444 ])"
      ]
     },
     "execution_count": 24,
     "metadata": {},
     "output_type": "execute_result"
    }
   ],
   "source": [
    "X_test_scaled[0]"
   ]
  },
  {
   "cell_type": "code",
   "execution_count": 25,
   "id": "59999aaf",
   "metadata": {},
   "outputs": [
    {
     "name": "stdout",
     "output_type": "stream",
     "text": [
      "1/1 [==============================] - 0s 14ms/step\n"
     ]
    }
   ],
   "source": [
    "test_answer = model.predict(X_test_scaled[400].reshape(1,-1))"
   ]
  },
  {
   "cell_type": "code",
   "execution_count": 26,
   "id": "bd667793",
   "metadata": {},
   "outputs": [
    {
     "data": {
      "text/plain": [
       "array([3.0354238e-05, 4.9873161e-06, 1.2966197e-05, ..., 5.4523414e-05,\n",
       "       2.3517887e-06, 4.5631090e-04], dtype=float32)"
      ]
     },
     "execution_count": 26,
     "metadata": {},
     "output_type": "execute_result"
    }
   ],
   "source": [
    "test_answer[0]"
   ]
  },
  {
   "cell_type": "code",
   "execution_count": 27,
   "id": "e5ec1479",
   "metadata": {},
   "outputs": [],
   "source": [
    "test_answer_idxs = np.argpartition(test_answer[0],-4)[-4:]"
   ]
  },
  {
   "cell_type": "code",
   "execution_count": 28,
   "id": "212bb94e",
   "metadata": {},
   "outputs": [
    {
     "data": {
      "text/plain": [
       "Index(['planner', 'body', 'airport', 'waterbird'], dtype='object')"
      ]
     },
     "execution_count": 28,
     "metadata": {},
     "output_type": "execute_result"
    }
   ],
   "source": [
    "labels[test_answer_idxs]"
   ]
  },
  {
   "cell_type": "code",
   "execution_count": null,
   "id": "f94d25b2",
   "metadata": {},
   "outputs": [],
   "source": []
  }
 ],
 "metadata": {
  "kernelspec": {
   "display_name": "Python 3 (ipykernel)",
   "language": "python",
   "name": "python3"
  },
  "language_info": {
   "codemirror_mode": {
    "name": "ipython",
    "version": 3
   },
   "file_extension": ".py",
   "mimetype": "text/x-python",
   "name": "python",
   "nbconvert_exporter": "python",
   "pygments_lexer": "ipython3",
   "version": "3.10.6"
  },
  "nbTranslate": {
   "displayLangs": [
    "*"
   ],
   "hotkey": "",
   "langInMainMenu": true,
   "sourceLang": "fr",
   "targetLang": "en",
   "useGoogleTranslate": true
  },
  "toc": {
   "base_numbering": 1,
   "nav_menu": {},
   "number_sections": true,
   "sideBar": true,
   "skip_h1_title": false,
   "title_cell": "Table of Contents",
   "title_sidebar": "Contents",
   "toc_cell": false,
   "toc_position": {},
   "toc_section_display": true,
   "toc_window_display": false
  }
 },
 "nbformat": 4,
 "nbformat_minor": 5
}
