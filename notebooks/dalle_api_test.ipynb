{
 "cells": [
  {
   "cell_type": "code",
   "execution_count": 1,
   "id": "941a01df",
   "metadata": {
    "collapsed": true
   },
   "outputs": [
    {
     "name": "stdout",
     "output_type": "stream",
     "text": [
      "Requirement already satisfied: requests in /Users/kansak/.pyenv/versions/3.10.6/envs/MindSee/lib/python3.10/site-packages (2.31.0)\r\n",
      "Requirement already satisfied: charset-normalizer<4,>=2 in /Users/kansak/.pyenv/versions/3.10.6/envs/MindSee/lib/python3.10/site-packages (from requests) (3.1.0)\r\n",
      "Requirement already satisfied: idna<4,>=2.5 in /Users/kansak/.pyenv/versions/3.10.6/envs/MindSee/lib/python3.10/site-packages (from requests) (3.4)\r\n",
      "Requirement already satisfied: urllib3<3,>=1.21.1 in /Users/kansak/.pyenv/versions/3.10.6/envs/MindSee/lib/python3.10/site-packages (from requests) (2.0.2)\r\n",
      "Requirement already satisfied: certifi>=2017.4.17 in /Users/kansak/.pyenv/versions/3.10.6/envs/MindSee/lib/python3.10/site-packages (from requests) (2023.5.7)\r\n"
     ]
    }
   ],
   "source": [
    "!pip install requests"
   ]
  },
  {
   "cell_type": "code",
   "execution_count": 2,
   "id": "872fd905",
   "metadata": {},
   "outputs": [],
   "source": [
    "import requests"
   ]
  },
  {
   "cell_type": "code",
   "execution_count": 3,
   "id": "a6b81865",
   "metadata": {
    "collapsed": true
   },
   "outputs": [
    {
     "name": "stdout",
     "output_type": "stream",
     "text": [
      "Requirement already satisfied: openai in /Users/kansak/.pyenv/versions/3.10.6/envs/MindSee/lib/python3.10/site-packages (0.27.8)\r\n",
      "Requirement already satisfied: requests>=2.20 in /Users/kansak/.pyenv/versions/3.10.6/envs/MindSee/lib/python3.10/site-packages (from openai) (2.31.0)\r\n",
      "Requirement already satisfied: tqdm in /Users/kansak/.pyenv/versions/3.10.6/envs/MindSee/lib/python3.10/site-packages (from openai) (4.65.0)\r\n",
      "Requirement already satisfied: aiohttp in /Users/kansak/.pyenv/versions/3.10.6/envs/MindSee/lib/python3.10/site-packages (from openai) (3.8.4)\r\n",
      "Requirement already satisfied: charset-normalizer<4,>=2 in /Users/kansak/.pyenv/versions/3.10.6/envs/MindSee/lib/python3.10/site-packages (from requests>=2.20->openai) (3.1.0)\r\n",
      "Requirement already satisfied: idna<4,>=2.5 in /Users/kansak/.pyenv/versions/3.10.6/envs/MindSee/lib/python3.10/site-packages (from requests>=2.20->openai) (3.4)\r\n",
      "Requirement already satisfied: urllib3<3,>=1.21.1 in /Users/kansak/.pyenv/versions/3.10.6/envs/MindSee/lib/python3.10/site-packages (from requests>=2.20->openai) (2.0.2)\r\n",
      "Requirement already satisfied: certifi>=2017.4.17 in /Users/kansak/.pyenv/versions/3.10.6/envs/MindSee/lib/python3.10/site-packages (from requests>=2.20->openai) (2023.5.7)\r\n",
      "Requirement already satisfied: attrs>=17.3.0 in /Users/kansak/.pyenv/versions/3.10.6/envs/MindSee/lib/python3.10/site-packages (from aiohttp->openai) (23.1.0)\r\n",
      "Requirement already satisfied: multidict<7.0,>=4.5 in /Users/kansak/.pyenv/versions/3.10.6/envs/MindSee/lib/python3.10/site-packages (from aiohttp->openai) (6.0.4)\r\n",
      "Requirement already satisfied: async-timeout<5.0,>=4.0.0a3 in /Users/kansak/.pyenv/versions/3.10.6/envs/MindSee/lib/python3.10/site-packages (from aiohttp->openai) (4.0.2)\r\n",
      "Requirement already satisfied: yarl<2.0,>=1.0 in /Users/kansak/.pyenv/versions/3.10.6/envs/MindSee/lib/python3.10/site-packages (from aiohttp->openai) (1.9.2)\r\n",
      "Requirement already satisfied: frozenlist>=1.1.1 in /Users/kansak/.pyenv/versions/3.10.6/envs/MindSee/lib/python3.10/site-packages (from aiohttp->openai) (1.3.3)\r\n",
      "Requirement already satisfied: aiosignal>=1.1.2 in /Users/kansak/.pyenv/versions/3.10.6/envs/MindSee/lib/python3.10/site-packages (from aiohttp->openai) (1.3.1)\r\n"
     ]
    }
   ],
   "source": [
    "!pip install openai"
   ]
  },
  {
   "cell_type": "code",
   "execution_count": 4,
   "id": "e6c87d5d",
   "metadata": {},
   "outputs": [],
   "source": [
    "import openai\n",
    "import os"
   ]
  },
  {
   "cell_type": "code",
   "execution_count": 5,
   "id": "ef09d551",
   "metadata": {},
   "outputs": [],
   "source": [
    "openai.api_key = os.getenv('OPENAI_KEY')"
   ]
  },
  {
   "cell_type": "code",
   "execution_count": 6,
   "id": "2d88fd40",
   "metadata": {},
   "outputs": [],
   "source": [
    "prompt = \"white cows  grass tress sky\""
   ]
  },
  {
   "cell_type": "code",
   "execution_count": 7,
   "id": "c01a2efe",
   "metadata": {},
   "outputs": [],
   "source": [
    "response = openai.Image.create(prompt=prompt, n=1, size=\"1024x1024\", response_format=\"url\" )"
   ]
  },
  {
   "cell_type": "code",
   "execution_count": 8,
   "id": "c280374c",
   "metadata": {},
   "outputs": [
    {
     "name": "stdout",
     "output_type": "stream",
     "text": [
      "https://oaidalleapiprodscus.blob.core.windows.net/private/org-wnVjMrFMZaKEsHlzerOtDoce/user-g02VpI67x2KEFYcxbSw6aTko/img-9GGSpcvJMTGvS0SehDd0NyKz.png?st=2023-06-07T14%3A24%3A36Z&se=2023-06-07T16%3A24%3A36Z&sp=r&sv=2021-08-06&sr=b&rscd=inline&rsct=image/png&skoid=6aaadede-4fb3-4698-a8f6-684d7786b067&sktid=a48cca56-e6da-484e-a814-9c849652bcb3&skt=2023-06-07T05%3A29%3A15Z&ske=2023-06-08T05%3A29%3A15Z&sks=b&skv=2021-08-06&sig=zCfhGblXAarTuHXe2fzeh/kG33rtXnNxJw5eHFSer8E%3D\n"
     ]
    }
   ],
   "source": [
    "print(response[\"data\"][0][\"url\"])"
   ]
  },
  {
   "cell_type": "code",
   "execution_count": 9,
   "id": "3ab92da4",
   "metadata": {},
   "outputs": [
    {
     "data": {
      "text/plain": [
       "<OpenAIObject at 0x10ce89490> JSON: {\n",
       "  \"created\": 1686151476,\n",
       "  \"data\": [\n",
       "    {\n",
       "      \"url\": \"https://oaidalleapiprodscus.blob.core.windows.net/private/org-wnVjMrFMZaKEsHlzerOtDoce/user-g02VpI67x2KEFYcxbSw6aTko/img-9GGSpcvJMTGvS0SehDd0NyKz.png?st=2023-06-07T14%3A24%3A36Z&se=2023-06-07T16%3A24%3A36Z&sp=r&sv=2021-08-06&sr=b&rscd=inline&rsct=image/png&skoid=6aaadede-4fb3-4698-a8f6-684d7786b067&sktid=a48cca56-e6da-484e-a814-9c849652bcb3&skt=2023-06-07T05%3A29%3A15Z&ske=2023-06-08T05%3A29%3A15Z&sks=b&skv=2021-08-06&sig=zCfhGblXAarTuHXe2fzeh/kG33rtXnNxJw5eHFSer8E%3D\"\n",
       "    }\n",
       "  ]\n",
       "}"
      ]
     },
     "execution_count": 9,
     "metadata": {},
     "output_type": "execute_result"
    }
   ],
   "source": [
    "response"
   ]
  }
 ],
 "metadata": {
  "kernelspec": {
   "display_name": "Python 3 (ipykernel)",
   "language": "python",
   "name": "python3"
  },
  "language_info": {
   "codemirror_mode": {
    "name": "ipython",
    "version": 3
   },
   "file_extension": ".py",
   "mimetype": "text/x-python",
   "name": "python",
   "nbconvert_exporter": "python",
   "pygments_lexer": "ipython3",
   "version": "3.10.6"
  },
  "toc": {
   "base_numbering": 1,
   "nav_menu": {},
   "number_sections": true,
   "sideBar": true,
   "skip_h1_title": false,
   "title_cell": "Table of Contents",
   "title_sidebar": "Contents",
   "toc_cell": false,
   "toc_position": {},
   "toc_section_display": true,
   "toc_window_display": false
  }
 },
 "nbformat": 4,
 "nbformat_minor": 5
}
