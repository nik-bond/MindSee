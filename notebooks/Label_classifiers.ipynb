{
 "cells": [
  {
   "cell_type": "code",
   "execution_count": 39,
   "id": "6aa47a48",
   "metadata": {},
   "outputs": [],
   "source": [
    "import pandas as pd\n",
    "import numpy as np\n",
    "from sklearn.preprocessing import RobustScaler\n",
    "from tensorflow.keras import Sequential, layers, models\n",
    "import tensorflow as tf\n",
    "from tensorflow.keras.models import Sequential \n",
    "from tensorflow.keras.layers import Dense, Activation\n",
    "from sklearn.datasets import make_classification\n",
    "from sklearn.model_selection import train_test_split\n",
    "from sklearn.metrics import accuracy_score\n",
    "from tensorflow.keras.callbacks import EarlyStopping\n",
    "\n"
   ]
  },
  {
   "cell_type": "code",
   "execution_count": 21,
   "id": "a99bf3e4",
   "metadata": {},
   "outputs": [],
   "source": [
    "y_labels = pd.read_csv(\"data/sentence_transformers_clusters_2.csv\")\n",
    "X_train = np.load(\"C:\\\\Users\\\\Admin\\\\Documents\\\\MindSee\\\\data\\\\nsd_train_fmriavg_nsdgeneral_sub1.npy\")\n",
    "X_test = np.load(\"C:\\\\Users\\\\Admin\\\\Documents\\\\MindSee\\\\data\\\\nsd_test_fmriavg_nsdgeneral_sub1.npy\")"
   ]
  },
  {
   "cell_type": "code",
   "execution_count": 40,
   "id": "a72e5dd8",
   "metadata": {},
   "outputs": [],
   "source": [
    "scaler = RobustScaler()\n",
    "X_train = scaler.fit_transform(X_train)\n",
    "X_test = scaler.transform(X_test)"
   ]
  },
  {
   "cell_type": "code",
   "execution_count": 41,
   "id": "b4d443a8",
   "metadata": {},
   "outputs": [
    {
     "data": {
      "text/html": [
       "<div>\n",
       "<style scoped>\n",
       "    .dataframe tbody tr th:only-of-type {\n",
       "        vertical-align: middle;\n",
       "    }\n",
       "\n",
       "    .dataframe tbody tr th {\n",
       "        vertical-align: top;\n",
       "    }\n",
       "\n",
       "    .dataframe thead th {\n",
       "        text-align: right;\n",
       "    }\n",
       "</style>\n",
       "<table border=\"1\" class=\"dataframe\">\n",
       "  <thead>\n",
       "    <tr style=\"text-align: right;\">\n",
       "      <th></th>\n",
       "      <th>0</th>\n",
       "      <th>1</th>\n",
       "      <th>2</th>\n",
       "      <th>3</th>\n",
       "      <th>4</th>\n",
       "      <th>5</th>\n",
       "      <th>label</th>\n",
       "      <th>original_caption</th>\n",
       "    </tr>\n",
       "  </thead>\n",
       "  <tbody>\n",
       "    <tr>\n",
       "      <th>0</th>\n",
       "      <td>9.630714</td>\n",
       "      <td>7.765681</td>\n",
       "      <td>8.996327</td>\n",
       "      <td>6.132091</td>\n",
       "      <td>3.909901</td>\n",
       "      <td>5.356290</td>\n",
       "      <td>19</td>\n",
       "      <td>A man standing on the beach beside surf board...</td>\n",
       "    </tr>\n",
       "    <tr>\n",
       "      <th>1</th>\n",
       "      <td>9.720460</td>\n",
       "      <td>8.712183</td>\n",
       "      <td>9.078218</td>\n",
       "      <td>4.606048</td>\n",
       "      <td>4.152843</td>\n",
       "      <td>4.773759</td>\n",
       "      <td>11</td>\n",
       "      <td>A man on a surfboard, who is riding a wave. A ...</td>\n",
       "    </tr>\n",
       "    <tr>\n",
       "      <th>2</th>\n",
       "      <td>9.524311</td>\n",
       "      <td>8.541946</td>\n",
       "      <td>9.202825</td>\n",
       "      <td>6.007106</td>\n",
       "      <td>3.576740</td>\n",
       "      <td>5.644311</td>\n",
       "      <td>44</td>\n",
       "      <td>A group of people are sitting on the beach...</td>\n",
       "    </tr>\n",
       "    <tr>\n",
       "      <th>3</th>\n",
       "      <td>9.952086</td>\n",
       "      <td>9.753232</td>\n",
       "      <td>9.763308</td>\n",
       "      <td>12.532373</td>\n",
       "      <td>0.350290</td>\n",
       "      <td>7.167182</td>\n",
       "      <td>16</td>\n",
       "      <td>A shower and a white toilet in a small bathroo...</td>\n",
       "    </tr>\n",
       "    <tr>\n",
       "      <th>4</th>\n",
       "      <td>10.107516</td>\n",
       "      <td>9.736267</td>\n",
       "      <td>-0.072490</td>\n",
       "      <td>7.156481</td>\n",
       "      <td>5.054887</td>\n",
       "      <td>5.928072</td>\n",
       "      <td>3</td>\n",
       "      <td>two grown zebra inside some kind of enclosure</td>\n",
       "    </tr>\n",
       "    <tr>\n",
       "      <th>...</th>\n",
       "      <td>...</td>\n",
       "      <td>...</td>\n",
       "      <td>...</td>\n",
       "      <td>...</td>\n",
       "      <td>...</td>\n",
       "      <td>...</td>\n",
       "      <td>...</td>\n",
       "      <td>...</td>\n",
       "    </tr>\n",
       "    <tr>\n",
       "      <th>8854</th>\n",
       "      <td>9.584170</td>\n",
       "      <td>7.442978</td>\n",
       "      <td>8.991532</td>\n",
       "      <td>6.442805</td>\n",
       "      <td>3.899534</td>\n",
       "      <td>5.466592</td>\n",
       "      <td>19</td>\n",
       "      <td>A person walks on a bridge with a kite.</td>\n",
       "    </tr>\n",
       "    <tr>\n",
       "      <th>8855</th>\n",
       "      <td>10.455362</td>\n",
       "      <td>10.638555</td>\n",
       "      <td>7.110577</td>\n",
       "      <td>10.253338</td>\n",
       "      <td>5.931999</td>\n",
       "      <td>6.412370</td>\n",
       "      <td>14</td>\n",
       "      <td>a couple of cats are laying on a black couch</td>\n",
       "    </tr>\n",
       "    <tr>\n",
       "      <th>8856</th>\n",
       "      <td>9.728570</td>\n",
       "      <td>8.418761</td>\n",
       "      <td>8.720880</td>\n",
       "      <td>4.748608</td>\n",
       "      <td>4.403027</td>\n",
       "      <td>4.790366</td>\n",
       "      <td>11</td>\n",
       "      <td>THERE IS A PERSON THAT IS RIDING THE WAVES O...</td>\n",
       "    </tr>\n",
       "    <tr>\n",
       "      <th>8857</th>\n",
       "      <td>9.643808</td>\n",
       "      <td>7.381854</td>\n",
       "      <td>9.245078</td>\n",
       "      <td>6.702313</td>\n",
       "      <td>3.639144</td>\n",
       "      <td>5.582964</td>\n",
       "      <td>19</td>\n",
       "      <td>Several people are flying kites on a large...</td>\n",
       "    </tr>\n",
       "    <tr>\n",
       "      <th>8858</th>\n",
       "      <td>9.642096</td>\n",
       "      <td>7.474483</td>\n",
       "      <td>9.267006</td>\n",
       "      <td>6.503327</td>\n",
       "      <td>3.631467</td>\n",
       "      <td>5.368773</td>\n",
       "      <td>19</td>\n",
       "      <td>A sky filled with lots of colorful kites.    C...</td>\n",
       "    </tr>\n",
       "  </tbody>\n",
       "</table>\n",
       "<p>8859 rows × 8 columns</p>\n",
       "</div>"
      ],
      "text/plain": [
       "              0          1         2          3         4         5  label  \\\n",
       "0      9.630714   7.765681  8.996327   6.132091  3.909901  5.356290     19   \n",
       "1      9.720460   8.712183  9.078218   4.606048  4.152843  4.773759     11   \n",
       "2      9.524311   8.541946  9.202825   6.007106  3.576740  5.644311     44   \n",
       "3      9.952086   9.753232  9.763308  12.532373  0.350290  7.167182     16   \n",
       "4     10.107516   9.736267 -0.072490   7.156481  5.054887  5.928072      3   \n",
       "...         ...        ...       ...        ...       ...       ...    ...   \n",
       "8854   9.584170   7.442978  8.991532   6.442805  3.899534  5.466592     19   \n",
       "8855  10.455362  10.638555  7.110577  10.253338  5.931999  6.412370     14   \n",
       "8856   9.728570   8.418761  8.720880   4.748608  4.403027  4.790366     11   \n",
       "8857   9.643808   7.381854  9.245078   6.702313  3.639144  5.582964     19   \n",
       "8858   9.642096   7.474483  9.267006   6.503327  3.631467  5.368773     19   \n",
       "\n",
       "                                       original_caption  \n",
       "0      A man standing on the beach beside surf board...  \n",
       "1     A man on a surfboard, who is riding a wave. A ...  \n",
       "2         A group of people are sitting on the beach...  \n",
       "3     A shower and a white toilet in a small bathroo...  \n",
       "4        two grown zebra inside some kind of enclosure   \n",
       "...                                                 ...  \n",
       "8854        A person walks on a bridge with a kite.      \n",
       "8855      a couple of cats are laying on a black couch   \n",
       "8856    THERE IS A PERSON THAT IS RIDING THE WAVES O...  \n",
       "8857      Several people are flying kites on a large...  \n",
       "8858  A sky filled with lots of colorful kites.    C...  \n",
       "\n",
       "[8859 rows x 8 columns]"
      ]
     },
     "execution_count": 41,
     "metadata": {},
     "output_type": "execute_result"
    }
   ],
   "source": [
    "y_labels"
   ]
  },
  {
   "cell_type": "code",
   "execution_count": 43,
   "id": "7de7372f",
   "metadata": {},
   "outputs": [],
   "source": [
    "# y_labels.drop(columns = [\"Unnamed: 0\"], inplace = True)"
   ]
  },
  {
   "cell_type": "code",
   "execution_count": 44,
   "id": "1b7cc1fd",
   "metadata": {},
   "outputs": [],
   "source": [
    "y = y_labels['label'].values"
   ]
  },
  {
   "cell_type": "code",
   "execution_count": 45,
   "id": "a3a87f5b",
   "metadata": {},
   "outputs": [
    {
     "data": {
      "text/plain": [
       "(8859, 15724)"
      ]
     },
     "execution_count": 45,
     "metadata": {},
     "output_type": "execute_result"
    }
   ],
   "source": [
    "X_train.shape"
   ]
  },
  {
   "cell_type": "code",
   "execution_count": 46,
   "id": "d2bc6d53",
   "metadata": {},
   "outputs": [
    {
     "data": {
      "text/plain": [
       "45"
      ]
     },
     "execution_count": 46,
     "metadata": {},
     "output_type": "execute_result"
    }
   ],
   "source": [
    "len(set(y))"
   ]
  },
  {
   "cell_type": "code",
   "execution_count": 47,
   "id": "ef1870d6",
   "metadata": {},
   "outputs": [],
   "source": [
    "\n",
    "# Split the dataset into training and testing sets\n",
    "X_train_new, X_test_new, y_train, y_test = train_test_split(X_train, y, test_size=0.2, random_state=42)"
   ]
  },
  {
   "cell_type": "code",
   "execution_count": 48,
   "id": "ac5a65e5",
   "metadata": {},
   "outputs": [
    {
     "data": {
      "text/plain": [
       "(7087, 15724)"
      ]
     },
     "execution_count": 48,
     "metadata": {},
     "output_type": "execute_result"
    }
   ],
   "source": [
    "X_train_new.shape"
   ]
  },
  {
   "cell_type": "code",
   "execution_count": 37,
   "id": "c10e4382",
   "metadata": {},
   "outputs": [
    {
     "name": "stdout",
     "output_type": "stream",
     "text": [
      "Epoch 1/100\n",
      "178/178 [==============================] - 2s 9ms/step - loss: 190.5758 - accuracy: 0.0305 - val_loss: 3.7929 - val_accuracy: 0.0296\n",
      "Epoch 2/100\n",
      "178/178 [==============================] - 1s 8ms/step - loss: 4.3368 - accuracy: 0.0437 - val_loss: 3.7814 - val_accuracy: 0.0430\n",
      "Epoch 3/100\n",
      "178/178 [==============================] - 1s 8ms/step - loss: 3.8785 - accuracy: 0.0457 - val_loss: 3.7730 - val_accuracy: 0.0430\n",
      "Epoch 4/100\n",
      "178/178 [==============================] - 1s 8ms/step - loss: 3.9515 - accuracy: 0.0460 - val_loss: 3.7669 - val_accuracy: 0.0430\n",
      "Epoch 5/100\n",
      "178/178 [==============================] - 1s 8ms/step - loss: 3.7961 - accuracy: 0.0453 - val_loss: 3.7622 - val_accuracy: 0.0430\n",
      "Epoch 6/100\n",
      "178/178 [==============================] - 1s 8ms/step - loss: 3.8878 - accuracy: 0.0453 - val_loss: 3.7590 - val_accuracy: 0.0430\n",
      "Epoch 7/100\n",
      "178/178 [==============================] - 1s 8ms/step - loss: 3.7699 - accuracy: 0.0452 - val_loss: 3.7567 - val_accuracy: 0.0430\n",
      "Epoch 8/100\n",
      "178/178 [==============================] - 1s 8ms/step - loss: 3.7817 - accuracy: 0.0455 - val_loss: 3.7547 - val_accuracy: 0.0430\n",
      "Epoch 9/100\n",
      "178/178 [==============================] - 1s 7ms/step - loss: 3.7484 - accuracy: 0.0455 - val_loss: 3.7536 - val_accuracy: 0.0430\n",
      "Epoch 10/100\n",
      "178/178 [==============================] - 1s 7ms/step - loss: 3.7528 - accuracy: 0.0455 - val_loss: 3.7527 - val_accuracy: 0.0430\n",
      "Epoch 11/100\n",
      "178/178 [==============================] - 1s 8ms/step - loss: 3.7458 - accuracy: 0.0455 - val_loss: 3.7520 - val_accuracy: 0.0430\n",
      "Epoch 12/100\n",
      "178/178 [==============================] - 1s 8ms/step - loss: 3.7478 - accuracy: 0.0455 - val_loss: 3.7516 - val_accuracy: 0.0430\n",
      "Epoch 13/100\n",
      "178/178 [==============================] - 1s 8ms/step - loss: 3.7445 - accuracy: 0.0455 - val_loss: 3.7512 - val_accuracy: 0.0430\n",
      "Epoch 14/100\n",
      "178/178 [==============================] - 1s 8ms/step - loss: 3.7439 - accuracy: 0.0455 - val_loss: 3.7512 - val_accuracy: 0.0430\n",
      "Epoch 15/100\n",
      "178/178 [==============================] - 1s 8ms/step - loss: 3.7435 - accuracy: 0.0455 - val_loss: 3.7509 - val_accuracy: 0.0430\n",
      "Epoch 16/100\n",
      "178/178 [==============================] - 1s 7ms/step - loss: 3.7432 - accuracy: 0.0455 - val_loss: 3.7513 - val_accuracy: 0.0430\n",
      "Epoch 17/100\n",
      "178/178 [==============================] - 1s 7ms/step - loss: 3.7431 - accuracy: 0.0455 - val_loss: 3.7512 - val_accuracy: 0.0430\n",
      "Epoch 18/100\n",
      "178/178 [==============================] - 1s 7ms/step - loss: 3.7431 - accuracy: 0.0455 - val_loss: 3.7510 - val_accuracy: 0.0430\n",
      "Epoch 19/100\n",
      "178/178 [==============================] - 1s 7ms/step - loss: 3.7432 - accuracy: 0.0455 - val_loss: 3.7510 - val_accuracy: 0.0430\n",
      "Epoch 20/100\n",
      "178/178 [==============================] - 1s 8ms/step - loss: 3.7429 - accuracy: 0.0455 - val_loss: 3.7507 - val_accuracy: 0.0430\n",
      "Epoch 21/100\n",
      "178/178 [==============================] - 1s 7ms/step - loss: 3.7431 - accuracy: 0.0455 - val_loss: 3.7507 - val_accuracy: 0.0430\n",
      "Epoch 22/100\n",
      "178/178 [==============================] - 1s 7ms/step - loss: 3.7426 - accuracy: 0.0455 - val_loss: 3.7514 - val_accuracy: 0.0430\n",
      "Epoch 23/100\n",
      "178/178 [==============================] - 1s 7ms/step - loss: 15.6347 - accuracy: 0.0452 - val_loss: 3.7511 - val_accuracy: 0.0430\n",
      "Epoch 24/100\n",
      "178/178 [==============================] - 1s 7ms/step - loss: 3.7543 - accuracy: 0.0455 - val_loss: 3.7509 - val_accuracy: 0.0430\n",
      "Epoch 25/100\n",
      "178/178 [==============================] - 1s 7ms/step - loss: 3.7427 - accuracy: 0.0455 - val_loss: 3.7510 - val_accuracy: 0.0430\n",
      "Epoch 26/100\n",
      "178/178 [==============================] - 1s 7ms/step - loss: 3.7980 - accuracy: 0.0455 - val_loss: 3.7513 - val_accuracy: 0.0430\n",
      "Epoch 27/100\n",
      "178/178 [==============================] - 1s 7ms/step - loss: 3.7422 - accuracy: 0.0455 - val_loss: 3.7513 - val_accuracy: 0.0430\n",
      "Epoch 28/100\n",
      "178/178 [==============================] - 1s 7ms/step - loss: 3.7441 - accuracy: 0.0455 - val_loss: 3.7513 - val_accuracy: 0.0430\n",
      "Epoch 29/100\n",
      "178/178 [==============================] - 1s 7ms/step - loss: 3.7423 - accuracy: 0.0455 - val_loss: 3.7512 - val_accuracy: 0.0430\n",
      "Epoch 30/100\n",
      "178/178 [==============================] - 1s 7ms/step - loss: 3.7424 - accuracy: 0.0455 - val_loss: 3.7511 - val_accuracy: 0.0430\n",
      "Epoch 31/100\n",
      "178/178 [==============================] - 1s 7ms/step - loss: 3.7424 - accuracy: 0.0455 - val_loss: 3.7513 - val_accuracy: 0.0430\n",
      "Epoch 32/100\n",
      "178/178 [==============================] - 1s 7ms/step - loss: 3.7424 - accuracy: 0.0455 - val_loss: 3.7512 - val_accuracy: 0.0430\n",
      "Epoch 33/100\n",
      "178/178 [==============================] - 1s 7ms/step - loss: 3.7441 - accuracy: 0.0455 - val_loss: 3.7514 - val_accuracy: 0.0430\n",
      "Epoch 34/100\n",
      "178/178 [==============================] - 1s 7ms/step - loss: 3.7423 - accuracy: 0.0455 - val_loss: 3.7514 - val_accuracy: 0.0430\n",
      "Epoch 35/100\n",
      "178/178 [==============================] - 1s 7ms/step - loss: 3.7423 - accuracy: 0.0455 - val_loss: 3.7513 - val_accuracy: 0.0430\n",
      "Epoch 36/100\n",
      "178/178 [==============================] - 1s 7ms/step - loss: 3.7693 - accuracy: 0.0453 - val_loss: 3.7514 - val_accuracy: 0.0430\n",
      "Epoch 37/100\n",
      "178/178 [==============================] - 1s 7ms/step - loss: 3.7423 - accuracy: 0.0455 - val_loss: 3.7513 - val_accuracy: 0.0430\n",
      "Epoch 38/100\n",
      "178/178 [==============================] - 1s 7ms/step - loss: 3.8820 - accuracy: 0.0452 - val_loss: 3.7514 - val_accuracy: 0.0430\n",
      "Epoch 39/100\n",
      "178/178 [==============================] - 1s 7ms/step - loss: 3.7423 - accuracy: 0.0455 - val_loss: 3.7510 - val_accuracy: 0.0430\n",
      "Epoch 40/100\n",
      "178/178 [==============================] - 1s 7ms/step - loss: 4.6976 - accuracy: 0.0455 - val_loss: 3.7507 - val_accuracy: 0.0430\n",
      "Epoch 41/100\n",
      "178/178 [==============================] - 1s 7ms/step - loss: 3.7442 - accuracy: 0.0453 - val_loss: 3.7508 - val_accuracy: 0.0430\n",
      "Epoch 42/100\n",
      "178/178 [==============================] - 1s 7ms/step - loss: 3.7650 - accuracy: 0.0455 - val_loss: 3.7508 - val_accuracy: 0.0430\n",
      "Epoch 43/100\n",
      "178/178 [==============================] - 1s 7ms/step - loss: 4.0649 - accuracy: 0.0453 - val_loss: 3.7513 - val_accuracy: 0.0430\n",
      "Epoch 44/100\n",
      "178/178 [==============================] - 1s 7ms/step - loss: 3.7437 - accuracy: 0.0455 - val_loss: 3.7512 - val_accuracy: 0.0430\n",
      "Epoch 45/100\n",
      "178/178 [==============================] - 1s 7ms/step - loss: 3.7753 - accuracy: 0.0455 - val_loss: 3.7514 - val_accuracy: 0.0430\n",
      "Epoch 46/100\n",
      "178/178 [==============================] - 1s 7ms/step - loss: 3.7850 - accuracy: 0.0455 - val_loss: 3.7517 - val_accuracy: 0.0430\n",
      "Epoch 47/100\n",
      "178/178 [==============================] - 1s 7ms/step - loss: 3.7462 - accuracy: 0.0455 - val_loss: 3.7512 - val_accuracy: 0.0430\n",
      "Epoch 48/100\n",
      "178/178 [==============================] - 1s 7ms/step - loss: 3.7532 - accuracy: 0.0455 - val_loss: 3.7513 - val_accuracy: 0.0430\n",
      "Epoch 49/100\n",
      "178/178 [==============================] - 1s 7ms/step - loss: 3.7426 - accuracy: 0.0455 - val_loss: 3.7514 - val_accuracy: 0.0430\n",
      "Epoch 50/100\n",
      "170/178 [===========================>..] - ETA: 0s - loss: 3.7431 - accuracy: 0.0456Restoring model weights from the end of the best epoch: 20.\n",
      "178/178 [==============================] - 1s 7ms/step - loss: 3.7423 - accuracy: 0.0455 - val_loss: 3.7513 - val_accuracy: 0.0430\n",
      "Epoch 50: early stopping\n"
     ]
    }
   ],
   "source": [
    "# Create the DNN model\n",
    "model = Sequential()\n",
    "\n",
    "# Add input layer\n",
    "model.add(Dense(1000, input_dim=X_train_new.shape[1], activation='relu'))\n",
    "\n",
    "\n",
    "# Add hidden layers\n",
    "model.add(Dense(500, activation='relu'))\n",
    "model.add(layers.Dropout(0.5))\n",
    "\n",
    "model.add(Dense(1000, activation='relu'))\n",
    "\n",
    "\n",
    "\n",
    "model.add(Dense(2000, activation='relu'))\n",
    "model.add(layers.Dropout(0.5))\n",
    "\n",
    "model.add(Dense(200, activation='relu'))\n",
    "model.add(layers.Dropout(0.5))\n",
    "\n",
    "model.add(Dense(100, activation='relu'))\n",
    "\n",
    "# Add output layer with softmax activation for multi-class classification\n",
    "model.add(Dense(45, activation='softmax'))\n",
    "\n",
    "\n",
    "# Compile the model\n",
    "model.compile(optimizer='adam', loss='sparse_categorical_crossentropy', metrics=['accuracy'])\n",
    "\n",
    "# Set up early stopping callback\n",
    "early_stopping = EarlyStopping(monitor='val_loss', patience=30, verbose=1, restore_best_weights = True)\n",
    "\n",
    "# Train the model with early stopping\n",
    "history = model.fit(X_train_new, y_train, epochs=100, batch_size=32, validation_split=0.2, callbacks=[early_stopping])"
   ]
  },
  {
   "cell_type": "code",
   "execution_count": 32,
   "id": "d9c58a24",
   "metadata": {},
   "outputs": [],
   "source": [
    "from xgboost import XGBClassifier"
   ]
  },
  {
   "cell_type": "code",
   "execution_count": null,
   "id": "5bc831d7",
   "metadata": {},
   "outputs": [],
   "source": [
    "model_xgb= XGBClassifier()\n",
    "model_xgb.fit(X_train_new, y_train)"
   ]
  },
  {
   "cell_type": "code",
   "execution_count": 33,
   "id": "1da37060",
   "metadata": {},
   "outputs": [
    {
     "data": {
      "text/plain": [
       "array([19, 11, 44, ..., 11, 19, 19], dtype=int64)"
      ]
     },
     "execution_count": 33,
     "metadata": {},
     "output_type": "execute_result"
    }
   ],
   "source": [
    "y"
   ]
  },
  {
   "cell_type": "code",
   "execution_count": 49,
   "id": "973d2127",
   "metadata": {},
   "outputs": [
    {
     "data": {
      "text/html": [
       "<style>#sk-container-id-4 {color: black;background-color: white;}#sk-container-id-4 pre{padding: 0;}#sk-container-id-4 div.sk-toggleable {background-color: white;}#sk-container-id-4 label.sk-toggleable__label {cursor: pointer;display: block;width: 100%;margin-bottom: 0;padding: 0.3em;box-sizing: border-box;text-align: center;}#sk-container-id-4 label.sk-toggleable__label-arrow:before {content: \"▸\";float: left;margin-right: 0.25em;color: #696969;}#sk-container-id-4 label.sk-toggleable__label-arrow:hover:before {color: black;}#sk-container-id-4 div.sk-estimator:hover label.sk-toggleable__label-arrow:before {color: black;}#sk-container-id-4 div.sk-toggleable__content {max-height: 0;max-width: 0;overflow: hidden;text-align: left;background-color: #f0f8ff;}#sk-container-id-4 div.sk-toggleable__content pre {margin: 0.2em;color: black;border-radius: 0.25em;background-color: #f0f8ff;}#sk-container-id-4 input.sk-toggleable__control:checked~div.sk-toggleable__content {max-height: 200px;max-width: 100%;overflow: auto;}#sk-container-id-4 input.sk-toggleable__control:checked~label.sk-toggleable__label-arrow:before {content: \"▾\";}#sk-container-id-4 div.sk-estimator input.sk-toggleable__control:checked~label.sk-toggleable__label {background-color: #d4ebff;}#sk-container-id-4 div.sk-label input.sk-toggleable__control:checked~label.sk-toggleable__label {background-color: #d4ebff;}#sk-container-id-4 input.sk-hidden--visually {border: 0;clip: rect(1px 1px 1px 1px);clip: rect(1px, 1px, 1px, 1px);height: 1px;margin: -1px;overflow: hidden;padding: 0;position: absolute;width: 1px;}#sk-container-id-4 div.sk-estimator {font-family: monospace;background-color: #f0f8ff;border: 1px dotted black;border-radius: 0.25em;box-sizing: border-box;margin-bottom: 0.5em;}#sk-container-id-4 div.sk-estimator:hover {background-color: #d4ebff;}#sk-container-id-4 div.sk-parallel-item::after {content: \"\";width: 100%;border-bottom: 1px solid gray;flex-grow: 1;}#sk-container-id-4 div.sk-label:hover label.sk-toggleable__label {background-color: #d4ebff;}#sk-container-id-4 div.sk-serial::before {content: \"\";position: absolute;border-left: 1px solid gray;box-sizing: border-box;top: 0;bottom: 0;left: 50%;z-index: 0;}#sk-container-id-4 div.sk-serial {display: flex;flex-direction: column;align-items: center;background-color: white;padding-right: 0.2em;padding-left: 0.2em;position: relative;}#sk-container-id-4 div.sk-item {position: relative;z-index: 1;}#sk-container-id-4 div.sk-parallel {display: flex;align-items: stretch;justify-content: center;background-color: white;position: relative;}#sk-container-id-4 div.sk-item::before, #sk-container-id-4 div.sk-parallel-item::before {content: \"\";position: absolute;border-left: 1px solid gray;box-sizing: border-box;top: 0;bottom: 0;left: 50%;z-index: -1;}#sk-container-id-4 div.sk-parallel-item {display: flex;flex-direction: column;z-index: 1;position: relative;background-color: white;}#sk-container-id-4 div.sk-parallel-item:first-child::after {align-self: flex-end;width: 50%;}#sk-container-id-4 div.sk-parallel-item:last-child::after {align-self: flex-start;width: 50%;}#sk-container-id-4 div.sk-parallel-item:only-child::after {width: 0;}#sk-container-id-4 div.sk-dashed-wrapped {border: 1px dashed gray;margin: 0 0.4em 0.5em 0.4em;box-sizing: border-box;padding-bottom: 0.4em;background-color: white;}#sk-container-id-4 div.sk-label label {font-family: monospace;font-weight: bold;display: inline-block;line-height: 1.2em;}#sk-container-id-4 div.sk-label-container {text-align: center;}#sk-container-id-4 div.sk-container {/* jupyter's `normalize.less` sets `[hidden] { display: none; }` but bootstrap.min.css set `[hidden] { display: none !important; }` so we also need the `!important` here to be able to override the default hidden behavior on the sphinx rendered scikit-learn.org. See: https://github.com/scikit-learn/scikit-learn/issues/21755 */display: inline-block !important;position: relative;}#sk-container-id-4 div.sk-text-repr-fallback {display: none;}</style><div id=\"sk-container-id-4\" class=\"sk-top-container\"><div class=\"sk-text-repr-fallback\"><pre>KNeighborsClassifier(n_neighbors=10)</pre><b>In a Jupyter environment, please rerun this cell to show the HTML representation or trust the notebook. <br />On GitHub, the HTML representation is unable to render, please try loading this page with nbviewer.org.</b></div><div class=\"sk-container\" hidden><div class=\"sk-item\"><div class=\"sk-estimator sk-toggleable\"><input class=\"sk-toggleable__control sk-hidden--visually\" id=\"sk-estimator-id-4\" type=\"checkbox\" checked><label for=\"sk-estimator-id-4\" class=\"sk-toggleable__label sk-toggleable__label-arrow\">KNeighborsClassifier</label><div class=\"sk-toggleable__content\"><pre>KNeighborsClassifier(n_neighbors=10)</pre></div></div></div></div></div>"
      ],
      "text/plain": [
       "KNeighborsClassifier(n_neighbors=10)"
      ]
     },
     "execution_count": 49,
     "metadata": {},
     "output_type": "execute_result"
    }
   ],
   "source": [
    "from sklearn.neighbors import KNeighborsClassifier\n",
    "model_knn = KNeighborsClassifier(n_neighbors=10)\n",
    "model_knn.fit(X_train_new,y_train)"
   ]
  },
  {
   "cell_type": "code",
   "execution_count": 50,
   "id": "1053d60b",
   "metadata": {},
   "outputs": [],
   "source": [
    "y_pred = model_knn.predict(X_test_new)"
   ]
  },
  {
   "cell_type": "code",
   "execution_count": 51,
   "id": "88fd8e2a",
   "metadata": {},
   "outputs": [
    {
     "name": "stdout",
     "output_type": "stream",
     "text": [
      "0.16478555304740405\n"
     ]
    }
   ],
   "source": [
    "from sklearn import metrics\n",
    "print(metrics.accuracy_score(y_test, y_pred))"
   ]
  },
  {
   "cell_type": "code",
   "execution_count": 53,
   "id": "d114f3f7",
   "metadata": {},
   "outputs": [
    {
     "data": {
      "image/png": "[encoded data removed]",
      "text/plain": [
       "<Figure size 640x480 with 1 Axes>"
      ]
     },
     "metadata": {},
     "output_type": "display_data"
    }
   ],
   "source": [
    "k_values = range(1, 26)\n",
    "scores = []\n",
    "\n",
    "from sklearn.model_selection import cross_val_score\n",
    "for k in k_values:\n",
    "   \n",
    "    knn = KNeighborsClassifier(n_neighbors=k)\n",
    "    \n",
    "    \n",
    "    score = np.mean(cross_val_score(knn, X_train_new, y_train, cv=5))\n",
    "    scores.append(score)\n",
    "    \n",
    "import matplotlib.pyplot as plt\n",
    "plt.plot( k_values, scores)\n",
    "plt.xlabel('K')\n",
    "plt.ylabel('Score')\n",
    "plt.title('KNNRegressor Score vs. K')\n",
    "plt.show()"
   ]
  },
  {
   "cell_type": "code",
   "execution_count": null,
   "id": "a7aba3bf",
   "metadata": {},
   "outputs": [],
   "source": []
  }
 ],
 "metadata": {
  "kernelspec": {
   "display_name": "Python 3 (ipykernel)",
   "language": "python",
   "name": "python3"
  },
  "language_info": {
   "codemirror_mode": {
    "name": "ipython",
    "version": 3
   },
   "file_extension": ".py",
   "mimetype": "text/x-python",
   "name": "python",
   "nbconvert_exporter": "python",
   "pygments_lexer": "ipython3",
   "version": "3.10.10"
  }
 },
 "nbformat": 4,
 "nbformat_minor": 5
}
